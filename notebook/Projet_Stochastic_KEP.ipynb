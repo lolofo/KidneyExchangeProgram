{
 "cells": [
  {
   "cell_type": "markdown",
   "metadata": {},
   "source": [
    "# 5MA Sujet de projet\n",
    "\n",
    "# Transfert d'organe sous incertitude sur la compatibilité"
   ]
  },
  {
   "attachments": {},
   "cell_type": "markdown",
   "metadata": {},
   "source": [
    "Avant de commencer il faut placer le curseur du répertoire courant à la racine du projet. Cela sera nécessaire pour la suite."
   ]
  },
  {
   "cell_type": "code",
   "execution_count": 1,
   "metadata": {},
   "outputs": [
    {
     "name": "stdout",
     "output_type": "stream",
     "text": [
      "c:\\Users\\loicf\\Documents\\INSA\\GM\\5GM\\OptimIncert\\KidneyExchangeProgram\n"
     ]
    }
   ],
   "source": [
    "using \n",
    "Random, \n",
    "MetaGraphs, \n",
    "SimpleWeightedGraphs, \n",
    "Graphs, \n",
    "JuMP, \n",
    "DelimitedFiles, \n",
    "Distributions,  \n",
    "GraphPlot, \n",
    "HiGHS, \n",
    "DataFrames, \n",
    "Plots, \n",
    "BenchmarkTools,\n",
    "Statistics\n",
    "\n",
    "while (last(split(pwd(), Base.Filesystem.path_separator)) != \"KidneyExchangeProgram\")\n",
    "    cd(\"..\")\n",
    "end\n",
    "println(pwd())"
   ]
  },
  {
   "attachments": {},
   "cell_type": "markdown",
   "metadata": {},
   "source": [
    "Nous importons ici les différents fichiers qui seront nécessaires au bon fonctionnement de ce projet. Pour que l'import de ces fichiers se fasse sans encombres, il est nécessaire que le curseur du répertoire courant soit placé à la racine de ce répertoire."
   ]
  },
  {
   "cell_type": "code",
   "execution_count": 2,
   "metadata": {},
   "outputs": [],
   "source": [
    "# include files for the data reading and data extraction\n",
    "include(join([\"utils\", \"graph_extraction.jl\"], Base.Filesystem.path_separator))\n",
    "include(join([\"utils\", \"data_reading.jl\"], Base.Filesystem.path_separator))\n",
    "\n",
    "# include files for the modeling and solving part\n",
    "\n",
    "## stochastic optimization\n",
    "include(join([\"src\", \"stochastic_framework\", \"master_problem.jl\"], Base.Filesystem.path_separator))\n",
    "include(join([\"src\", \"stochastic_framework\", \"recourse_problem.jl\"], Base.Filesystem.path_separator))\n",
    "include(join([\"src\", \"stochastic_framework\", \"unroll_problem.jl\"], Base.Filesystem.path_separator))\n",
    "include(join([\"src\", \"stochastic_framework\", \"solver.jl\"], Base.Filesystem.path_separator))\n",
    "include(join([\"src\", \"stochastic_framework\", \"solution_evaluation.jl\"], Base.Filesystem.path_separator))\n",
    "\n",
    "## deterministic optimization\n",
    "include(join([\"src\", \"dtm_framework\", \"complete_recourse.jl\"], Base.Filesystem.path_separator))\n",
    "\n",
    "# for the random simulations\n",
    "include(join([\"utils\", \"monte_carlo.jl\"], Base.Filesystem.path_separator))\n",
    "\n",
    "# for displaying the solution\n",
    "include(join([\"utils\", \"visualization.jl\"], Base.Filesystem.path_separator))\n",
    "include(join([\"utils\", \"sum_up.jl\"], Base.Filesystem.path_separator))\n",
    "include(join([\"utils\", \"graph_modification.jl\"], Base.Filesystem.path_separator))\n",
    "    \n",
    "# for solution extraction\n",
    "include(join([\"utils\", \"solution_extraction.jl\"], Base.Filesystem.path_separator))\n",
    "\n",
    "# for sorting cycle\n",
    "include(join([\"utils\", \"cluster_utils.jl\"], Base.Filesystem.path_separator))\n",
    ";"
   ]
  },
  {
   "attachments": {},
   "cell_type": "markdown",
   "metadata": {},
   "source": [
    "## Introduction\n",
    "\n",
    "Malgré l'augmentation croissante du nombre de transplantations d'organes effectuées chaque année (environ 6000 en 2017 dont 3782 transplantations de reins), la demande reste en perpétuelle augmentation. Ainsi 6000 organes, dont 3782 reins, ont été transplantés en 2017, mais il y avait encore 24000 personnes en attente d'un organe la même année. Les organes transplantés peuvent provenir d'un donneur décédé ou, dans le cas des reins et du foie, d'un donneur vivant consentant, le plus souvent membre de la famille du patient. Hélas, même si un proche accepte de prendre ce risque pour sa santé, il ne sera pas forcément compatible avec le patient. Pour cette raison, les pratiques médicales les législations évoluent dans de nombreux pays afin de permettre la mise en place d'un programme d'échange de dons d'organes.\n",
    "\n",
    "L'exemple le plus simple d'échange de don d'organes est celui où deux patients $P_1$ et $P_2$ sont accompagnés de donneurs $D_1$ et $D_2$. Les patients sont supposés incompatibles avec les donneurs qui les accompagnent, mais on suppose que $D_1$ est compatible avec $P_2$ et $D_2$ avec $P_1$. Il est alors possible de transplanter un organe de $D_1$ vers $P_2$ et de $D_2$ vers $P_1$ avec le consentement de tous et en suivant la procédure légale.\n",
    "\n",
    "Plus généralement, un cycle d'échange d'organes associe $k$ paires de patient-donneur $(P_{i_1},D_{i_1}), \\dots, P_{i_k},D_{i_k})$ de sorte que $D_{i_l}$ donne à $P_{i_{l+1}}$ pour $l=1,\\dots,k-1$ et $D_{i_k}$ donne à $P_{i_1}$.\n",
    "Par ailleurs, le point essentiel est que les transferts soient tous réalisés en même temps et dans le même hôpital pour éviter qu'une rétractation de dernière minute ne lèse un patient et son donneur, et que les patients et donneurs venus ensemble et leur famille puissent se soutenir émotionnellement durant l'hospitalisation. \n",
    "Pour cette raison, le nombre d'échanges prenant place au sein d'un même cycle est nécessairement limité. En pratique, l'organisation d'un cycle de trois paires est déjà une épreuve pour le personnel d'un hôpital, et le plus grand cycle ayant jamais eu lieu a a impliqué six patients et donneurs.\n",
    "\n",
    "Dans ce projet, nous prendrons le point de vue de l'organisme national responsable de la gestion du programme d'échange d'organes. \n",
    "À chaque phase d'échange, l'objectif de cet organisme est de choisir un ensemble de cycles d'échanges entre paires compatibles afin de maximiser le nombre de patients recevant un organe. Dans certains cas, on peut aussi donner une priorité à certains patients en fonction de la gravité de leur état ou de la durée de leur attente. \n",
    "Pour cela, on pourra attribuer des poids différents à chaque patient et maximiser la somme des poids des patients recevant un organe. \n",
    "\n",
    "Lors d'une première phase de planification, l'organisme ne dispose que de données individuelles sur chaque donneur et chaque receveur pour déduire la compatibilité entre donneurs et patients. \n",
    "Ces données sont principalement le groupe sanguin et le complexe majeur d’histocompatibilité, aussi appelé système HLA. \n",
    "Ils en tirent un premier graphe de compatibilité orienté, $G=(V,A)$, où chaque sommet de $V$ représente une paire donneur-patient et où un arc entre deux paires $(P_k,D_k)$ et $(P_l,D_l)$ signifie que $D_k$ est __a priori__ compatible avec $P_l$.\n",
    "Cependant, la compatibilité effective entre deux personnes ne peut être assurée qu'en mettant en présence des tissus des deux personnes dans ce que l'on appelle un _test croisé_. \n",
    "En général, on peut supposer que les données individuelles permettent de déterminer une probabilité de réussite du test croisé.\n",
    "Mais, dans tous les cas, ces tests peuvent être lourds à réaliser pour les patients et demander des ressources importantes aupèrs des services hospitaliers, donc leur nombre sera toujours limité. \n",
    "On pourra pour cela considérer une limite fixe, une limite dépendant du nombre de paires patient-donneur ou bien supposer que les tests ne servent qu'à confirmer la compatibilité après avoir décidé les cycles d'échange entre patients a priori compatibles. "
   ]
  },
  {
   "cell_type": "markdown",
   "metadata": {},
   "source": [
    "## Description des données\n",
    "\n",
    "Des jeux de données correspondant à des ensembles de paires patient-donneur ont été partagés dans la PrefLib (https://www.preflib.org/data/MD). Le sous-ensemble d'instances auxquels vous pourrez vous intéresser dans un premier temps accompagne ce sujet sur Moodle. Les dix premières instances (numérotées de 1 à 10) contiennent 10 paires patient-donneur, les 10 suivantes (numérotées de 31 à 40) en contiennent 32 et les 10 dernières (numérotées de 71 à 80) en contiennent 64. Chaque jeu de données est décrit par deux fichiers, l'un énumérant les données relatives à chaque paire et portant l'extension .dat, et l'autre énumérant les données relatives aux arcs et portant l'extension .wmd.\n",
    "Nous vous fournissons une fonction permettant de lire les fichiers relatifs à un jeu de donnéees. "
   ]
  },
  {
   "attachments": {},
   "cell_type": "markdown",
   "metadata": {},
   "source": [
    "Une fois le graphe de compatibilité donné, une instance est entièrement décrite par la connaissance de la distribution des incertitudes dans une approche par optimisation stochastique. Dans une approche par optimisation robuste, le pire cas est déjà connu pour chaque arête, il s'agit d'un échec de la transplantation. Plusieurs modèles d'incertitudes sont classiquement regardés dans la littérature, mais tous considèrent que la réussite du test croisé réalisé sur un arc $a$ suit une loi de Bernouilli de probabilité $1-f_a$ où $f_a$ est une probabilité d'échec donnée. Nous donnons ci-dessous la fonction permettant de calculer des probabilités d'échec pour tous les arcs en fonction d'un paramètre à choisir dans le tableau DISTRIBUTIONS."
   ]
  },
  {
   "cell_type": "markdown",
   "metadata": {},
   "source": [
    "## Travail à réaliser\n",
    "\n",
    "Nous vous donnons une grande liberté sur la façon de traiter le sujet. En fonction de décisions que vous justifierez, vous pourrez traiter le problème par une approche d'optimisation stochastique, d'optimisation robuste ou de toute autre approche averse aux risques. Le travail commencera par décrire l'approche suivie puis le modèle en découlant. Un code Julia permettra ensuite d'implémenter une ou plusieurs méthodes de résolution pour le modèle. Vous pourrez tester la ou les méthodes sur des instances de la PrefLib. Vos interprétations devront rendre compte des enjeux pratiques et des enjeux algorithmiques (optimalité, temps de calcul, passage à l'échelle, etc.) de votre travail.\n",
    "Le résultat de votre travail sera à rendre dans ce notebook avant le 14 janvier 2022. Chaque cellule du notebook aura préalablement été exécutée (sans erreur, évidemment), et il importera que les affichages utilisés dans vos interprétations y apparaissent. "
   ]
  },
  {
   "cell_type": "markdown",
   "metadata": {},
   "source": [
    "## Les données"
   ]
  },
  {
   "cell_type": "markdown",
   "metadata": {},
   "source": [
    "Nous allons travailler ici avec des données sous forme de graphes. Les fonctions `read_kep_file` et `get_failure_rates` du fichier `.\\utils\\data_reading.jl` nous permettent de lire les fichier de données correspondant au problème de construire le graphe correspondant et ensuite de venir calculer les probabilités d'échec (du test croisé) de chaque arc. Voici un exemple d'utilisation des deux premières fonctions :"
   ]
  },
  {
   "cell_type": "code",
   "execution_count": 3,
   "metadata": {},
   "outputs": [],
   "source": [
    "kep_graph = read_kep_file(\"./_cache/data/MD-00001-00000080.wmd\",\"./_cache/data/MD-00001-00000080.dat\");\n",
    "failure_rates = get_failure_rates(kep_graph, \"Constant\");"
   ]
  },
  {
   "attachments": {},
   "cell_type": "markdown",
   "metadata": {},
   "source": [
    "La fonction `extractCycleInformation` du fichier `.\\utils\\graph_extraction.jl`, nous permettra de venir extraire des données du graph crée. Cette fonction est orienté sur les cycles. Elle sera beaucoup utilisée dans la suite du projet et nous permettra d'extraire de notre graphe d'échange l'ensemble des informations qui seront utiles pour la résolution de ce problème."
   ]
  },
  {
   "cell_type": "code",
   "execution_count": 4,
   "metadata": {},
   "outputs": [
    {
     "name": "stdout",
     "output_type": "stream",
     "text": [
      "```\n",
      "extractCycleInformation\n",
      "```\n",
      "\n",
      "This function allow us to extract the relevant information from the kep*graph. The relevant information here concern the cycle formulation of the kep*graph.\n",
      "\n",
      "# Parameters\n",
      "\n",
      "  * `g` : the kep_graph\n",
      "  * `K` : the length of the Cycles\n",
      "  * `mode`: the method to use to compute the calculus of the utilities\n",
      "  * `utility_range` : range of the utilities\n",
      "\n",
      "# Return\n",
      "\n",
      "This function returns a Julia dictionnary with the following keys :\n",
      "\n",
      "  * `Cycles_index` : a list of integer each element of the list corresponds to the index of a cycle\n",
      "  * `vertic_cycles` : a dictionnary with vertices as keys and a list of cycles which involve the key as value\n",
      "  * `Cycles` : the exhaustive enumeration of the cycles\n",
      "  * `P` : for each cycle, the probability of failure. To get the success do 1 - ...\n",
      "  * `U` : the utility of each cycle\n"
     ]
    }
   ],
   "source": [
    "print(@doc(extractCycleInformation))"
   ]
  },
  {
   "attachments": {},
   "cell_type": "markdown",
   "metadata": {},
   "source": [
    "### Un peu de pre-processing"
   ]
  },
  {
   "attachments": {},
   "cell_type": "markdown",
   "metadata": {},
   "source": [
    "Nous verrons par la suite que dans ce problème l'ensemble du graphe ne sera pas nécessairement utile. En effet les noeuds du graphes qui ne participent à aucun échange n'auront aucun intérêt et pourront ainsi être supprimer du graphe. La cellule suivante prend l'ensemble des instances disponibles dans le dossier `.\\_cache\\data` et suppriment les noeuds qui ne participent à aucun cycles de longueur $3$ ou moins dans le graphe. Pour cela nous avons crée la fonction `removeUselessNodes` qui nous permet de réaliser une telle opération."
   ]
  },
  {
   "cell_type": "code",
   "execution_count": 4,
   "metadata": {},
   "outputs": [
    {
     "name": "stdout",
     "output_type": "stream",
     "text": [
      "error in reading\n",
      "\u001b[1m28×6 DataFrame\u001b[0m\n",
      "\u001b[1m Row \u001b[0m│\u001b[1m name  \u001b[0m\u001b[1m n_edge \u001b[0m\u001b[1m n_node \u001b[0m\u001b[1m n_circle \u001b[0m\u001b[1m n_edge_preprocess \u001b[0m\u001b[1m n_node_preprocess \u001b[0m\n",
      "     │\u001b[90m Int64 \u001b[0m\u001b[90m Int64  \u001b[0m\u001b[90m Int64  \u001b[0m\u001b[90m Int64    \u001b[0m\u001b[90m Int64             \u001b[0m\u001b[90m Int64             \u001b[0m\n",
      "─────┼───────────────────────────────────────────────────────────────────────\n",
      "   1 │     1      59      16         2                  6                  4\n",
      "   2 │     2      65      16        10                 38                 10\n",
      "   3 │     3      50      16         2                  4                  3\n",
      "   4 │     4      26      16         0                  0                  0\n",
      "   5 │     5      70      16        17                 39                 12\n",
      "   6 │     6      28      16         4                  8                  5\n",
      "   7 │     7      48      16         6                 11                  5\n",
      "   8 │     8      48      16        20                 38                 11\n",
      "   9 │     9      59      16        19                 40                 11\n",
      "  10 │    10      47      16         7                 17                  7\n",
      "  11 │    31     325      32       167                290                 29\n",
      "  12 │    32     285      32       181                249                 29\n",
      "  13 │    33     268      32       309                263                 31\n",
      "  14 │    34     248      32        94                248                 32\n",
      "  15 │    35     299      32       195                235                 27\n",
      "  16 │    36     237      32        51                206                 26\n",
      "  17 │    37     242      32        79                168                 26\n",
      "  18 │    38     314      32       207                248                 27\n",
      "  19 │    39     284      32       171                252                 30\n",
      "  20 │    40     168      32         4                 11                  6\n",
      "  21 │    72     967      64       718                825                 58\n",
      "  22 │    73    1087      64      1279                992                 60\n",
      "  23 │    74     991      64      1173                980                 62\n",
      "  24 │    75     961      64       642                753                 56\n",
      "  25 │    76     999      64       793                980                 62\n",
      "  26 │    77     843      64       420                740                 58\n",
      "  27 │    78     839      64       844                771                 60\n",
      "  28 │    79     954      64       985                865                 60"
     ]
    }
   ],
   "source": [
    "j = 1\n",
    "list_dir = readdir(join([\"_cache\", \"data\"], Base.Filesystem.path_separator));\n",
    "myregex = r\"MD-00001-0+(\\d+).dat\"\n",
    "list_name = Int[]\n",
    "list_n_nodes = Int[]\n",
    "list_n_edges = Int[]\n",
    "list_n_circles = Int[]\n",
    "list_n_nodes_preprocess = Int[]\n",
    "list_n_edges_preprocess = Int[]\n",
    "\n",
    "for i in 1:1:(length(list_dir)/2)\n",
    "    try\n",
    "        kep_graph = read_kep_file(\"./_cache/data/\"*list_dir[j+1],\"./_cache/data/\"*list_dir[j]);\n",
    "        append!(list_name, parse(Int64, match(myregex, list_dir[j])[1]))\n",
    "        append!(list_n_edges, ne(kep_graph))\n",
    "        append!(list_n_nodes, nv(kep_graph))\n",
    "        append!(list_n_circles, length(simplecycles_limited_length(kep_graph, 3, 10^6)))\n",
    "        # preprocessing \n",
    "        kep_graph, temp = removeUselessNodes(kep_graph, 3)\n",
    "        append!(list_n_edges_preprocess, ne(kep_graph))\n",
    "        append!(list_n_nodes_preprocess, nv(kep_graph))\n",
    "        j += 2\n",
    "    catch\n",
    "        println(\"error in reading\")\n",
    "        j = j+1\n",
    "    end\n",
    "end\n",
    "\n",
    "print(DataFrame(name = list_name, \n",
    "n_edge=list_n_edges, \n",
    "n_node=list_n_nodes, \n",
    "n_circle=list_n_circles, \n",
    "n_edge_preprocess=list_n_edges_preprocess, \n",
    "n_node_preprocess=list_n_nodes_preprocess))"
   ]
  },
  {
   "attachments": {},
   "cell_type": "markdown",
   "metadata": {},
   "source": [
    "Nous pouvons voir que dans l'ensemble des instances nous sommes capables de réduire le nombre de noeuds qu'il y a dans notre graphe. Nous verrons que tout ceci possède une utilité par la suite.\n",
    "\n",
    "Maintenant que nous avons proposé quelques fonctions très utiles pour la lecture des données nous allons passer à une première résolution."
   ]
  },
  {
   "attachments": {},
   "cell_type": "markdown",
   "metadata": {},
   "source": [
    "## Un problème (presque) à recours"
   ]
  },
  {
   "attachments": {},
   "cell_type": "markdown",
   "metadata": {},
   "source": [
    "Notre première vision de ce problème était de réfléchir uniquement sur les cycles. Nous adoptons la philosophie qui consiste à dire que on sélectionne des cycles et nous ne réalisons les tests croisés que parmis les cycles que nous avons sélectionnés.\n",
    "\n",
    "On définit ainsi les données suivantes :\n",
    "\n",
    "- $C_K$ : l'ensemble des cycles de longueurs au plus $K$\n",
    "- $C_K(i)$ : l'ensemble des cycles de longueurs au plus $K$, qui contiennent le sommet $i$\n",
    "- $\\forall c \\in C_K \\quad w_c$ : désignera l'utilité du cycle $c$\n",
    "- $\\omega~\\in~\\Omega$ : définit une réalisation des incertitudes. On parlera aussi de scénario. C'est une réalisation possible de l'aléa qui pèse sur les différents arcs.\n",
    "- $\\forall ~c~\\in C_K\\quad \\xi_c(\\omega) \\in \\{0, 1\\} = 1$ : si et seulement si on ne peut pas sélectionner le cycle $c$ (les tests sont mauvais) pour le scénario $\\omega$\n",
    "\n",
    "On définit les variables suivantes\n",
    "\n",
    "- $1^{er}$ niveau : $\\forall c \\in C\\quad x_c \\in \\{0, 1\\} = 1$ si et seulement si, on décide de sélectionner le cycle $c$.\n",
    "- recours : $\\forall c \\in C\\quad y_c(\\omega) \\in \\{0, 1\\} = 1$ on ne peut pas sélectionner le cycle $c$ dans le scénario $\\omega$\n",
    "\n",
    "Le problème peut se modéliser ainsi de la manière suivante :\n",
    "\n",
    "$$\n",
    "\\begin{equation}\n",
    "\t(\\mathbb{CRP}) := \\left\\{\\begin{aligned}\n",
    "        \\underset{x}{\\min} \\quad & - \\sum_{c \\in C_K} x_cw_c +\\mathbb{E}_{\\omega}\\left(\\underset{y}{\\min} \\left[\\sum_{c \\in C_K} y_c(\\omega)w_c\\right]\\right)\\\\\n",
    "         s.c \\quad &\\sum_{c\\in C_K(i)}x_c\\leq 1~\\forall i \\in V\\\\ % contrainte déterministe\n",
    "         % les contraintes stochastiques\n",
    "         & y_c(\\omega) = \\xi_c(\\omega)~x_c\\quad \\forall c \\in C_K \\quad \\forall \\omega \\in \\Omega\\\\ \n",
    "         & x_c \\in \\{0,1\\} \\quad \\forall c \\in C_K\\\\\n",
    "         & y_c(\\omega) \\in \\{0,1\\} \\quad \\forall c \\in C_K\\quad \\forall \\omega \\in \\Omega\n",
    "\t\\end{aligned}\\right.\n",
    "\\end{equation}\n",
    "$$\n",
    "\n",
    "Nous pouvons ainsi reformuler ce problème de la façon suivante :\n",
    "\n",
    "$$\n",
    "\\begin{equation}\n",
    "\t(\\mathbb{CRP}) := \\left\\{\\begin{aligned}\n",
    "        \\underset{x}{\\min} \\quad & - \\sum_{c \\in C_K} x_cw_c +\\mathbb{E}_{\\omega}\\left( \\left[\\sum_{c \\in C_K} \\xi_c(\\omega)x_cw_c\\right]\\right)\\\\\n",
    "         s.c \\quad &\\sum_{c\\in C_K(i)}x_c\\leq 1~\\forall i \\in V\\\\ % contrainte déterministe\n",
    "         & x_c \\in \\{0,1\\} \\quad \\forall c \\in C_K\\\\\n",
    "\t\\end{aligned}\\right.\n",
    "\\end{equation}\n",
    "$$\n",
    "\n",
    "Nous obtenons finalement :\n",
    "\n",
    "$$\n",
    "\\begin{equation}\n",
    "\t(\\mathbb{CRP}) := \\left\\{\\begin{aligned}\n",
    "        \\underset{x}{\\min} \\quad & \\sum_{c \\in C_K} x_cw_c(\\mathbb{E}_{\\omega} \\left[ \\xi_c(\\omega)\\right] - 1)\\\\\n",
    "         s.c \\quad &\\sum_{c\\in C_K(i)}x_c\\leq 1~\\forall i \\in V\\\\ % contrainte déterministe\n",
    "         & x_c \\in \\{0,1\\} \\quad \\forall c \\in C_K\\\\\n",
    "\t\\end{aligned}\\right.\n",
    "\\end{equation}\n",
    "$$\n",
    "\n",
    "Avec $\\mathbb{E}_{\\omega}[\\xi_c(\\omega)] = \\mathbb{P}\\{\\xi_c(\\omega) = 1\\}$ d'où $\\mathbb{E}_{\\omega}[\\xi_c(\\omega)] - 1 = -\\mathbb{P}\\{\\xi_c(\\omega) = 0\\}$\n",
    "\n",
    "\n",
    "Ainsi nous avons :\n",
    "\n",
    "$$\n",
    "\\begin{equation}\n",
    "\t(\\mathbb{CRP}) := \\left\\{\\begin{aligned}\n",
    "        \\underset{x}{\\max} \\quad & \\sum_{c \\in C_K} x_cw_c(\\mathbb{P}\\{\\xi_c(\\omega) = 0\\})\\\\\n",
    "         s.c \\quad &\\sum_{c\\in C_K(i)}x_c\\leq 1~\\forall i \\in V\\\\ % contrainte déterministe\n",
    "         & x_c \\in \\{0,1\\} \\quad \\forall c \\in C_K\\\\\n",
    "\t\\end{aligned}\\right.\n",
    "\\end{equation}\n",
    "$$\n",
    "\n",
    "\n",
    "Ainsi nous pourrons note $\\tilde{w}_c = w_c \\times \\mathbb{P}\\{\\xi_c(\\omega) = 0\\}$, la nouvelle utilité d'un cycle qui sera en faite une combinaison entre l'utilité réelle du cyle $w_c$ et la probabilité que ce dernier se réalise. Nous pouvons ici que un cycle avec $w_c$ grand mais une probabilité de succés très faible aura peu de chance d'être choisi. En effet pourquoi choisir ce cycle si on sait qu'il n'a aucune chance (ou presque) de se réaliser.\n",
    "\n",
    "Nous avons finalement le problème suivante :\n",
    "\n",
    "$$\n",
    "\\begin{equation}\n",
    "\t(\\mathbb{CRP}) := \\left\\{\\begin{aligned}\n",
    "        \\underset{x}{\\max} \\quad & \\sum_{c \\in C_K} x_c\\hat{w}_c\\\\\n",
    "         s.c \\quad &\\sum_{c\\in C_K(i)}x_c\\leq 1~\\forall i \\in V\\\\ % contrainte déterministe\n",
    "         & x_c \\in \\{0,1\\} \\quad \\forall c \\in C_K\\\\\n",
    "\t\\end{aligned}\\right.\n",
    "\\end{equation}\n",
    "$$\n",
    "\n",
    "Nous pouvons voir ainsi que ce problème $\\mathbb{CRP}$ est donc un problème totalement déterministe. Nous proposons la méthode `completRecourseProblem` dans le fichier `dtm_framework/complete_recourse.jl`. Pour résoudre ce dernier. Cette dernière fonction possède la signature suivante :"
   ]
  },
  {
   "cell_type": "code",
   "execution_count": 6,
   "metadata": {},
   "outputs": [
    {
     "name": "stdout",
     "output_type": "stream",
     "text": [
      "```\n",
      "completRecourseProblem\n",
      "```\n",
      "\n",
      "This is the deterministic version of the problem with the complete recourse.\n",
      "\n",
      "# Parameters\n",
      "\n",
      "  * `C` : index of the cycles\n",
      "  * `vertic_cycles` : a dictionnary, at the key i of this list, give the a list of the index of the cycles which involve the node i\n",
      "  * `U` : the utilities of each cycle in the graph.\n",
      "  * `S_P` : probability of sucess of each cycle\n",
      "\n",
      "# Return\n",
      "\n",
      "This function will return a julia dictionnary with the following keys :\n",
      "\n",
      "  * `model` : the model ready to be optimized\n"
     ]
    }
   ],
   "source": [
    "print(@doc(completRecourseProblem))"
   ]
  },
  {
   "attachments": {},
   "cell_type": "markdown",
   "metadata": {},
   "source": [
    "Nous donnons ici un premier exemple simple d'une résolution de ce problème."
   ]
  },
  {
   "cell_type": "code",
   "execution_count": 7,
   "metadata": {},
   "outputs": [],
   "source": [
    "# the data\n",
    "kep_graph = read_kep_file(\"./_cache/data/MD-00001-00000080.wmd\",\"./_cache/data/MD-00001-00000080.dat\");\n",
    "failure_rates = get_failure_rates(kep_graph, \"Constant\");\n",
    "data = extractCycleInformation(kep_graph, 3, \"sum\");\n",
    "\n",
    "# the model\n",
    "res = completRecourseProblem(data[\"Cycles_index\"], data[\"vertic_cycles\"], data[\"U\"], 1 .-data[\"P\"]);\n",
    "model = res[\"model\"]\n",
    "\n",
    "temp = @elapsed optimize!(model)\n",
    "\n",
    "solution = value.(model[:x])\n",
    ";"
   ]
  },
  {
   "attachments": {},
   "cell_type": "markdown",
   "metadata": {},
   "source": [
    "Il peut être intéressant de regarder sur ce genre de problème les temps de calcul que nous avons pour la résolution du problème."
   ]
  },
  {
   "cell_type": "code",
   "execution_count": 9,
   "metadata": {},
   "outputs": [
    {
     "name": "stdout",
     "output_type": "stream",
     "text": [
      "Infeasible Problem\n",
      "error in reading\n",
      "error in reading\n",
      "error in reading\n"
     ]
    },
    {
     "data": {
      "image/svg+xml": "<?xml version=\"1.0\" encoding=\"utf-8\"?>\n<svg xmlns=\"http://www.w3.org/2000/svg\" xmlns:xlink=\"http://www.w3.org/1999/xlink\" width=\"600\" height=\"400\" viewBox=\"0 0 2400 1600\">\n<defs>\n  <clipPath id=\"clip440\">\n    <rect x=\"0\" y=\"0\" width=\"2400\" height=\"1600\"/>\n  </clipPath>\n</defs>\n<path clip-path=\"url(#clip440)\" d=\"\nM0 1600 L2400 1600 L2400 0 L0 0  Z\n  \" fill=\"#ffffff\" fill-rule=\"evenodd\" fill-opacity=\"1\"/>\n<defs>\n  <clipPath id=\"clip441\">\n    <rect x=\"480\" y=\"0\" width=\"1681\" height=\"1600\"/>\n  </clipPath>\n</defs>\n<path clip-path=\"url(#clip440)\" d=\"\nM309.866 1423.18 L2352.76 1423.18 L2352.76 123.472 L309.866 123.472  Z\n  \" fill=\"#ffffff\" fill-rule=\"evenodd\" fill-opacity=\"1\"/>\n<defs>\n  <clipPath id=\"clip442\">\n    <rect x=\"309\" y=\"123\" width=\"2044\" height=\"1301\"/>\n  </clipPath>\n</defs>\n<polyline clip-path=\"url(#clip442)\" style=\"stroke:#000000; stroke-linecap:round; stroke-linejoin:round; stroke-width:2; stroke-opacity:0.1; fill:none\" points=\"\n  364.665,1423.18 364.665,123.472 \n  \"/>\n<polyline clip-path=\"url(#clip442)\" style=\"stroke:#000000; stroke-linecap:round; stroke-linejoin:round; stroke-width:2; stroke-opacity:0.1; fill:none\" points=\"\n  666.506,1423.18 666.506,123.472 \n  \"/>\n<polyline clip-path=\"url(#clip442)\" style=\"stroke:#000000; stroke-linecap:round; stroke-linejoin:round; stroke-width:2; stroke-opacity:0.1; fill:none\" points=\"\n  968.347,1423.18 968.347,123.472 \n  \"/>\n<polyline clip-path=\"url(#clip442)\" style=\"stroke:#000000; stroke-linecap:round; stroke-linejoin:round; stroke-width:2; stroke-opacity:0.1; fill:none\" points=\"\n  1270.19,1423.18 1270.19,123.472 \n  \"/>\n<polyline clip-path=\"url(#clip442)\" style=\"stroke:#000000; stroke-linecap:round; stroke-linejoin:round; stroke-width:2; stroke-opacity:0.1; fill:none\" points=\"\n  1572.03,1423.18 1572.03,123.472 \n  \"/>\n<polyline clip-path=\"url(#clip442)\" style=\"stroke:#000000; stroke-linecap:round; stroke-linejoin:round; stroke-width:2; stroke-opacity:0.1; fill:none\" points=\"\n  1873.87,1423.18 1873.87,123.472 \n  \"/>\n<polyline clip-path=\"url(#clip442)\" style=\"stroke:#000000; stroke-linecap:round; stroke-linejoin:round; stroke-width:2; stroke-opacity:0.1; fill:none\" points=\"\n  2175.71,1423.18 2175.71,123.472 \n  \"/>\n<polyline clip-path=\"url(#clip440)\" style=\"stroke:#000000; stroke-linecap:round; stroke-linejoin:round; stroke-width:4; stroke-opacity:1; fill:none\" points=\"\n  309.866,1423.18 2352.76,1423.18 \n  \"/>\n<polyline clip-path=\"url(#clip440)\" style=\"stroke:#000000; stroke-linecap:round; stroke-linejoin:round; stroke-width:4; stroke-opacity:1; fill:none\" points=\"\n  364.665,1423.18 364.665,1404.28 \n  \"/>\n<polyline clip-path=\"url(#clip440)\" style=\"stroke:#000000; stroke-linecap:round; stroke-linejoin:round; stroke-width:4; stroke-opacity:1; fill:none\" points=\"\n  666.506,1423.18 666.506,1404.28 \n  \"/>\n<polyline clip-path=\"url(#clip440)\" style=\"stroke:#000000; stroke-linecap:round; stroke-linejoin:round; stroke-width:4; stroke-opacity:1; fill:none\" points=\"\n  968.347,1423.18 968.347,1404.28 \n  \"/>\n<polyline clip-path=\"url(#clip440)\" style=\"stroke:#000000; stroke-linecap:round; stroke-linejoin:round; stroke-width:4; stroke-opacity:1; fill:none\" points=\"\n  1270.19,1423.18 1270.19,1404.28 \n  \"/>\n<polyline clip-path=\"url(#clip440)\" style=\"stroke:#000000; stroke-linecap:round; stroke-linejoin:round; stroke-width:4; stroke-opacity:1; fill:none\" points=\"\n  1572.03,1423.18 1572.03,1404.28 \n  \"/>\n<polyline clip-path=\"url(#clip440)\" style=\"stroke:#000000; stroke-linecap:round; stroke-linejoin:round; stroke-width:4; stroke-opacity:1; fill:none\" points=\"\n  1873.87,1423.18 1873.87,1404.28 \n  \"/>\n<polyline clip-path=\"url(#clip440)\" style=\"stroke:#000000; stroke-linecap:round; stroke-linejoin:round; stroke-width:4; stroke-opacity:1; fill:none\" points=\"\n  2175.71,1423.18 2175.71,1404.28 \n  \"/>\n<path clip-path=\"url(#clip440)\" d=\"M364.665 1454.1 Q361.054 1454.1 359.225 1457.66 Q357.42 1461.2 357.42 1468.33 Q357.42 1475.44 359.225 1479.01 Q361.054 1482.55 364.665 1482.55 Q368.299 1482.55 370.105 1479.01 Q371.933 1475.44 371.933 1468.33 Q371.933 1461.2 370.105 1457.66 Q368.299 1454.1 364.665 1454.1 M364.665 1450.39 Q370.475 1450.39 373.531 1455 Q376.609 1459.58 376.609 1468.33 Q376.609 1477.06 373.531 1481.67 Q370.475 1486.25 364.665 1486.25 Q358.855 1486.25 355.776 1481.67 Q352.721 1477.06 352.721 1468.33 Q352.721 1459.58 355.776 1455 Q358.855 1450.39 364.665 1450.39 Z\" fill=\"#000000\" fill-rule=\"evenodd\" fill-opacity=\"1\" /><path clip-path=\"url(#clip440)\" d=\"M630.198 1481.64 L646.518 1481.64 L646.518 1485.58 L624.573 1485.58 L624.573 1481.64 Q627.235 1478.89 631.819 1474.26 Q636.425 1469.61 637.606 1468.27 Q639.851 1465.74 640.731 1464.01 Q641.633 1462.25 641.633 1460.56 Q641.633 1457.8 639.689 1456.07 Q637.768 1454.33 634.666 1454.33 Q632.467 1454.33 630.013 1455.09 Q627.583 1455.86 624.805 1457.41 L624.805 1452.69 Q627.629 1451.55 630.083 1450.97 Q632.536 1450.39 634.573 1450.39 Q639.944 1450.39 643.138 1453.08 Q646.333 1455.77 646.333 1460.26 Q646.333 1462.39 645.522 1464.31 Q644.735 1466.2 642.629 1468.8 Q642.05 1469.47 638.948 1472.69 Q635.846 1475.88 630.198 1481.64 Z\" fill=\"#000000\" fill-rule=\"evenodd\" fill-opacity=\"1\" /><path clip-path=\"url(#clip440)\" d=\"M666.332 1454.1 Q662.721 1454.1 660.893 1457.66 Q659.087 1461.2 659.087 1468.33 Q659.087 1475.44 660.893 1479.01 Q662.721 1482.55 666.332 1482.55 Q669.967 1482.55 671.772 1479.01 Q673.601 1475.44 673.601 1468.33 Q673.601 1461.2 671.772 1457.66 Q669.967 1454.1 666.332 1454.1 M666.332 1450.39 Q672.143 1450.39 675.198 1455 Q678.277 1459.58 678.277 1468.33 Q678.277 1477.06 675.198 1481.67 Q672.143 1486.25 666.332 1486.25 Q660.522 1486.25 657.444 1481.67 Q654.388 1477.06 654.388 1468.33 Q654.388 1459.58 657.444 1455 Q660.522 1450.39 666.332 1450.39 Z\" fill=\"#000000\" fill-rule=\"evenodd\" fill-opacity=\"1\" /><path clip-path=\"url(#clip440)\" d=\"M696.494 1454.1 Q692.883 1454.1 691.055 1457.66 Q689.249 1461.2 689.249 1468.33 Q689.249 1475.44 691.055 1479.01 Q692.883 1482.55 696.494 1482.55 Q700.129 1482.55 701.934 1479.01 Q703.763 1475.44 703.763 1468.33 Q703.763 1461.2 701.934 1457.66 Q700.129 1454.1 696.494 1454.1 M696.494 1450.39 Q702.304 1450.39 705.36 1455 Q708.439 1459.58 708.439 1468.33 Q708.439 1477.06 705.36 1481.67 Q702.304 1486.25 696.494 1486.25 Q690.684 1486.25 687.605 1481.67 Q684.55 1477.06 684.55 1468.33 Q684.55 1459.58 687.605 1455 Q690.684 1450.39 696.494 1450.39 Z\" fill=\"#000000\" fill-rule=\"evenodd\" fill-opacity=\"1\" /><path clip-path=\"url(#clip440)\" d=\"M941.437 1455.09 L929.632 1473.54 L941.437 1473.54 L941.437 1455.09 M940.211 1451.02 L946.09 1451.02 L946.09 1473.54 L951.021 1473.54 L951.021 1477.43 L946.09 1477.43 L946.09 1485.58 L941.437 1485.58 L941.437 1477.43 L925.836 1477.43 L925.836 1472.92 L940.211 1451.02 Z\" fill=\"#000000\" fill-rule=\"evenodd\" fill-opacity=\"1\" /><path clip-path=\"url(#clip440)\" d=\"M968.752 1454.1 Q965.141 1454.1 963.312 1457.66 Q961.507 1461.2 961.507 1468.33 Q961.507 1475.44 963.312 1479.01 Q965.141 1482.55 968.752 1482.55 Q972.386 1482.55 974.192 1479.01 Q976.021 1475.44 976.021 1468.33 Q976.021 1461.2 974.192 1457.66 Q972.386 1454.1 968.752 1454.1 M968.752 1450.39 Q974.562 1450.39 977.618 1455 Q980.697 1459.58 980.697 1468.33 Q980.697 1477.06 977.618 1481.67 Q974.562 1486.25 968.752 1486.25 Q962.942 1486.25 959.863 1481.67 Q956.808 1477.06 956.808 1468.33 Q956.808 1459.58 959.863 1455 Q962.942 1450.39 968.752 1450.39 Z\" fill=\"#000000\" fill-rule=\"evenodd\" fill-opacity=\"1\" /><path clip-path=\"url(#clip440)\" d=\"M998.914 1454.1 Q995.303 1454.1 993.474 1457.66 Q991.669 1461.2 991.669 1468.33 Q991.669 1475.44 993.474 1479.01 Q995.303 1482.55 998.914 1482.55 Q1002.55 1482.55 1004.35 1479.01 Q1006.18 1475.44 1006.18 1468.33 Q1006.18 1461.2 1004.35 1457.66 Q1002.55 1454.1 998.914 1454.1 M998.914 1450.39 Q1004.72 1450.39 1007.78 1455 Q1010.86 1459.58 1010.86 1468.33 Q1010.86 1477.06 1007.78 1481.67 Q1004.72 1486.25 998.914 1486.25 Q993.104 1486.25 990.025 1481.67 Q986.97 1477.06 986.97 1468.33 Q986.97 1459.58 990.025 1455 Q993.104 1450.39 998.914 1450.39 Z\" fill=\"#000000\" fill-rule=\"evenodd\" fill-opacity=\"1\" /><path clip-path=\"url(#clip440)\" d=\"M1240.51 1466.44 Q1237.36 1466.44 1235.51 1468.59 Q1233.68 1470.74 1233.68 1474.49 Q1233.68 1478.22 1235.51 1480.39 Q1237.36 1482.55 1240.51 1482.55 Q1243.66 1482.55 1245.49 1480.39 Q1247.34 1478.22 1247.34 1474.49 Q1247.34 1470.74 1245.49 1468.59 Q1243.66 1466.44 1240.51 1466.44 M1249.79 1451.78 L1249.79 1456.04 Q1248.04 1455.21 1246.23 1454.77 Q1244.45 1454.33 1242.69 1454.33 Q1238.06 1454.33 1235.6 1457.45 Q1233.17 1460.58 1232.83 1466.9 Q1234.19 1464.89 1236.25 1463.82 Q1238.31 1462.73 1240.79 1462.73 Q1246 1462.73 1249.01 1465.9 Q1252.04 1469.05 1252.04 1474.49 Q1252.04 1479.82 1248.89 1483.03 Q1245.74 1486.25 1240.51 1486.25 Q1234.52 1486.25 1231.35 1481.67 Q1228.17 1477.06 1228.17 1468.33 Q1228.17 1460.14 1232.06 1455.28 Q1235.95 1450.39 1242.5 1450.39 Q1244.26 1450.39 1246.04 1450.74 Q1247.85 1451.09 1249.79 1451.78 Z\" fill=\"#000000\" fill-rule=\"evenodd\" fill-opacity=\"1\" /><path clip-path=\"url(#clip440)\" d=\"M1270.1 1454.1 Q1266.48 1454.1 1264.66 1457.66 Q1262.85 1461.2 1262.85 1468.33 Q1262.85 1475.44 1264.66 1479.01 Q1266.48 1482.55 1270.1 1482.55 Q1273.73 1482.55 1275.54 1479.01 Q1277.36 1475.44 1277.36 1468.33 Q1277.36 1461.2 1275.54 1457.66 Q1273.73 1454.1 1270.1 1454.1 M1270.1 1450.39 Q1275.91 1450.39 1278.96 1455 Q1282.04 1459.58 1282.04 1468.33 Q1282.04 1477.06 1278.96 1481.67 Q1275.91 1486.25 1270.1 1486.25 Q1264.29 1486.25 1261.21 1481.67 Q1258.15 1477.06 1258.15 1468.33 Q1258.15 1459.58 1261.21 1455 Q1264.29 1450.39 1270.1 1450.39 Z\" fill=\"#000000\" fill-rule=\"evenodd\" fill-opacity=\"1\" /><path clip-path=\"url(#clip440)\" d=\"M1300.26 1454.1 Q1296.65 1454.1 1294.82 1457.66 Q1293.01 1461.2 1293.01 1468.33 Q1293.01 1475.44 1294.82 1479.01 Q1296.65 1482.55 1300.26 1482.55 Q1303.89 1482.55 1305.7 1479.01 Q1307.53 1475.44 1307.53 1468.33 Q1307.53 1461.2 1305.7 1457.66 Q1303.89 1454.1 1300.26 1454.1 M1300.26 1450.39 Q1306.07 1450.39 1309.12 1455 Q1312.2 1459.58 1312.2 1468.33 Q1312.2 1477.06 1309.12 1481.67 Q1306.07 1486.25 1300.26 1486.25 Q1294.45 1486.25 1291.37 1481.67 Q1288.31 1477.06 1288.31 1468.33 Q1288.31 1459.58 1291.37 1455 Q1294.45 1450.39 1300.26 1450.39 Z\" fill=\"#000000\" fill-rule=\"evenodd\" fill-opacity=\"1\" /><path clip-path=\"url(#clip440)\" d=\"M1541.82 1469.17 Q1538.49 1469.17 1536.57 1470.95 Q1534.67 1472.73 1534.67 1475.86 Q1534.67 1478.98 1536.57 1480.77 Q1538.49 1482.55 1541.82 1482.55 Q1545.15 1482.55 1547.08 1480.77 Q1549 1478.96 1549 1475.86 Q1549 1472.73 1547.08 1470.95 Q1545.18 1469.17 1541.82 1469.17 M1537.14 1467.18 Q1534.14 1466.44 1532.45 1464.38 Q1530.78 1462.32 1530.78 1459.35 Q1530.78 1455.21 1533.72 1452.8 Q1536.68 1450.39 1541.82 1450.39 Q1546.98 1450.39 1549.92 1452.8 Q1552.86 1455.21 1552.86 1459.35 Q1552.86 1462.32 1551.17 1464.38 Q1549.51 1466.44 1546.52 1467.18 Q1549.9 1467.96 1551.77 1470.26 Q1553.67 1472.55 1553.67 1475.86 Q1553.67 1480.88 1550.59 1483.57 Q1547.54 1486.25 1541.82 1486.25 Q1536.1 1486.25 1533.02 1483.57 Q1529.97 1480.88 1529.97 1475.86 Q1529.97 1472.55 1531.87 1470.26 Q1533.77 1467.96 1537.14 1467.18 M1535.43 1459.79 Q1535.43 1462.48 1537.1 1463.98 Q1538.79 1465.49 1541.82 1465.49 Q1544.83 1465.49 1546.52 1463.98 Q1548.23 1462.48 1548.23 1459.79 Q1548.23 1457.11 1546.52 1455.6 Q1544.83 1454.1 1541.82 1454.1 Q1538.79 1454.1 1537.1 1455.6 Q1535.43 1457.11 1535.43 1459.79 Z\" fill=\"#000000\" fill-rule=\"evenodd\" fill-opacity=\"1\" /><path clip-path=\"url(#clip440)\" d=\"M1571.98 1454.1 Q1568.37 1454.1 1566.54 1457.66 Q1564.74 1461.2 1564.74 1468.33 Q1564.74 1475.44 1566.54 1479.01 Q1568.37 1482.55 1571.98 1482.55 Q1575.62 1482.55 1577.42 1479.01 Q1579.25 1475.44 1579.25 1468.33 Q1579.25 1461.2 1577.42 1457.66 Q1575.62 1454.1 1571.98 1454.1 M1571.98 1450.39 Q1577.79 1450.39 1580.85 1455 Q1583.93 1459.58 1583.93 1468.33 Q1583.93 1477.06 1580.85 1481.67 Q1577.79 1486.25 1571.98 1486.25 Q1566.17 1486.25 1563.09 1481.67 Q1560.04 1477.06 1560.04 1468.33 Q1560.04 1459.58 1563.09 1455 Q1566.17 1450.39 1571.98 1450.39 Z\" fill=\"#000000\" fill-rule=\"evenodd\" fill-opacity=\"1\" /><path clip-path=\"url(#clip440)\" d=\"M1602.14 1454.1 Q1598.53 1454.1 1596.7 1457.66 Q1594.9 1461.2 1594.9 1468.33 Q1594.9 1475.44 1596.7 1479.01 Q1598.53 1482.55 1602.14 1482.55 Q1605.78 1482.55 1607.58 1479.01 Q1609.41 1475.44 1609.41 1468.33 Q1609.41 1461.2 1607.58 1457.66 Q1605.78 1454.1 1602.14 1454.1 M1602.14 1450.39 Q1607.95 1450.39 1611.01 1455 Q1614.09 1459.58 1614.09 1468.33 Q1614.09 1477.06 1611.01 1481.67 Q1607.95 1486.25 1602.14 1486.25 Q1596.33 1486.25 1593.26 1481.67 Q1590.2 1477.06 1590.2 1468.33 Q1590.2 1459.58 1593.26 1455 Q1596.33 1450.39 1602.14 1450.39 Z\" fill=\"#000000\" fill-rule=\"evenodd\" fill-opacity=\"1\" /><path clip-path=\"url(#clip440)\" d=\"M1818.4 1481.64 L1826.03 1481.64 L1826.03 1455.28 L1817.72 1456.95 L1817.72 1452.69 L1825.99 1451.02 L1830.66 1451.02 L1830.66 1481.64 L1838.3 1481.64 L1838.3 1485.58 L1818.4 1485.58 L1818.4 1481.64 Z\" fill=\"#000000\" fill-rule=\"evenodd\" fill-opacity=\"1\" /><path clip-path=\"url(#clip440)\" d=\"M1857.75 1454.1 Q1854.14 1454.1 1852.31 1457.66 Q1850.5 1461.2 1850.5 1468.33 Q1850.5 1475.44 1852.31 1479.01 Q1854.14 1482.55 1857.75 1482.55 Q1861.38 1482.55 1863.19 1479.01 Q1865.02 1475.44 1865.02 1468.33 Q1865.02 1461.2 1863.19 1457.66 Q1861.38 1454.1 1857.75 1454.1 M1857.75 1450.39 Q1863.56 1450.39 1866.61 1455 Q1869.69 1459.58 1869.69 1468.33 Q1869.69 1477.06 1866.61 1481.67 Q1863.56 1486.25 1857.75 1486.25 Q1851.94 1486.25 1848.86 1481.67 Q1845.8 1477.06 1845.8 1468.33 Q1845.8 1459.58 1848.86 1455 Q1851.94 1450.39 1857.75 1450.39 Z\" fill=\"#000000\" fill-rule=\"evenodd\" fill-opacity=\"1\" /><path clip-path=\"url(#clip440)\" d=\"M1887.91 1454.1 Q1884.3 1454.1 1882.47 1457.66 Q1880.66 1461.2 1880.66 1468.33 Q1880.66 1475.44 1882.47 1479.01 Q1884.3 1482.55 1887.91 1482.55 Q1891.54 1482.55 1893.35 1479.01 Q1895.18 1475.44 1895.18 1468.33 Q1895.18 1461.2 1893.35 1457.66 Q1891.54 1454.1 1887.91 1454.1 M1887.91 1450.39 Q1893.72 1450.39 1896.78 1455 Q1899.85 1459.58 1899.85 1468.33 Q1899.85 1477.06 1896.78 1481.67 Q1893.72 1486.25 1887.91 1486.25 Q1882.1 1486.25 1879.02 1481.67 Q1875.96 1477.06 1875.96 1468.33 Q1875.96 1459.58 1879.02 1455 Q1882.1 1450.39 1887.91 1450.39 Z\" fill=\"#000000\" fill-rule=\"evenodd\" fill-opacity=\"1\" /><path clip-path=\"url(#clip440)\" d=\"M1918.07 1454.1 Q1914.46 1454.1 1912.63 1457.66 Q1910.83 1461.2 1910.83 1468.33 Q1910.83 1475.44 1912.63 1479.01 Q1914.46 1482.55 1918.07 1482.55 Q1921.71 1482.55 1923.51 1479.01 Q1925.34 1475.44 1925.34 1468.33 Q1925.34 1461.2 1923.51 1457.66 Q1921.71 1454.1 1918.07 1454.1 M1918.07 1450.39 Q1923.88 1450.39 1926.94 1455 Q1930.02 1459.58 1930.02 1468.33 Q1930.02 1477.06 1926.94 1481.67 Q1923.88 1486.25 1918.07 1486.25 Q1912.26 1486.25 1909.18 1481.67 Q1906.13 1477.06 1906.13 1468.33 Q1906.13 1459.58 1909.18 1455 Q1912.26 1450.39 1918.07 1450.39 Z\" fill=\"#000000\" fill-rule=\"evenodd\" fill-opacity=\"1\" /><path clip-path=\"url(#clip440)\" d=\"M2120.24 1481.64 L2127.88 1481.64 L2127.88 1455.28 L2119.57 1456.95 L2119.57 1452.69 L2127.83 1451.02 L2132.51 1451.02 L2132.51 1481.64 L2140.14 1481.64 L2140.14 1485.58 L2120.24 1485.58 L2120.24 1481.64 Z\" fill=\"#000000\" fill-rule=\"evenodd\" fill-opacity=\"1\" /><path clip-path=\"url(#clip440)\" d=\"M2153.62 1481.64 L2169.94 1481.64 L2169.94 1485.58 L2147.99 1485.58 L2147.99 1481.64 Q2150.65 1478.89 2155.24 1474.26 Q2159.84 1469.61 2161.02 1468.27 Q2163.27 1465.74 2164.15 1464.01 Q2165.05 1462.25 2165.05 1460.56 Q2165.05 1457.8 2163.11 1456.07 Q2161.19 1454.33 2158.08 1454.33 Q2155.88 1454.33 2153.43 1455.09 Q2151 1455.86 2148.22 1457.41 L2148.22 1452.69 Q2151.05 1451.55 2153.5 1450.97 Q2155.95 1450.39 2157.99 1450.39 Q2163.36 1450.39 2166.56 1453.08 Q2169.75 1455.77 2169.75 1460.26 Q2169.75 1462.39 2168.94 1464.31 Q2168.15 1466.2 2166.05 1468.8 Q2165.47 1469.47 2162.37 1472.69 Q2159.26 1475.88 2153.62 1481.64 Z\" fill=\"#000000\" fill-rule=\"evenodd\" fill-opacity=\"1\" /><path clip-path=\"url(#clip440)\" d=\"M2189.75 1454.1 Q2186.14 1454.1 2184.31 1457.66 Q2182.51 1461.2 2182.51 1468.33 Q2182.51 1475.44 2184.31 1479.01 Q2186.14 1482.55 2189.75 1482.55 Q2193.38 1482.55 2195.19 1479.01 Q2197.02 1475.44 2197.02 1468.33 Q2197.02 1461.2 2195.19 1457.66 Q2193.38 1454.1 2189.75 1454.1 M2189.75 1450.39 Q2195.56 1450.39 2198.62 1455 Q2201.69 1459.58 2201.69 1468.33 Q2201.69 1477.06 2198.62 1481.67 Q2195.56 1486.25 2189.75 1486.25 Q2183.94 1486.25 2180.86 1481.67 Q2177.81 1477.06 2177.81 1468.33 Q2177.81 1459.58 2180.86 1455 Q2183.94 1450.39 2189.75 1450.39 Z\" fill=\"#000000\" fill-rule=\"evenodd\" fill-opacity=\"1\" /><path clip-path=\"url(#clip440)\" d=\"M2219.91 1454.1 Q2216.3 1454.1 2214.47 1457.66 Q2212.67 1461.2 2212.67 1468.33 Q2212.67 1475.44 2214.47 1479.01 Q2216.3 1482.55 2219.91 1482.55 Q2223.55 1482.55 2225.35 1479.01 Q2227.18 1475.44 2227.18 1468.33 Q2227.18 1461.2 2225.35 1457.66 Q2223.55 1454.1 2219.91 1454.1 M2219.91 1450.39 Q2225.72 1450.39 2228.78 1455 Q2231.86 1459.58 2231.86 1468.33 Q2231.86 1477.06 2228.78 1481.67 Q2225.72 1486.25 2219.91 1486.25 Q2214.1 1486.25 2211.02 1481.67 Q2207.97 1477.06 2207.97 1468.33 Q2207.97 1459.58 2211.02 1455 Q2214.1 1450.39 2219.91 1450.39 Z\" fill=\"#000000\" fill-rule=\"evenodd\" fill-opacity=\"1\" /><path clip-path=\"url(#clip440)\" d=\"M1235.19 1539.37 L1225.93 1539.37 L1223.25 1550 L1232.58 1550 L1235.19 1539.37 M1230.41 1521.26 L1227.1 1534.46 L1236.4 1534.46 L1239.74 1521.26 L1244.83 1521.26 L1241.55 1534.46 L1251.48 1534.46 L1251.48 1539.37 L1240.31 1539.37 L1237.7 1550 L1247.82 1550 L1247.82 1554.87 L1236.46 1554.87 L1233.15 1568.04 L1228.06 1568.04 L1231.34 1554.87 L1222.01 1554.87 L1218.73 1568.04 L1213.61 1568.04 L1216.92 1554.87 L1206.89 1554.87 L1206.89 1550 L1218.1 1550 L1220.77 1539.37 L1210.52 1539.37 L1210.52 1534.46 L1222.01 1534.46 L1225.26 1521.26 L1230.41 1521.26 Z\" fill=\"#000000\" fill-rule=\"evenodd\" fill-opacity=\"1\" /><path clip-path=\"url(#clip440)\" d=\"M1288.28 1533.76 L1288.28 1539.24 Q1285.8 1537.87 1283.28 1537.2 Q1280.8 1536.5 1278.25 1536.5 Q1272.56 1536.5 1269.4 1540.13 Q1266.25 1543.73 1266.25 1550.25 Q1266.25 1556.78 1269.4 1560.4 Q1272.56 1564 1278.25 1564 Q1280.8 1564 1283.28 1563.33 Q1285.8 1562.63 1288.28 1561.26 L1288.28 1566.68 Q1285.83 1567.82 1283.19 1568.39 Q1280.58 1568.97 1277.62 1568.97 Q1269.56 1568.97 1264.82 1563.91 Q1260.08 1558.85 1260.08 1550.25 Q1260.08 1541.53 1264.85 1536.53 Q1269.66 1531.54 1278 1531.54 Q1280.7 1531.54 1283.28 1532.11 Q1285.86 1532.65 1288.28 1533.76 Z\" fill=\"#000000\" fill-rule=\"evenodd\" fill-opacity=\"1\" /><path clip-path=\"url(#clip440)\" d=\"M1313.3 1571.35 Q1310.81 1577.72 1308.46 1579.66 Q1306.1 1581.6 1302.16 1581.6 L1297.48 1581.6 L1297.48 1576.7 L1300.91 1576.7 Q1303.33 1576.7 1304.67 1575.56 Q1306.01 1574.41 1307.63 1570.14 L1308.68 1567.47 L1294.26 1532.4 L1300.47 1532.4 L1311.61 1560.28 L1322.75 1532.4 L1328.96 1532.4 L1313.3 1571.35 Z\" fill=\"#000000\" fill-rule=\"evenodd\" fill-opacity=\"1\" /><path clip-path=\"url(#clip440)\" d=\"M1362.69 1533.76 L1362.69 1539.24 Q1360.21 1537.87 1357.7 1537.2 Q1355.21 1536.5 1352.67 1536.5 Q1346.97 1536.5 1343.82 1540.13 Q1340.67 1543.73 1340.67 1550.25 Q1340.67 1556.78 1343.82 1560.4 Q1346.97 1564 1352.67 1564 Q1355.21 1564 1357.7 1563.33 Q1360.21 1562.63 1362.69 1561.26 L1362.69 1566.68 Q1360.24 1567.82 1357.6 1568.39 Q1354.99 1568.97 1352.03 1568.97 Q1343.98 1568.97 1339.24 1563.91 Q1334.49 1558.85 1334.49 1550.25 Q1334.49 1541.53 1339.27 1536.53 Q1344.07 1531.54 1352.41 1531.54 Q1355.12 1531.54 1357.7 1532.11 Q1360.27 1532.65 1362.69 1533.76 Z\" fill=\"#000000\" fill-rule=\"evenodd\" fill-opacity=\"1\" /><path clip-path=\"url(#clip440)\" d=\"M1372.88 1518.52 L1378.74 1518.52 L1378.74 1568.04 L1372.88 1568.04 L1372.88 1518.52 Z\" fill=\"#000000\" fill-rule=\"evenodd\" fill-opacity=\"1\" /><path clip-path=\"url(#clip440)\" d=\"M1421.48 1548.76 L1421.48 1551.62 L1394.55 1551.62 Q1394.94 1557.67 1398.18 1560.85 Q1401.46 1564 1407.29 1564 Q1410.66 1564 1413.81 1563.17 Q1416.99 1562.35 1420.11 1560.69 L1420.11 1566.23 Q1416.96 1567.57 1413.65 1568.27 Q1410.34 1568.97 1406.94 1568.97 Q1398.41 1568.97 1393.41 1564 Q1388.44 1559.04 1388.44 1550.57 Q1388.44 1541.82 1393.15 1536.69 Q1397.9 1531.54 1405.92 1531.54 Q1413.11 1531.54 1417.28 1536.18 Q1421.48 1540.8 1421.48 1548.76 M1415.62 1547.04 Q1415.56 1542.23 1412.92 1539.37 Q1410.31 1536.5 1405.98 1536.5 Q1401.08 1536.5 1398.12 1539.27 Q1395.19 1542.04 1394.75 1547.07 L1415.62 1547.04 Z\" fill=\"#000000\" fill-rule=\"evenodd\" fill-opacity=\"1\" /><path clip-path=\"url(#clip440)\" d=\"M1453.82 1533.45 L1453.82 1538.98 Q1451.34 1537.71 1448.66 1537.07 Q1445.99 1536.44 1443.12 1536.44 Q1438.76 1536.44 1436.57 1537.77 Q1434.4 1539.11 1434.4 1541.79 Q1434.4 1543.82 1435.96 1545 Q1437.52 1546.15 1442.23 1547.2 L1444.24 1547.64 Q1450.48 1548.98 1453.09 1551.43 Q1455.73 1553.85 1455.73 1558.21 Q1455.73 1563.17 1451.78 1566.07 Q1447.87 1568.97 1440.99 1568.97 Q1438.13 1568.97 1435.01 1568.39 Q1431.92 1567.85 1428.48 1566.74 L1428.48 1560.69 Q1431.73 1562.38 1434.88 1563.24 Q1438.03 1564.07 1441.12 1564.07 Q1445.26 1564.07 1447.48 1562.66 Q1449.71 1561.23 1449.71 1558.65 Q1449.71 1556.27 1448.09 1554.99 Q1446.5 1553.72 1441.06 1552.54 L1439.02 1552.07 Q1433.58 1550.92 1431.16 1548.56 Q1428.74 1546.18 1428.74 1542.04 Q1428.74 1537.01 1432.3 1534.27 Q1435.87 1531.54 1442.42 1531.54 Q1445.67 1531.54 1448.54 1532.01 Q1451.4 1532.49 1453.82 1533.45 Z\" fill=\"#000000\" fill-rule=\"evenodd\" fill-opacity=\"1\" /><polyline clip-path=\"url(#clip442)\" style=\"stroke:#000000; stroke-linecap:round; stroke-linejoin:round; stroke-width:2; stroke-opacity:0.1; fill:none\" points=\"\n  309.866,1416.88 2352.76,1416.88 \n  \"/>\n<polyline clip-path=\"url(#clip442)\" style=\"stroke:#000000; stroke-linecap:round; stroke-linejoin:round; stroke-width:2; stroke-opacity:0.1; fill:none\" points=\"\n  309.866,1140.28 2352.76,1140.28 \n  \"/>\n<polyline clip-path=\"url(#clip442)\" style=\"stroke:#000000; stroke-linecap:round; stroke-linejoin:round; stroke-width:2; stroke-opacity:0.1; fill:none\" points=\"\n  309.866,863.689 2352.76,863.689 \n  \"/>\n<polyline clip-path=\"url(#clip442)\" style=\"stroke:#000000; stroke-linecap:round; stroke-linejoin:round; stroke-width:2; stroke-opacity:0.1; fill:none\" points=\"\n  309.866,587.096 2352.76,587.096 \n  \"/>\n<polyline clip-path=\"url(#clip442)\" style=\"stroke:#000000; stroke-linecap:round; stroke-linejoin:round; stroke-width:2; stroke-opacity:0.1; fill:none\" points=\"\n  309.866,310.502 2352.76,310.502 \n  \"/>\n<polyline clip-path=\"url(#clip440)\" style=\"stroke:#000000; stroke-linecap:round; stroke-linejoin:round; stroke-width:4; stroke-opacity:1; fill:none\" points=\"\n  309.866,1423.18 309.866,123.472 \n  \"/>\n<polyline clip-path=\"url(#clip440)\" style=\"stroke:#000000; stroke-linecap:round; stroke-linejoin:round; stroke-width:4; stroke-opacity:1; fill:none\" points=\"\n  309.866,1416.88 328.763,1416.88 \n  \"/>\n<polyline clip-path=\"url(#clip440)\" style=\"stroke:#000000; stroke-linecap:round; stroke-linejoin:round; stroke-width:4; stroke-opacity:1; fill:none\" points=\"\n  309.866,1140.28 328.763,1140.28 \n  \"/>\n<polyline clip-path=\"url(#clip440)\" style=\"stroke:#000000; stroke-linecap:round; stroke-linejoin:round; stroke-width:4; stroke-opacity:1; fill:none\" points=\"\n  309.866,863.689 328.763,863.689 \n  \"/>\n<polyline clip-path=\"url(#clip440)\" style=\"stroke:#000000; stroke-linecap:round; stroke-linejoin:round; stroke-width:4; stroke-opacity:1; fill:none\" points=\"\n  309.866,587.096 328.763,587.096 \n  \"/>\n<polyline clip-path=\"url(#clip440)\" style=\"stroke:#000000; stroke-linecap:round; stroke-linejoin:round; stroke-width:4; stroke-opacity:1; fill:none\" points=\"\n  309.866,310.502 328.763,310.502 \n  \"/>\n<path clip-path=\"url(#clip440)\" d=\"M126.205 1402.67 Q122.593 1402.67 120.765 1406.24 Q118.959 1409.78 118.959 1416.91 Q118.959 1424.02 120.765 1427.58 Q122.593 1431.12 126.205 1431.12 Q129.839 1431.12 131.644 1427.58 Q133.473 1424.02 133.473 1416.91 Q133.473 1409.78 131.644 1406.24 Q129.839 1402.67 126.205 1402.67 M126.205 1398.97 Q132.015 1398.97 135.07 1403.58 Q138.149 1408.16 138.149 1416.91 Q138.149 1425.64 135.07 1430.24 Q132.015 1434.83 126.205 1434.83 Q120.394 1434.83 117.316 1430.24 Q114.26 1425.64 114.26 1416.91 Q114.26 1408.16 117.316 1403.58 Q120.394 1398.97 126.205 1398.97 Z\" fill=\"#000000\" fill-rule=\"evenodd\" fill-opacity=\"1\" /><path clip-path=\"url(#clip440)\" d=\"M146.366 1428.28 L151.251 1428.28 L151.251 1434.16 L146.366 1434.16 L146.366 1428.28 Z\" fill=\"#000000\" fill-rule=\"evenodd\" fill-opacity=\"1\" /><path clip-path=\"url(#clip440)\" d=\"M171.436 1402.67 Q167.825 1402.67 165.996 1406.24 Q164.19 1409.78 164.19 1416.91 Q164.19 1424.02 165.996 1427.58 Q167.825 1431.12 171.436 1431.12 Q175.07 1431.12 176.876 1427.58 Q178.704 1424.02 178.704 1416.91 Q178.704 1409.78 176.876 1406.24 Q175.07 1402.67 171.436 1402.67 M171.436 1398.97 Q177.246 1398.97 180.301 1403.58 Q183.38 1408.16 183.38 1416.91 Q183.38 1425.64 180.301 1430.24 Q177.246 1434.83 171.436 1434.83 Q165.626 1434.83 162.547 1430.24 Q159.491 1425.64 159.491 1416.91 Q159.491 1408.16 162.547 1403.58 Q165.626 1398.97 171.436 1398.97 Z\" fill=\"#000000\" fill-rule=\"evenodd\" fill-opacity=\"1\" /><path clip-path=\"url(#clip440)\" d=\"M201.598 1402.67 Q197.987 1402.67 196.158 1406.24 Q194.352 1409.78 194.352 1416.91 Q194.352 1424.02 196.158 1427.58 Q197.987 1431.12 201.598 1431.12 Q205.232 1431.12 207.037 1427.58 Q208.866 1424.02 208.866 1416.91 Q208.866 1409.78 207.037 1406.24 Q205.232 1402.67 201.598 1402.67 M201.598 1398.97 Q207.408 1398.97 210.463 1403.58 Q213.542 1408.16 213.542 1416.91 Q213.542 1425.64 210.463 1430.24 Q207.408 1434.83 201.598 1434.83 Q195.787 1434.83 192.709 1430.24 Q189.653 1425.64 189.653 1416.91 Q189.653 1408.16 192.709 1403.58 Q195.787 1398.97 201.598 1398.97 Z\" fill=\"#000000\" fill-rule=\"evenodd\" fill-opacity=\"1\" /><path clip-path=\"url(#clip440)\" d=\"M231.76 1402.67 Q228.148 1402.67 226.32 1406.24 Q224.514 1409.78 224.514 1416.91 Q224.514 1424.02 226.32 1427.58 Q228.148 1431.12 231.76 1431.12 Q235.394 1431.12 237.199 1427.58 Q239.028 1424.02 239.028 1416.91 Q239.028 1409.78 237.199 1406.24 Q235.394 1402.67 231.76 1402.67 M231.76 1398.97 Q237.57 1398.97 240.625 1403.58 Q243.704 1408.16 243.704 1416.91 Q243.704 1425.64 240.625 1430.24 Q237.57 1434.83 231.76 1434.83 Q225.949 1434.83 222.871 1430.24 Q219.815 1425.64 219.815 1416.91 Q219.815 1408.16 222.871 1403.58 Q225.949 1398.97 231.76 1398.97 Z\" fill=\"#000000\" fill-rule=\"evenodd\" fill-opacity=\"1\" /><path clip-path=\"url(#clip440)\" d=\"M261.921 1402.67 Q258.31 1402.67 256.482 1406.24 Q254.676 1409.78 254.676 1416.91 Q254.676 1424.02 256.482 1427.58 Q258.31 1431.12 261.921 1431.12 Q265.556 1431.12 267.361 1427.58 Q269.19 1424.02 269.19 1416.91 Q269.19 1409.78 267.361 1406.24 Q265.556 1402.67 261.921 1402.67 M261.921 1398.97 Q267.732 1398.97 270.787 1403.58 Q273.866 1408.16 273.866 1416.91 Q273.866 1425.64 270.787 1430.24 Q267.732 1434.83 261.921 1434.83 Q256.111 1434.83 253.033 1430.24 Q249.977 1425.64 249.977 1416.91 Q249.977 1408.16 253.033 1403.58 Q256.111 1398.97 261.921 1398.97 Z\" fill=\"#000000\" fill-rule=\"evenodd\" fill-opacity=\"1\" /><path clip-path=\"url(#clip440)\" d=\"M127.2 1126.08 Q123.589 1126.08 121.76 1129.65 Q119.955 1133.19 119.955 1140.32 Q119.955 1147.42 121.76 1150.99 Q123.589 1154.53 127.2 1154.53 Q130.834 1154.53 132.64 1150.99 Q134.468 1147.42 134.468 1140.32 Q134.468 1133.19 132.64 1129.65 Q130.834 1126.08 127.2 1126.08 M127.2 1122.38 Q133.01 1122.38 136.066 1126.98 Q139.144 1131.57 139.144 1140.32 Q139.144 1149.04 136.066 1153.65 Q133.01 1158.23 127.2 1158.23 Q121.39 1158.23 118.311 1153.65 Q115.256 1149.04 115.256 1140.32 Q115.256 1131.57 118.311 1126.98 Q121.39 1122.38 127.2 1122.38 Z\" fill=\"#000000\" fill-rule=\"evenodd\" fill-opacity=\"1\" /><path clip-path=\"url(#clip440)\" d=\"M147.362 1151.68 L152.246 1151.68 L152.246 1157.56 L147.362 1157.56 L147.362 1151.68 Z\" fill=\"#000000\" fill-rule=\"evenodd\" fill-opacity=\"1\" /><path clip-path=\"url(#clip440)\" d=\"M172.431 1126.08 Q168.82 1126.08 166.991 1129.65 Q165.186 1133.19 165.186 1140.32 Q165.186 1147.42 166.991 1150.99 Q168.82 1154.53 172.431 1154.53 Q176.065 1154.53 177.871 1150.99 Q179.7 1147.42 179.7 1140.32 Q179.7 1133.19 177.871 1129.65 Q176.065 1126.08 172.431 1126.08 M172.431 1122.38 Q178.241 1122.38 181.297 1126.98 Q184.376 1131.57 184.376 1140.32 Q184.376 1149.04 181.297 1153.65 Q178.241 1158.23 172.431 1158.23 Q166.621 1158.23 163.542 1153.65 Q160.487 1149.04 160.487 1140.32 Q160.487 1131.57 163.542 1126.98 Q166.621 1122.38 172.431 1122.38 Z\" fill=\"#000000\" fill-rule=\"evenodd\" fill-opacity=\"1\" /><path clip-path=\"url(#clip440)\" d=\"M202.593 1126.08 Q198.982 1126.08 197.153 1129.65 Q195.348 1133.19 195.348 1140.32 Q195.348 1147.42 197.153 1150.99 Q198.982 1154.53 202.593 1154.53 Q206.227 1154.53 208.033 1150.99 Q209.861 1147.42 209.861 1140.32 Q209.861 1133.19 208.033 1129.65 Q206.227 1126.08 202.593 1126.08 M202.593 1122.38 Q208.403 1122.38 211.459 1126.98 Q214.537 1131.57 214.537 1140.32 Q214.537 1149.04 211.459 1153.65 Q208.403 1158.23 202.593 1158.23 Q196.783 1158.23 193.704 1153.65 Q190.649 1149.04 190.649 1140.32 Q190.649 1131.57 193.704 1126.98 Q196.783 1122.38 202.593 1122.38 Z\" fill=\"#000000\" fill-rule=\"evenodd\" fill-opacity=\"1\" /><path clip-path=\"url(#clip440)\" d=\"M226.783 1153.63 L243.102 1153.63 L243.102 1157.56 L221.158 1157.56 L221.158 1153.63 Q223.82 1150.87 228.403 1146.24 Q233.01 1141.59 234.19 1140.25 Q236.435 1137.72 237.315 1135.99 Q238.218 1134.23 238.218 1132.54 Q238.218 1129.79 236.273 1128.05 Q234.352 1126.31 231.25 1126.31 Q229.051 1126.31 226.598 1127.08 Q224.167 1127.84 221.389 1129.39 L221.389 1124.67 Q224.213 1123.54 226.667 1122.96 Q229.121 1122.38 231.158 1122.38 Q236.528 1122.38 239.722 1125.06 Q242.917 1127.75 242.917 1132.24 Q242.917 1134.37 242.107 1136.29 Q241.32 1138.19 239.213 1140.78 Q238.634 1141.45 235.533 1144.67 Q232.431 1147.86 226.783 1153.63 Z\" fill=\"#000000\" fill-rule=\"evenodd\" fill-opacity=\"1\" /><path clip-path=\"url(#clip440)\" d=\"M252.963 1123 L271.32 1123 L271.32 1126.94 L257.246 1126.94 L257.246 1135.41 Q258.264 1135.06 259.283 1134.9 Q260.301 1134.72 261.32 1134.72 Q267.107 1134.72 270.486 1137.89 Q273.866 1141.06 273.866 1146.47 Q273.866 1152.05 270.394 1155.16 Q266.921 1158.23 260.602 1158.23 Q258.426 1158.23 256.158 1157.86 Q253.912 1157.49 251.505 1156.75 L251.505 1152.05 Q253.588 1153.19 255.81 1153.74 Q258.033 1154.3 260.509 1154.3 Q264.514 1154.3 266.852 1152.19 Q269.19 1150.09 269.19 1146.47 Q269.19 1142.86 266.852 1140.76 Q264.514 1138.65 260.509 1138.65 Q258.634 1138.65 256.759 1139.07 Q254.908 1139.48 252.963 1140.36 L252.963 1123 Z\" fill=\"#000000\" fill-rule=\"evenodd\" fill-opacity=\"1\" /><path clip-path=\"url(#clip440)\" d=\"M126.205 849.488 Q122.593 849.488 120.765 853.053 Q118.959 856.594 118.959 863.724 Q118.959 870.83 120.765 874.395 Q122.593 877.937 126.205 877.937 Q129.839 877.937 131.644 874.395 Q133.473 870.83 133.473 863.724 Q133.473 856.594 131.644 853.053 Q129.839 849.488 126.205 849.488 M126.205 845.784 Q132.015 845.784 135.07 850.391 Q138.149 854.974 138.149 863.724 Q138.149 872.451 135.07 877.057 Q132.015 881.64 126.205 881.64 Q120.394 881.64 117.316 877.057 Q114.26 872.451 114.26 863.724 Q114.26 854.974 117.316 850.391 Q120.394 845.784 126.205 845.784 Z\" fill=\"#000000\" fill-rule=\"evenodd\" fill-opacity=\"1\" /><path clip-path=\"url(#clip440)\" d=\"M146.366 875.09 L151.251 875.09 L151.251 880.969 L146.366 880.969 L146.366 875.09 Z\" fill=\"#000000\" fill-rule=\"evenodd\" fill-opacity=\"1\" /><path clip-path=\"url(#clip440)\" d=\"M171.436 849.488 Q167.825 849.488 165.996 853.053 Q164.19 856.594 164.19 863.724 Q164.19 870.83 165.996 874.395 Q167.825 877.937 171.436 877.937 Q175.07 877.937 176.876 874.395 Q178.704 870.83 178.704 863.724 Q178.704 856.594 176.876 853.053 Q175.07 849.488 171.436 849.488 M171.436 845.784 Q177.246 845.784 180.301 850.391 Q183.38 854.974 183.38 863.724 Q183.38 872.451 180.301 877.057 Q177.246 881.64 171.436 881.64 Q165.626 881.64 162.547 877.057 Q159.491 872.451 159.491 863.724 Q159.491 854.974 162.547 850.391 Q165.626 845.784 171.436 845.784 Z\" fill=\"#000000\" fill-rule=\"evenodd\" fill-opacity=\"1\" /><path clip-path=\"url(#clip440)\" d=\"M201.598 849.488 Q197.987 849.488 196.158 853.053 Q194.352 856.594 194.352 863.724 Q194.352 870.83 196.158 874.395 Q197.987 877.937 201.598 877.937 Q205.232 877.937 207.037 874.395 Q208.866 870.83 208.866 863.724 Q208.866 856.594 207.037 853.053 Q205.232 849.488 201.598 849.488 M201.598 845.784 Q207.408 845.784 210.463 850.391 Q213.542 854.974 213.542 863.724 Q213.542 872.451 210.463 877.057 Q207.408 881.64 201.598 881.64 Q195.787 881.64 192.709 877.057 Q189.653 872.451 189.653 863.724 Q189.653 854.974 192.709 850.391 Q195.787 845.784 201.598 845.784 Z\" fill=\"#000000\" fill-rule=\"evenodd\" fill-opacity=\"1\" /><path clip-path=\"url(#clip440)\" d=\"M221.806 846.409 L240.162 846.409 L240.162 850.344 L226.088 850.344 L226.088 858.816 Q227.107 858.469 228.125 858.307 Q229.144 858.122 230.162 858.122 Q235.949 858.122 239.329 861.293 Q242.709 864.465 242.709 869.881 Q242.709 875.46 239.236 878.562 Q235.764 881.64 229.445 881.64 Q227.269 881.64 225 881.27 Q222.755 880.9 220.348 880.159 L220.348 875.46 Q222.431 876.594 224.653 877.15 Q226.875 877.705 229.352 877.705 Q233.357 877.705 235.695 875.599 Q238.033 873.492 238.033 869.881 Q238.033 866.27 235.695 864.164 Q233.357 862.057 229.352 862.057 Q227.477 862.057 225.602 862.474 Q223.75 862.891 221.806 863.77 L221.806 846.409 Z\" fill=\"#000000\" fill-rule=\"evenodd\" fill-opacity=\"1\" /><path clip-path=\"url(#clip440)\" d=\"M261.921 849.488 Q258.31 849.488 256.482 853.053 Q254.676 856.594 254.676 863.724 Q254.676 870.83 256.482 874.395 Q258.31 877.937 261.921 877.937 Q265.556 877.937 267.361 874.395 Q269.19 870.83 269.19 863.724 Q269.19 856.594 267.361 853.053 Q265.556 849.488 261.921 849.488 M261.921 845.784 Q267.732 845.784 270.787 850.391 Q273.866 854.974 273.866 863.724 Q273.866 872.451 270.787 877.057 Q267.732 881.64 261.921 881.64 Q256.111 881.64 253.033 877.057 Q249.977 872.451 249.977 863.724 Q249.977 854.974 253.033 850.391 Q256.111 845.784 261.921 845.784 Z\" fill=\"#000000\" fill-rule=\"evenodd\" fill-opacity=\"1\" /><path clip-path=\"url(#clip440)\" d=\"M127.2 572.894 Q123.589 572.894 121.76 576.459 Q119.955 580.001 119.955 587.13 Q119.955 594.237 121.76 597.801 Q123.589 601.343 127.2 601.343 Q130.834 601.343 132.64 597.801 Q134.468 594.237 134.468 587.13 Q134.468 580.001 132.64 576.459 Q130.834 572.894 127.2 572.894 M127.2 569.191 Q133.01 569.191 136.066 573.797 Q139.144 578.38 139.144 587.13 Q139.144 595.857 136.066 600.464 Q133.01 605.047 127.2 605.047 Q121.39 605.047 118.311 600.464 Q115.256 595.857 115.256 587.13 Q115.256 578.38 118.311 573.797 Q121.39 569.191 127.2 569.191 Z\" fill=\"#000000\" fill-rule=\"evenodd\" fill-opacity=\"1\" /><path clip-path=\"url(#clip440)\" d=\"M147.362 598.496 L152.246 598.496 L152.246 604.376 L147.362 604.376 L147.362 598.496 Z\" fill=\"#000000\" fill-rule=\"evenodd\" fill-opacity=\"1\" /><path clip-path=\"url(#clip440)\" d=\"M172.431 572.894 Q168.82 572.894 166.991 576.459 Q165.186 580.001 165.186 587.13 Q165.186 594.237 166.991 597.801 Q168.82 601.343 172.431 601.343 Q176.065 601.343 177.871 597.801 Q179.7 594.237 179.7 587.13 Q179.7 580.001 177.871 576.459 Q176.065 572.894 172.431 572.894 M172.431 569.191 Q178.241 569.191 181.297 573.797 Q184.376 578.38 184.376 587.13 Q184.376 595.857 181.297 600.464 Q178.241 605.047 172.431 605.047 Q166.621 605.047 163.542 600.464 Q160.487 595.857 160.487 587.13 Q160.487 578.38 163.542 573.797 Q166.621 569.191 172.431 569.191 Z\" fill=\"#000000\" fill-rule=\"evenodd\" fill-opacity=\"1\" /><path clip-path=\"url(#clip440)\" d=\"M202.593 572.894 Q198.982 572.894 197.153 576.459 Q195.348 580.001 195.348 587.13 Q195.348 594.237 197.153 597.801 Q198.982 601.343 202.593 601.343 Q206.227 601.343 208.033 597.801 Q209.861 594.237 209.861 587.13 Q209.861 580.001 208.033 576.459 Q206.227 572.894 202.593 572.894 M202.593 569.191 Q208.403 569.191 211.459 573.797 Q214.537 578.38 214.537 587.13 Q214.537 595.857 211.459 600.464 Q208.403 605.047 202.593 605.047 Q196.783 605.047 193.704 600.464 Q190.649 595.857 190.649 587.13 Q190.649 578.38 193.704 573.797 Q196.783 569.191 202.593 569.191 Z\" fill=\"#000000\" fill-rule=\"evenodd\" fill-opacity=\"1\" /><path clip-path=\"url(#clip440)\" d=\"M221.574 569.816 L243.797 569.816 L243.797 571.806 L231.25 604.376 L226.366 604.376 L238.172 573.751 L221.574 573.751 L221.574 569.816 Z\" fill=\"#000000\" fill-rule=\"evenodd\" fill-opacity=\"1\" /><path clip-path=\"url(#clip440)\" d=\"M252.963 569.816 L271.32 569.816 L271.32 573.751 L257.246 573.751 L257.246 582.223 Q258.264 581.876 259.283 581.714 Q260.301 581.528 261.32 581.528 Q267.107 581.528 270.486 584.7 Q273.866 587.871 273.866 593.288 Q273.866 598.866 270.394 601.968 Q266.921 605.047 260.602 605.047 Q258.426 605.047 256.158 604.676 Q253.912 604.306 251.505 603.565 L251.505 598.866 Q253.588 600.001 255.81 600.556 Q258.033 601.112 260.509 601.112 Q264.514 601.112 266.852 599.005 Q269.19 596.899 269.19 593.288 Q269.19 589.677 266.852 587.57 Q264.514 585.464 260.509 585.464 Q258.634 585.464 256.759 585.88 Q254.908 586.297 252.963 587.177 L252.963 569.816 Z\" fill=\"#000000\" fill-rule=\"evenodd\" fill-opacity=\"1\" /><path clip-path=\"url(#clip440)\" d=\"M126.205 296.301 Q122.593 296.301 120.765 299.865 Q118.959 303.407 118.959 310.537 Q118.959 317.643 120.765 321.208 Q122.593 324.75 126.205 324.75 Q129.839 324.75 131.644 321.208 Q133.473 317.643 133.473 310.537 Q133.473 303.407 131.644 299.865 Q129.839 296.301 126.205 296.301 M126.205 292.597 Q132.015 292.597 135.07 297.203 Q138.149 301.787 138.149 310.537 Q138.149 319.263 135.07 323.87 Q132.015 328.453 126.205 328.453 Q120.394 328.453 117.316 323.87 Q114.26 319.263 114.26 310.537 Q114.26 301.787 117.316 297.203 Q120.394 292.597 126.205 292.597 Z\" fill=\"#000000\" fill-rule=\"evenodd\" fill-opacity=\"1\" /><path clip-path=\"url(#clip440)\" d=\"M146.366 321.902 L151.251 321.902 L151.251 327.782 L146.366 327.782 L146.366 321.902 Z\" fill=\"#000000\" fill-rule=\"evenodd\" fill-opacity=\"1\" /><path clip-path=\"url(#clip440)\" d=\"M171.436 296.301 Q167.825 296.301 165.996 299.865 Q164.19 303.407 164.19 310.537 Q164.19 317.643 165.996 321.208 Q167.825 324.75 171.436 324.75 Q175.07 324.75 176.876 321.208 Q178.704 317.643 178.704 310.537 Q178.704 303.407 176.876 299.865 Q175.07 296.301 171.436 296.301 M171.436 292.597 Q177.246 292.597 180.301 297.203 Q183.38 301.787 183.38 310.537 Q183.38 319.263 180.301 323.87 Q177.246 328.453 171.436 328.453 Q165.626 328.453 162.547 323.87 Q159.491 319.263 159.491 310.537 Q159.491 301.787 162.547 297.203 Q165.626 292.597 171.436 292.597 Z\" fill=\"#000000\" fill-rule=\"evenodd\" fill-opacity=\"1\" /><path clip-path=\"url(#clip440)\" d=\"M192.408 323.847 L200.047 323.847 L200.047 297.481 L191.737 299.148 L191.737 294.889 L200 293.222 L204.676 293.222 L204.676 323.847 L212.315 323.847 L212.315 327.782 L192.408 327.782 L192.408 323.847 Z\" fill=\"#000000\" fill-rule=\"evenodd\" fill-opacity=\"1\" /><path clip-path=\"url(#clip440)\" d=\"M231.76 296.301 Q228.148 296.301 226.32 299.865 Q224.514 303.407 224.514 310.537 Q224.514 317.643 226.32 321.208 Q228.148 324.75 231.76 324.75 Q235.394 324.75 237.199 321.208 Q239.028 317.643 239.028 310.537 Q239.028 303.407 237.199 299.865 Q235.394 296.301 231.76 296.301 M231.76 292.597 Q237.57 292.597 240.625 297.203 Q243.704 301.787 243.704 310.537 Q243.704 319.263 240.625 323.87 Q237.57 328.453 231.76 328.453 Q225.949 328.453 222.871 323.87 Q219.815 319.263 219.815 310.537 Q219.815 301.787 222.871 297.203 Q225.949 292.597 231.76 292.597 Z\" fill=\"#000000\" fill-rule=\"evenodd\" fill-opacity=\"1\" /><path clip-path=\"url(#clip440)\" d=\"M261.921 296.301 Q258.31 296.301 256.482 299.865 Q254.676 303.407 254.676 310.537 Q254.676 317.643 256.482 321.208 Q258.31 324.75 261.921 324.75 Q265.556 324.75 267.361 321.208 Q269.19 317.643 269.19 310.537 Q269.19 303.407 267.361 299.865 Q265.556 296.301 261.921 296.301 M261.921 292.597 Q267.732 292.597 270.787 297.203 Q273.866 301.787 273.866 310.537 Q273.866 319.263 270.787 323.87 Q267.732 328.453 261.921 328.453 Q256.111 328.453 253.033 323.87 Q249.977 319.263 249.977 310.537 Q249.977 301.787 253.033 297.203 Q256.111 292.597 261.921 292.597 Z\" fill=\"#000000\" fill-rule=\"evenodd\" fill-opacity=\"1\" /><path clip-path=\"url(#clip440)\" d=\"M18.2347 774.265 L28.3562 774.265 L28.3562 762.202 L32.9077 762.202 L32.9077 774.265 L52.2594 774.265 Q56.6199 774.265 57.8613 773.087 Q59.1026 771.878 59.1026 768.218 L59.1026 762.202 L64.0042 762.202 L64.0042 768.218 Q64.0042 774.997 61.4897 777.575 Q58.9434 780.153 52.2594 780.153 L32.9077 780.153 L32.9077 784.45 L28.3562 784.45 L28.3562 780.153 L18.2347 780.153 L18.2347 774.265 Z\" fill=\"#000000\" fill-rule=\"evenodd\" fill-opacity=\"1\" /><path clip-path=\"url(#clip440)\" d=\"M949.493 12.096 L1000.66 12.096 L1000.66 18.9825 L979.186 18.9825 L979.186 72.576 L970.963 72.576 L970.963 18.9825 L949.493 18.9825 L949.493 12.096 Z\" fill=\"#000000\" fill-rule=\"evenodd\" fill-opacity=\"1\" /><path clip-path=\"url(#clip440)\" d=\"M1032.94 48.0275 L1032.94 51.6733 L998.671 51.6733 Q999.157 59.3701 1003.29 63.421 Q1007.46 67.4314 1014.87 67.4314 Q1019.17 67.4314 1023.18 66.3781 Q1027.23 65.3249 1031.2 63.2184 L1031.2 70.267 Q1027.19 71.9684 1022.98 72.8596 Q1018.76 73.7508 1014.43 73.7508 Q1003.57 73.7508 997.213 67.4314 Q990.893 61.1119 990.893 50.3365 Q990.893 39.1965 996.888 32.6746 Q1002.92 26.1121 1013.13 26.1121 Q1022.29 26.1121 1027.59 32.0264 Q1032.94 37.9003 1032.94 48.0275 M1025.49 45.84 Q1025.41 39.7232 1022.04 36.0774 Q1018.72 32.4315 1013.21 32.4315 Q1006.98 32.4315 1003.21 35.9558 Q999.481 39.4801 998.914 45.8805 L1025.49 45.84 Z\" fill=\"#000000\" fill-rule=\"evenodd\" fill-opacity=\"1\" /><path clip-path=\"url(#clip440)\" d=\"M1080.5 35.9153 Q1083.29 30.8922 1087.18 28.5022 Q1091.07 26.1121 1096.34 26.1121 Q1103.43 26.1121 1107.28 31.0947 Q1111.12 36.0368 1111.12 45.1919 L1111.12 72.576 L1103.63 72.576 L1103.63 45.4349 Q1103.63 38.913 1101.32 35.7533 Q1099.01 32.5936 1094.27 32.5936 Q1088.48 32.5936 1085.12 36.4419 Q1081.75 40.2903 1081.75 46.9338 L1081.75 72.576 L1074.26 72.576 L1074.26 45.4349 Q1074.26 38.8725 1071.95 35.7533 Q1069.64 32.5936 1064.82 32.5936 Q1059.11 32.5936 1055.75 36.4824 Q1052.39 40.3308 1052.39 46.9338 L1052.39 72.576 L1044.89 72.576 L1044.89 27.2059 L1052.39 27.2059 L1052.39 34.2544 Q1054.94 30.082 1058.5 28.0971 Q1062.07 26.1121 1066.97 26.1121 Q1071.91 26.1121 1075.35 28.6237 Q1078.84 31.1352 1080.5 35.9153 Z\" fill=\"#000000\" fill-rule=\"evenodd\" fill-opacity=\"1\" /><path clip-path=\"url(#clip440)\" d=\"M1133.2 65.7705 L1133.2 89.8329 L1125.71 89.8329 L1125.71 27.2059 L1133.2 27.2059 L1133.2 34.0924 Q1135.55 30.0415 1139.12 28.0971 Q1142.72 26.1121 1147.7 26.1121 Q1155.97 26.1121 1161.11 32.6746 Q1166.3 39.2371 1166.3 49.9314 Q1166.3 60.6258 1161.11 67.1883 Q1155.97 73.7508 1147.7 73.7508 Q1142.72 73.7508 1139.12 71.8063 Q1135.55 69.8214 1133.2 65.7705 M1158.56 49.9314 Q1158.56 41.7081 1155.16 37.0496 Q1151.8 32.3505 1145.88 32.3505 Q1139.97 32.3505 1136.56 37.0496 Q1133.2 41.7081 1133.2 49.9314 Q1133.2 58.1548 1136.56 62.8538 Q1139.97 67.5124 1145.88 67.5124 Q1151.8 67.5124 1155.16 62.8538 Q1158.56 58.1548 1158.56 49.9314 Z\" fill=\"#000000\" fill-rule=\"evenodd\" fill-opacity=\"1\" /><path clip-path=\"url(#clip440)\" d=\"M1207.58 28.5427 L1207.58 35.5912 Q1204.42 33.9709 1201.01 33.1607 Q1197.61 32.3505 1193.96 32.3505 Q1188.42 32.3505 1185.62 34.0519 Q1182.87 35.7533 1182.87 39.156 Q1182.87 41.7486 1184.85 43.2475 Q1186.84 44.7058 1192.83 46.0426 L1195.38 46.6097 Q1203.32 48.3111 1206.64 51.4303 Q1210.01 54.509 1210.01 60.0587 Q1210.01 66.3781 1204.98 70.0644 Q1200 73.7508 1191.25 73.7508 Q1187.61 73.7508 1183.64 73.0216 Q1179.71 72.3329 1175.33 70.9151 L1175.33 63.2184 Q1179.46 65.3654 1183.47 66.4591 Q1187.48 67.5124 1191.41 67.5124 Q1196.68 67.5124 1199.51 65.73 Q1202.35 63.9071 1202.35 60.6258 Q1202.35 57.5877 1200.28 55.9673 Q1198.26 54.3469 1191.33 52.8481 L1188.74 52.2405 Q1181.81 50.7821 1178.73 47.7845 Q1175.65 44.7463 1175.65 39.4801 Q1175.65 33.0797 1180.19 29.5959 Q1184.73 26.1121 1193.07 26.1121 Q1197.21 26.1121 1200.85 26.7198 Q1204.5 27.3274 1207.58 28.5427 Z\" fill=\"#000000\" fill-rule=\"evenodd\" fill-opacity=\"1\" /><path clip-path=\"url(#clip440)\" d=\"M1278.1 34.0924 L1278.1 9.54393 L1285.56 9.54393 L1285.56 72.576 L1278.1 72.576 L1278.1 65.7705 Q1275.75 69.8214 1272.15 71.8063 Q1268.58 73.7508 1263.56 73.7508 Q1255.34 73.7508 1250.15 67.1883 Q1245.01 60.6258 1245.01 49.9314 Q1245.01 39.2371 1250.15 32.6746 Q1255.34 26.1121 1263.56 26.1121 Q1268.58 26.1121 1272.15 28.0971 Q1275.75 30.0415 1278.1 34.0924 M1252.7 49.9314 Q1252.7 58.1548 1256.07 62.8538 Q1259.47 67.5124 1265.38 67.5124 Q1271.3 67.5124 1274.7 62.8538 Q1278.1 58.1548 1278.1 49.9314 Q1278.1 41.7081 1274.7 37.0496 Q1271.3 32.3505 1265.38 32.3505 Q1259.47 32.3505 1256.07 37.0496 Q1252.7 41.7081 1252.7 49.9314 Z\" fill=\"#000000\" fill-rule=\"evenodd\" fill-opacity=\"1\" /><path clip-path=\"url(#clip440)\" d=\"M1307.96 12.096 L1307.96 34.5785 L1301.07 34.5785 L1301.07 12.096 L1307.96 12.096 Z\" fill=\"#000000\" fill-rule=\"evenodd\" fill-opacity=\"1\" /><path clip-path=\"url(#clip440)\" d=\"M1362.52 48.0275 L1362.52 51.6733 L1328.25 51.6733 Q1328.74 59.3701 1332.87 63.421 Q1337.04 67.4314 1344.46 67.4314 Q1348.75 67.4314 1352.76 66.3781 Q1356.81 65.3249 1360.78 63.2184 L1360.78 70.267 Q1356.77 71.9684 1352.56 72.8596 Q1348.34 73.7508 1344.01 73.7508 Q1333.15 73.7508 1326.79 67.4314 Q1320.47 61.1119 1320.47 50.3365 Q1320.47 39.1965 1326.47 32.6746 Q1332.51 26.1121 1342.71 26.1121 Q1351.87 26.1121 1357.18 32.0264 Q1362.52 37.9003 1362.52 48.0275 M1355.07 45.84 Q1354.99 39.7232 1351.63 36.0774 Q1348.3 32.4315 1342.8 32.4315 Q1336.56 32.4315 1332.79 35.9558 Q1329.06 39.4801 1328.5 45.8805 L1355.07 45.84 Z\" fill=\"#000000\" fill-rule=\"evenodd\" fill-opacity=\"1\" /><path clip-path=\"url(#clip440)\" d=\"M1411.01 27.2059 L1394.61 49.2833 L1411.86 72.576 L1403.07 72.576 L1389.87 54.752 L1376.66 72.576 L1367.87 72.576 L1385.49 48.8377 L1369.37 27.2059 L1378.16 27.2059 L1390.19 43.369 L1402.22 27.2059 L1411.01 27.2059 Z\" fill=\"#000000\" fill-rule=\"evenodd\" fill-opacity=\"1\" /><path clip-path=\"url(#clip440)\" d=\"M1458.65 48.0275 L1458.65 51.6733 L1424.38 51.6733 Q1424.87 59.3701 1429 63.421 Q1433.17 67.4314 1440.58 67.4314 Q1444.88 67.4314 1448.89 66.3781 Q1452.94 65.3249 1456.91 63.2184 L1456.91 70.267 Q1452.9 71.9684 1448.69 72.8596 Q1444.47 73.7508 1440.14 73.7508 Q1429.28 73.7508 1422.92 67.4314 Q1416.6 61.1119 1416.6 50.3365 Q1416.6 39.1965 1422.6 32.6746 Q1428.63 26.1121 1438.84 26.1121 Q1448 26.1121 1453.3 32.0264 Q1458.65 37.9003 1458.65 48.0275 M1451.2 45.84 Q1451.12 39.7232 1447.75 36.0774 Q1444.43 32.4315 1438.92 32.4315 Q1432.68 32.4315 1428.92 35.9558 Q1425.19 39.4801 1424.62 45.8805 L1451.2 45.84 Z\" fill=\"#000000\" fill-rule=\"evenodd\" fill-opacity=\"1\" /><path clip-path=\"url(#clip440)\" d=\"M1503.54 28.9478 L1503.54 35.9153 Q1500.38 34.1734 1497.18 33.3227 Q1494.02 32.4315 1490.77 32.4315 Q1483.52 32.4315 1479.51 37.0496 Q1475.5 41.6271 1475.5 49.9314 Q1475.5 58.2358 1479.51 62.8538 Q1483.52 67.4314 1490.77 67.4314 Q1494.02 67.4314 1497.18 66.5807 Q1500.38 65.6895 1503.54 63.9476 L1503.54 70.8341 Q1500.42 72.2924 1497.05 73.0216 Q1493.73 73.7508 1489.96 73.7508 Q1479.72 73.7508 1473.68 67.3098 Q1467.64 60.8689 1467.64 49.9314 Q1467.64 38.832 1473.72 32.472 Q1479.84 26.1121 1490.45 26.1121 Q1493.89 26.1121 1497.18 26.8413 Q1500.46 27.5299 1503.54 28.9478 Z\" fill=\"#000000\" fill-rule=\"evenodd\" fill-opacity=\"1\" /><path clip-path=\"url(#clip440)\" d=\"M1515.73 54.671 L1515.73 27.2059 L1523.18 27.2059 L1523.18 54.3874 Q1523.18 60.8284 1525.69 64.0691 Q1528.21 67.2693 1533.23 67.2693 Q1539.26 67.2693 1542.75 63.421 Q1546.27 59.5726 1546.27 52.9291 L1546.27 27.2059 L1553.73 27.2059 L1553.73 72.576 L1546.27 72.576 L1546.27 65.6084 Q1543.56 69.7404 1539.95 71.7658 Q1536.39 73.7508 1531.65 73.7508 Q1523.83 73.7508 1519.78 68.8897 Q1515.73 64.0286 1515.73 54.671 M1534.48 26.1121 L1534.48 26.1121 Z\" fill=\"#000000\" fill-rule=\"evenodd\" fill-opacity=\"1\" /><path clip-path=\"url(#clip440)\" d=\"M1576.45 14.324 L1576.45 27.2059 L1591.8 27.2059 L1591.8 32.9987 L1576.45 32.9987 L1576.45 57.6282 Q1576.45 63.1779 1577.95 64.7578 Q1579.49 66.3376 1584.15 66.3376 L1591.8 66.3376 L1591.8 72.576 L1584.15 72.576 Q1575.52 72.576 1572.24 69.3758 Q1568.96 66.1351 1568.96 57.6282 L1568.96 32.9987 L1563.49 32.9987 L1563.49 27.2059 L1568.96 27.2059 L1568.96 14.324 L1576.45 14.324 Z\" fill=\"#000000\" fill-rule=\"evenodd\" fill-opacity=\"1\" /><path clip-path=\"url(#clip440)\" d=\"M1601.61 27.2059 L1609.06 27.2059 L1609.06 72.576 L1601.61 72.576 L1601.61 27.2059 M1601.61 9.54393 L1609.06 9.54393 L1609.06 18.9825 L1601.61 18.9825 L1601.61 9.54393 Z\" fill=\"#000000\" fill-rule=\"evenodd\" fill-opacity=\"1\" /><path clip-path=\"url(#clip440)\" d=\"M1642.24 32.4315 Q1636.24 32.4315 1632.76 37.1306 Q1629.28 41.7891 1629.28 49.9314 Q1629.28 58.0738 1632.72 62.7728 Q1636.2 67.4314 1642.24 67.4314 Q1648.19 67.4314 1651.68 62.7323 Q1655.16 58.0333 1655.16 49.9314 Q1655.16 41.8701 1651.68 37.1711 Q1648.19 32.4315 1642.24 32.4315 M1642.24 26.1121 Q1651.96 26.1121 1657.51 32.4315 Q1663.06 38.7509 1663.06 49.9314 Q1663.06 61.0714 1657.51 67.4314 Q1651.96 73.7508 1642.24 73.7508 Q1632.48 73.7508 1626.93 67.4314 Q1621.42 61.0714 1621.42 49.9314 Q1621.42 38.7509 1626.93 32.4315 Q1632.48 26.1121 1642.24 26.1121 Z\" fill=\"#000000\" fill-rule=\"evenodd\" fill-opacity=\"1\" /><path clip-path=\"url(#clip440)\" d=\"M1713.13 45.1919 L1713.13 72.576 L1705.68 72.576 L1705.68 45.4349 Q1705.68 38.994 1703.16 35.7938 Q1700.65 32.5936 1695.63 32.5936 Q1689.59 32.5936 1686.11 36.4419 Q1682.63 40.2903 1682.63 46.9338 L1682.63 72.576 L1675.13 72.576 L1675.13 27.2059 L1682.63 27.2059 L1682.63 34.2544 Q1685.3 30.163 1688.9 28.1376 Q1692.55 26.1121 1697.29 26.1121 Q1705.11 26.1121 1709.12 30.9732 Q1713.13 35.7938 1713.13 45.1919 Z\" fill=\"#000000\" fill-rule=\"evenodd\" fill-opacity=\"1\" /><circle clip-path=\"url(#clip442)\" cx=\"367.683\" cy=\"1364.67\" r=\"14.4\" fill=\"#009af9\" fill-rule=\"evenodd\" fill-opacity=\"1\" stroke=\"#000000\" stroke-opacity=\"1\" stroke-width=\"3.2\"/>\n<circle clip-path=\"url(#clip442)\" cx=\"379.757\" cy=\"1352.37\" r=\"14.4\" fill=\"#009af9\" fill-rule=\"evenodd\" fill-opacity=\"1\" stroke=\"#000000\" stroke-opacity=\"1\" stroke-width=\"3.2\"/>\n<circle clip-path=\"url(#clip442)\" cx=\"367.683\" cy=\"1368.21\" r=\"14.4\" fill=\"#009af9\" fill-rule=\"evenodd\" fill-opacity=\"1\" stroke=\"#000000\" stroke-opacity=\"1\" stroke-width=\"3.2\"/>\n<circle clip-path=\"url(#clip442)\" cx=\"390.322\" cy=\"1338.24\" r=\"14.4\" fill=\"#009af9\" fill-rule=\"evenodd\" fill-opacity=\"1\" stroke=\"#000000\" stroke-opacity=\"1\" stroke-width=\"3.2\"/>\n<circle clip-path=\"url(#clip442)\" cx=\"370.702\" cy=\"1365.77\" r=\"14.4\" fill=\"#009af9\" fill-rule=\"evenodd\" fill-opacity=\"1\" stroke=\"#000000\" stroke-opacity=\"1\" stroke-width=\"3.2\"/>\n<circle clip-path=\"url(#clip442)\" cx=\"373.72\" cy=\"1360.32\" r=\"14.4\" fill=\"#009af9\" fill-rule=\"evenodd\" fill-opacity=\"1\" stroke=\"#000000\" stroke-opacity=\"1\" stroke-width=\"3.2\"/>\n<circle clip-path=\"url(#clip442)\" cx=\"394.849\" cy=\"1343.61\" r=\"14.4\" fill=\"#009af9\" fill-rule=\"evenodd\" fill-opacity=\"1\" stroke=\"#000000\" stroke-opacity=\"1\" stroke-width=\"3.2\"/>\n<circle clip-path=\"url(#clip442)\" cx=\"393.34\" cy=\"1337.36\" r=\"14.4\" fill=\"#009af9\" fill-rule=\"evenodd\" fill-opacity=\"1\" stroke=\"#000000\" stroke-opacity=\"1\" stroke-width=\"3.2\"/>\n<circle clip-path=\"url(#clip442)\" cx=\"375.229\" cy=\"1346.67\" r=\"14.4\" fill=\"#009af9\" fill-rule=\"evenodd\" fill-opacity=\"1\" stroke=\"#000000\" stroke-opacity=\"1\" stroke-width=\"3.2\"/>\n<circle clip-path=\"url(#clip442)\" cx=\"616.702\" cy=\"953.261\" r=\"14.4\" fill=\"#009af9\" fill-rule=\"evenodd\" fill-opacity=\"1\" stroke=\"#000000\" stroke-opacity=\"1\" stroke-width=\"3.2\"/>\n<circle clip-path=\"url(#clip442)\" cx=\"637.831\" cy=\"1143.97\" r=\"14.4\" fill=\"#009af9\" fill-rule=\"evenodd\" fill-opacity=\"1\" stroke=\"#000000\" stroke-opacity=\"1\" stroke-width=\"3.2\"/>\n<circle clip-path=\"url(#clip442)\" cx=\"831.009\" cy=\"783.411\" r=\"14.4\" fill=\"#009af9\" fill-rule=\"evenodd\" fill-opacity=\"1\" stroke=\"#000000\" stroke-opacity=\"1\" stroke-width=\"3.2\"/>\n<circle clip-path=\"url(#clip442)\" cx=\"506.53\" cy=\"1183.91\" r=\"14.4\" fill=\"#009af9\" fill-rule=\"evenodd\" fill-opacity=\"1\" stroke=\"#000000\" stroke-opacity=\"1\" stroke-width=\"3.2\"/>\n<circle clip-path=\"url(#clip442)\" cx=\"658.96\" cy=\"1145.74\" r=\"14.4\" fill=\"#009af9\" fill-rule=\"evenodd\" fill-opacity=\"1\" stroke=\"#000000\" stroke-opacity=\"1\" stroke-width=\"3.2\"/>\n<circle clip-path=\"url(#clip442)\" cx=\"441.634\" cy=\"1277.09\" r=\"14.4\" fill=\"#009af9\" fill-rule=\"evenodd\" fill-opacity=\"1\" stroke=\"#000000\" stroke-opacity=\"1\" stroke-width=\"3.2\"/>\n<circle clip-path=\"url(#clip442)\" cx=\"483.892\" cy=\"1233.49\" r=\"14.4\" fill=\"#009af9\" fill-rule=\"evenodd\" fill-opacity=\"1\" stroke=\"#000000\" stroke-opacity=\"1\" stroke-width=\"3.2\"/>\n<circle clip-path=\"url(#clip442)\" cx=\"677.07\" cy=\"1166.57\" r=\"14.4\" fill=\"#009af9\" fill-rule=\"evenodd\" fill-opacity=\"1\" stroke=\"#000000\" stroke-opacity=\"1\" stroke-width=\"3.2\"/>\n<circle clip-path=\"url(#clip442)\" cx=\"622.739\" cy=\"1157.64\" r=\"14.4\" fill=\"#009af9\" fill-rule=\"evenodd\" fill-opacity=\"1\" stroke=\"#000000\" stroke-opacity=\"1\" stroke-width=\"3.2\"/>\n<circle clip-path=\"url(#clip442)\" cx=\"370.702\" cy=\"1386.4\" r=\"14.4\" fill=\"#009af9\" fill-rule=\"evenodd\" fill-opacity=\"1\" stroke=\"#000000\" stroke-opacity=\"1\" stroke-width=\"3.2\"/>\n<circle clip-path=\"url(#clip442)\" cx=\"1448.27\" cy=\"746.801\" r=\"14.4\" fill=\"#009af9\" fill-rule=\"evenodd\" fill-opacity=\"1\" stroke=\"#000000\" stroke-opacity=\"1\" stroke-width=\"3.2\"/>\n<circle clip-path=\"url(#clip442)\" cx=\"2294.94\" cy=\"160.256\" r=\"14.4\" fill=\"#009af9\" fill-rule=\"evenodd\" fill-opacity=\"1\" stroke=\"#000000\" stroke-opacity=\"1\" stroke-width=\"3.2\"/>\n<circle clip-path=\"url(#clip442)\" cx=\"2134.96\" cy=\"217.002\" r=\"14.4\" fill=\"#009af9\" fill-rule=\"evenodd\" fill-opacity=\"1\" stroke=\"#000000\" stroke-opacity=\"1\" stroke-width=\"3.2\"/>\n<circle clip-path=\"url(#clip442)\" cx=\"1333.57\" cy=\"540.96\" r=\"14.4\" fill=\"#009af9\" fill-rule=\"evenodd\" fill-opacity=\"1\" stroke=\"#000000\" stroke-opacity=\"1\" stroke-width=\"3.2\"/>\n<circle clip-path=\"url(#clip442)\" cx=\"1561.46\" cy=\"644.483\" r=\"14.4\" fill=\"#009af9\" fill-rule=\"evenodd\" fill-opacity=\"1\" stroke=\"#000000\" stroke-opacity=\"1\" stroke-width=\"3.2\"/>\n<circle clip-path=\"url(#clip442)\" cx=\"998.531\" cy=\"997.682\" r=\"14.4\" fill=\"#009af9\" fill-rule=\"evenodd\" fill-opacity=\"1\" stroke=\"#000000\" stroke-opacity=\"1\" stroke-width=\"3.2\"/>\n<circle clip-path=\"url(#clip442)\" cx=\"1638.43\" cy=\"574.627\" r=\"14.4\" fill=\"#009af9\" fill-rule=\"evenodd\" fill-opacity=\"1\" stroke=\"#000000\" stroke-opacity=\"1\" stroke-width=\"3.2\"/>\n<path clip-path=\"url(#clip440)\" d=\"\nM377.962 270.476 L634.681 270.476 L634.681 166.796 L377.962 166.796  Z\n  \" fill=\"#ffffff\" fill-rule=\"evenodd\" fill-opacity=\"1\"/>\n<polyline clip-path=\"url(#clip440)\" style=\"stroke:#000000; stroke-linecap:round; stroke-linejoin:round; stroke-width:4; stroke-opacity:1; fill:none\" points=\"\n  377.962,270.476 634.681,270.476 634.681,166.796 377.962,166.796 377.962,270.476 \n  \"/>\n<circle clip-path=\"url(#clip440)\" cx=\"468.757\" cy=\"218.636\" r=\"23.04\" fill=\"#009af9\" fill-rule=\"evenodd\" fill-opacity=\"1\" stroke=\"#000000\" stroke-opacity=\"1\" stroke-width=\"5.12\"/>\n<path clip-path=\"url(#clip440)\" d=\"M573.395 238.323 Q571.589 242.953 569.876 244.365 Q568.163 245.777 565.293 245.777 L561.89 245.777 L561.89 242.212 L564.39 242.212 Q566.15 242.212 567.122 241.379 Q568.094 240.545 569.275 237.443 L570.038 235.499 L559.552 209.99 L564.066 209.99 L572.168 230.268 L580.27 209.99 L584.784 209.99 L573.395 238.323 Z\" fill=\"#000000\" fill-rule=\"evenodd\" fill-opacity=\"1\" /><path clip-path=\"url(#clip440)\" d=\"M592.075 231.981 L599.714 231.981 L599.714 205.615 L591.404 207.282 L591.404 203.022 L599.668 201.356 L604.344 201.356 L604.344 231.981 L611.983 231.981 L611.983 235.916 L592.075 235.916 L592.075 231.981 Z\" fill=\"#000000\" fill-rule=\"evenodd\" fill-opacity=\"1\" /></svg>\n"
     },
     "execution_count": 9,
     "metadata": {},
     "output_type": "execute_result"
    }
   ],
   "source": [
    "times = []\n",
    "nb_cycles = []\n",
    "\n",
    "j = 1\n",
    "list_dir = readdir(join([\"_cache\", \"data\"], Base.Filesystem.path_separator));\n",
    "\n",
    "for i in 1:1:(length(list_dir)/2)\n",
    "    try\n",
    "        kep_graph = read_kep_file(\"./_cache/data/\"*list_dir[j+1],\"./_cache/data/\"*list_dir[j]);\n",
    "        failure_rates = get_failure_rates(kep_graph, \"Constant\");\n",
    "        data = extractCycleInformation(kep_graph, 3, \"sum\");\n",
    "\n",
    "        append!(nb_cycles, length(data[\"Cycles_index\"]))\n",
    "\n",
    "        # the model\n",
    "        res = completRecourseProblem(data[\"Cycles_index\"], data[\"vertic_cycles\"], data[\"U\"], 1 .-data[\"P\"]);\n",
    "        model = res[\"model\"]\n",
    "\n",
    "        t = @elapsed optimize!(model)\n",
    "        append!(times, t)\n",
    "        j = j+2\n",
    "    catch\n",
    "        println(\"error in reading\")\n",
    "        j = j+1\n",
    "    end\n",
    "end;\n",
    "\n",
    "p1 = Plots.scatter(nb_cycles, times, title=\"Temps d'execution\")\n",
    "Plots.plot(p1)\n",
    "xlabel!(\"#cycles\")\n",
    "ylabel!(\"t\")"
   ]
  },
  {
   "attachments": {},
   "cell_type": "markdown",
   "metadata": {},
   "source": [
    "Sans surprise nous observons une évolution croissante du temps de calcule en fonction du nombre de cycles dans notre graphe. En faite ce problème est très connu pour devenir très difficile quand le nombre de cycle augmente. Pour pallier ceci de nombreuses études se portent sur les techniques de génération de colonnes."
   ]
  },
  {
   "attachments": {},
   "cell_type": "markdown",
   "metadata": {},
   "source": [
    "Cette première méthode nous donne certe un bon aperçu du problème, mais ne prend pas en compte l'aspect stochastique du problème (nous avons simplement modifié l'utilité de chaque cycle).\n",
    "La section suivant va nous permettre d'introduire la méthode des *clusters* et d'utiliser le *framework* de l'optimisation stochastique."
   ]
  },
  {
   "attachments": {},
   "cell_type": "markdown",
   "metadata": {},
   "source": [
    "## La méthode des *clusters*"
   ]
  },
  {
   "attachments": {},
   "cell_type": "markdown",
   "metadata": {},
   "source": [
    "Les différents hopitaux nous ont contactés et nous ont expliqués que ce n'était pas à nous de dicter les tests à faire entre les différents patients. Ceci relève du domaine médicale et des infrastructure présentes dans chaque hopitaux. Il est attendu de nous de regrouper les pairs donneur receveur sous la forme de groupes pertinents. Les groupes formés alors seront pris en charge par un hôpital et au sein d'un groupe de personne toutes les différentes batteries de tests vont avoir lieu et permettront de déterminer les échanges à réaliser. Pour des raisons logistiques les hopitaux souhaitent aussi ne prendre en charge que des groupes de tailles raisonables. On notera dans la suite par la constante, $U$ la taille maximale des groupes autorisés. En effet sans une telle contrainte, nous pourrions mettre tous les patients dans le même groupe, réaliser tous les tests possibles et ensuite réaliser les échanges (Impossible !).\n",
    "\n",
    "Notre objectif est alors le suivant, former des groupes (*cluster*) de personnes qui seront ensuites pris en charges par les hopitaux. Les clusters formés comme indiqués doivent être pertinents. Ils doivent permettre en moyenne de maximiser l'utilité des échanges que l'on génère.\n",
    "\n",
    "Nous pouvons modéliser tout ceci de manière plus formelle sous la forme d'un problème d'optimisation stochastique avec recours. Nous noterons tout d'abord $C_K$ l'ensemble des cycles, du graph d'échange, de longueure $K$ ou moins. L'ensemble des scénarios possibles pour les différents tests croisés sera noté $\\Omega$ et on notera $\\omega$ une réalisation de l'ensemble des tests croisés. A noter que un scénario $\\omega$ ne correpond pas à la réalisation de un test croisé, mais bien de l'ensemble des tests croisés dans le graphe d'échange.\n",
    "La test croisés pour le scénario $\\omega$ sont finalement résumés dans la variables $\\xi_{i,j}(\\omega)$, qui est une variable binaire, qui vaut $1$ ssi le test entre le sommet $i$ et le sommet $j$ est réussi. Passons à la modélisation.\n",
    "\n",
    "Nous considérerons les variables :\n",
    "\n",
    "- 1er niveau : $\\forall (i,j) \\in V\\times V\\quad x_{i,j} \\in \\{0,1\\} = 1$ ssi $i$ et $j$ sont dans le même groupe.\n",
    "- recours : $\\forall c \\in C_K \\quad y_c(\\omega) \\in \\{0,1\\}=1$ ssi on décide de choisir le cycle $c$ pour réaliser les échanges dans le scénario $\\omega$.\n",
    "\n",
    "Nous définission le *cluster problem* ($\\mathbb{CP}$) de la manière suivante :\n",
    "\n",
    "$$\n",
    "\\begin{equation}\n",
    "\t\\mathbb{CP}:= \\left\\{\\begin{aligned}\n",
    "        \\underset{x}{\\max} &\\quad \\mathbb{E}_{\\omega}\\left[\\underset{y}{\\max}\\sum_{c \\in C_K}y_c(\\omega) w_c\\right]\\\\\n",
    "         s.c &\\quad x_{i,j} = x_{j,i}\\quad \\forall (i,j) \\in V\\times V\\\\\n",
    "         &\\quad x_{i,j} + x_{j,k} -1 \\leq x_{i,k} \\quad \\forall (i,j,k) \\in V\\times V\\times V\\\\\n",
    "         &\\quad \\sum_{j \\in V} x_{i,j} \\leq U \\quad \\forall i \\in V \\\\\n",
    "         &\\quad y_c(\\omega) \\leq x_{i,j}\\xi_{i,j}(\\omega) \\quad \\forall c \\in C_k, ~\\forall (i,j) \\in c,~ \\forall \\omega \\in \\Omega \\\\\n",
    "         &\\quad \\sum_{c \\in C_K(i)} y_c(\\omega) \\leq 1 \\quad \\forall i \\in V,\\quad\\forall \\omega \\in \\Omega\\\\\n",
    "\t\\end{aligned}\\right.\n",
    "\\end{equation}\n",
    "$$\n",
    "\n",
    "Nous pouvons faire plusieurs remarques sur ce problème :\n",
    "\n",
    "- Tout d'abord, nous pouvons voir que la variable de premier recours nous donne certes la formation des clusters, mais la variables de recours correspond pour chaque scénario $\\omega$ à la variable de décision du problème déterministe vu dans les sections précédentes.\n",
    "\n",
    "- Ce problème est un problème qui est à recours relatif complet. En effet nous pouvons voir que peut importe la valeur de $x$ que l'on prend nous pourrons choisir une valeur de $y$ pour chaque scénério qui sera réalisable. Pour vérifier ceci il suffit de se placer au pire cas qui est lorsque $x$ vaut $0$ (*i.e.* on ne forme aucun cluster), dans ce cas, prendre $y=0$ permet de respecter les contraintes. Cette propriété jouera un rôle intéressant, particulièrement lors du passage au dual sur le problème de recours (cf sections suivante).\n",
    "\n",
    "- Nous pouvons aussi faire une remarque intéressante, qui est que dans notre problème les variables de *recours* sont entières. Cela constitue un problème important lors de la résolution.Par la suite nous utiliserons une relaxation linéaire de ces variables afin de pouvoir utiliser des méthodes classiques de résolution de ce genre de problème."
   ]
  },
  {
   "attachments": {},
   "cell_type": "markdown",
   "metadata": {},
   "source": [
    "### Méthode en L : Coupes de Benders\n",
    "Dans le problème présentée précédemment nous avons finalement le problème de recours $v_{\\omega}(x)$ (pour une réalisation $\\omega$ des incertitudes) qui peut se présenter sous la forme suivante :\n",
    "\n",
    "$$\n",
    "\\begin{equation}\n",
    "\tv_{\\omega}(x):= \\left\\{\\begin{aligned}\n",
    "        \\underset{y}{\\max} \\quad & \\sum_{c \\in C_{K}}y_c w_c\\\\\n",
    "         s.c \\quad & y_c \\leq x_{i,j} \\xi_{i,j}(\\omega) \\quad \\forall (i,j) \\in c ~,~\\forall c \\in C_K \\\\\n",
    "         & \\sum_{c \\in C_i} y_c \\leq 1 \\quad \\forall i \\in V \\\\\n",
    "         & y_c \\leq 1 \\quad \\forall c \\in C_K\n",
    "\t\\end{aligned}\\right.\n",
    "\\end{equation}\n",
    "$$\n",
    "\n",
    "Nous pouvons proposer un dual pour ce problème :\n",
    "\n",
    "$$\n",
    "\\begin{equation}\n",
    "\td_{\\omega}(x):= \\left\\{\\begin{aligned}\n",
    "        \\underset{y}{\\min} \\quad & \\sum_{c \\in C_{K}}\\sum_{(i,j) \\in c} \\lambda_{(i,j)}^c x_{i,j}\\xi_{i,j}(\\omega) + \\sum_{i \\in V}\\mu_i + \\sum_{c \\in C_K} \\Delta_c\\\\\n",
    "         s.c \\quad & \\sum_{i \\in c} \\mu_i + \\Delta_c + \\sum_{(i,j) \\in c} \\lambda_{(i,j)}^c\\geq w_c \\quad \\forall c \\in C_K \\\\\n",
    "\t\\end{aligned}\\right.\n",
    "\\end{equation}\n",
    "$$\n",
    "\n",
    "Nous pouvons faire une remarque intéressante ici. Le polyhèdre $P$ définit par :\n",
    "\n",
    "$$\n",
    "P := \\{\\lambda, \\mu, \\Delta \\quad |\\quad \\sum_{i \\in c} \\mu_i + \\Delta_c + \\sum_{(i,j) \\in c} \\lambda_{(i,j)}^c\\geq w_c \\quad \\forall c \\in C_K\\}\n",
    "$$\n",
    "\n",
    "Ne dépend pas de la réalisation $\\omega$ des incertitudes. Nous noterons, par la suite, $\\Lambda(P)$ les points extrèmes de ce polyhèdre. A noter que ici notre problème\n",
    "\n",
    "Par dualité forte nous avons :\n",
    "\n",
    "$$\n",
    "\\begin{equation}\n",
    "\tv_{\\omega}(x)= d_{\\omega}(x)= \\left\\{\\begin{aligned}\n",
    "        \\underset{y}{\\min} \\quad & \\sum_{c \\in C_{K}}\\sum_{(i,j) \\in c} \\lambda_{(i,j)}^c x_{i,j}\\xi_{i,j}(\\omega) + \\sum_{i \\in V}\\mu_i + \\sum_{c \\in C_K} \\Delta_c\\\\\n",
    "         s.c \\quad & \\lambda, \\mu, \\Delta ~\\in~\\Lambda(P)\\\\\n",
    "\t\\end{aligned}\\right.\n",
    "\\end{equation}\n",
    "$$\n",
    "\n",
    "Ainsi nous avons :\n",
    "\n",
    "$$\n",
    "\\begin{equation}\n",
    "\tv_{\\omega}(x):= \\left\\{\\begin{aligned}\n",
    "        \\underset{y}{\\max} \\quad & \\theta \\\\\n",
    "         s.c \\quad & \\theta \\leq \\sum_{c \\in C_{K}}\\sum_{(i,j) \\in c} \\lambda_{(i,j)}^c x_{i,j}\\xi_{i,j}(\\omega) + \\sum_{i \\in V}\\mu_i + \\sum_{c \\in C_K} \\Delta_c \\quad\\forall~\\lambda, \\mu, \\Delta ~\\in~\\Lambda(P)\\\\\n",
    "\t\\end{aligned}\\right.\n",
    "\\end{equation}\n",
    "$$\n",
    "\n",
    "Nous pouvons finalement réecrir notre problème principal, de la manière suivante :\n",
    "\n",
    "$$\n",
    "\\begin{equation}\n",
    "\t\\mathbb{CP}:= \\left\\{\\begin{aligned}\n",
    "        \\underset{x}{\\max}  &\\quad \\sum_{\\omega \\in \\Omega} p(\\omega) \\theta(\\omega) \\\\\n",
    "         s.c &\\quad \\theta(\\omega) \\leq \\sum_{c \\in C_{K}}\\sum_{(i,j) \\in c} \\lambda_{(i,j)}^c x_{i,j}\\xi_{i,j}(\\omega) + \\sum_{i \\in V}\\mu_i + \\sum_{c \\in C_K} \\Delta_c \\quad\\forall~\\lambda, \\mu, \\Delta ~\\in~\\Lambda(P)\\quad \\forall \\omega \\in \\Omega\\\\\n",
    "         &\\quad x_{i,j} = x_{j,i}\\quad \\forall (i,j) \\in V\\times V\\\\\n",
    "         &\\quad x_{i,j} + x_{j,k} -1 \\leq x_{i,k} \\quad \\forall (i,j,k) \\in V\\times V\\times V\\\\\n",
    "         &\\quad \\sum_{j \\in V} x_{i,j} \\leq U \\quad \\forall i \\in V \\\\\n",
    "\t\\end{aligned}\\right.\n",
    "\\end{equation}\n",
    "$$\n",
    "\n",
    "<ins>La méthode de Benders</ins> :\n",
    "\n",
    "La méthode en L (ou méthode de Benders) consistera à ne pas considérer l'ensemble $\\Lambda(P)$ car combinatoire, mais considérer l'ensemble $\\tilde{\\Lambda}(P) \\subset \\Lambda(P)$. Nous résolvons la régularisation suivante :\n",
    "\n",
    "$$\n",
    "\\begin{equation}\n",
    "\t\\tilde{\\mathbb{CP}}:= \\left\\{\\begin{aligned}\n",
    "        \\underset{x}{\\max} &\\quad \\sum_{\\omega \\in \\Omega} p(\\omega) \\theta(\\omega) \\\\\n",
    "         s.c &\\quad \\theta(\\omega) \\leq \\sum_{c \\in C_{K}}\\sum_{(i,j) \\in c} \\lambda_{(i,j)}^c x_{i,j}\\xi_{i,j}(\\omega) + \\sum_{i \\in V}\\mu_i + \\sum_{c \\in C_K} \\Delta_c \\quad\\forall~\\lambda, \\mu, \\Delta ~\\in~\\tilde{\\Lambda}(P)\\quad \\forall \\omega \\in \\Omega\\\\\n",
    "         &\\quad x_{i,j} = x_{j,i}\\quad \\forall (i,j) \\in V\\times V\\\\\n",
    "         &\\quad x_{i,j} + x_{j,k} -1 \\leq x_{i,k} \\quad \\forall (i,j,k) \\in V\\times V\\times V\\\\\n",
    "         &\\quad \\sum_{j \\in V} x_{i,j} \\leq U \\quad \\forall i \\in V \\\\\n",
    "\t\\end{aligned}\\right.\n",
    "\\end{equation}\n",
    "$$\n",
    "\n",
    "La résolution de ce problème nous donne une valeur de $x$ (solution de premier niveau) ainsi que de $\\theta$. Ainsi pour cette valeur de $x$ donnée ainsi que pour l'ensemble de nos scénarios $\\omega$ nous résolvons les différents problèmes $d_{\\omega}(x)$. La résolution de ces différents problèmes pour chaque scénarios nous donne de nouveaux points extrèmes $(\\lambda(\\omega), \\mu(\\omega), \\Delta(w))$ du polyhèdre $\\Lambda(P)$. \n",
    "\n",
    "La question étant : est-il judicieux d'ajouter ces points extrèmes à notre sous ensemble ? En effet, ajouter des points extrèmes fait grossir notre problème et le rend par conséquent plus lent pour la résolution. Nous donnons ici un test nous permettant de répondre à cette question\n",
    "\n",
    "Pour chaque scénario $\\omega$ nous disposons de la variable $\\theta(\\omega)$ (suite à la première résolution), ainsi nous vérifions :\n",
    "\n",
    "$$\n",
    "\\theta(\\omega) \\leq \\sum_{c \\in C_{K}}\\sum_{(i,j) \\in c} \\lambda_{(i,j)}^c(\\omega) x_{i,j}\\xi_{i,j}(\\omega) + \\sum_{i \\in V}\\mu_i(\\omega) + \\sum_{c \\in C_K} \\Delta_c(\\omega) + \\epsilon\n",
    "$$\n",
    "\n",
    "Où $\\epsilon > 0$ est une tolérance choisi arbitrairement petite. Si cette condition est vérifié, le point extrème trouvé n'est pas utile, sinon nous le rajoutons à notre ensemble (cela fait une contrainte ajoutée à notre problème initial), puis nous reprenons depuis le début.\n",
    "\n",
    "Si a une itération, pour tous les scénarios $\\omega$ tous les points extrèmes ajoutés ne sont pas judicieux à ajouter alors nous arrétons."
   ]
  },
  {
   "attachments": {},
   "cell_type": "markdown",
   "metadata": {},
   "source": [
    "Nous proposons ici la méthode `LshapeClusterMethod` qui nous permet de fournir la méthode Benders pour notre problème avec les *clusters*. Le prototype de la fonction est donné dans la cellule suivante."
   ]
  },
  {
   "cell_type": "code",
   "execution_count": 10,
   "metadata": {},
   "outputs": [
    {
     "name": "stdout",
     "output_type": "stream",
     "text": [
      "```\n",
      "LshapeClusterMethod\n",
      "```\n",
      "\n",
      "This method propose the Benders method for the clustering problem. This method uses functions available in the files :\n",
      "\n",
      "  * recourse_problem.jl\n",
      "  * master_problem.jl\n",
      "\n",
      "# Global Parameters\n",
      "\n",
      "  * `kep_graph` : the graph of the kidney exchange program\n",
      "  * `ClusterSize` : the size of the clusters\n",
      "  * `C` : the list of the cycle index\n",
      "  * `cycles` : the list of the real cycles\n",
      "  * `U` : the list of the utilities\n",
      "  * `vertic_cycles` : a Julia dictionnary. for each key the value is a list corresponding to the cycles involving the key\n",
      "  * `ksi` : the tensor of the scenarios\n",
      "  * `itmax` : the number of maximum iteration\n",
      "  * `verbose` : if true, the main steps will be printed on the standard output.\n",
      "\n",
      "# Big instances heuristic\n",
      "\n",
      "# Risk averse params\n",
      "\n",
      "  * `cvar`: if true we proceed risk averse optimization\n",
      "  * `risk_level` : float, the risk level for the risk averse optimization\n",
      "\n",
      "# Returns\n",
      "\n",
      "This method returns a dictionnary with the following keys :\n",
      "\n",
      "  * `first_level_var` : the value of x i.e. the first level solution.\n",
      "  * `objective_value` : the objective value.\n",
      "  * `nb_added_constraints` : the number of constraints we added through the iterations of the algorithm\n",
      "  * `optimal` : a boolean value : true : the problem is solved\n",
      "  * `nb_iterations` : the number of iterations the algorithm did\n",
      "  * `mp` : the master problem (ready to be optimize again)\n"
     ]
    }
   ],
   "source": [
    "print(@doc(LshapeClusterMethod))"
   ]
  },
  {
   "attachments": {},
   "cell_type": "markdown",
   "metadata": {},
   "source": [
    "### Premiers tests sur la méthode en L"
   ]
  },
  {
   "attachments": {},
   "cell_type": "markdown",
   "metadata": {},
   "source": [
    "Nous allons venir tester cette méthode sur plusieurs exemples simples (pour la rapidité des calculs). Pour tester nos méthodes nous allons comparer la solution obtenu par l'algorithme de Benders et la solution du problème déroulé *i.e.* la solution du problème où on écrit toutes les contraintes pour chaque scénarios. On écrit comme un programme linéaire le problème $\\mathbb{CP}$. Cette dernière méthode donne la solution théorique que l'on doit trouver. L'algorithme de Benders doit-il trouver cette solution là. Non pas forcément, la méthode de Benders utilise une relaxation linéaire (on considère les variables de recours comme continues et non plus binaires) lors de la résolution des problèmes de recours, de manière à en fournir un dual, qui sera ensuite ajouté à notre problème principal. Nous savons cependant que comme la méthode de Benders résoud une relaxation linéaire la solution qu'elle fournit doit-être au moins supérieur ou égale à la solution du problème déroulé.\n",
    "\n",
    "Pour les différentes résolutions, nous utiliserons les paramètres suivant :\n",
    "- $3$ comme taille maximum de cycles\n",
    "- $10$ comme taille de cluster\n",
    "- $100$ scénarios\n",
    "- les probabilités associées à chaque arc seront égales.\n"
   ]
  },
  {
   "cell_type": "code",
   "execution_count": 5,
   "metadata": {},
   "outputs": [
    {
     "data": {
      "text/html": [
       "<div><div style = \"float: left;\"><span>9×13 DataFrame</span></div><div style = \"clear: both;\"></div></div><div class = \"data-frame\" style = \"overflow-x: scroll;\"><table class = \"data-frame\" style = \"margin-bottom: 6px;\"><thead><tr class = \"header\"><th class = \"rowNumber\" style = \"font-weight: bold; text-align: right;\">Row</th><th style = \"text-align: left;\">Status</th><th style = \"text-align: left;\">nb_it</th><th style = \"text-align: left;\">nb_cons</th><th style = \"text-align: left;\">nb_cycles</th><th style = \"text-align: left;\">obj_benders</th><th style = \"text-align: left;\">obj_unroll</th><th style = \"text-align: left;\">z_sp</th><th style = \"text-align: left;\">EVPI</th><th style = \"text-align: left;\">VSS</th><th style = \"text-align: left;\">nb_p_clus</th><th style = \"text-align: left;\">nb_clus</th><th style = \"text-align: left;\">nb_pers_tr</th><th style = \"text-align: left;\">nb_cycle_tr</th></tr><tr class = \"subheader headerLastRow\"><th class = \"rowNumber\" style = \"font-weight: bold; text-align: right;\"></th><th title = \"Bool\" style = \"text-align: left;\">Bool</th><th title = \"Int64\" style = \"text-align: left;\">Int64</th><th title = \"Int64\" style = \"text-align: left;\">Int64</th><th title = \"Int64\" style = \"text-align: left;\">Int64</th><th title = \"Float64\" style = \"text-align: left;\">Float64</th><th title = \"Float64\" style = \"text-align: left;\">Float64</th><th title = \"Float64\" style = \"text-align: left;\">Float64</th><th title = \"Float64\" style = \"text-align: left;\">Float64</th><th title = \"Float64\" style = \"text-align: left;\">Float64</th><th title = \"Float64\" style = \"text-align: left;\">Float64</th><th title = \"Float64\" style = \"text-align: left;\">Float64</th><th title = \"Float64\" style = \"text-align: left;\">Float64</th><th title = \"Float64\" style = \"text-align: left;\">Float64</th></tr></thead><tbody><tr><td class = \"rowNumber\" style = \"font-weight: bold; text-align: right;\">1</td><td style = \"text-align: right;\">true</td><td style = \"text-align: right;\">2</td><td style = \"text-align: right;\">15</td><td style = \"text-align: right;\">2</td><td style = \"text-align: right;\">0.3</td><td style = \"text-align: right;\">0.3</td><td style = \"text-align: right;\">0.42</td><td style = \"text-align: right;\">-0.042</td><td style = \"text-align: right;\">0.066</td><td style = \"text-align: right;\">4.0</td><td style = \"text-align: right;\">2.0</td><td style = \"text-align: right;\">0.42</td><td style = \"text-align: right;\">0.21</td></tr><tr><td class = \"rowNumber\" style = \"font-weight: bold; text-align: right;\">2</td><td style = \"text-align: right;\">true</td><td style = \"text-align: right;\">5</td><td style = \"text-align: right;\">172</td><td style = \"text-align: right;\">10</td><td style = \"text-align: right;\">0.66</td><td style = \"text-align: right;\">0.66</td><td style = \"text-align: right;\">0.506</td><td style = \"text-align: right;\">0.028</td><td style = \"text-align: right;\">-0.06</td><td style = \"text-align: right;\">8.0</td><td style = \"text-align: right;\">4.0</td><td style = \"text-align: right;\">0.506</td><td style = \"text-align: right;\">0.253</td></tr><tr><td class = \"rowNumber\" style = \"font-weight: bold; text-align: right;\">3</td><td style = \"text-align: right;\">true</td><td style = \"text-align: right;\">2</td><td style = \"text-align: right;\">33</td><td style = \"text-align: right;\">2</td><td style = \"text-align: right;\">0.26</td><td style = \"text-align: right;\">0.26</td><td style = \"text-align: right;\">0.192</td><td style = \"text-align: right;\">0.144</td><td style = \"text-align: right;\">0.018</td><td style = \"text-align: right;\">2.0</td><td style = \"text-align: right;\">1.0</td><td style = \"text-align: right;\">0.192</td><td style = \"text-align: right;\">0.096</td></tr><tr><td class = \"rowNumber\" style = \"font-weight: bold; text-align: right;\">4</td><td style = \"text-align: right;\">false</td><td style = \"text-align: right;\">0</td><td style = \"text-align: right;\">0</td><td style = \"text-align: right;\">0</td><td style = \"text-align: right;\">-1.0</td><td style = \"text-align: right;\">-1.0</td><td style = \"text-align: right;\">-100.0</td><td style = \"text-align: right;\">-100.0</td><td style = \"text-align: right;\">-100.0</td><td style = \"text-align: right;\">-100.0</td><td style = \"text-align: right;\">-100.0</td><td style = \"text-align: right;\">-100.0</td><td style = \"text-align: right;\">-100.0</td></tr><tr><td class = \"rowNumber\" style = \"font-weight: bold; text-align: right;\">5</td><td style = \"text-align: right;\">true</td><td style = \"text-align: right;\">10</td><td style = \"text-align: right;\">290</td><td style = \"text-align: right;\">17</td><td style = \"text-align: right;\">0.22</td><td style = \"text-align: right;\">0.22</td><td style = \"text-align: right;\">0.182</td><td style = \"text-align: right;\">0.326</td><td style = \"text-align: right;\">-0.006</td><td style = \"text-align: right;\">2.0</td><td style = \"text-align: right;\">1.0</td><td style = \"text-align: right;\">0.182</td><td style = \"text-align: right;\">0.091</td></tr><tr><td class = \"rowNumber\" style = \"font-weight: bold; text-align: right;\">6</td><td style = \"text-align: right;\">true</td><td style = \"text-align: right;\">4</td><td style = \"text-align: right;\">78</td><td style = \"text-align: right;\">4</td><td style = \"text-align: right;\">0.18</td><td style = \"text-align: right;\">0.18</td><td style = \"text-align: right;\">0.17</td><td style = \"text-align: right;\">0.476</td><td style = \"text-align: right;\">-0.002</td><td style = \"text-align: right;\">2.0</td><td style = \"text-align: right;\">1.0</td><td style = \"text-align: right;\">0.17</td><td style = \"text-align: right;\">0.085</td></tr><tr><td class = \"rowNumber\" style = \"font-weight: bold; text-align: right;\">7</td><td style = \"text-align: right;\">true</td><td style = \"text-align: right;\">4</td><td style = \"text-align: right;\">104</td><td style = \"text-align: right;\">6</td><td style = \"text-align: right;\">0.44</td><td style = \"text-align: right;\">0.44</td><td style = \"text-align: right;\">0.376</td><td style = \"text-align: right;\">0.156</td><td style = \"text-align: right;\">0.004</td><td style = \"text-align: right;\">4.0</td><td style = \"text-align: right;\">2.0</td><td style = \"text-align: right;\">0.376</td><td style = \"text-align: right;\">0.188</td></tr><tr><td class = \"rowNumber\" style = \"font-weight: bold; text-align: right;\">8</td><td style = \"text-align: right;\">true</td><td style = \"text-align: right;\">14</td><td style = \"text-align: right;\">374</td><td style = \"text-align: right;\">20</td><td style = \"text-align: right;\">0.52</td><td style = \"text-align: right;\">0.52</td><td style = \"text-align: right;\">0.362</td><td style = \"text-align: right;\">0.564</td><td style = \"text-align: right;\">0.012</td><td style = \"text-align: right;\">4.0</td><td style = \"text-align: right;\">2.0</td><td style = \"text-align: right;\">0.362</td><td style = \"text-align: right;\">0.181</td></tr><tr><td class = \"rowNumber\" style = \"font-weight: bold; text-align: right;\">9</td><td style = \"text-align: right;\">true</td><td style = \"text-align: right;\">7</td><td style = \"text-align: right;\">223</td><td style = \"text-align: right;\">19</td><td style = \"text-align: right;\">0.7</td><td style = \"text-align: right;\">0.7</td><td style = \"text-align: right;\">0.746</td><td style = \"text-align: right;\">0.352</td><td style = \"text-align: right;\">0.044</td><td style = \"text-align: right;\">8.0</td><td style = \"text-align: right;\">4.0</td><td style = \"text-align: right;\">0.746</td><td style = \"text-align: right;\">0.373</td></tr></tbody></table></div>"
      ],
      "text/latex": [
       "\\begin{tabular}{r|cccccccccc}\n",
       "\t& Status & nb\\_it & nb\\_cons & nb\\_cycles & obj\\_benders & obj\\_unroll & z\\_sp & EVPI & VSS & \\\\\n",
       "\t\\hline\n",
       "\t& Bool & Int64 & Int64 & Int64 & Float64 & Float64 & Float64 & Float64 & Float64 & \\\\\n",
       "\t\\hline\n",
       "\t1 & 1 & 2 & 15 & 2 & 0.3 & 0.3 & 0.42 & -0.042 & 0.066 & $\\dots$ \\\\\n",
       "\t2 & 1 & 5 & 172 & 10 & 0.66 & 0.66 & 0.506 & 0.028 & -0.06 & $\\dots$ \\\\\n",
       "\t3 & 1 & 2 & 33 & 2 & 0.26 & 0.26 & 0.192 & 0.144 & 0.018 & $\\dots$ \\\\\n",
       "\t4 & 0 & 0 & 0 & 0 & -1.0 & -1.0 & -100.0 & -100.0 & -100.0 & $\\dots$ \\\\\n",
       "\t5 & 1 & 10 & 290 & 17 & 0.22 & 0.22 & 0.182 & 0.326 & -0.006 & $\\dots$ \\\\\n",
       "\t6 & 1 & 4 & 78 & 4 & 0.18 & 0.18 & 0.17 & 0.476 & -0.002 & $\\dots$ \\\\\n",
       "\t7 & 1 & 4 & 104 & 6 & 0.44 & 0.44 & 0.376 & 0.156 & 0.004 & $\\dots$ \\\\\n",
       "\t8 & 1 & 14 & 374 & 20 & 0.52 & 0.52 & 0.362 & 0.564 & 0.012 & $\\dots$ \\\\\n",
       "\t9 & 1 & 7 & 223 & 19 & 0.7 & 0.7 & 0.746 & 0.352 & 0.044 & $\\dots$ \\\\\n",
       "\\end{tabular}\n"
      ],
      "text/plain": [
       "\u001b[1m9×13 DataFrame\u001b[0m\n",
       "\u001b[1m Row \u001b[0m│\u001b[1m Status \u001b[0m\u001b[1m nb_it \u001b[0m\u001b[1m nb_cons \u001b[0m\u001b[1m nb_cycles \u001b[0m\u001b[1m obj_benders \u001b[0m\u001b[1m obj_unroll \u001b[0m\u001b[1m z_sp     \u001b[0m\u001b[1m E\u001b[0m ⋯\n",
       "     │\u001b[90m Bool   \u001b[0m\u001b[90m Int64 \u001b[0m\u001b[90m Int64   \u001b[0m\u001b[90m Int64     \u001b[0m\u001b[90m Float64     \u001b[0m\u001b[90m Float64    \u001b[0m\u001b[90m Float64  \u001b[0m\u001b[90m F\u001b[0m ⋯\n",
       "─────┼──────────────────────────────────────────────────────────────────────────\n",
       "   1 │   true      2       15          2         0.3         0.3      0.42     ⋯\n",
       "   2 │   true      5      172         10         0.66        0.66     0.506\n",
       "   3 │   true      2       33          2         0.26        0.26     0.192\n",
       "   4 │  false      0        0          0        -1.0        -1.0   -100.0    -\n",
       "   5 │   true     10      290         17         0.22        0.22     0.182    ⋯\n",
       "   6 │   true      4       78          4         0.18        0.18     0.17\n",
       "   7 │   true      4      104          6         0.44        0.44     0.376\n",
       "   8 │   true     14      374         20         0.52        0.52     0.362\n",
       "   9 │   true      7      223         19         0.7         0.7      0.746    ⋯\n",
       "\u001b[36m                                                               6 columns omitted\u001b[0m"
      ]
     },
     "execution_count": 5,
     "metadata": {},
     "output_type": "execute_result"
    }
   ],
   "source": [
    "df = DataFrame(\n",
    "    Status = Bool[], \n",
    "    nb_it = Int[] , \n",
    "    nb_cons = Int[], \n",
    "    nb_cycles = Int[],\n",
    "    obj_benders = Float64[], \n",
    "    obj_unroll = Float64[],\n",
    "    z_sp = Float64[],\n",
    "    EVPI = Float64[],\n",
    "    VSS = Float64[],\n",
    "    nb_p_clus = Float64[],\n",
    "    nb_clus = Float64[],\n",
    "    nb_pers_tr = Float64[],\n",
    "    nb_cycle_tr = Float64[]\n",
    ");\n",
    "\n",
    "list_dir = readdir(join([\"_cache\", \"data\"], Base.Filesystem.path_separator));\n",
    "\n",
    "for i in list_name[1:9]\n",
    "    try\n",
    "        sum_up(i, df, 2, 100, 1000, 30, 3, \"Constant\")\n",
    "    catch\n",
    "        println(\"error\")\n",
    "    end;\n",
    "end;\n",
    "df"
   ]
  },
  {
   "attachments": {},
   "cell_type": "markdown",
   "metadata": {},
   "source": [
    "TODO : faire une interprétation du tableau"
   ]
  },
  {
   "attachments": {},
   "cell_type": "markdown",
   "metadata": {},
   "source": [
    "Nous pouvons remarquer ici que l'instance `./_cache/data/MD-00001-00000004` pose un problème, cela est du au fait que cette instance ne possède aucun cycle et n'est donc en aucun cas intéressante pour la suite. \n",
    "\n",
    "Dans les autres cas, nous avons exactement les mêmes valeurs entre les deux méthodes et de plus la méthode de Benders à été utilisée, on peut en effet voir que le nombre de contraintes ajoutées et le nombre d'itérations de l'algorithme de Benders sont non nulles.\n",
    "\n",
    "On peut remarquer que les intstance `./_cache/data/MD-00001-00000005` et `./_cache/data/MD-00001-00000008` donnent beaucoup plus de mal, et générent un nombre de contraintes et d'itérations beaucoup plus important que dans le cas des autres instances. Nous pouvons regarder ces instances en particulier et noter que sans surprise nous avons un nombre de cycles dans le graphe qui est beaucoup plus important, en effet beaucoup de cycle dans un graphe va venir faire augmenter considérablement la taille de notre problème dans la méthode de Benders. \n",
    "\n",
    "Nous pouvons voir ici une problématique de notre implémentation quand le graphe sera très dense (beaucoup d'arrètes et donc beaucoup de cycles), notre problème maître va grossir et donc va être de plus en plus compliquer à résoudre."
   ]
  },
  {
   "attachments": {},
   "cell_type": "markdown",
   "metadata": {},
   "source": [
    "Nous allons maintenant réaliser des tests plus avancés. Nous allons nous concentrer sur l'instance `MD-00001-00000001`. Cette instance ne possède que très peut de cycle de taille 3. Nous allons ainsi considérer cette instance et venir augmenter le nombre de cycles. Avec cette augmentation du nombre de cycles nous allons venir suivre l'évolution du nombre d'itérations de l'algorithme de Benders et du nombre de contrainte que l'on ajoute dans l'algorithme.\n",
    "\n",
    "Que voulons nous observer avec cette expérience. Nous voulons voir si ces deux quantités ont tendances à évoluer de manière exponentielle."
   ]
  },
  {
   "cell_type": "code",
   "execution_count": 4,
   "metadata": {},
   "outputs": [
    {
     "data": {
      "image/svg+xml": "<?xml version=\"1.0\" encoding=\"utf-8\"?>\n<svg xmlns=\"http://www.w3.org/2000/svg\" xmlns:xlink=\"http://www.w3.org/1999/xlink\" width=\"600\" height=\"400\" viewBox=\"0 0 2400 1600\">\n<defs>\n  <clipPath id=\"clip100\">\n    <rect x=\"0\" y=\"0\" width=\"2400\" height=\"1600\"/>\n  </clipPath>\n</defs>\n<path clip-path=\"url(#clip100)\" d=\"\nM0 1600 L2400 1600 L2400 0 L0 0  Z\n  \" fill=\"#ffffff\" fill-rule=\"evenodd\" fill-opacity=\"1\"/>\n<defs>\n  <clipPath id=\"clip101\">\n    <rect x=\"480\" y=\"0\" width=\"1681\" height=\"1600\"/>\n  </clipPath>\n</defs>\n<path clip-path=\"url(#clip100)\" d=\"\nM170.857 686.448 L2352.76 686.448 L2352.76 123.472 L170.857 123.472  Z\n  \" fill=\"#ffffff\" fill-rule=\"evenodd\" fill-opacity=\"1\"/>\n<defs>\n  <clipPath id=\"clip102\">\n    <rect x=\"170\" y=\"123\" width=\"2183\" height=\"564\"/>\n  </clipPath>\n</defs>\n<polyline clip-path=\"url(#clip102)\" style=\"stroke:#000000; stroke-linecap:round; stroke-linejoin:round; stroke-width:2; stroke-opacity:0.1; fill:none\" points=\"\n  296.934,686.448 296.934,123.472 \n  \"/>\n<polyline clip-path=\"url(#clip102)\" style=\"stroke:#000000; stroke-linecap:round; stroke-linejoin:round; stroke-width:2; stroke-opacity:0.1; fill:none\" points=\"\n  618.558,686.448 618.558,123.472 \n  \"/>\n<polyline clip-path=\"url(#clip102)\" style=\"stroke:#000000; stroke-linecap:round; stroke-linejoin:round; stroke-width:2; stroke-opacity:0.1; fill:none\" points=\"\n  940.182,686.448 940.182,123.472 \n  \"/>\n<polyline clip-path=\"url(#clip102)\" style=\"stroke:#000000; stroke-linecap:round; stroke-linejoin:round; stroke-width:2; stroke-opacity:0.1; fill:none\" points=\"\n  1261.81,686.448 1261.81,123.472 \n  \"/>\n<polyline clip-path=\"url(#clip102)\" style=\"stroke:#000000; stroke-linecap:round; stroke-linejoin:round; stroke-width:2; stroke-opacity:0.1; fill:none\" points=\"\n  1583.43,686.448 1583.43,123.472 \n  \"/>\n<polyline clip-path=\"url(#clip102)\" style=\"stroke:#000000; stroke-linecap:round; stroke-linejoin:round; stroke-width:2; stroke-opacity:0.1; fill:none\" points=\"\n  1905.06,686.448 1905.06,123.472 \n  \"/>\n<polyline clip-path=\"url(#clip102)\" style=\"stroke:#000000; stroke-linecap:round; stroke-linejoin:round; stroke-width:2; stroke-opacity:0.1; fill:none\" points=\"\n  2226.68,686.448 2226.68,123.472 \n  \"/>\n<polyline clip-path=\"url(#clip100)\" style=\"stroke:#000000; stroke-linecap:round; stroke-linejoin:round; stroke-width:4; stroke-opacity:1; fill:none\" points=\"\n  170.857,686.448 2352.76,686.448 \n  \"/>\n<polyline clip-path=\"url(#clip100)\" style=\"stroke:#000000; stroke-linecap:round; stroke-linejoin:round; stroke-width:4; stroke-opacity:1; fill:none\" points=\"\n  296.934,686.448 296.934,667.55 \n  \"/>\n<polyline clip-path=\"url(#clip100)\" style=\"stroke:#000000; stroke-linecap:round; stroke-linejoin:round; stroke-width:4; stroke-opacity:1; fill:none\" points=\"\n  618.558,686.448 618.558,667.55 \n  \"/>\n<polyline clip-path=\"url(#clip100)\" style=\"stroke:#000000; stroke-linecap:round; stroke-linejoin:round; stroke-width:4; stroke-opacity:1; fill:none\" points=\"\n  940.182,686.448 940.182,667.55 \n  \"/>\n<polyline clip-path=\"url(#clip100)\" style=\"stroke:#000000; stroke-linecap:round; stroke-linejoin:round; stroke-width:4; stroke-opacity:1; fill:none\" points=\"\n  1261.81,686.448 1261.81,667.55 \n  \"/>\n<polyline clip-path=\"url(#clip100)\" style=\"stroke:#000000; stroke-linecap:round; stroke-linejoin:round; stroke-width:4; stroke-opacity:1; fill:none\" points=\"\n  1583.43,686.448 1583.43,667.55 \n  \"/>\n<polyline clip-path=\"url(#clip100)\" style=\"stroke:#000000; stroke-linecap:round; stroke-linejoin:round; stroke-width:4; stroke-opacity:1; fill:none\" points=\"\n  1905.06,686.448 1905.06,667.55 \n  \"/>\n<polyline clip-path=\"url(#clip100)\" style=\"stroke:#000000; stroke-linecap:round; stroke-linejoin:round; stroke-width:4; stroke-opacity:1; fill:none\" points=\"\n  2226.68,686.448 2226.68,667.55 \n  \"/>\n<path clip-path=\"url(#clip100)\" d=\"M268.67 744.913 L284.99 744.913 L284.99 748.848 L263.045 748.848 L263.045 744.913 Q265.707 742.158 270.291 737.528 Q274.897 732.876 276.078 731.533 Q278.323 729.01 279.203 727.274 Q280.105 725.515 280.105 723.825 Q280.105 721.07 278.161 719.334 Q276.24 717.598 273.138 717.598 Q270.939 717.598 268.485 718.362 Q266.055 719.126 263.277 720.677 L263.277 715.955 Q266.101 714.82 268.555 714.242 Q271.008 713.663 273.045 713.663 Q278.416 713.663 281.61 716.348 Q284.805 719.033 284.805 723.524 Q284.805 725.654 283.994 727.575 Q283.207 729.473 281.101 732.066 Q280.522 732.737 277.42 735.954 Q274.318 739.149 268.67 744.913 Z\" fill=\"#000000\" fill-rule=\"evenodd\" fill-opacity=\"1\" /><path clip-path=\"url(#clip100)\" d=\"M294.804 742.968 L299.689 742.968 L299.689 748.848 L294.804 748.848 L294.804 742.968 Z\" fill=\"#000000\" fill-rule=\"evenodd\" fill-opacity=\"1\" /><path clip-path=\"url(#clip100)\" d=\"M309.92 714.288 L328.277 714.288 L328.277 718.223 L314.203 718.223 L314.203 726.695 Q315.221 726.348 316.24 726.186 Q317.258 726.001 318.277 726.001 Q324.064 726.001 327.443 729.172 Q330.823 732.343 330.823 737.76 Q330.823 743.339 327.351 746.44 Q323.878 749.519 317.559 749.519 Q315.383 749.519 313.115 749.149 Q310.869 748.778 308.462 748.038 L308.462 743.339 Q310.545 744.473 312.767 745.028 Q314.99 745.584 317.466 745.584 Q321.471 745.584 323.809 743.478 Q326.147 741.371 326.147 737.76 Q326.147 734.149 323.809 732.042 Q321.471 729.936 317.466 729.936 Q315.591 729.936 313.716 730.353 Q311.865 730.769 309.92 731.649 L309.92 714.288 Z\" fill=\"#000000\" fill-rule=\"evenodd\" fill-opacity=\"1\" /><path clip-path=\"url(#clip100)\" d=\"M585.723 714.288 L604.079 714.288 L604.079 718.223 L590.005 718.223 L590.005 726.695 Q591.024 726.348 592.042 726.186 Q593.061 726.001 594.079 726.001 Q599.866 726.001 603.246 729.172 Q606.625 732.343 606.625 737.76 Q606.625 743.339 603.153 746.44 Q599.681 749.519 593.362 749.519 Q591.186 749.519 588.917 749.149 Q586.672 748.778 584.264 748.038 L584.264 743.339 Q586.348 744.473 588.57 745.028 Q590.792 745.584 593.269 745.584 Q597.274 745.584 599.612 743.478 Q601.95 741.371 601.95 737.76 Q601.95 734.149 599.612 732.042 Q597.274 729.936 593.269 729.936 Q591.394 729.936 589.519 730.353 Q587.667 730.769 585.723 731.649 L585.723 714.288 Z\" fill=\"#000000\" fill-rule=\"evenodd\" fill-opacity=\"1\" /><path clip-path=\"url(#clip100)\" d=\"M615.838 742.968 L620.723 742.968 L620.723 748.848 L615.838 748.848 L615.838 742.968 Z\" fill=\"#000000\" fill-rule=\"evenodd\" fill-opacity=\"1\" /><path clip-path=\"url(#clip100)\" d=\"M640.908 717.367 Q637.297 717.367 635.468 720.931 Q633.662 724.473 633.662 731.603 Q633.662 738.709 635.468 742.274 Q637.297 745.815 640.908 745.815 Q644.542 745.815 646.347 742.274 Q648.176 738.709 648.176 731.603 Q648.176 724.473 646.347 720.931 Q644.542 717.367 640.908 717.367 M640.908 713.663 Q646.718 713.663 649.773 718.269 Q652.852 722.853 652.852 731.603 Q652.852 740.329 649.773 744.936 Q646.718 749.519 640.908 749.519 Q635.098 749.519 632.019 744.936 Q628.963 740.329 628.963 731.603 Q628.963 722.853 632.019 718.269 Q635.098 713.663 640.908 713.663 Z\" fill=\"#000000\" fill-rule=\"evenodd\" fill-opacity=\"1\" /><path clip-path=\"url(#clip100)\" d=\"M906.502 714.288 L928.724 714.288 L928.724 716.279 L916.178 748.848 L911.294 748.848 L923.099 718.223 L906.502 718.223 L906.502 714.288 Z\" fill=\"#000000\" fill-rule=\"evenodd\" fill-opacity=\"1\" /><path clip-path=\"url(#clip100)\" d=\"M937.845 742.968 L942.729 742.968 L942.729 748.848 L937.845 748.848 L937.845 742.968 Z\" fill=\"#000000\" fill-rule=\"evenodd\" fill-opacity=\"1\" /><path clip-path=\"url(#clip100)\" d=\"M952.96 714.288 L971.317 714.288 L971.317 718.223 L957.243 718.223 L957.243 726.695 Q958.261 726.348 959.28 726.186 Q960.298 726.001 961.317 726.001 Q967.104 726.001 970.483 729.172 Q973.863 732.343 973.863 737.76 Q973.863 743.339 970.391 746.44 Q966.918 749.519 960.599 749.519 Q958.423 749.519 956.155 749.149 Q953.909 748.778 951.502 748.038 L951.502 743.339 Q953.585 744.473 955.807 745.028 Q958.03 745.584 960.506 745.584 Q964.511 745.584 966.849 743.478 Q969.187 741.371 969.187 737.76 Q969.187 734.149 966.849 732.042 Q964.511 729.936 960.506 729.936 Q958.631 729.936 956.756 730.353 Q954.905 730.769 952.96 731.649 L952.96 714.288 Z\" fill=\"#000000\" fill-rule=\"evenodd\" fill-opacity=\"1\" /><path clip-path=\"url(#clip100)\" d=\"M1213.88 744.913 L1221.52 744.913 L1221.52 718.547 L1213.21 720.214 L1213.21 715.955 L1221.47 714.288 L1226.15 714.288 L1226.15 744.913 L1233.79 744.913 L1233.79 748.848 L1213.88 748.848 L1213.88 744.913 Z\" fill=\"#000000\" fill-rule=\"evenodd\" fill-opacity=\"1\" /><path clip-path=\"url(#clip100)\" d=\"M1253.23 717.367 Q1249.62 717.367 1247.79 720.931 Q1245.98 724.473 1245.98 731.603 Q1245.98 738.709 1247.79 742.274 Q1249.62 745.815 1253.23 745.815 Q1256.86 745.815 1258.67 742.274 Q1260.5 738.709 1260.5 731.603 Q1260.5 724.473 1258.67 720.931 Q1256.86 717.367 1253.23 717.367 M1253.23 713.663 Q1259.04 713.663 1262.1 718.269 Q1265.17 722.853 1265.17 731.603 Q1265.17 740.329 1262.1 744.936 Q1259.04 749.519 1253.23 749.519 Q1247.42 749.519 1244.34 744.936 Q1241.29 740.329 1241.29 731.603 Q1241.29 722.853 1244.34 718.269 Q1247.42 713.663 1253.23 713.663 Z\" fill=\"#000000\" fill-rule=\"evenodd\" fill-opacity=\"1\" /><path clip-path=\"url(#clip100)\" d=\"M1273.39 742.968 L1278.28 742.968 L1278.28 748.848 L1273.39 748.848 L1273.39 742.968 Z\" fill=\"#000000\" fill-rule=\"evenodd\" fill-opacity=\"1\" /><path clip-path=\"url(#clip100)\" d=\"M1298.46 717.367 Q1294.85 717.367 1293.02 720.931 Q1291.22 724.473 1291.22 731.603 Q1291.22 738.709 1293.02 742.274 Q1294.85 745.815 1298.46 745.815 Q1302.1 745.815 1303.9 742.274 Q1305.73 738.709 1305.73 731.603 Q1305.73 724.473 1303.9 720.931 Q1302.1 717.367 1298.46 717.367 M1298.46 713.663 Q1304.27 713.663 1307.33 718.269 Q1310.41 722.853 1310.41 731.603 Q1310.41 740.329 1307.33 744.936 Q1304.27 749.519 1298.46 749.519 Q1292.65 749.519 1289.57 744.936 Q1286.52 740.329 1286.52 731.603 Q1286.52 722.853 1289.57 718.269 Q1292.65 713.663 1298.46 713.663 Z\" fill=\"#000000\" fill-rule=\"evenodd\" fill-opacity=\"1\" /><path clip-path=\"url(#clip100)\" d=\"M1536 744.913 L1543.64 744.913 L1543.64 718.547 L1535.33 720.214 L1535.33 715.955 L1543.59 714.288 L1548.27 714.288 L1548.27 744.913 L1555.91 744.913 L1555.91 748.848 L1536 748.848 L1536 744.913 Z\" fill=\"#000000\" fill-rule=\"evenodd\" fill-opacity=\"1\" /><path clip-path=\"url(#clip100)\" d=\"M1569.38 744.913 L1585.7 744.913 L1585.7 748.848 L1563.76 748.848 L1563.76 744.913 Q1566.42 742.158 1571 737.528 Q1575.61 732.876 1576.79 731.533 Q1579.03 729.01 1579.91 727.274 Q1580.82 725.515 1580.82 723.825 Q1580.82 721.07 1578.87 719.334 Q1576.95 717.598 1573.85 717.598 Q1571.65 717.598 1569.19 718.362 Q1566.76 719.126 1563.99 720.677 L1563.99 715.955 Q1566.81 714.82 1569.26 714.242 Q1571.72 713.663 1573.75 713.663 Q1579.13 713.663 1582.32 716.348 Q1585.51 719.033 1585.51 723.524 Q1585.51 725.654 1584.7 727.575 Q1583.92 729.473 1581.81 732.066 Q1581.23 732.737 1578.13 735.954 Q1575.03 739.149 1569.38 744.913 Z\" fill=\"#000000\" fill-rule=\"evenodd\" fill-opacity=\"1\" /><path clip-path=\"url(#clip100)\" d=\"M1595.51 742.968 L1600.4 742.968 L1600.4 748.848 L1595.51 748.848 L1595.51 742.968 Z\" fill=\"#000000\" fill-rule=\"evenodd\" fill-opacity=\"1\" /><path clip-path=\"url(#clip100)\" d=\"M1610.63 714.288 L1628.99 714.288 L1628.99 718.223 L1614.91 718.223 L1614.91 726.695 Q1615.93 726.348 1616.95 726.186 Q1617.97 726.001 1618.99 726.001 Q1624.77 726.001 1628.15 729.172 Q1631.53 732.343 1631.53 737.76 Q1631.53 743.339 1628.06 746.44 Q1624.59 749.519 1618.27 749.519 Q1616.09 749.519 1613.82 749.149 Q1611.58 748.778 1609.17 748.038 L1609.17 743.339 Q1611.25 744.473 1613.48 745.028 Q1615.7 745.584 1618.18 745.584 Q1622.18 745.584 1624.52 743.478 Q1626.86 741.371 1626.86 737.76 Q1626.86 734.149 1624.52 732.042 Q1622.18 729.936 1618.18 729.936 Q1616.3 729.936 1614.43 730.353 Q1612.57 730.769 1610.63 731.649 L1610.63 714.288 Z\" fill=\"#000000\" fill-rule=\"evenodd\" fill-opacity=\"1\" /><path clip-path=\"url(#clip100)\" d=\"M1857.13 744.913 L1864.77 744.913 L1864.77 718.547 L1856.46 720.214 L1856.46 715.955 L1864.72 714.288 L1869.4 714.288 L1869.4 744.913 L1877.03 744.913 L1877.03 748.848 L1857.13 748.848 L1857.13 744.913 Z\" fill=\"#000000\" fill-rule=\"evenodd\" fill-opacity=\"1\" /><path clip-path=\"url(#clip100)\" d=\"M1886.53 714.288 L1904.88 714.288 L1904.88 718.223 L1890.81 718.223 L1890.81 726.695 Q1891.83 726.348 1892.84 726.186 Q1893.86 726.001 1894.88 726.001 Q1900.67 726.001 1904.05 729.172 Q1907.43 732.343 1907.43 737.76 Q1907.43 743.339 1903.96 746.44 Q1900.48 749.519 1894.16 749.519 Q1891.99 749.519 1889.72 749.149 Q1887.47 748.778 1885.07 748.038 L1885.07 743.339 Q1887.15 744.473 1889.37 745.028 Q1891.59 745.584 1894.07 745.584 Q1898.08 745.584 1900.41 743.478 Q1902.75 741.371 1902.75 737.76 Q1902.75 734.149 1900.41 732.042 Q1898.08 729.936 1894.07 729.936 Q1892.2 729.936 1890.32 730.353 Q1888.47 730.769 1886.53 731.649 L1886.53 714.288 Z\" fill=\"#000000\" fill-rule=\"evenodd\" fill-opacity=\"1\" /><path clip-path=\"url(#clip100)\" d=\"M1916.64 742.968 L1921.52 742.968 L1921.52 748.848 L1916.64 748.848 L1916.64 742.968 Z\" fill=\"#000000\" fill-rule=\"evenodd\" fill-opacity=\"1\" /><path clip-path=\"url(#clip100)\" d=\"M1941.71 717.367 Q1938.1 717.367 1936.27 720.931 Q1934.46 724.473 1934.46 731.603 Q1934.46 738.709 1936.27 742.274 Q1938.1 745.815 1941.71 745.815 Q1945.34 745.815 1947.15 742.274 Q1948.98 738.709 1948.98 731.603 Q1948.98 724.473 1947.15 720.931 Q1945.34 717.367 1941.71 717.367 M1941.71 713.663 Q1947.52 713.663 1950.58 718.269 Q1953.65 722.853 1953.65 731.603 Q1953.65 740.329 1950.58 744.936 Q1947.52 749.519 1941.71 749.519 Q1935.9 749.519 1932.82 744.936 Q1929.77 740.329 1929.77 731.603 Q1929.77 722.853 1932.82 718.269 Q1935.9 713.663 1941.71 713.663 Z\" fill=\"#000000\" fill-rule=\"evenodd\" fill-opacity=\"1\" /><path clip-path=\"url(#clip100)\" d=\"M2179.25 744.913 L2186.89 744.913 L2186.89 718.547 L2178.58 720.214 L2178.58 715.955 L2186.84 714.288 L2191.52 714.288 L2191.52 744.913 L2199.16 744.913 L2199.16 748.848 L2179.25 748.848 L2179.25 744.913 Z\" fill=\"#000000\" fill-rule=\"evenodd\" fill-opacity=\"1\" /><path clip-path=\"url(#clip100)\" d=\"M2207.42 714.288 L2229.64 714.288 L2229.64 716.279 L2217.1 748.848 L2212.21 748.848 L2224.02 718.223 L2207.42 718.223 L2207.42 714.288 Z\" fill=\"#000000\" fill-rule=\"evenodd\" fill-opacity=\"1\" /><path clip-path=\"url(#clip100)\" d=\"M2238.76 742.968 L2243.65 742.968 L2243.65 748.848 L2238.76 748.848 L2238.76 742.968 Z\" fill=\"#000000\" fill-rule=\"evenodd\" fill-opacity=\"1\" /><path clip-path=\"url(#clip100)\" d=\"M2253.88 714.288 L2272.23 714.288 L2272.23 718.223 L2258.16 718.223 L2258.16 726.695 Q2259.18 726.348 2260.2 726.186 Q2261.22 726.001 2262.23 726.001 Q2268.02 726.001 2271.4 729.172 Q2274.78 732.343 2274.78 737.76 Q2274.78 743.339 2271.31 746.44 Q2267.84 749.519 2261.52 749.519 Q2259.34 749.519 2257.07 749.149 Q2254.83 748.778 2252.42 748.038 L2252.42 743.339 Q2254.5 744.473 2256.73 745.028 Q2258.95 745.584 2261.42 745.584 Q2265.43 745.584 2267.77 743.478 Q2270.1 741.371 2270.1 737.76 Q2270.1 734.149 2267.77 732.042 Q2265.43 729.936 2261.42 729.936 Q2259.55 729.936 2257.67 730.353 Q2255.82 730.769 2253.88 731.649 L2253.88 714.288 Z\" fill=\"#000000\" fill-rule=\"evenodd\" fill-opacity=\"1\" /><polyline clip-path=\"url(#clip102)\" style=\"stroke:#000000; stroke-linecap:round; stroke-linejoin:round; stroke-width:2; stroke-opacity:0.1; fill:none\" points=\"\n  170.857,670.515 2352.76,670.515 \n  \"/>\n<polyline clip-path=\"url(#clip102)\" style=\"stroke:#000000; stroke-linecap:round; stroke-linejoin:round; stroke-width:2; stroke-opacity:0.1; fill:none\" points=\"\n  170.857,552.49 2352.76,552.49 \n  \"/>\n<polyline clip-path=\"url(#clip102)\" style=\"stroke:#000000; stroke-linecap:round; stroke-linejoin:round; stroke-width:2; stroke-opacity:0.1; fill:none\" points=\"\n  170.857,434.466 2352.76,434.466 \n  \"/>\n<polyline clip-path=\"url(#clip102)\" style=\"stroke:#000000; stroke-linecap:round; stroke-linejoin:round; stroke-width:2; stroke-opacity:0.1; fill:none\" points=\"\n  170.857,316.442 2352.76,316.442 \n  \"/>\n<polyline clip-path=\"url(#clip102)\" style=\"stroke:#000000; stroke-linecap:round; stroke-linejoin:round; stroke-width:2; stroke-opacity:0.1; fill:none\" points=\"\n  170.857,198.418 2352.76,198.418 \n  \"/>\n<polyline clip-path=\"url(#clip100)\" style=\"stroke:#000000; stroke-linecap:round; stroke-linejoin:round; stroke-width:4; stroke-opacity:1; fill:none\" points=\"\n  170.857,686.448 170.857,123.472 \n  \"/>\n<polyline clip-path=\"url(#clip100)\" style=\"stroke:#000000; stroke-linecap:round; stroke-linejoin:round; stroke-width:4; stroke-opacity:1; fill:none\" points=\"\n  170.857,670.515 189.755,670.515 \n  \"/>\n<polyline clip-path=\"url(#clip100)\" style=\"stroke:#000000; stroke-linecap:round; stroke-linejoin:round; stroke-width:4; stroke-opacity:1; fill:none\" points=\"\n  170.857,552.49 189.755,552.49 \n  \"/>\n<polyline clip-path=\"url(#clip100)\" style=\"stroke:#000000; stroke-linecap:round; stroke-linejoin:round; stroke-width:4; stroke-opacity:1; fill:none\" points=\"\n  170.857,434.466 189.755,434.466 \n  \"/>\n<polyline clip-path=\"url(#clip100)\" style=\"stroke:#000000; stroke-linecap:round; stroke-linejoin:round; stroke-width:4; stroke-opacity:1; fill:none\" points=\"\n  170.857,316.442 189.755,316.442 \n  \"/>\n<polyline clip-path=\"url(#clip100)\" style=\"stroke:#000000; stroke-linecap:round; stroke-linejoin:round; stroke-width:4; stroke-opacity:1; fill:none\" points=\"\n  170.857,198.418 189.755,198.418 \n  \"/>\n<path clip-path=\"url(#clip100)\" d=\"M118.538 683.859 L134.857 683.859 L134.857 687.795 L112.913 687.795 L112.913 683.859 Q115.575 681.105 120.158 676.475 Q124.765 671.822 125.945 670.48 Q128.191 667.957 129.07 666.221 Q129.973 664.461 129.973 662.772 Q129.973 660.017 128.029 658.281 Q126.107 656.545 123.006 656.545 Q120.807 656.545 118.353 657.309 Q115.922 658.073 113.145 659.623 L113.145 654.901 Q115.969 653.767 118.422 653.188 Q120.876 652.61 122.913 652.61 Q128.283 652.61 131.478 655.295 Q134.672 657.98 134.672 662.471 Q134.672 664.6 133.862 666.522 Q133.075 668.42 130.969 671.012 Q130.39 671.684 127.288 674.901 Q124.186 678.096 118.538 683.859 Z\" fill=\"#000000\" fill-rule=\"evenodd\" fill-opacity=\"1\" /><path clip-path=\"url(#clip100)\" d=\"M125.274 539.284 L113.469 557.733 L125.274 557.733 L125.274 539.284 M124.047 535.21 L129.927 535.21 L129.927 557.733 L134.857 557.733 L134.857 561.622 L129.927 561.622 L129.927 569.77 L125.274 569.77 L125.274 561.622 L109.672 561.622 L109.672 557.108 L124.047 535.21 Z\" fill=\"#000000\" fill-rule=\"evenodd\" fill-opacity=\"1\" /><path clip-path=\"url(#clip100)\" d=\"M123.33 432.603 Q120.182 432.603 118.33 434.755 Q116.501 436.908 116.501 440.658 Q116.501 444.385 118.33 446.561 Q120.182 448.714 123.33 448.714 Q126.478 448.714 128.307 446.561 Q130.158 444.385 130.158 440.658 Q130.158 436.908 128.307 434.755 Q126.478 432.603 123.33 432.603 M132.612 417.95 L132.612 422.209 Q130.853 421.376 129.047 420.936 Q127.265 420.496 125.506 420.496 Q120.876 420.496 118.422 423.621 Q115.992 426.746 115.645 433.066 Q117.01 431.052 119.07 429.987 Q121.131 428.899 123.607 428.899 Q128.816 428.899 131.825 432.07 Q134.857 435.218 134.857 440.658 Q134.857 445.982 131.709 449.2 Q128.561 452.417 123.33 452.417 Q117.334 452.417 114.163 447.834 Q110.992 443.228 110.992 434.501 Q110.992 426.306 114.881 421.445 Q118.77 416.561 125.32 416.561 Q127.08 416.561 128.862 416.908 Q130.668 417.256 132.612 417.95 Z\" fill=\"#000000\" fill-rule=\"evenodd\" fill-opacity=\"1\" /><path clip-path=\"url(#clip100)\" d=\"M123.006 317.31 Q119.672 317.31 117.751 319.092 Q115.853 320.875 115.853 324 Q115.853 327.125 117.751 328.907 Q119.672 330.689 123.006 330.689 Q126.339 330.689 128.26 328.907 Q130.182 327.101 130.182 324 Q130.182 320.875 128.26 319.092 Q126.362 317.31 123.006 317.31 M118.33 315.319 Q115.32 314.578 113.631 312.518 Q111.964 310.458 111.964 307.495 Q111.964 303.352 114.904 300.944 Q117.867 298.537 123.006 298.537 Q128.168 298.537 131.107 300.944 Q134.047 303.352 134.047 307.495 Q134.047 310.458 132.357 312.518 Q130.691 314.578 127.705 315.319 Q131.084 316.106 132.959 318.398 Q134.857 320.689 134.857 324 Q134.857 329.023 131.779 331.708 Q128.723 334.393 123.006 334.393 Q117.288 334.393 114.209 331.708 Q111.154 329.023 111.154 324 Q111.154 320.689 113.052 318.398 Q114.95 316.106 118.33 315.319 M116.617 307.935 Q116.617 310.62 118.283 312.125 Q119.973 313.629 123.006 313.629 Q126.015 313.629 127.705 312.125 Q129.418 310.62 129.418 307.935 Q129.418 305.25 127.705 303.745 Q126.015 302.24 123.006 302.24 Q119.973 302.24 118.283 303.745 Q116.617 305.25 116.617 307.935 Z\" fill=\"#000000\" fill-rule=\"evenodd\" fill-opacity=\"1\" /><path clip-path=\"url(#clip100)\" d=\"M83.5614 211.762 L91.2002 211.762 L91.2002 185.397 L82.8901 187.063 L82.8901 182.804 L91.1539 181.138 L95.8298 181.138 L95.8298 211.762 L103.469 211.762 L103.469 215.698 L83.5614 215.698 L83.5614 211.762 Z\" fill=\"#000000\" fill-rule=\"evenodd\" fill-opacity=\"1\" /><path clip-path=\"url(#clip100)\" d=\"M122.913 184.216 Q119.302 184.216 117.473 187.781 Q115.668 191.323 115.668 198.452 Q115.668 205.559 117.473 209.123 Q119.302 212.665 122.913 212.665 Q126.547 212.665 128.353 209.123 Q130.182 205.559 130.182 198.452 Q130.182 191.323 128.353 187.781 Q126.547 184.216 122.913 184.216 M122.913 180.513 Q128.723 180.513 131.779 185.119 Q134.857 189.702 134.857 198.452 Q134.857 207.179 131.779 211.786 Q128.723 216.369 122.913 216.369 Q117.103 216.369 114.024 211.786 Q110.969 207.179 110.969 198.452 Q110.969 189.702 114.024 185.119 Q117.103 180.513 122.913 180.513 Z\" fill=\"#000000\" fill-rule=\"evenodd\" fill-opacity=\"1\" /><path clip-path=\"url(#clip100)\" d=\"M855.319 12.096 L866.337 12.096 L893.154 62.6918 L893.154 12.096 L901.094 12.096 L901.094 72.576 L890.075 72.576 L863.258 21.9802 L863.258 72.576 L855.319 72.576 L855.319 12.096 Z\" fill=\"#000000\" fill-rule=\"evenodd\" fill-opacity=\"1\" /><path clip-path=\"url(#clip100)\" d=\"M934.635 32.4315 Q928.64 32.4315 925.156 37.1306 Q921.672 41.7891 921.672 49.9314 Q921.672 58.0738 925.116 62.7728 Q928.6 67.4314 934.635 67.4314 Q940.59 67.4314 944.074 62.7323 Q947.558 58.0333 947.558 49.9314 Q947.558 41.8701 944.074 37.1711 Q940.59 32.4315 934.635 32.4315 M934.635 26.1121 Q944.358 26.1121 949.907 32.4315 Q955.457 38.7509 955.457 49.9314 Q955.457 61.0714 949.907 67.4314 Q944.358 73.7508 934.635 73.7508 Q924.873 73.7508 919.323 67.4314 Q913.814 61.0714 913.814 49.9314 Q913.814 38.7509 919.323 32.4315 Q924.873 26.1121 934.635 26.1121 Z\" fill=\"#000000\" fill-rule=\"evenodd\" fill-opacity=\"1\" /><path clip-path=\"url(#clip100)\" d=\"M1003.14 35.9153 Q1005.93 30.8922 1009.82 28.5022 Q1013.71 26.1121 1018.98 26.1121 Q1026.06 26.1121 1029.91 31.0947 Q1033.76 36.0368 1033.76 45.1919 L1033.76 72.576 L1026.27 72.576 L1026.27 45.4349 Q1026.27 38.913 1023.96 35.7533 Q1021.65 32.5936 1016.91 32.5936 Q1011.12 32.5936 1007.75 36.4419 Q1004.39 40.2903 1004.39 46.9338 L1004.39 72.576 L996.898 72.576 L996.898 45.4349 Q996.898 38.8725 994.589 35.7533 Q992.28 32.5936 987.459 32.5936 Q981.747 32.5936 978.385 36.4824 Q975.023 40.3308 975.023 46.9338 L975.023 72.576 L967.529 72.576 L967.529 27.2059 L975.023 27.2059 L975.023 34.2544 Q977.575 30.082 981.14 28.0971 Q984.705 26.1121 989.606 26.1121 Q994.548 26.1121 997.992 28.6237 Q1001.48 31.1352 1003.14 35.9153 Z\" fill=\"#000000\" fill-rule=\"evenodd\" fill-opacity=\"1\" /><path clip-path=\"url(#clip100)\" d=\"M1081.2 49.9314 Q1081.2 41.7081 1077.79 37.0496 Q1074.43 32.3505 1068.52 32.3505 Q1062.6 32.3505 1059.2 37.0496 Q1055.84 41.7081 1055.84 49.9314 Q1055.84 58.1548 1059.2 62.8538 Q1062.6 67.5124 1068.52 67.5124 Q1074.43 67.5124 1077.79 62.8538 Q1081.2 58.1548 1081.2 49.9314 M1055.84 34.0924 Q1058.19 30.0415 1061.75 28.0971 Q1065.36 26.1121 1070.34 26.1121 Q1078.6 26.1121 1083.75 32.6746 Q1088.93 39.2371 1088.93 49.9314 Q1088.93 60.6258 1083.75 67.1883 Q1078.6 73.7508 1070.34 73.7508 Q1065.36 73.7508 1061.75 71.8063 Q1058.19 69.8214 1055.84 65.7705 L1055.84 72.576 L1048.34 72.576 L1048.34 9.54393 L1055.84 9.54393 L1055.84 34.0924 Z\" fill=\"#000000\" fill-rule=\"evenodd\" fill-opacity=\"1\" /><path clip-path=\"url(#clip100)\" d=\"M1127.58 34.1734 Q1126.32 33.4443 1124.83 33.1202 Q1123.37 32.7556 1121.58 32.7556 Q1115.27 32.7556 1111.86 36.8875 Q1108.5 40.9789 1108.5 48.6757 L1108.5 72.576 L1101.01 72.576 L1101.01 27.2059 L1108.5 27.2059 L1108.5 34.2544 Q1110.85 30.1225 1114.62 28.1376 Q1118.38 26.1121 1123.77 26.1121 Q1124.54 26.1121 1125.47 26.2337 Q1126.41 26.3147 1127.54 26.5172 L1127.58 34.1734 Z\" fill=\"#000000\" fill-rule=\"evenodd\" fill-opacity=\"1\" /><path clip-path=\"url(#clip100)\" d=\"M1172.38 48.0275 L1172.38 51.6733 L1138.11 51.6733 Q1138.6 59.3701 1142.73 63.421 Q1146.9 67.4314 1154.32 67.4314 Q1158.61 67.4314 1162.62 66.3781 Q1166.67 65.3249 1170.64 63.2184 L1170.64 70.267 Q1166.63 71.9684 1162.42 72.8596 Q1158.2 73.7508 1153.87 73.7508 Q1143.01 73.7508 1136.65 67.4314 Q1130.33 61.1119 1130.33 50.3365 Q1130.33 39.1965 1136.33 32.6746 Q1142.37 26.1121 1152.57 26.1121 Q1161.73 26.1121 1167.04 32.0264 Q1172.38 37.9003 1172.38 48.0275 M1164.93 45.84 Q1164.85 39.7232 1161.49 36.0774 Q1158.16 32.4315 1152.66 32.4315 Q1146.42 32.4315 1142.65 35.9558 Q1138.92 39.4801 1138.36 45.8805 L1164.93 45.84 Z\" fill=\"#000000\" fill-rule=\"evenodd\" fill-opacity=\"1\" /><path clip-path=\"url(#clip100)\" d=\"M1240.84 34.0924 L1240.84 9.54393 L1248.3 9.54393 L1248.3 72.576 L1240.84 72.576 L1240.84 65.7705 Q1238.49 69.8214 1234.89 71.8063 Q1231.32 73.7508 1226.3 73.7508 Q1218.08 73.7508 1212.89 67.1883 Q1207.75 60.6258 1207.75 49.9314 Q1207.75 39.2371 1212.89 32.6746 Q1218.08 26.1121 1226.3 26.1121 Q1231.32 26.1121 1234.89 28.0971 Q1238.49 30.0415 1240.84 34.0924 M1215.44 49.9314 Q1215.44 58.1548 1218.81 62.8538 Q1222.21 67.5124 1228.12 67.5124 Q1234.04 67.5124 1237.44 62.8538 Q1240.84 58.1548 1240.84 49.9314 Q1240.84 41.7081 1237.44 37.0496 Q1234.04 32.3505 1228.12 32.3505 Q1222.21 32.3505 1218.81 37.0496 Q1215.44 41.7081 1215.44 49.9314 Z\" fill=\"#000000\" fill-rule=\"evenodd\" fill-opacity=\"1\" /><path clip-path=\"url(#clip100)\" d=\"M1270.7 12.096 L1270.7 34.5785 L1263.81 34.5785 L1263.81 12.096 L1270.7 12.096 Z\" fill=\"#000000\" fill-rule=\"evenodd\" fill-opacity=\"1\" /><path clip-path=\"url(#clip100)\" d=\"M1286.46 27.2059 L1293.91 27.2059 L1293.91 72.576 L1286.46 72.576 L1286.46 27.2059 M1286.46 9.54393 L1293.91 9.54393 L1293.91 18.9825 L1286.46 18.9825 L1286.46 9.54393 Z\" fill=\"#000000\" fill-rule=\"evenodd\" fill-opacity=\"1\" /><path clip-path=\"url(#clip100)\" d=\"M1316.88 14.324 L1316.88 27.2059 L1332.23 27.2059 L1332.23 32.9987 L1316.88 32.9987 L1316.88 57.6282 Q1316.88 63.1779 1318.38 64.7578 Q1319.92 66.3376 1324.58 66.3376 L1332.23 66.3376 L1332.23 72.576 L1324.58 72.576 Q1315.95 72.576 1312.67 69.3758 Q1309.38 66.1351 1309.38 57.6282 L1309.38 32.9987 L1303.92 32.9987 L1303.92 27.2059 L1309.38 27.2059 L1309.38 14.324 L1316.88 14.324 Z\" fill=\"#000000\" fill-rule=\"evenodd\" fill-opacity=\"1\" /><path clip-path=\"url(#clip100)\" d=\"M1380.84 48.0275 L1380.84 51.6733 L1346.57 51.6733 Q1347.06 59.3701 1351.19 63.421 Q1355.36 67.4314 1362.78 67.4314 Q1367.07 67.4314 1371.08 66.3781 Q1375.13 65.3249 1379.1 63.2184 L1379.1 70.267 Q1375.09 71.9684 1370.88 72.8596 Q1366.66 73.7508 1362.33 73.7508 Q1351.47 73.7508 1345.11 67.4314 Q1338.79 61.1119 1338.79 50.3365 Q1338.79 39.1965 1344.79 32.6746 Q1350.83 26.1121 1361.03 26.1121 Q1370.19 26.1121 1375.5 32.0264 Q1380.84 37.9003 1380.84 48.0275 M1373.39 45.84 Q1373.31 39.7232 1369.95 36.0774 Q1366.62 32.4315 1361.11 32.4315 Q1354.88 32.4315 1351.11 35.9558 Q1347.38 39.4801 1346.81 45.8805 L1373.39 45.84 M1366.22 6.22219 L1374.28 6.22219 L1361.07 21.4536 L1354.88 21.4536 L1366.22 6.22219 Z\" fill=\"#000000\" fill-rule=\"evenodd\" fill-opacity=\"1\" /><path clip-path=\"url(#clip100)\" d=\"M1419.37 34.1734 Q1418.11 33.4443 1416.61 33.1202 Q1415.15 32.7556 1413.37 32.7556 Q1407.05 32.7556 1403.65 36.8875 Q1400.29 40.9789 1400.29 48.6757 L1400.29 72.576 L1392.79 72.576 L1392.79 27.2059 L1400.29 27.2059 L1400.29 34.2544 Q1402.64 30.1225 1406.4 28.1376 Q1410.17 26.1121 1415.56 26.1121 Q1416.33 26.1121 1417.26 26.2337 Q1418.19 26.3147 1419.33 26.5172 L1419.37 34.1734 Z\" fill=\"#000000\" fill-rule=\"evenodd\" fill-opacity=\"1\" /><path clip-path=\"url(#clip100)\" d=\"M1447.8 49.7694 Q1438.77 49.7694 1435.29 51.8354 Q1431.8 53.9013 1431.8 58.8839 Q1431.8 62.8538 1434.4 65.2034 Q1437.03 67.5124 1441.53 67.5124 Q1447.72 67.5124 1451.45 63.1374 Q1455.22 58.7219 1455.22 51.4303 L1455.22 49.7694 L1447.8 49.7694 M1462.67 46.6907 L1462.67 72.576 L1455.22 72.576 L1455.22 65.6895 Q1452.67 69.8214 1448.86 71.8063 Q1445.05 73.7508 1439.54 73.7508 Q1432.57 73.7508 1428.44 69.8619 Q1424.35 65.9325 1424.35 59.3701 Q1424.35 51.7138 1429.45 47.825 Q1434.6 43.9361 1444.77 43.9361 L1455.22 43.9361 L1455.22 43.2069 Q1455.22 38.0623 1451.81 35.2672 Q1448.45 32.4315 1442.34 32.4315 Q1438.45 32.4315 1434.76 33.3632 Q1431.07 34.295 1427.67 36.1584 L1427.67 29.2718 Q1431.76 27.692 1435.61 26.9223 Q1439.46 26.1121 1443.1 26.1121 Q1452.95 26.1121 1457.81 31.2163 Q1462.67 36.3204 1462.67 46.6907 Z\" fill=\"#000000\" fill-rule=\"evenodd\" fill-opacity=\"1\" /><path clip-path=\"url(#clip100)\" d=\"M1485.4 14.324 L1485.4 27.2059 L1500.75 27.2059 L1500.75 32.9987 L1485.4 32.9987 L1485.4 57.6282 Q1485.4 63.1779 1486.9 64.7578 Q1488.43 66.3376 1493.09 66.3376 L1500.75 66.3376 L1500.75 72.576 L1493.09 72.576 Q1484.46 72.576 1481.18 69.3758 Q1477.9 66.1351 1477.9 57.6282 L1477.9 32.9987 L1472.43 32.9987 L1472.43 27.2059 L1477.9 27.2059 L1477.9 14.324 L1485.4 14.324 Z\" fill=\"#000000\" fill-rule=\"evenodd\" fill-opacity=\"1\" /><path clip-path=\"url(#clip100)\" d=\"M1510.55 27.2059 L1518.01 27.2059 L1518.01 72.576 L1510.55 72.576 L1510.55 27.2059 M1510.55 9.54393 L1518.01 9.54393 L1518.01 18.9825 L1510.55 18.9825 L1510.55 9.54393 Z\" fill=\"#000000\" fill-rule=\"evenodd\" fill-opacity=\"1\" /><path clip-path=\"url(#clip100)\" d=\"M1551.18 32.4315 Q1545.19 32.4315 1541.7 37.1306 Q1538.22 41.7891 1538.22 49.9314 Q1538.22 58.0738 1541.66 62.7728 Q1545.15 67.4314 1551.18 67.4314 Q1557.14 67.4314 1560.62 62.7323 Q1564.11 58.0333 1564.11 49.9314 Q1564.11 41.8701 1560.62 37.1711 Q1557.14 32.4315 1551.18 32.4315 M1551.18 26.1121 Q1560.91 26.1121 1566.45 32.4315 Q1572 38.7509 1572 49.9314 Q1572 61.0714 1566.45 67.4314 Q1560.91 73.7508 1551.18 73.7508 Q1541.42 73.7508 1535.87 67.4314 Q1530.36 61.0714 1530.36 49.9314 Q1530.36 38.7509 1535.87 32.4315 Q1541.42 26.1121 1551.18 26.1121 Z\" fill=\"#000000\" fill-rule=\"evenodd\" fill-opacity=\"1\" /><path clip-path=\"url(#clip100)\" d=\"M1622.07 45.1919 L1622.07 72.576 L1614.62 72.576 L1614.62 45.4349 Q1614.62 38.994 1612.11 35.7938 Q1609.6 32.5936 1604.57 32.5936 Q1598.54 32.5936 1595.05 36.4419 Q1591.57 40.2903 1591.57 46.9338 L1591.57 72.576 L1584.08 72.576 L1584.08 27.2059 L1591.57 27.2059 L1591.57 34.2544 Q1594.24 30.163 1597.85 28.1376 Q1601.5 26.1121 1606.23 26.1121 Q1614.05 26.1121 1618.06 30.9732 Q1622.07 35.7938 1622.07 45.1919 Z\" fill=\"#000000\" fill-rule=\"evenodd\" fill-opacity=\"1\" /><path clip-path=\"url(#clip100)\" d=\"M1665.86 28.5427 L1665.86 35.5912 Q1662.7 33.9709 1659.3 33.1607 Q1655.9 32.3505 1652.25 32.3505 Q1646.7 32.3505 1643.91 34.0519 Q1641.15 35.7533 1641.15 39.156 Q1641.15 41.7486 1643.14 43.2475 Q1645.12 44.7058 1651.12 46.0426 L1653.67 46.6097 Q1661.61 48.3111 1664.93 51.4303 Q1668.29 54.509 1668.29 60.0587 Q1668.29 66.3781 1663.27 70.0644 Q1658.29 73.7508 1649.54 73.7508 Q1645.89 73.7508 1641.92 73.0216 Q1637.99 72.3329 1633.62 70.9151 L1633.62 63.2184 Q1637.75 65.3654 1641.76 66.4591 Q1645.77 67.5124 1649.7 67.5124 Q1654.97 67.5124 1657.8 65.73 Q1660.64 63.9071 1660.64 60.6258 Q1660.64 57.5877 1658.57 55.9673 Q1656.55 54.3469 1649.62 52.8481 L1647.03 52.2405 Q1640.1 50.7821 1637.02 47.7845 Q1633.94 44.7463 1633.94 39.4801 Q1633.94 33.0797 1638.48 29.5959 Q1643.02 26.1121 1651.36 26.1121 Q1655.49 26.1121 1659.14 26.7198 Q1662.79 27.3274 1665.86 28.5427 Z\" fill=\"#000000\" fill-rule=\"evenodd\" fill-opacity=\"1\" /><circle clip-path=\"url(#clip102)\" cx=\"232.609\" cy=\"670.515\" r=\"14.4\" fill=\"#009af9\" fill-rule=\"evenodd\" fill-opacity=\"1\" stroke=\"#000000\" stroke-opacity=\"1\" stroke-width=\"3.2\"/>\n<circle clip-path=\"url(#clip102)\" cx=\"1133.16\" cy=\"493.478\" r=\"14.4\" fill=\"#009af9\" fill-rule=\"evenodd\" fill-opacity=\"1\" stroke=\"#000000\" stroke-opacity=\"1\" stroke-width=\"3.2\"/>\n<circle clip-path=\"url(#clip102)\" cx=\"1261.81\" cy=\"552.49\" r=\"14.4\" fill=\"#009af9\" fill-rule=\"evenodd\" fill-opacity=\"1\" stroke=\"#000000\" stroke-opacity=\"1\" stroke-width=\"3.2\"/>\n<circle clip-path=\"url(#clip102)\" cx=\"1390.46\" cy=\"552.49\" r=\"14.4\" fill=\"#009af9\" fill-rule=\"evenodd\" fill-opacity=\"1\" stroke=\"#000000\" stroke-opacity=\"1\" stroke-width=\"3.2\"/>\n<circle clip-path=\"url(#clip102)\" cx=\"1519.11\" cy=\"552.49\" r=\"14.4\" fill=\"#009af9\" fill-rule=\"evenodd\" fill-opacity=\"1\" stroke=\"#000000\" stroke-opacity=\"1\" stroke-width=\"3.2\"/>\n<circle clip-path=\"url(#clip102)\" cx=\"1647.76\" cy=\"434.466\" r=\"14.4\" fill=\"#009af9\" fill-rule=\"evenodd\" fill-opacity=\"1\" stroke=\"#000000\" stroke-opacity=\"1\" stroke-width=\"3.2\"/>\n<circle clip-path=\"url(#clip102)\" cx=\"1905.06\" cy=\"316.442\" r=\"14.4\" fill=\"#009af9\" fill-rule=\"evenodd\" fill-opacity=\"1\" stroke=\"#000000\" stroke-opacity=\"1\" stroke-width=\"3.2\"/>\n<circle clip-path=\"url(#clip102)\" cx=\"2033.7\" cy=\"139.405\" r=\"14.4\" fill=\"#009af9\" fill-rule=\"evenodd\" fill-opacity=\"1\" stroke=\"#000000\" stroke-opacity=\"1\" stroke-width=\"3.2\"/>\n<circle clip-path=\"url(#clip102)\" cx=\"2291\" cy=\"198.418\" r=\"14.4\" fill=\"#009af9\" fill-rule=\"evenodd\" fill-opacity=\"1\" stroke=\"#000000\" stroke-opacity=\"1\" stroke-width=\"3.2\"/>\n<path clip-path=\"url(#clip100)\" d=\"\nM170.857 1486.45 L2352.76 1486.45 L2352.76 923.472 L170.857 923.472  Z\n  \" fill=\"#ffffff\" fill-rule=\"evenodd\" fill-opacity=\"1\"/>\n<defs>\n  <clipPath id=\"clip103\">\n    <rect x=\"170\" y=\"923\" width=\"2183\" height=\"564\"/>\n  </clipPath>\n</defs>\n<polyline clip-path=\"url(#clip103)\" style=\"stroke:#000000; stroke-linecap:round; stroke-linejoin:round; stroke-width:2; stroke-opacity:0.1; fill:none\" points=\"\n  296.934,1486.45 296.934,923.472 \n  \"/>\n<polyline clip-path=\"url(#clip103)\" style=\"stroke:#000000; stroke-linecap:round; stroke-linejoin:round; stroke-width:2; stroke-opacity:0.1; fill:none\" points=\"\n  618.558,1486.45 618.558,923.472 \n  \"/>\n<polyline clip-path=\"url(#clip103)\" style=\"stroke:#000000; stroke-linecap:round; stroke-linejoin:round; stroke-width:2; stroke-opacity:0.1; fill:none\" points=\"\n  940.182,1486.45 940.182,923.472 \n  \"/>\n<polyline clip-path=\"url(#clip103)\" style=\"stroke:#000000; stroke-linecap:round; stroke-linejoin:round; stroke-width:2; stroke-opacity:0.1; fill:none\" points=\"\n  1261.81,1486.45 1261.81,923.472 \n  \"/>\n<polyline clip-path=\"url(#clip103)\" style=\"stroke:#000000; stroke-linecap:round; stroke-linejoin:round; stroke-width:2; stroke-opacity:0.1; fill:none\" points=\"\n  1583.43,1486.45 1583.43,923.472 \n  \"/>\n<polyline clip-path=\"url(#clip103)\" style=\"stroke:#000000; stroke-linecap:round; stroke-linejoin:round; stroke-width:2; stroke-opacity:0.1; fill:none\" points=\"\n  1905.06,1486.45 1905.06,923.472 \n  \"/>\n<polyline clip-path=\"url(#clip103)\" style=\"stroke:#000000; stroke-linecap:round; stroke-linejoin:round; stroke-width:2; stroke-opacity:0.1; fill:none\" points=\"\n  2226.68,1486.45 2226.68,923.472 \n  \"/>\n<polyline clip-path=\"url(#clip100)\" style=\"stroke:#000000; stroke-linecap:round; stroke-linejoin:round; stroke-width:4; stroke-opacity:1; fill:none\" points=\"\n  170.857,1486.45 2352.76,1486.45 \n  \"/>\n<polyline clip-path=\"url(#clip100)\" style=\"stroke:#000000; stroke-linecap:round; stroke-linejoin:round; stroke-width:4; stroke-opacity:1; fill:none\" points=\"\n  296.934,1486.45 296.934,1467.55 \n  \"/>\n<polyline clip-path=\"url(#clip100)\" style=\"stroke:#000000; stroke-linecap:round; stroke-linejoin:round; stroke-width:4; stroke-opacity:1; fill:none\" points=\"\n  618.558,1486.45 618.558,1467.55 \n  \"/>\n<polyline clip-path=\"url(#clip100)\" style=\"stroke:#000000; stroke-linecap:round; stroke-linejoin:round; stroke-width:4; stroke-opacity:1; fill:none\" points=\"\n  940.182,1486.45 940.182,1467.55 \n  \"/>\n<polyline clip-path=\"url(#clip100)\" style=\"stroke:#000000; stroke-linecap:round; stroke-linejoin:round; stroke-width:4; stroke-opacity:1; fill:none\" points=\"\n  1261.81,1486.45 1261.81,1467.55 \n  \"/>\n<polyline clip-path=\"url(#clip100)\" style=\"stroke:#000000; stroke-linecap:round; stroke-linejoin:round; stroke-width:4; stroke-opacity:1; fill:none\" points=\"\n  1583.43,1486.45 1583.43,1467.55 \n  \"/>\n<polyline clip-path=\"url(#clip100)\" style=\"stroke:#000000; stroke-linecap:round; stroke-linejoin:round; stroke-width:4; stroke-opacity:1; fill:none\" points=\"\n  1905.06,1486.45 1905.06,1467.55 \n  \"/>\n<polyline clip-path=\"url(#clip100)\" style=\"stroke:#000000; stroke-linecap:round; stroke-linejoin:round; stroke-width:4; stroke-opacity:1; fill:none\" points=\"\n  2226.68,1486.45 2226.68,1467.55 \n  \"/>\n<path clip-path=\"url(#clip100)\" d=\"M268.67 1544.91 L284.99 1544.91 L284.99 1548.85 L263.045 1548.85 L263.045 1544.91 Q265.707 1542.16 270.291 1537.53 Q274.897 1532.88 276.078 1531.53 Q278.323 1529.01 279.203 1527.27 Q280.105 1525.51 280.105 1523.82 Q280.105 1521.07 278.161 1519.33 Q276.24 1517.6 273.138 1517.6 Q270.939 1517.6 268.485 1518.36 Q266.055 1519.13 263.277 1520.68 L263.277 1515.95 Q266.101 1514.82 268.555 1514.24 Q271.008 1513.66 273.045 1513.66 Q278.416 1513.66 281.61 1516.35 Q284.805 1519.03 284.805 1523.52 Q284.805 1525.65 283.994 1527.57 Q283.207 1529.47 281.101 1532.07 Q280.522 1532.74 277.42 1535.95 Q274.318 1539.15 268.67 1544.91 Z\" fill=\"#000000\" fill-rule=\"evenodd\" fill-opacity=\"1\" /><path clip-path=\"url(#clip100)\" d=\"M294.804 1542.97 L299.689 1542.97 L299.689 1548.85 L294.804 1548.85 L294.804 1542.97 Z\" fill=\"#000000\" fill-rule=\"evenodd\" fill-opacity=\"1\" /><path clip-path=\"url(#clip100)\" d=\"M309.92 1514.29 L328.277 1514.29 L328.277 1518.22 L314.203 1518.22 L314.203 1526.7 Q315.221 1526.35 316.24 1526.19 Q317.258 1526 318.277 1526 Q324.064 1526 327.443 1529.17 Q330.823 1532.34 330.823 1537.76 Q330.823 1543.34 327.351 1546.44 Q323.878 1549.52 317.559 1549.52 Q315.383 1549.52 313.115 1549.15 Q310.869 1548.78 308.462 1548.04 L308.462 1543.34 Q310.545 1544.47 312.767 1545.03 Q314.99 1545.58 317.466 1545.58 Q321.471 1545.58 323.809 1543.48 Q326.147 1541.37 326.147 1537.76 Q326.147 1534.15 323.809 1532.04 Q321.471 1529.94 317.466 1529.94 Q315.591 1529.94 313.716 1530.35 Q311.865 1530.77 309.92 1531.65 L309.92 1514.29 Z\" fill=\"#000000\" fill-rule=\"evenodd\" fill-opacity=\"1\" /><path clip-path=\"url(#clip100)\" d=\"M585.723 1514.29 L604.079 1514.29 L604.079 1518.22 L590.005 1518.22 L590.005 1526.7 Q591.024 1526.35 592.042 1526.19 Q593.061 1526 594.079 1526 Q599.866 1526 603.246 1529.17 Q606.625 1532.34 606.625 1537.76 Q606.625 1543.34 603.153 1546.44 Q599.681 1549.52 593.362 1549.52 Q591.186 1549.52 588.917 1549.15 Q586.672 1548.78 584.264 1548.04 L584.264 1543.34 Q586.348 1544.47 588.57 1545.03 Q590.792 1545.58 593.269 1545.58 Q597.274 1545.58 599.612 1543.48 Q601.95 1541.37 601.95 1537.76 Q601.95 1534.15 599.612 1532.04 Q597.274 1529.94 593.269 1529.94 Q591.394 1529.94 589.519 1530.35 Q587.667 1530.77 585.723 1531.65 L585.723 1514.29 Z\" fill=\"#000000\" fill-rule=\"evenodd\" fill-opacity=\"1\" /><path clip-path=\"url(#clip100)\" d=\"M615.838 1542.97 L620.723 1542.97 L620.723 1548.85 L615.838 1548.85 L615.838 1542.97 Z\" fill=\"#000000\" fill-rule=\"evenodd\" fill-opacity=\"1\" /><path clip-path=\"url(#clip100)\" d=\"M640.908 1517.37 Q637.297 1517.37 635.468 1520.93 Q633.662 1524.47 633.662 1531.6 Q633.662 1538.71 635.468 1542.27 Q637.297 1545.82 640.908 1545.82 Q644.542 1545.82 646.347 1542.27 Q648.176 1538.71 648.176 1531.6 Q648.176 1524.47 646.347 1520.93 Q644.542 1517.37 640.908 1517.37 M640.908 1513.66 Q646.718 1513.66 649.773 1518.27 Q652.852 1522.85 652.852 1531.6 Q652.852 1540.33 649.773 1544.94 Q646.718 1549.52 640.908 1549.52 Q635.098 1549.52 632.019 1544.94 Q628.963 1540.33 628.963 1531.6 Q628.963 1522.85 632.019 1518.27 Q635.098 1513.66 640.908 1513.66 Z\" fill=\"#000000\" fill-rule=\"evenodd\" fill-opacity=\"1\" /><path clip-path=\"url(#clip100)\" d=\"M906.502 1514.29 L928.724 1514.29 L928.724 1516.28 L916.178 1548.85 L911.294 1548.85 L923.099 1518.22 L906.502 1518.22 L906.502 1514.29 Z\" fill=\"#000000\" fill-rule=\"evenodd\" fill-opacity=\"1\" /><path clip-path=\"url(#clip100)\" d=\"M937.845 1542.97 L942.729 1542.97 L942.729 1548.85 L937.845 1548.85 L937.845 1542.97 Z\" fill=\"#000000\" fill-rule=\"evenodd\" fill-opacity=\"1\" /><path clip-path=\"url(#clip100)\" d=\"M952.96 1514.29 L971.317 1514.29 L971.317 1518.22 L957.243 1518.22 L957.243 1526.7 Q958.261 1526.35 959.28 1526.19 Q960.298 1526 961.317 1526 Q967.104 1526 970.483 1529.17 Q973.863 1532.34 973.863 1537.76 Q973.863 1543.34 970.391 1546.44 Q966.918 1549.52 960.599 1549.52 Q958.423 1549.52 956.155 1549.15 Q953.909 1548.78 951.502 1548.04 L951.502 1543.34 Q953.585 1544.47 955.807 1545.03 Q958.03 1545.58 960.506 1545.58 Q964.511 1545.58 966.849 1543.48 Q969.187 1541.37 969.187 1537.76 Q969.187 1534.15 966.849 1532.04 Q964.511 1529.94 960.506 1529.94 Q958.631 1529.94 956.756 1530.35 Q954.905 1530.77 952.96 1531.65 L952.96 1514.29 Z\" fill=\"#000000\" fill-rule=\"evenodd\" fill-opacity=\"1\" /><path clip-path=\"url(#clip100)\" d=\"M1213.88 1544.91 L1221.52 1544.91 L1221.52 1518.55 L1213.21 1520.21 L1213.21 1515.95 L1221.47 1514.29 L1226.15 1514.29 L1226.15 1544.91 L1233.79 1544.91 L1233.79 1548.85 L1213.88 1548.85 L1213.88 1544.91 Z\" fill=\"#000000\" fill-rule=\"evenodd\" fill-opacity=\"1\" /><path clip-path=\"url(#clip100)\" d=\"M1253.23 1517.37 Q1249.62 1517.37 1247.79 1520.93 Q1245.98 1524.47 1245.98 1531.6 Q1245.98 1538.71 1247.79 1542.27 Q1249.62 1545.82 1253.23 1545.82 Q1256.86 1545.82 1258.67 1542.27 Q1260.5 1538.71 1260.5 1531.6 Q1260.5 1524.47 1258.67 1520.93 Q1256.86 1517.37 1253.23 1517.37 M1253.23 1513.66 Q1259.04 1513.66 1262.1 1518.27 Q1265.17 1522.85 1265.17 1531.6 Q1265.17 1540.33 1262.1 1544.94 Q1259.04 1549.52 1253.23 1549.52 Q1247.42 1549.52 1244.34 1544.94 Q1241.29 1540.33 1241.29 1531.6 Q1241.29 1522.85 1244.34 1518.27 Q1247.42 1513.66 1253.23 1513.66 Z\" fill=\"#000000\" fill-rule=\"evenodd\" fill-opacity=\"1\" /><path clip-path=\"url(#clip100)\" d=\"M1273.39 1542.97 L1278.28 1542.97 L1278.28 1548.85 L1273.39 1548.85 L1273.39 1542.97 Z\" fill=\"#000000\" fill-rule=\"evenodd\" fill-opacity=\"1\" /><path clip-path=\"url(#clip100)\" d=\"M1298.46 1517.37 Q1294.85 1517.37 1293.02 1520.93 Q1291.22 1524.47 1291.22 1531.6 Q1291.22 1538.71 1293.02 1542.27 Q1294.85 1545.82 1298.46 1545.82 Q1302.1 1545.82 1303.9 1542.27 Q1305.73 1538.71 1305.73 1531.6 Q1305.73 1524.47 1303.9 1520.93 Q1302.1 1517.37 1298.46 1517.37 M1298.46 1513.66 Q1304.27 1513.66 1307.33 1518.27 Q1310.41 1522.85 1310.41 1531.6 Q1310.41 1540.33 1307.33 1544.94 Q1304.27 1549.52 1298.46 1549.52 Q1292.65 1549.52 1289.57 1544.94 Q1286.52 1540.33 1286.52 1531.6 Q1286.52 1522.85 1289.57 1518.27 Q1292.65 1513.66 1298.46 1513.66 Z\" fill=\"#000000\" fill-rule=\"evenodd\" fill-opacity=\"1\" /><path clip-path=\"url(#clip100)\" d=\"M1536 1544.91 L1543.64 1544.91 L1543.64 1518.55 L1535.33 1520.21 L1535.33 1515.95 L1543.59 1514.29 L1548.27 1514.29 L1548.27 1544.91 L1555.91 1544.91 L1555.91 1548.85 L1536 1548.85 L1536 1544.91 Z\" fill=\"#000000\" fill-rule=\"evenodd\" fill-opacity=\"1\" /><path clip-path=\"url(#clip100)\" d=\"M1569.38 1544.91 L1585.7 1544.91 L1585.7 1548.85 L1563.76 1548.85 L1563.76 1544.91 Q1566.42 1542.16 1571 1537.53 Q1575.61 1532.88 1576.79 1531.53 Q1579.03 1529.01 1579.91 1527.27 Q1580.82 1525.51 1580.82 1523.82 Q1580.82 1521.07 1578.87 1519.33 Q1576.95 1517.6 1573.85 1517.6 Q1571.65 1517.6 1569.19 1518.36 Q1566.76 1519.13 1563.99 1520.68 L1563.99 1515.95 Q1566.81 1514.82 1569.26 1514.24 Q1571.72 1513.66 1573.75 1513.66 Q1579.13 1513.66 1582.32 1516.35 Q1585.51 1519.03 1585.51 1523.52 Q1585.51 1525.65 1584.7 1527.57 Q1583.92 1529.47 1581.81 1532.07 Q1581.23 1532.74 1578.13 1535.95 Q1575.03 1539.15 1569.38 1544.91 Z\" fill=\"#000000\" fill-rule=\"evenodd\" fill-opacity=\"1\" /><path clip-path=\"url(#clip100)\" d=\"M1595.51 1542.97 L1600.4 1542.97 L1600.4 1548.85 L1595.51 1548.85 L1595.51 1542.97 Z\" fill=\"#000000\" fill-rule=\"evenodd\" fill-opacity=\"1\" /><path clip-path=\"url(#clip100)\" d=\"M1610.63 1514.29 L1628.99 1514.29 L1628.99 1518.22 L1614.91 1518.22 L1614.91 1526.7 Q1615.93 1526.35 1616.95 1526.19 Q1617.97 1526 1618.99 1526 Q1624.77 1526 1628.15 1529.17 Q1631.53 1532.34 1631.53 1537.76 Q1631.53 1543.34 1628.06 1546.44 Q1624.59 1549.52 1618.27 1549.52 Q1616.09 1549.52 1613.82 1549.15 Q1611.58 1548.78 1609.17 1548.04 L1609.17 1543.34 Q1611.25 1544.47 1613.48 1545.03 Q1615.7 1545.58 1618.18 1545.58 Q1622.18 1545.58 1624.52 1543.48 Q1626.86 1541.37 1626.86 1537.76 Q1626.86 1534.15 1624.52 1532.04 Q1622.18 1529.94 1618.18 1529.94 Q1616.3 1529.94 1614.43 1530.35 Q1612.57 1530.77 1610.63 1531.65 L1610.63 1514.29 Z\" fill=\"#000000\" fill-rule=\"evenodd\" fill-opacity=\"1\" /><path clip-path=\"url(#clip100)\" d=\"M1857.13 1544.91 L1864.77 1544.91 L1864.77 1518.55 L1856.46 1520.21 L1856.46 1515.95 L1864.72 1514.29 L1869.4 1514.29 L1869.4 1544.91 L1877.03 1544.91 L1877.03 1548.85 L1857.13 1548.85 L1857.13 1544.91 Z\" fill=\"#000000\" fill-rule=\"evenodd\" fill-opacity=\"1\" /><path clip-path=\"url(#clip100)\" d=\"M1886.53 1514.29 L1904.88 1514.29 L1904.88 1518.22 L1890.81 1518.22 L1890.81 1526.7 Q1891.83 1526.35 1892.84 1526.19 Q1893.86 1526 1894.88 1526 Q1900.67 1526 1904.05 1529.17 Q1907.43 1532.34 1907.43 1537.76 Q1907.43 1543.34 1903.96 1546.44 Q1900.48 1549.52 1894.16 1549.52 Q1891.99 1549.52 1889.72 1549.15 Q1887.47 1548.78 1885.07 1548.04 L1885.07 1543.34 Q1887.15 1544.47 1889.37 1545.03 Q1891.59 1545.58 1894.07 1545.58 Q1898.08 1545.58 1900.41 1543.48 Q1902.75 1541.37 1902.75 1537.76 Q1902.75 1534.15 1900.41 1532.04 Q1898.08 1529.94 1894.07 1529.94 Q1892.2 1529.94 1890.32 1530.35 Q1888.47 1530.77 1886.53 1531.65 L1886.53 1514.29 Z\" fill=\"#000000\" fill-rule=\"evenodd\" fill-opacity=\"1\" /><path clip-path=\"url(#clip100)\" d=\"M1916.64 1542.97 L1921.52 1542.97 L1921.52 1548.85 L1916.64 1548.85 L1916.64 1542.97 Z\" fill=\"#000000\" fill-rule=\"evenodd\" fill-opacity=\"1\" /><path clip-path=\"url(#clip100)\" d=\"M1941.71 1517.37 Q1938.1 1517.37 1936.27 1520.93 Q1934.46 1524.47 1934.46 1531.6 Q1934.46 1538.71 1936.27 1542.27 Q1938.1 1545.82 1941.71 1545.82 Q1945.34 1545.82 1947.15 1542.27 Q1948.98 1538.71 1948.98 1531.6 Q1948.98 1524.47 1947.15 1520.93 Q1945.34 1517.37 1941.71 1517.37 M1941.71 1513.66 Q1947.52 1513.66 1950.58 1518.27 Q1953.65 1522.85 1953.65 1531.6 Q1953.65 1540.33 1950.58 1544.94 Q1947.52 1549.52 1941.71 1549.52 Q1935.9 1549.52 1932.82 1544.94 Q1929.77 1540.33 1929.77 1531.6 Q1929.77 1522.85 1932.82 1518.27 Q1935.9 1513.66 1941.71 1513.66 Z\" fill=\"#000000\" fill-rule=\"evenodd\" fill-opacity=\"1\" /><path clip-path=\"url(#clip100)\" d=\"M2179.25 1544.91 L2186.89 1544.91 L2186.89 1518.55 L2178.58 1520.21 L2178.58 1515.95 L2186.84 1514.29 L2191.52 1514.29 L2191.52 1544.91 L2199.16 1544.91 L2199.16 1548.85 L2179.25 1548.85 L2179.25 1544.91 Z\" fill=\"#000000\" fill-rule=\"evenodd\" fill-opacity=\"1\" /><path clip-path=\"url(#clip100)\" d=\"M2207.42 1514.29 L2229.64 1514.29 L2229.64 1516.28 L2217.1 1548.85 L2212.21 1548.85 L2224.02 1518.22 L2207.42 1518.22 L2207.42 1514.29 Z\" fill=\"#000000\" fill-rule=\"evenodd\" fill-opacity=\"1\" /><path clip-path=\"url(#clip100)\" d=\"M2238.76 1542.97 L2243.65 1542.97 L2243.65 1548.85 L2238.76 1548.85 L2238.76 1542.97 Z\" fill=\"#000000\" fill-rule=\"evenodd\" fill-opacity=\"1\" /><path clip-path=\"url(#clip100)\" d=\"M2253.88 1514.29 L2272.23 1514.29 L2272.23 1518.22 L2258.16 1518.22 L2258.16 1526.7 Q2259.18 1526.35 2260.2 1526.19 Q2261.22 1526 2262.23 1526 Q2268.02 1526 2271.4 1529.17 Q2274.78 1532.34 2274.78 1537.76 Q2274.78 1543.34 2271.31 1546.44 Q2267.84 1549.52 2261.52 1549.52 Q2259.34 1549.52 2257.07 1549.15 Q2254.83 1548.78 2252.42 1548.04 L2252.42 1543.34 Q2254.5 1544.47 2256.73 1545.03 Q2258.95 1545.58 2261.42 1545.58 Q2265.43 1545.58 2267.77 1543.48 Q2270.1 1541.37 2270.1 1537.76 Q2270.1 1534.15 2267.77 1532.04 Q2265.43 1529.94 2261.42 1529.94 Q2259.55 1529.94 2257.67 1530.35 Q2255.82 1530.77 2253.88 1531.65 L2253.88 1514.29 Z\" fill=\"#000000\" fill-rule=\"evenodd\" fill-opacity=\"1\" /><polyline clip-path=\"url(#clip103)\" style=\"stroke:#000000; stroke-linecap:round; stroke-linejoin:round; stroke-width:2; stroke-opacity:0.1; fill:none\" points=\"\n  170.857,1397.76 2352.76,1397.76 \n  \"/>\n<polyline clip-path=\"url(#clip103)\" style=\"stroke:#000000; stroke-linecap:round; stroke-linejoin:round; stroke-width:2; stroke-opacity:0.1; fill:none\" points=\"\n  170.857,1276.5 2352.76,1276.5 \n  \"/>\n<polyline clip-path=\"url(#clip103)\" style=\"stroke:#000000; stroke-linecap:round; stroke-linejoin:round; stroke-width:2; stroke-opacity:0.1; fill:none\" points=\"\n  170.857,1155.24 2352.76,1155.24 \n  \"/>\n<polyline clip-path=\"url(#clip103)\" style=\"stroke:#000000; stroke-linecap:round; stroke-linejoin:round; stroke-width:2; stroke-opacity:0.1; fill:none\" points=\"\n  170.857,1033.99 2352.76,1033.99 \n  \"/>\n<polyline clip-path=\"url(#clip100)\" style=\"stroke:#000000; stroke-linecap:round; stroke-linejoin:round; stroke-width:4; stroke-opacity:1; fill:none\" points=\"\n  170.857,1486.45 170.857,923.472 \n  \"/>\n<polyline clip-path=\"url(#clip100)\" style=\"stroke:#000000; stroke-linecap:round; stroke-linejoin:round; stroke-width:4; stroke-opacity:1; fill:none\" points=\"\n  170.857,1397.76 189.755,1397.76 \n  \"/>\n<polyline clip-path=\"url(#clip100)\" style=\"stroke:#000000; stroke-linecap:round; stroke-linejoin:round; stroke-width:4; stroke-opacity:1; fill:none\" points=\"\n  170.857,1276.5 189.755,1276.5 \n  \"/>\n<polyline clip-path=\"url(#clip100)\" style=\"stroke:#000000; stroke-linecap:round; stroke-linejoin:round; stroke-width:4; stroke-opacity:1; fill:none\" points=\"\n  170.857,1155.24 189.755,1155.24 \n  \"/>\n<polyline clip-path=\"url(#clip100)\" style=\"stroke:#000000; stroke-linecap:round; stroke-linejoin:round; stroke-width:4; stroke-opacity:1; fill:none\" points=\"\n  170.857,1033.99 189.755,1033.99 \n  \"/>\n<path clip-path=\"url(#clip100)\" d=\"M82.7975 1380.48 L101.154 1380.48 L101.154 1384.42 L87.0799 1384.42 L87.0799 1392.89 Q88.0984 1392.54 89.1169 1392.38 Q90.1354 1392.19 91.1539 1392.19 Q96.941 1392.19 100.321 1395.36 Q103.7 1398.54 103.7 1403.95 Q103.7 1409.53 100.228 1412.63 Q96.7558 1415.71 90.4364 1415.71 Q88.2604 1415.71 85.9919 1415.34 Q83.7466 1414.97 81.3392 1414.23 L81.3392 1409.53 Q83.4225 1410.66 85.6447 1411.22 Q87.8669 1411.78 90.3438 1411.78 Q94.3484 1411.78 96.6863 1409.67 Q99.0243 1407.56 99.0243 1403.95 Q99.0243 1400.34 96.6863 1398.23 Q94.3484 1396.13 90.3438 1396.13 Q88.4688 1396.13 86.5938 1396.54 Q84.7419 1396.96 82.7975 1397.84 L82.7975 1380.48 Z\" fill=\"#000000\" fill-rule=\"evenodd\" fill-opacity=\"1\" /><path clip-path=\"url(#clip100)\" d=\"M122.913 1383.56 Q119.302 1383.56 117.473 1387.12 Q115.668 1390.67 115.668 1397.79 Q115.668 1404.9 117.473 1408.47 Q119.302 1412.01 122.913 1412.01 Q126.547 1412.01 128.353 1408.47 Q130.182 1404.9 130.182 1397.79 Q130.182 1390.67 128.353 1387.12 Q126.547 1383.56 122.913 1383.56 M122.913 1379.85 Q128.723 1379.85 131.779 1384.46 Q134.857 1389.04 134.857 1397.79 Q134.857 1406.52 131.779 1411.13 Q128.723 1415.71 122.913 1415.71 Q117.103 1415.71 114.024 1411.13 Q110.969 1406.52 110.969 1397.79 Q110.969 1389.04 114.024 1384.46 Q117.103 1379.85 122.913 1379.85 Z\" fill=\"#000000\" fill-rule=\"evenodd\" fill-opacity=\"1\" /><path clip-path=\"url(#clip100)\" d=\"M53.3995 1289.85 L61.0384 1289.85 L61.0384 1263.48 L52.7282 1265.15 L52.7282 1260.89 L60.9921 1259.22 L65.668 1259.22 L65.668 1289.85 L73.3068 1289.85 L73.3068 1293.78 L53.3995 1293.78 L53.3995 1289.85 Z\" fill=\"#000000\" fill-rule=\"evenodd\" fill-opacity=\"1\" /><path clip-path=\"url(#clip100)\" d=\"M92.7512 1262.3 Q89.1401 1262.3 87.3114 1265.87 Q85.5058 1269.41 85.5058 1276.54 Q85.5058 1283.64 87.3114 1287.21 Q89.1401 1290.75 92.7512 1290.75 Q96.3854 1290.75 98.1909 1287.21 Q100.02 1283.64 100.02 1276.54 Q100.02 1269.41 98.1909 1265.87 Q96.3854 1262.3 92.7512 1262.3 M92.7512 1258.6 Q98.5613 1258.6 101.617 1263.2 Q104.696 1267.79 104.696 1276.54 Q104.696 1285.26 101.617 1289.87 Q98.5613 1294.45 92.7512 1294.45 Q86.941 1294.45 83.8623 1289.87 Q80.8068 1285.26 80.8068 1276.54 Q80.8068 1267.79 83.8623 1263.2 Q86.941 1258.6 92.7512 1258.6 Z\" fill=\"#000000\" fill-rule=\"evenodd\" fill-opacity=\"1\" /><path clip-path=\"url(#clip100)\" d=\"M122.913 1262.3 Q119.302 1262.3 117.473 1265.87 Q115.668 1269.41 115.668 1276.54 Q115.668 1283.64 117.473 1287.21 Q119.302 1290.75 122.913 1290.75 Q126.547 1290.75 128.353 1287.21 Q130.182 1283.64 130.182 1276.54 Q130.182 1269.41 128.353 1265.87 Q126.547 1262.3 122.913 1262.3 M122.913 1258.6 Q128.723 1258.6 131.779 1263.2 Q134.857 1267.79 134.857 1276.54 Q134.857 1285.26 131.779 1289.87 Q128.723 1294.45 122.913 1294.45 Q117.103 1294.45 114.024 1289.87 Q110.969 1285.26 110.969 1276.54 Q110.969 1267.79 114.024 1263.2 Q117.103 1258.6 122.913 1258.6 Z\" fill=\"#000000\" fill-rule=\"evenodd\" fill-opacity=\"1\" /><path clip-path=\"url(#clip100)\" d=\"M53.3995 1168.59 L61.0384 1168.59 L61.0384 1142.22 L52.7282 1143.89 L52.7282 1139.63 L60.9921 1137.96 L65.668 1137.96 L65.668 1168.59 L73.3068 1168.59 L73.3068 1172.52 L53.3995 1172.52 L53.3995 1168.59 Z\" fill=\"#000000\" fill-rule=\"evenodd\" fill-opacity=\"1\" /><path clip-path=\"url(#clip100)\" d=\"M82.7975 1137.96 L101.154 1137.96 L101.154 1141.9 L87.0799 1141.9 L87.0799 1150.37 Q88.0984 1150.02 89.1169 1149.86 Q90.1354 1149.68 91.1539 1149.68 Q96.941 1149.68 100.321 1152.85 Q103.7 1156.02 103.7 1161.44 Q103.7 1167.02 100.228 1170.12 Q96.7558 1173.2 90.4364 1173.2 Q88.2604 1173.2 85.9919 1172.83 Q83.7466 1172.45 81.3392 1171.71 L81.3392 1167.02 Q83.4225 1168.15 85.6447 1168.7 Q87.8669 1169.26 90.3438 1169.26 Q94.3484 1169.26 96.6863 1167.15 Q99.0243 1165.05 99.0243 1161.44 Q99.0243 1157.83 96.6863 1155.72 Q94.3484 1153.61 90.3438 1153.61 Q88.4688 1153.61 86.5938 1154.03 Q84.7419 1154.45 82.7975 1155.33 L82.7975 1137.96 Z\" fill=\"#000000\" fill-rule=\"evenodd\" fill-opacity=\"1\" /><path clip-path=\"url(#clip100)\" d=\"M122.913 1141.04 Q119.302 1141.04 117.473 1144.61 Q115.668 1148.15 115.668 1155.28 Q115.668 1162.39 117.473 1165.95 Q119.302 1169.49 122.913 1169.49 Q126.547 1169.49 128.353 1165.95 Q130.182 1162.39 130.182 1155.28 Q130.182 1148.15 128.353 1144.61 Q126.547 1141.04 122.913 1141.04 M122.913 1137.34 Q128.723 1137.34 131.779 1141.95 Q134.857 1146.53 134.857 1155.28 Q134.857 1164.01 131.779 1168.61 Q128.723 1173.2 122.913 1173.2 Q117.103 1173.2 114.024 1168.61 Q110.969 1164.01 110.969 1155.28 Q110.969 1146.53 114.024 1141.95 Q117.103 1137.34 122.913 1137.34 Z\" fill=\"#000000\" fill-rule=\"evenodd\" fill-opacity=\"1\" /><path clip-path=\"url(#clip100)\" d=\"M56.6171 1047.33 L72.9365 1047.33 L72.9365 1051.27 L50.9921 1051.27 L50.9921 1047.33 Q53.6541 1044.58 58.2375 1039.95 Q62.8439 1035.29 64.0245 1033.95 Q66.2698 1031.43 67.1494 1029.69 Q68.0522 1027.93 68.0522 1026.24 Q68.0522 1023.49 66.1078 1021.75 Q64.1865 1020.02 61.0847 1020.02 Q58.8856 1020.02 56.4319 1020.78 Q54.0014 1021.54 51.2236 1023.1 L51.2236 1018.37 Q54.0477 1017.24 56.5014 1016.66 Q58.955 1016.08 60.9921 1016.08 Q66.3624 1016.08 69.5568 1018.77 Q72.7513 1021.45 72.7513 1025.94 Q72.7513 1028.07 71.9411 1029.99 Q71.1541 1031.89 69.0476 1034.48 Q68.4689 1035.16 65.367 1038.37 Q62.2652 1041.57 56.6171 1047.33 Z\" fill=\"#000000\" fill-rule=\"evenodd\" fill-opacity=\"1\" /><path clip-path=\"url(#clip100)\" d=\"M92.7512 1019.79 Q89.1401 1019.79 87.3114 1023.35 Q85.5058 1026.89 85.5058 1034.02 Q85.5058 1041.13 87.3114 1044.69 Q89.1401 1048.23 92.7512 1048.23 Q96.3854 1048.23 98.1909 1044.69 Q100.02 1041.13 100.02 1034.02 Q100.02 1026.89 98.1909 1023.35 Q96.3854 1019.79 92.7512 1019.79 M92.7512 1016.08 Q98.5613 1016.08 101.617 1020.69 Q104.696 1025.27 104.696 1034.02 Q104.696 1042.75 101.617 1047.35 Q98.5613 1051.94 92.7512 1051.94 Q86.941 1051.94 83.8623 1047.35 Q80.8068 1042.75 80.8068 1034.02 Q80.8068 1025.27 83.8623 1020.69 Q86.941 1016.08 92.7512 1016.08 Z\" fill=\"#000000\" fill-rule=\"evenodd\" fill-opacity=\"1\" /><path clip-path=\"url(#clip100)\" d=\"M122.913 1019.79 Q119.302 1019.79 117.473 1023.35 Q115.668 1026.89 115.668 1034.02 Q115.668 1041.13 117.473 1044.69 Q119.302 1048.23 122.913 1048.23 Q126.547 1048.23 128.353 1044.69 Q130.182 1041.13 130.182 1034.02 Q130.182 1026.89 128.353 1023.35 Q126.547 1019.79 122.913 1019.79 M122.913 1016.08 Q128.723 1016.08 131.779 1020.69 Q134.857 1025.27 134.857 1034.02 Q134.857 1042.75 131.779 1047.35 Q128.723 1051.94 122.913 1051.94 Q117.103 1051.94 114.024 1047.35 Q110.969 1042.75 110.969 1034.02 Q110.969 1025.27 114.024 1020.69 Q117.103 1016.08 122.913 1016.08 Z\" fill=\"#000000\" fill-rule=\"evenodd\" fill-opacity=\"1\" /><path clip-path=\"url(#clip100)\" d=\"M599.727 812.096 L610.745 812.096 L637.562 862.692 L637.562 812.096 L645.502 812.096 L645.502 872.576 L634.484 872.576 L607.667 821.98 L607.667 872.576 L599.727 872.576 L599.727 812.096 Z\" fill=\"#000000\" fill-rule=\"evenodd\" fill-opacity=\"1\" /><path clip-path=\"url(#clip100)\" d=\"M679.044 832.432 Q673.048 832.432 669.564 837.131 Q666.081 841.789 666.081 849.931 Q666.081 858.074 669.524 862.773 Q673.008 867.431 679.044 867.431 Q684.998 867.431 688.482 862.732 Q691.966 858.033 691.966 849.931 Q691.966 841.87 688.482 837.171 Q684.998 832.432 679.044 832.432 M679.044 826.112 Q688.766 826.112 694.315 832.432 Q699.865 838.751 699.865 849.931 Q699.865 861.071 694.315 867.431 Q688.766 873.751 679.044 873.751 Q669.281 873.751 663.731 867.431 Q658.222 861.071 658.222 849.931 Q658.222 838.751 663.731 832.432 Q669.281 826.112 679.044 826.112 Z\" fill=\"#000000\" fill-rule=\"evenodd\" fill-opacity=\"1\" /><path clip-path=\"url(#clip100)\" d=\"M747.544 835.915 Q750.339 830.892 754.228 828.502 Q758.117 826.112 763.383 826.112 Q770.472 826.112 774.321 831.095 Q778.169 836.037 778.169 845.192 L778.169 872.576 L770.675 872.576 L770.675 845.435 Q770.675 838.913 768.366 835.753 Q766.057 832.594 761.317 832.594 Q755.525 832.594 752.162 836.442 Q748.8 840.29 748.8 846.934 L748.8 872.576 L741.306 872.576 L741.306 845.435 Q741.306 838.872 738.997 835.753 Q736.688 832.594 731.867 832.594 Q726.156 832.594 722.793 836.482 Q719.431 840.331 719.431 846.934 L719.431 872.576 L711.937 872.576 L711.937 827.206 L719.431 827.206 L719.431 834.254 Q721.983 830.082 725.548 828.097 Q729.113 826.112 734.014 826.112 Q738.956 826.112 742.4 828.624 Q745.884 831.135 747.544 835.915 Z\" fill=\"#000000\" fill-rule=\"evenodd\" fill-opacity=\"1\" /><path clip-path=\"url(#clip100)\" d=\"M825.605 849.931 Q825.605 841.708 822.203 837.05 Q818.84 832.351 812.926 832.351 Q807.012 832.351 803.609 837.05 Q800.247 841.708 800.247 849.931 Q800.247 858.155 803.609 862.854 Q807.012 867.512 812.926 867.512 Q818.84 867.512 822.203 862.854 Q825.605 858.155 825.605 849.931 M800.247 834.092 Q802.596 830.042 806.161 828.097 Q809.766 826.112 814.749 826.112 Q823.013 826.112 828.157 832.675 Q833.343 839.237 833.343 849.931 Q833.343 860.626 828.157 867.188 Q823.013 873.751 814.749 873.751 Q809.766 873.751 806.161 871.806 Q802.596 869.821 800.247 865.77 L800.247 872.576 L792.752 872.576 L792.752 809.544 L800.247 809.544 L800.247 834.092 Z\" fill=\"#000000\" fill-rule=\"evenodd\" fill-opacity=\"1\" /><path clip-path=\"url(#clip100)\" d=\"M871.988 834.173 Q870.732 833.444 869.234 833.12 Q867.775 832.756 865.993 832.756 Q859.673 832.756 856.271 836.888 Q852.908 840.979 852.908 848.676 L852.908 872.576 L845.414 872.576 L845.414 827.206 L852.908 827.206 L852.908 834.254 Q855.258 830.123 859.025 828.138 Q862.793 826.112 868.18 826.112 Q868.95 826.112 869.882 826.234 Q870.813 826.315 871.948 826.517 L871.988 834.173 Z\" fill=\"#000000\" fill-rule=\"evenodd\" fill-opacity=\"1\" /><path clip-path=\"url(#clip100)\" d=\"M916.791 848.028 L916.791 851.673 L882.52 851.673 Q883.007 859.37 887.139 863.421 Q891.311 867.431 898.724 867.431 Q903.018 867.431 907.028 866.378 Q911.079 865.325 915.049 863.218 L915.049 870.267 Q911.039 871.968 906.826 872.86 Q902.613 873.751 898.279 873.751 Q887.422 873.751 881.062 867.431 Q874.743 861.112 874.743 850.337 Q874.743 839.197 880.738 832.675 Q886.774 826.112 896.982 826.112 Q906.137 826.112 911.444 832.026 Q916.791 837.9 916.791 848.028 M909.337 845.84 Q909.256 839.723 905.894 836.077 Q902.572 832.432 897.063 832.432 Q890.825 832.432 887.058 835.956 Q883.331 839.48 882.764 845.881 L909.337 845.84 Z\" fill=\"#000000\" fill-rule=\"evenodd\" fill-opacity=\"1\" /><path clip-path=\"url(#clip100)\" d=\"M985.251 834.092 L985.251 809.544 L992.705 809.544 L992.705 872.576 L985.251 872.576 L985.251 865.77 Q982.902 869.821 979.297 871.806 Q975.732 873.751 970.709 873.751 Q962.485 873.751 957.3 867.188 Q952.156 860.626 952.156 849.931 Q952.156 839.237 957.3 832.675 Q962.485 826.112 970.709 826.112 Q975.732 826.112 979.297 828.097 Q982.902 830.042 985.251 834.092 M959.852 849.931 Q959.852 858.155 963.215 862.854 Q966.617 867.512 972.532 867.512 Q978.446 867.512 981.849 862.854 Q985.251 858.155 985.251 849.931 Q985.251 841.708 981.849 837.05 Q978.446 832.351 972.532 832.351 Q966.617 832.351 963.215 837.05 Q959.852 841.708 959.852 849.931 Z\" fill=\"#000000\" fill-rule=\"evenodd\" fill-opacity=\"1\" /><path clip-path=\"url(#clip100)\" d=\"M1046.87 848.028 L1046.87 851.673 L1012.6 851.673 Q1013.08 859.37 1017.21 863.421 Q1021.39 867.431 1028.8 867.431 Q1033.09 867.431 1037.1 866.378 Q1041.15 865.325 1045.12 863.218 L1045.12 870.267 Q1041.11 871.968 1036.9 872.86 Q1032.69 873.751 1028.35 873.751 Q1017.5 873.751 1011.14 867.431 Q1004.82 861.112 1004.82 850.337 Q1004.82 839.197 1010.81 832.675 Q1016.85 826.112 1027.06 826.112 Q1036.21 826.112 1041.52 832.026 Q1046.87 837.9 1046.87 848.028 M1039.41 845.84 Q1039.33 839.723 1035.97 836.077 Q1032.65 832.432 1027.14 832.432 Q1020.9 832.432 1017.13 835.956 Q1013.41 839.48 1012.84 845.881 L1039.41 845.84 Z\" fill=\"#000000\" fill-rule=\"evenodd\" fill-opacity=\"1\" /><path clip-path=\"url(#clip100)\" d=\"M1118.12 828.948 L1118.12 835.915 Q1114.96 834.173 1111.76 833.323 Q1108.6 832.432 1105.36 832.432 Q1098.11 832.432 1094.1 837.05 Q1090.09 841.627 1090.09 849.931 Q1090.09 858.236 1094.1 862.854 Q1098.11 867.431 1105.36 867.431 Q1108.6 867.431 1111.76 866.581 Q1114.96 865.689 1118.12 863.948 L1118.12 870.834 Q1115 872.292 1111.64 873.022 Q1108.32 873.751 1104.55 873.751 Q1094.3 873.751 1088.27 867.31 Q1082.23 860.869 1082.23 849.931 Q1082.23 838.832 1088.31 832.472 Q1094.42 826.112 1105.04 826.112 Q1108.48 826.112 1111.76 826.841 Q1115.04 827.53 1118.12 828.948 Z\" fill=\"#000000\" fill-rule=\"evenodd\" fill-opacity=\"1\" /><path clip-path=\"url(#clip100)\" d=\"M1148.66 832.432 Q1142.67 832.432 1139.19 837.131 Q1135.7 841.789 1135.7 849.931 Q1135.7 858.074 1139.15 862.773 Q1142.63 867.431 1148.66 867.431 Q1154.62 867.431 1158.1 862.732 Q1161.59 858.033 1161.59 849.931 Q1161.59 841.87 1158.1 837.171 Q1154.62 832.432 1148.66 832.432 M1148.66 826.112 Q1158.39 826.112 1163.94 832.432 Q1169.49 838.751 1169.49 849.931 Q1169.49 861.071 1163.94 867.431 Q1158.39 873.751 1148.66 873.751 Q1138.9 873.751 1133.35 867.431 Q1127.84 861.071 1127.84 849.931 Q1127.84 838.751 1133.35 832.432 Q1138.9 826.112 1148.66 826.112 Z\" fill=\"#000000\" fill-rule=\"evenodd\" fill-opacity=\"1\" /><path clip-path=\"url(#clip100)\" d=\"M1219.56 845.192 L1219.56 872.576 L1212.1 872.576 L1212.1 845.435 Q1212.1 838.994 1209.59 835.794 Q1207.08 832.594 1202.06 832.594 Q1196.02 832.594 1192.54 836.442 Q1189.05 840.29 1189.05 846.934 L1189.05 872.576 L1181.56 872.576 L1181.56 827.206 L1189.05 827.206 L1189.05 834.254 Q1191.73 830.163 1195.33 828.138 Q1198.98 826.112 1203.72 826.112 Q1211.53 826.112 1215.55 830.973 Q1219.56 835.794 1219.56 845.192 Z\" fill=\"#000000\" fill-rule=\"evenodd\" fill-opacity=\"1\" /><path clip-path=\"url(#clip100)\" d=\"M1241.8 814.324 L1241.8 827.206 L1257.15 827.206 L1257.15 832.999 L1241.8 832.999 L1241.8 857.628 Q1241.8 863.178 1243.29 864.758 Q1244.83 866.338 1249.49 866.338 L1257.15 866.338 L1257.15 872.576 L1249.49 872.576 Q1240.86 872.576 1237.58 869.376 Q1234.3 866.135 1234.3 857.628 L1234.3 832.999 L1228.83 832.999 L1228.83 827.206 L1234.3 827.206 L1234.3 814.324 L1241.8 814.324 Z\" fill=\"#000000\" fill-rule=\"evenodd\" fill-opacity=\"1\" /><path clip-path=\"url(#clip100)\" d=\"M1293.24 834.173 Q1291.99 833.444 1290.49 833.12 Q1289.03 832.756 1287.25 832.756 Q1280.93 832.756 1277.52 836.888 Q1274.16 840.979 1274.16 848.676 L1274.16 872.576 L1266.67 872.576 L1266.67 827.206 L1274.16 827.206 L1274.16 834.254 Q1276.51 830.123 1280.28 828.138 Q1284.05 826.112 1289.43 826.112 Q1290.2 826.112 1291.14 826.234 Q1292.07 826.315 1293.2 826.517 L1293.24 834.173 Z\" fill=\"#000000\" fill-rule=\"evenodd\" fill-opacity=\"1\" /><path clip-path=\"url(#clip100)\" d=\"M1321.68 849.769 Q1312.65 849.769 1309.16 851.835 Q1305.68 853.901 1305.68 858.884 Q1305.68 862.854 1308.27 865.203 Q1310.9 867.512 1315.4 867.512 Q1321.6 867.512 1325.32 863.137 Q1329.09 858.722 1329.09 851.43 L1329.09 849.769 L1321.68 849.769 M1336.55 846.691 L1336.55 872.576 L1329.09 872.576 L1329.09 865.689 Q1326.54 869.821 1322.73 871.806 Q1318.92 873.751 1313.42 873.751 Q1306.45 873.751 1302.32 869.862 Q1298.22 865.933 1298.22 859.37 Q1298.22 851.714 1303.33 847.825 Q1308.47 843.936 1318.64 843.936 L1329.09 843.936 L1329.09 843.207 Q1329.09 838.062 1325.69 835.267 Q1322.33 832.432 1316.21 832.432 Q1312.32 832.432 1308.64 833.363 Q1304.95 834.295 1301.55 836.158 L1301.55 829.272 Q1305.64 827.692 1309.49 826.922 Q1313.33 826.112 1316.98 826.112 Q1326.82 826.112 1331.68 831.216 Q1336.55 836.32 1336.55 846.691 Z\" fill=\"#000000\" fill-rule=\"evenodd\" fill-opacity=\"1\" /><path clip-path=\"url(#clip100)\" d=\"M1351.9 827.206 L1359.35 827.206 L1359.35 872.576 L1351.9 872.576 L1351.9 827.206 M1351.9 809.544 L1359.35 809.544 L1359.35 818.983 L1351.9 818.983 L1351.9 809.544 Z\" fill=\"#000000\" fill-rule=\"evenodd\" fill-opacity=\"1\" /><path clip-path=\"url(#clip100)\" d=\"M1412.66 845.192 L1412.66 872.576 L1405.21 872.576 L1405.21 845.435 Q1405.21 838.994 1402.7 835.794 Q1400.19 832.594 1395.16 832.594 Q1389.13 832.594 1385.64 836.442 Q1382.16 840.29 1382.16 846.934 L1382.16 872.576 L1374.66 872.576 L1374.66 827.206 L1382.16 827.206 L1382.16 834.254 Q1384.83 830.163 1388.44 828.138 Q1392.08 826.112 1396.82 826.112 Q1404.64 826.112 1408.65 830.973 Q1412.66 835.794 1412.66 845.192 Z\" fill=\"#000000\" fill-rule=\"evenodd\" fill-opacity=\"1\" /><path clip-path=\"url(#clip100)\" d=\"M1434.9 814.324 L1434.9 827.206 L1450.25 827.206 L1450.25 832.999 L1434.9 832.999 L1434.9 857.628 Q1434.9 863.178 1436.4 864.758 Q1437.94 866.338 1442.6 866.338 L1450.25 866.338 L1450.25 872.576 L1442.6 872.576 Q1433.97 872.576 1430.69 869.376 Q1427.41 866.135 1427.41 857.628 L1427.41 832.999 L1421.94 832.999 L1421.94 827.206 L1427.41 827.206 L1427.41 814.324 L1434.9 814.324 Z\" fill=\"#000000\" fill-rule=\"evenodd\" fill-opacity=\"1\" /><path clip-path=\"url(#clip100)\" d=\"M1498.87 848.028 L1498.87 851.673 L1464.59 851.673 Q1465.08 859.37 1469.21 863.421 Q1473.39 867.431 1480.8 867.431 Q1485.09 867.431 1489.1 866.378 Q1493.15 865.325 1497.12 863.218 L1497.12 870.267 Q1493.11 871.968 1488.9 872.86 Q1484.69 873.751 1480.35 873.751 Q1469.5 873.751 1463.14 867.431 Q1456.82 861.112 1456.82 850.337 Q1456.82 839.197 1462.81 832.675 Q1468.85 826.112 1479.06 826.112 Q1488.21 826.112 1493.52 832.026 Q1498.87 837.9 1498.87 848.028 M1491.41 845.84 Q1491.33 839.723 1487.97 836.077 Q1484.65 832.432 1479.14 832.432 Q1472.9 832.432 1469.13 835.956 Q1465.41 839.48 1464.84 845.881 L1491.41 845.84 Z\" fill=\"#000000\" fill-rule=\"evenodd\" fill-opacity=\"1\" /><path clip-path=\"url(#clip100)\" d=\"M1540.02 828.543 L1540.02 835.591 Q1536.86 833.971 1533.46 833.161 Q1530.06 832.351 1526.41 832.351 Q1520.86 832.351 1518.07 834.052 Q1515.31 835.753 1515.31 839.156 Q1515.31 841.749 1517.3 843.247 Q1519.28 844.706 1525.28 846.043 L1527.83 846.61 Q1535.77 848.311 1539.09 851.43 Q1542.45 854.509 1542.45 860.059 Q1542.45 866.378 1537.43 870.064 Q1532.45 873.751 1523.7 873.751 Q1520.05 873.751 1516.08 873.022 Q1512.15 872.333 1507.78 870.915 L1507.78 863.218 Q1511.91 865.365 1515.92 866.459 Q1519.93 867.512 1523.86 867.512 Q1529.13 867.512 1531.96 865.73 Q1534.8 863.907 1534.8 860.626 Q1534.8 857.588 1532.73 855.967 Q1530.71 854.347 1523.78 852.848 L1521.19 852.24 Q1514.26 850.782 1511.18 847.784 Q1508.1 844.746 1508.1 839.48 Q1508.1 833.08 1512.64 829.596 Q1517.18 826.112 1525.52 826.112 Q1529.65 826.112 1533.3 826.72 Q1536.94 827.327 1540.02 828.543 Z\" fill=\"#000000\" fill-rule=\"evenodd\" fill-opacity=\"1\" /><path clip-path=\"url(#clip100)\" d=\"M1601.31 849.769 Q1592.28 849.769 1588.8 851.835 Q1585.31 853.901 1585.31 858.884 Q1585.31 862.854 1587.9 865.203 Q1590.54 867.512 1595.03 867.512 Q1601.23 867.512 1604.96 863.137 Q1608.73 858.722 1608.73 851.43 L1608.73 849.769 L1601.31 849.769 M1616.18 846.691 L1616.18 872.576 L1608.73 872.576 L1608.73 865.689 Q1606.17 869.821 1602.37 871.806 Q1598.56 873.751 1593.05 873.751 Q1586.08 873.751 1581.95 869.862 Q1577.86 865.933 1577.86 859.37 Q1577.86 851.714 1582.96 847.825 Q1588.11 843.936 1598.27 843.936 L1608.73 843.936 L1608.73 843.207 Q1608.73 838.062 1605.32 835.267 Q1601.96 832.432 1595.84 832.432 Q1591.96 832.432 1588.27 833.363 Q1584.58 834.295 1581.18 836.158 L1581.18 829.272 Q1585.27 827.692 1589.12 826.922 Q1592.97 826.112 1596.61 826.112 Q1606.46 826.112 1611.32 831.216 Q1616.18 836.32 1616.18 846.691 Z\" fill=\"#000000\" fill-rule=\"evenodd\" fill-opacity=\"1\" /><path clip-path=\"url(#clip100)\" d=\"M1631.53 827.206 L1638.99 827.206 L1638.99 873.386 Q1638.99 882.055 1635.66 885.944 Q1632.38 889.833 1625.05 889.833 L1622.22 889.833 L1622.22 883.513 L1624.2 883.513 Q1628.45 883.513 1629.99 881.528 Q1631.53 879.584 1631.53 873.386 L1631.53 827.206 M1631.53 809.544 L1638.99 809.544 L1638.99 818.983 L1631.53 818.983 L1631.53 809.544 Z\" fill=\"#000000\" fill-rule=\"evenodd\" fill-opacity=\"1\" /><path clip-path=\"url(#clip100)\" d=\"M1672.16 832.432 Q1666.17 832.432 1662.68 837.131 Q1659.2 841.789 1659.2 849.931 Q1659.2 858.074 1662.64 862.773 Q1666.13 867.431 1672.16 867.431 Q1678.12 867.431 1681.6 862.732 Q1685.09 858.033 1685.09 849.931 Q1685.09 841.87 1681.6 837.171 Q1678.12 832.432 1672.16 832.432 M1672.16 826.112 Q1681.89 826.112 1687.44 832.432 Q1692.98 838.751 1692.98 849.931 Q1692.98 861.071 1687.44 867.431 Q1681.89 873.751 1672.16 873.751 Q1662.4 873.751 1656.85 867.431 Q1651.34 861.071 1651.34 849.931 Q1651.34 838.751 1656.85 832.432 Q1662.4 826.112 1672.16 826.112 Z\" fill=\"#000000\" fill-rule=\"evenodd\" fill-opacity=\"1\" /><path clip-path=\"url(#clip100)\" d=\"M1704.57 854.671 L1704.57 827.206 L1712.02 827.206 L1712.02 854.387 Q1712.02 860.828 1714.54 864.069 Q1717.05 867.269 1722.07 867.269 Q1728.11 867.269 1731.59 863.421 Q1735.11 859.573 1735.11 852.929 L1735.11 827.206 L1742.57 827.206 L1742.57 872.576 L1735.11 872.576 L1735.11 865.608 Q1732.4 869.74 1728.79 871.766 Q1725.23 873.751 1720.49 873.751 Q1712.67 873.751 1708.62 868.89 Q1704.57 864.029 1704.57 854.671 M1723.33 826.112 L1723.33 826.112 Z\" fill=\"#000000\" fill-rule=\"evenodd\" fill-opacity=\"1\" /><path clip-path=\"url(#clip100)\" d=\"M1765.29 814.324 L1765.29 827.206 L1780.65 827.206 L1780.65 832.999 L1765.29 832.999 L1765.29 857.628 Q1765.29 863.178 1766.79 864.758 Q1768.33 866.338 1772.99 866.338 L1780.65 866.338 L1780.65 872.576 L1772.99 872.576 Q1764.36 872.576 1761.08 869.376 Q1757.8 866.135 1757.8 857.628 L1757.8 832.999 L1752.33 832.999 L1752.33 827.206 L1757.8 827.206 L1757.8 814.324 L1765.29 814.324 Z\" fill=\"#000000\" fill-rule=\"evenodd\" fill-opacity=\"1\" /><path clip-path=\"url(#clip100)\" d=\"M1829.26 848.028 L1829.26 851.673 L1794.99 851.673 Q1795.47 859.37 1799.6 863.421 Q1803.78 867.431 1811.19 867.431 Q1815.48 867.431 1819.49 866.378 Q1823.55 865.325 1827.52 863.218 L1827.52 870.267 Q1823.51 871.968 1819.29 872.86 Q1815.08 873.751 1810.74 873.751 Q1799.89 873.751 1793.53 867.431 Q1787.21 861.112 1787.21 850.337 Q1787.21 839.197 1793.2 832.675 Q1799.24 826.112 1809.45 826.112 Q1818.6 826.112 1823.91 832.026 Q1829.26 837.9 1829.26 848.028 M1821.8 845.84 Q1821.72 839.723 1818.36 836.077 Q1815.04 832.432 1809.53 832.432 Q1803.29 832.432 1799.52 835.956 Q1795.8 839.48 1795.23 845.881 L1821.8 845.84 M1814.63 806.222 L1822.69 806.222 L1809.49 821.454 L1803.29 821.454 L1814.63 806.222 Z\" fill=\"#000000\" fill-rule=\"evenodd\" fill-opacity=\"1\" /><path clip-path=\"url(#clip100)\" d=\"M1880.3 848.028 L1880.3 851.673 L1846.03 851.673 Q1846.51 859.37 1850.65 863.421 Q1854.82 867.431 1862.23 867.431 Q1866.53 867.431 1870.54 866.378 Q1874.59 865.325 1878.56 863.218 L1878.56 870.267 Q1874.55 871.968 1870.33 872.86 Q1866.12 873.751 1861.79 873.751 Q1850.93 873.751 1844.57 867.431 Q1838.25 861.112 1838.25 850.337 Q1838.25 839.197 1844.25 832.675 Q1850.28 826.112 1860.49 826.112 Q1869.64 826.112 1874.95 832.026 Q1880.3 837.9 1880.3 848.028 M1872.85 845.84 Q1872.76 839.723 1869.4 836.077 Q1866.08 832.432 1860.57 832.432 Q1854.33 832.432 1850.57 835.956 Q1846.84 839.48 1846.27 845.881 L1872.85 845.84 Z\" fill=\"#000000\" fill-rule=\"evenodd\" fill-opacity=\"1\" /><path clip-path=\"url(#clip100)\" d=\"M1921.46 828.543 L1921.46 835.591 Q1918.3 833.971 1914.89 833.161 Q1911.49 832.351 1907.84 832.351 Q1902.3 832.351 1899.5 834.052 Q1896.75 835.753 1896.75 839.156 Q1896.75 841.749 1898.73 843.247 Q1900.72 844.706 1906.71 846.043 L1909.26 846.61 Q1917.2 848.311 1920.52 851.43 Q1923.89 854.509 1923.89 860.059 Q1923.89 866.378 1918.86 870.064 Q1913.88 873.751 1905.13 873.751 Q1901.48 873.751 1897.52 873.022 Q1893.59 872.333 1889.21 870.915 L1889.21 863.218 Q1893.34 865.365 1897.35 866.459 Q1901.36 867.512 1905.29 867.512 Q1910.56 867.512 1913.39 865.73 Q1916.23 863.907 1916.23 860.626 Q1916.23 857.588 1914.16 855.967 Q1912.14 854.347 1905.21 852.848 L1902.62 852.24 Q1895.69 850.782 1892.61 847.784 Q1889.53 844.746 1889.53 839.48 Q1889.53 833.08 1894.07 829.596 Q1898.61 826.112 1906.95 826.112 Q1911.09 826.112 1914.73 826.72 Q1918.38 827.327 1921.46 828.543 Z\" fill=\"#000000\" fill-rule=\"evenodd\" fill-opacity=\"1\" /><circle clip-path=\"url(#clip103)\" cx=\"232.609\" cy=\"1470.51\" r=\"14.4\" fill=\"#009af9\" fill-rule=\"evenodd\" fill-opacity=\"1\" stroke=\"#000000\" stroke-opacity=\"1\" stroke-width=\"3.2\"/>\n<circle clip-path=\"url(#clip103)\" cx=\"1133.16\" cy=\"1327.43\" r=\"14.4\" fill=\"#009af9\" fill-rule=\"evenodd\" fill-opacity=\"1\" stroke=\"#000000\" stroke-opacity=\"1\" stroke-width=\"3.2\"/>\n<circle clip-path=\"url(#clip103)\" cx=\"1261.81\" cy=\"1269.23\" r=\"14.4\" fill=\"#009af9\" fill-rule=\"evenodd\" fill-opacity=\"1\" stroke=\"#000000\" stroke-opacity=\"1\" stroke-width=\"3.2\"/>\n<circle clip-path=\"url(#clip103)\" cx=\"1390.46\" cy=\"1380.78\" r=\"14.4\" fill=\"#009af9\" fill-rule=\"evenodd\" fill-opacity=\"1\" stroke=\"#000000\" stroke-opacity=\"1\" stroke-width=\"3.2\"/>\n<circle clip-path=\"url(#clip103)\" cx=\"1519.11\" cy=\"1237.7\" r=\"14.4\" fill=\"#009af9\" fill-rule=\"evenodd\" fill-opacity=\"1\" stroke=\"#000000\" stroke-opacity=\"1\" stroke-width=\"3.2\"/>\n<circle clip-path=\"url(#clip103)\" cx=\"1647.76\" cy=\"1295.9\" r=\"14.4\" fill=\"#009af9\" fill-rule=\"evenodd\" fill-opacity=\"1\" stroke=\"#000000\" stroke-opacity=\"1\" stroke-width=\"3.2\"/>\n<circle clip-path=\"url(#clip103)\" cx=\"1905.06\" cy=\"1048.54\" r=\"14.4\" fill=\"#009af9\" fill-rule=\"evenodd\" fill-opacity=\"1\" stroke=\"#000000\" stroke-opacity=\"1\" stroke-width=\"3.2\"/>\n<circle clip-path=\"url(#clip103)\" cx=\"2033.7\" cy=\"1092.19\" r=\"14.4\" fill=\"#009af9\" fill-rule=\"evenodd\" fill-opacity=\"1\" stroke=\"#000000\" stroke-opacity=\"1\" stroke-width=\"3.2\"/>\n<circle clip-path=\"url(#clip103)\" cx=\"2291\" cy=\"939.405\" r=\"14.4\" fill=\"#009af9\" fill-rule=\"evenodd\" fill-opacity=\"1\" stroke=\"#000000\" stroke-opacity=\"1\" stroke-width=\"3.2\"/>\n</svg>\n"
     },
     "execution_count": 4,
     "metadata": {},
     "output_type": "execute_result"
    }
   ],
   "source": [
    "nb_cycles = []\n",
    "nb_iterations = []\n",
    "nb_added_constraints = []\n",
    "\n",
    "# init the kep graph\n",
    "kep_graph = read_kep_file(\"./_cache/data/MD-00001-00000001.wmd\",\"./_cache/data/MD-00001-00000001.dat\");\n",
    "failure_rates = get_failure_rates(kep_graph, \"Constant\");\n",
    "\n",
    "for i in 1:1:9\n",
    "    data = extractCycleInformation(kep_graph, 3, \"sum\");\n",
    "    C = data[\"Cycles_index\"] \n",
    "    cycles = data[\"Cycles\"]\n",
    "    U = data[\"U\"]\n",
    "    ClusterSize = 10\n",
    "    vertic_cycles = data[\"vertic_cycles\"]\n",
    "    nb_scenar = 100\n",
    "\n",
    "    ksi = getScenarioClusterK(kep_graph, nb_scenar)\n",
    "\n",
    "    res_lshape = LshapeClusterMethod(kep_graph, ClusterSize, C, cycles, U, vertic_cycles, ksi, 50, 1e-3, false)\n",
    "    append!(nb_cycles, length(cycles))\n",
    "    append!(nb_iterations, res_lshape[\"nb_iterations\"])\n",
    "    append!(nb_added_constraints, res_lshape[\"nb_added_constraints\"])\n",
    "\n",
    "    kep_graph = addRandomCycles(kep_graph, 1, 0.7, 1, 3)\n",
    "end\n",
    "\n",
    "p1 = Plots.scatter(nb_cycles, nb_iterations, title=\"Nombre d'itérations\")\n",
    "p2 = Plots.scatter(nb_cycles, nb_added_constraints, title=\"Nombre de contraintes ajoutées\")\n",
    "Plots.plot(p1, p2, layout=(2, 1), legend=false)"
   ]
  },
  {
   "attachments": {},
   "cell_type": "markdown",
   "metadata": {},
   "source": [
    "On peut voir une augmentation du nombre d'itérations ainsi que du nombre de contraintes rajoutées qui est de type exponentiel. Ainsi notre méthode de résolution va très surement rencontrer des problèmes lorsque nous allons traiter des instances conséquentes."
   ]
  },
  {
   "attachments": {},
   "cell_type": "markdown",
   "metadata": {},
   "source": [
    "### Effet de la distribution de probabilité."
   ]
  },
  {
   "attachments": {},
   "cell_type": "markdown",
   "metadata": {},
   "source": [
    "L'ensemble des interprétations faites jusqu'ici ont été faites pour des distributions de probabilités qui sont uniformes. Nous allons maintenant regarder ce qu'il se passe lorsque l'on change la distribution de probabilité. Pour regarder cela, nous allons considérer l'instance `./_cache/data/MD-00001-00000008`. Cette instance possède la particularité d'avoir peu de noeuds mais un nnombre intéressant de cycles."
   ]
  },
  {
   "cell_type": "code",
   "execution_count": 6,
   "metadata": {},
   "outputs": [
    {
     "data": {
      "text/html": [
       "<div><div style = \"float: left;\"><span>5×5 DataFrame</span></div><div style = \"clear: both;\"></div></div><div class = \"data-frame\" style = \"overflow-x: scroll;\"><table class = \"data-frame\" style = \"margin-bottom: 6px;\"><thead><tr class = \"header\"><th class = \"rowNumber\" style = \"font-weight: bold; text-align: right;\">Row</th><th style = \"text-align: left;\">Distribution</th><th style = \"text-align: left;\">obj_benders</th><th style = \"text-align: left;\">z_sp</th><th style = \"text-align: left;\">EVPI</th><th style = \"text-align: left;\">VSS</th></tr><tr class = \"subheader headerLastRow\"><th class = \"rowNumber\" style = \"font-weight: bold; text-align: right;\"></th><th title = \"String\" style = \"text-align: left;\">String</th><th title = \"Float64\" style = \"text-align: left;\">Float64</th><th title = \"Float64\" style = \"text-align: left;\">Float64</th><th title = \"Float64\" style = \"text-align: left;\">Float64</th><th title = \"Float64\" style = \"text-align: left;\">Float64</th></tr></thead><tbody><tr><td class = \"rowNumber\" style = \"font-weight: bold; text-align: right;\">1</td><td style = \"text-align: left;\">Constant</td><td style = \"text-align: right;\">1.15</td><td style = \"text-align: right;\">1.3865</td><td style = \"text-align: right;\">0.205</td><td style = \"text-align: right;\">0.1225</td></tr><tr><td class = \"rowNumber\" style = \"font-weight: bold; text-align: right;\">2</td><td style = \"text-align: left;\">Binomial</td><td style = \"text-align: right;\">0.39</td><td style = \"text-align: right;\">0.387</td><td style = \"text-align: right;\">0.019</td><td style = \"text-align: right;\">-0.082</td></tr><tr><td class = \"rowNumber\" style = \"font-weight: bold; text-align: right;\">3</td><td style = \"text-align: left;\">BinomialUNOS</td><td style = \"text-align: right;\">5.62</td><td style = \"text-align: right;\">5.703</td><td style = \"text-align: right;\">-0.021</td><td style = \"text-align: right;\">0.08</td></tr><tr><td class = \"rowNumber\" style = \"font-weight: bold; text-align: right;\">4</td><td style = \"text-align: left;\">BinomialAPD</td><td style = \"text-align: right;\">4.94</td><td style = \"text-align: right;\">4.8</td><td style = \"text-align: right;\">0.0015</td><td style = \"text-align: right;\">0.389</td></tr><tr><td class = \"rowNumber\" style = \"font-weight: bold; text-align: right;\">5</td><td style = \"text-align: left;\">NoFailure</td><td style = \"text-align: right;\">6.0</td><td style = \"text-align: right;\">6.0</td><td style = \"text-align: right;\">0.0</td><td style = \"text-align: right;\">0.0</td></tr></tbody></table></div>"
      ],
      "text/latex": [
       "\\begin{tabular}{r|ccccc}\n",
       "\t& Distribution & obj\\_benders & z\\_sp & EVPI & VSS\\\\\n",
       "\t\\hline\n",
       "\t& String & Float64 & Float64 & Float64 & Float64\\\\\n",
       "\t\\hline\n",
       "\t1 & Constant & 1.15 & 1.3865 & 0.205 & 0.1225 \\\\\n",
       "\t2 & Binomial & 0.39 & 0.387 & 0.019 & -0.082 \\\\\n",
       "\t3 & BinomialUNOS & 5.62 & 5.703 & -0.021 & 0.08 \\\\\n",
       "\t4 & BinomialAPD & 4.94 & 4.8 & 0.0015 & 0.389 \\\\\n",
       "\t5 & NoFailure & 6.0 & 6.0 & 0.0 & 0.0 \\\\\n",
       "\\end{tabular}\n"
      ],
      "text/plain": [
       "\u001b[1m5×5 DataFrame\u001b[0m\n",
       "\u001b[1m Row \u001b[0m│\u001b[1m Distribution \u001b[0m\u001b[1m obj_benders \u001b[0m\u001b[1m z_sp    \u001b[0m\u001b[1m EVPI    \u001b[0m\u001b[1m VSS     \u001b[0m\n",
       "     │\u001b[90m String       \u001b[0m\u001b[90m Float64     \u001b[0m\u001b[90m Float64 \u001b[0m\u001b[90m Float64 \u001b[0m\u001b[90m Float64 \u001b[0m\n",
       "─────┼──────────────────────────────────────────────────────\n",
       "   1 │ Constant             1.15   1.3865   0.205    0.1225\n",
       "   2 │ Binomial             0.39   0.387    0.019   -0.082\n",
       "   3 │ BinomialUNOS         5.62   5.703   -0.021    0.08\n",
       "   4 │ BinomialAPD          4.94   4.8      0.0015   0.389\n",
       "   5 │ NoFailure            6.0    6.0      0.0      0.0"
      ]
     },
     "execution_count": 6,
     "metadata": {},
     "output_type": "execute_result"
    }
   ],
   "source": [
    "df = DataFrame(\n",
    "    Status = Bool[], \n",
    "    nb_it = Int[] , \n",
    "    nb_cons = Int[], \n",
    "    nb_cycles = Int[],\n",
    "    obj_benders = Float64[], \n",
    "    obj_unroll = Float64[],\n",
    "    z_sp = Float64[],\n",
    "    EVPI = Float64[],\n",
    "    VSS = Float64[],\n",
    "    nb_p_clus = Float64[],\n",
    "    nb_clus = Float64[],\n",
    "    nb_pers_tr = Float64[],\n",
    "    nb_cycle_tr = Float64[]\n",
    ");\n",
    "\n",
    "for dist in DISTRIBUTIONS\n",
    "    sum_up(8, df, 10, 100, 1000, 30, 3, dist)\n",
    "end;\n",
    "\n",
    "df[!, :Distribution] = DISTRIBUTIONS\n",
    "df[:, [:Distribution, :obj_benders, :z_sp, :EVPI, :VSS]]"
   ]
  },
  {
   "attachments": {},
   "cell_type": "markdown",
   "metadata": {},
   "source": [
    "Nous pouvons faire des observations intéressantes. Tout d'abord nous pouvons voir qu'avec des distributions commme *BinomialUNOS* ou *BinomialAPD*, nous obtenons des valeurs objectives beaucoups plus importantes. Nous décidons ainsi de comparer plusieurs mesures statistiques pour comprendre d'où c'est différences peuvent provenir.\n",
    "Nous supposons que ces différences peuvent venir du fait que les distributions de probas donnent des probabilités plus ou moins uniformes sur l'ensemble de nos arrètes et que les différences entre les différentes probabilités peuvent donner lieu à des meilleurs sélections des cycles.\n",
    "\n",
    "Pour s'assurer de ce que l'on vient d'énoncer, nous proposons de mesurer le désordre du graphe. Nous allons proposer ici une mesure qui permet de mesurer si une distribution de probabilité nous donne une discrimination entre les cycles ou pas. Pour chaque cycle $c$ on a $p(c)$ la probabilité que le cycle $c$ se réalise. On construit le vecteur $\\alpha$ tel que :\n",
    "$$\n",
    "\\alpha_c = \\frac{e^{p(c)}}{\\sum_{j \\in C}e^{p(j)}}\n",
    "$$\n",
    "\n",
    "Ainsi basé sur ce vecteur, nous pouvons calculé l'entropie de Shannon de $\\alpha$ \n",
    "\n",
    "$$\n",
    "H(\\alpha) = -\\frac{1}{log(|C|)}\\sum_{c \\in C} \\alpha_c log(\\alpha_c)\n",
    "$$\n",
    "\n",
    "Cette quantité comprise entre 0 et 1 nous permet de mesurer les discriminations entre nos cycles. Si l'entropie vaut 1 alors toutes les probas associées aux cycles sont égales, si l'entropie vaut 0 alors au contraire 1 cycle sera différents et tous les autres auront des valeurs faibles.\n",
    "\n",
    "Une autre mesure du désordre, plus classique en statistique est la variance (ou écart type). \n",
    "En effet nous pouvons simplement venir mesurer $\\sigma = \\sqrt{\\mathbb{V}(p(c))}$\n",
    "\n",
    "Enfin dans la même philosophie que la variance nous pouvons regarder l'étendue de nos probas sur nos différents cycles en regardant $max(p)$ et $min(p)$\n",
    "\n",
    "Dans la cellule suivante nous regardons l'ensemble de ces mesures."
   ]
  },
  {
   "cell_type": "code",
   "execution_count": 9,
   "metadata": {},
   "outputs": [
    {
     "data": {
      "text/html": [
       "<div><div style = \"float: left;\"><span>5×5 DataFrame</span></div><div style = \"clear: both;\"></div></div><div class = \"data-frame\" style = \"overflow-x: scroll;\"><table class = \"data-frame\" style = \"margin-bottom: 6px;\"><thead><tr class = \"header\"><th class = \"rowNumber\" style = \"font-weight: bold; text-align: right;\">Row</th><th style = \"text-align: left;\">Distribution</th><th style = \"text-align: left;\">H</th><th style = \"text-align: left;\">σ</th><th style = \"text-align: left;\">max</th><th style = \"text-align: left;\">min</th></tr><tr class = \"subheader headerLastRow\"><th class = \"rowNumber\" style = \"font-weight: bold; text-align: right;\"></th><th title = \"String\" style = \"text-align: left;\">String</th><th title = \"Float64\" style = \"text-align: left;\">Float64</th><th title = \"Float64\" style = \"text-align: left;\">Float64</th><th title = \"Float64\" style = \"text-align: left;\">Float64</th><th title = \"Float64\" style = \"text-align: left;\">Float64</th></tr></thead><tbody><tr><td class = \"rowNumber\" style = \"font-weight: bold; text-align: right;\">1</td><td style = \"text-align: left;\">Constant</td><td style = \"text-align: right;\">0.999859</td><td style = \"text-align: right;\">0.0296202</td><td style = \"text-align: right;\">0.09</td><td style = \"text-align: right;\">0.027</td></tr><tr><td class = \"rowNumber\" style = \"font-weight: bold; text-align: right;\">2</td><td style = \"text-align: left;\">Binomial</td><td style = \"text-align: right;\">0.993555</td><td style = \"text-align: right;\">0.164951</td><td style = \"text-align: right;\">0.747078</td><td style = \"text-align: right;\">6.27114e-5</td></tr><tr><td class = \"rowNumber\" style = \"font-weight: bold; text-align: right;\">3</td><td style = \"text-align: left;\">BinomialUNOS</td><td style = \"text-align: right;\">0.999765</td><td style = \"text-align: right;\">0.0380832</td><td style = \"text-align: right;\">0.81</td><td style = \"text-align: right;\">0.729</td></tr><tr><td class = \"rowNumber\" style = \"font-weight: bold; text-align: right;\">4</td><td style = \"text-align: left;\">BinomialAPD</td><td style = \"text-align: right;\">0.999234</td><td style = \"text-align: right;\">0.068245</td><td style = \"text-align: right;\">0.5184</td><td style = \"text-align: right;\">0.373248</td></tr><tr><td class = \"rowNumber\" style = \"font-weight: bold; text-align: right;\">5</td><td style = \"text-align: left;\">NoFailure</td><td style = \"text-align: right;\">1.0</td><td style = \"text-align: right;\">0.0</td><td style = \"text-align: right;\">1.0</td><td style = \"text-align: right;\">1.0</td></tr></tbody></table></div>"
      ],
      "text/latex": [
       "\\begin{tabular}{r|ccccc}\n",
       "\t& Distribution & H & σ & max & min\\\\\n",
       "\t\\hline\n",
       "\t& String & Float64 & Float64 & Float64 & Float64\\\\\n",
       "\t\\hline\n",
       "\t1 & Constant & 0.999859 & 0.0296202 & 0.09 & 0.027 \\\\\n",
       "\t2 & Binomial & 0.993555 & 0.164951 & 0.747078 & 6.27114e-5 \\\\\n",
       "\t3 & BinomialUNOS & 0.999765 & 0.0380832 & 0.81 & 0.729 \\\\\n",
       "\t4 & BinomialAPD & 0.999234 & 0.068245 & 0.5184 & 0.373248 \\\\\n",
       "\t5 & NoFailure & 1.0 & 0.0 & 1.0 & 1.0 \\\\\n",
       "\\end{tabular}\n"
      ],
      "text/plain": [
       "\u001b[1m5×5 DataFrame\u001b[0m\n",
       "\u001b[1m Row \u001b[0m│\u001b[1m Distribution \u001b[0m\u001b[1m H        \u001b[0m\u001b[1m σ         \u001b[0m\u001b[1m max      \u001b[0m\u001b[1m min        \u001b[0m\n",
       "     │\u001b[90m String       \u001b[0m\u001b[90m Float64  \u001b[0m\u001b[90m Float64   \u001b[0m\u001b[90m Float64  \u001b[0m\u001b[90m Float64    \u001b[0m\n",
       "─────┼─────────────────────────────────────────────────────────\n",
       "   1 │ Constant      0.999859  0.0296202  0.09      0.027\n",
       "   2 │ Binomial      0.993555  0.164951   0.747078  6.27114e-5\n",
       "   3 │ BinomialUNOS  0.999765  0.0380832  0.81      0.729\n",
       "   4 │ BinomialAPD   0.999234  0.068245   0.5184    0.373248\n",
       "   5 │ NoFailure     1.0       0.0        1.0       1.0"
      ]
     },
     "execution_count": 9,
     "metadata": {},
     "output_type": "execute_result"
    }
   ],
   "source": [
    "df = DataFrame(\n",
    "    Distribution = String[],\n",
    "    H = Float64[],\n",
    "    σ = Float64[],\n",
    "    max = Float64[],\n",
    "    min = Float64[]\n",
    ")\n",
    "\n",
    "for dist in DISTRIBUTIONS\n",
    "    i = 8\n",
    "    try\n",
    "        kep_graph = read_kep_file(\"./_cache/data/MD-00001-0000000$i.wmd\",\"./_cache/data/MD-00001-0000000$i.dat\");\n",
    "        failure_rates = get_failure_rates(kep_graph, dist);\n",
    "        data = extractCycleInformation(kep_graph, 3, \"sum\")\n",
    "        p = 1 .- data[\"P\"]\n",
    "        σ = Statistics.std(p)\n",
    "        α = exp.(p) / sum(exp.(p))\n",
    "        h = -1/log(length(data[\"Cycles_index\"])) * sum(α .* log.(α))\n",
    "        push!(df, [dist h σ maximum(p) minimum(p)])\n",
    "    catch\n",
    "        # do nothing\n",
    "        println(\"error\")\n",
    "    end\n",
    "end;\n",
    "\n",
    "df"
   ]
  },
  {
   "attachments": {},
   "cell_type": "markdown",
   "metadata": {},
   "source": [
    "Nous pouvons voir que les trois dernières distributions se détachent réellement des autres par leur étendu, en effet elles attribuent des probabilités plus élevées à nos cycles. Ainsi nous avons plus de cycles qui fonctionnent donc nous en sélections plus d'où l'augmentation de la fonction objectif."
   ]
  },
  {
   "attachments": {},
   "cell_type": "markdown",
   "metadata": {},
   "source": [
    "Le cas de la distribution *NoFailure*, est un peu particulier, il s'agit du cas, où aucun cycle ne peut échouer. Dans ce cas notre problème stochastique se ramène au problème déterministe.\n",
    "Nous pouvons vérifier cela en regardant l'objectif du problème déterministe dans le cas où les distributions sont constantes."
   ]
  },
  {
   "cell_type": "code",
   "execution_count": 10,
   "metadata": {},
   "outputs": [
    {
     "name": "stdout",
     "output_type": "stream",
     "text": [
      "objectif du problème déterministe : 6.0"
     ]
    }
   ],
   "source": [
    "# comparons le cas no failure avec la version déterministe\n",
    "kep_graph = read_kep_file(\"./_cache/data/MD-00001-00000008.wmd\",\"./_cache/data/MD-00001-00000008.dat\");\n",
    "failure_rates = get_failure_rates(kep_graph, \"NoFailure\");\n",
    "data = extractCycleInformation(kep_graph, 3, \"sum\");\n",
    "\n",
    "# the model\n",
    "res = completRecourseProblem(data[\"Cycles_index\"], data[\"vertic_cycles\"], data[\"U\"], 1 .-data[\"P\"]);\n",
    "model = res[\"model\"]\n",
    "\n",
    "temp = @elapsed optimize!(model)\n",
    "print(\"objectif du problème déterministe : \"*string(objective_value(model)))\n",
    "solution = value.(model[:x])\n",
    ";"
   ]
  },
  {
   "attachments": {},
   "cell_type": "markdown",
   "metadata": {},
   "source": [
    "Nous obtenons effectivement la même valeur ce qui vient confirmer un peu plus le bon fonctionnement de notre fonction."
   ]
  },
  {
   "attachments": {},
   "cell_type": "markdown",
   "metadata": {},
   "source": [
    "\n",
    "### Proposition d'une heuristique pour les grandes instances\n",
    "\n",
    "Il se trouve que ce qui pose problème pour notre problème, est le nombre de cycles dans le graphe. Il nous faut pour cela trouver une stratégie pour essayer de faire une énumération réduite des cycles.\n",
    "\n",
    "Tout d'abord à chaque cycle $c$ appartenant à notre ensemble de cycles, nous lui attribuons une note $e_c$. Cette note sera simplement calculée de la façon suivante :\n",
    "\n",
    "$$\n",
    "e_c = u_c \\times p(c)\n",
    "$$\n",
    "\n",
    "Avec :\n",
    "\n",
    "- $u_c$ : l'utilité du cycle $c$\n",
    "- $p(c)$ : la probabilité que le cycle $c$ se réalise.\n",
    "\n",
    "Nous pouvons organiser les cycles dans notre graphe par ordre décroissant de leurs notes. Notre manière d'approcher le problème sera ainsi la suivante :\n",
    "\n",
    "1. nous sélectionner initialement les $J$ cycles avec les meilleurs notes.\n",
    "2. nous résolvons le problème pour ces cycles.\n",
    "3. nous ajoutons le prochain cycle à notre ensemble de cycle, puis nous retournons à l'étape deux.\n",
    "\n",
    "Si entre deux ajouts de cycles la valeur objectif n'a pas subit une variation significative alors nous stoppons l'algorithme. Cette heuristic est inspiré des méthodes de générations de colonnes, qui à chaque itération vont venir ajouter des cycles dans notre problème.\n"
   ]
  },
  {
   "attachments": {},
   "cell_type": "markdown",
   "metadata": {},
   "source": [
    "Dans un premier temps nous allons considérer que quelques itérations de notre heuristique pour comprendre comment cette dernière pourrait fonctionner.\n",
    "\n",
    "Nous regardons l'instance $31$, cette instance a la particularité d'avoir beaucoup de cycles de longueur $3$ ainsi nous décidons dans la cellule suivante de ne regarder la résolution du problème que pour 15 cycles."
   ]
  },
  {
   "cell_type": "code",
   "execution_count": 21,
   "metadata": {},
   "outputs": [],
   "source": [
    "K = 3\n",
    "nb_scenar = 20\n",
    "ClusterSize = 10\n",
    "\n",
    "\n",
    "kep_graph = read_kep_file(\"./_cache/data/MD-00001-00000031.wmd\",\"./_cache/data/MD-00001-00000031.dat\");\n",
    "kep_graph, temp = removeUselessNodes(kep_graph, K)\n",
    "failure_rates = get_failure_rates(kep_graph, \"BinomialAPD\");\n",
    "data = extractCycleInformation(kep_graph, K, \"sum\");\n",
    "\n",
    "rank_index = rank_index_cycle(data)\n",
    "cycles = data[\"Cycles\"]\n",
    "U = data[\"U\"]\n",
    "\n",
    "# create scenarios\n",
    "ξ = getScenarioClusterK(kep_graph, nb_scenar)\n",
    ";"
   ]
  },
  {
   "cell_type": "code",
   "execution_count": 25,
   "metadata": {},
   "outputs": [
    {
     "name": "stdout",
     "output_type": "stream",
     "text": [
      "Start of the L-shape method for the cluster problem\n",
      "Iteration (10) >> objective value : 4.200000000000003\n",
      "The stopping criterion is reached\n",
      "The objective value : 3.7500000000000004\n",
      "valeur objectif : 3.7500000000000004\n"
     ]
    }
   ],
   "source": [
    "nb_cycles_to_keep = 15\n",
    "\n",
    "C = data[\"Cycles_index\"][rank_index][1:nb_cycles_to_keep]\n",
    "vertic_cycles = transform_vertic_cycle(data[\"vertic_cycles\"], C)\n",
    "res_lshape = LshapeClusterMethod(kep_graph, ClusterSize, C, cycles, U, vertic_cycles, ξ, 50, 1e-3, true)\n",
    ";\n",
    "println(\"valeur objectif : \"*string(res_lshape[\"objective_value\"]))"
   ]
  },
  {
   "attachments": {},
   "cell_type": "markdown",
   "metadata": {},
   "source": [
    "Nous allons maintenant rajouter $5$ cycles à notre problème et regader l'évolution de la solution."
   ]
  },
  {
   "cell_type": "code",
   "execution_count": 23,
   "metadata": {},
   "outputs": [
    {
     "name": "stdout",
     "output_type": "stream",
     "text": [
      "Start of the L-shape method for the cluster problem\n",
      "Iteration (10) >> objective value : 4.349999999999997\n",
      "Iteration (20) >> objective value : 4.050000000000001\n",
      "The stopping criterion is reached\n",
      "The objective value : 4.050000000000001\n",
      "valeur objectif : 4.050000000000001\n"
     ]
    }
   ],
   "source": [
    "nb_cycles_to_keep = 20\n",
    "\n",
    "C = data[\"Cycles_index\"][rank_index][1:nb_cycles_to_keep]\n",
    "vertic_cycles = transform_vertic_cycle(data[\"vertic_cycles\"], C)\n",
    "res_lshape = LshapeClusterMethod(kep_graph, ClusterSize, C, cycles, U, vertic_cycles, ξ, 50, 1e-3, true)\n",
    ";\n",
    "println(\"valeur objectif : \"*string(res_lshape[\"objective_value\"]))"
   ]
  },
  {
   "attachments": {},
   "cell_type": "markdown",
   "metadata": {},
   "source": [
    "Nous pouvons voir ici que la valeur objectif à grandement augmentée par rapport à la dernière execution. Nous décidons ainsi de rajouter 2 nouveaux cycles"
   ]
  },
  {
   "cell_type": "code",
   "execution_count": 24,
   "metadata": {},
   "outputs": [
    {
     "name": "stdout",
     "output_type": "stream",
     "text": [
      "Start of the L-shape method for the cluster problem\n",
      "Iteration (10) >> objective value : 5.100000000000007\n",
      "Iteration (20) >> objective value : 4.650000000000004\n",
      "The stopping criterion is reached\n",
      "The objective value : 4.3500000000000005\n",
      "valeur objectif : 4.3500000000000005\n"
     ]
    }
   ],
   "source": [
    "nb_cycles_to_keep = 22\n",
    "\n",
    "C = data[\"Cycles_index\"][rank_index][1:nb_cycles_to_keep]\n",
    "vertic_cycles = transform_vertic_cycle(data[\"vertic_cycles\"], C)\n",
    "res_lshape = LshapeClusterMethod(kep_graph, ClusterSize, C, cycles, U, vertic_cycles, ξ, 50, 1e-3, true)\n",
    ";\n",
    "println(\"valeur objectif : \"*string(res_lshape[\"objective_value\"]))"
   ]
  },
  {
   "cell_type": "code",
   "execution_count": 26,
   "metadata": {},
   "outputs": [
    {
     "name": "stdout",
     "output_type": "stream",
     "text": [
      "Start of the L-shape method for the cluster problem\n",
      "Iteration (10) >> objective value : 5.550000000000001\n",
      "Iteration (20) >> objective value : 4.800000000000023\n",
      "Iteration (30) >> objective value : 4.650000000000004\n",
      "Iteration (40) >> objective value : 4.500000000000001\n",
      "The stopping criterion is reached\n",
      "The objective value : 4.425000000000001\n",
      "valeur objectif : 4.425000000000001\n"
     ]
    }
   ],
   "source": [
    "nb_cycles_to_keep = 24\n",
    "\n",
    "C = data[\"Cycles_index\"][rank_index][1:nb_cycles_to_keep]\n",
    "vertic_cycles = transform_vertic_cycle(data[\"vertic_cycles\"], C)\n",
    "res_lshape = LshapeClusterMethod(kep_graph, ClusterSize, C, cycles, U, vertic_cycles, ξ, 50, 1e-3, true)\n",
    ";\n",
    "println(\"valeur objectif : \"*string(res_lshape[\"objective_value\"]))"
   ]
  },
  {
   "attachments": {},
   "cell_type": "markdown",
   "metadata": {},
   "source": [
    "Ici la valeur objectif n'a pas beaucoup augmenté par rapport à la cellule précédente, ainsi nous nous arrétons ici."
   ]
  },
  {
   "attachments": {},
   "cell_type": "markdown",
   "metadata": {},
   "source": [
    "Cette méthode est ici très peu efficace car à chaque itération, nous rajoutons un nombre arbitraire de cycles et surtout nous résolvons le problème *from scratch*.\n",
    "Afin d'améliorer grandement cette méthode, il nous faudrait modifier le notre méthode en $l$, pour pouvoir initialiser à chaque fois notre méthode avec la valeur que l'on obtient à l'itération d'avant. Il faut ensuite se donner un critère d'arrét pour pouvoir stopper la méthode quand l'objectif reste relativement stable."
   ]
  },
  {
   "cell_type": "markdown",
   "metadata": {},
   "source": [
    "### Modelisation averse au risque"
   ]
  },
  {
   "attachments": {},
   "cell_type": "markdown",
   "metadata": {},
   "source": [
    "L'agence qui nous a contacté initialement nous recontact et nous dit que notre solution ne sert à rien. Dans certains on sauve beaucoup de patients dans d'autres cas on ne sauve personne. On nous dit alors que notre solution ne sert à rien que c'est du hasard et que il n'y a pas besoin de mathématiciens pour faire des sélections au hasard. On essaye de leur expliquer que ce n'est pas du hasard et que en moyenne notre solution est optimale. En moyenne ? Il faut que la solution marche dans quasiment tous les cas pour être valide.\n",
    "\n",
    "On nous renvoie ainsi un cahier des charges, on nous renvoie un cahier des charges et on nous ordonne de produire une solution qui dans $\\alpha \\%$ des cas permet de sauver un nombre minimum de patient. Nous décidons ainsi d'introduire la notion de *Conditional Value at Risk* ou encore $CVaR$ pour résoudre le problème. Cette méthode permet de produire une solution qui assure avec un certain niveau de risque, de ne pas descendre en dessous d'un certain niveau.\n",
    "\n",
    "Tout ceci se formule mathématiquement de la manière suivante :\n",
    "\n",
    "\n",
    "$$\n",
    "\\begin{equation}\n",
    "\t\\mathbb{RACP}:= \\left\\{\\begin{aligned}\n",
    "        \\underset{x,t}{\\min} &\\quad t + \\frac{1}{1-\\alpha}\\mathbb{E}_{\\omega}\\left[\\left(\\underset{y}{\\min}\\left( - \\sum_{c \\in C_K}y_c(\\omega) w_c\\right) - t\\right)+\\right]\\\\\n",
    "         s.c &\\quad x_{i,j} = x_{j,i}\\quad \\forall (i,j) \\in V\\times V\\\\\n",
    "         &\\quad x_{i,j} + x_{j,k} -1 \\leq x_{i,k} \\quad \\forall (i,j,k) \\in V\\times V\\times V\\\\\n",
    "         &\\quad \\sum_{j \\in V} x_{i,j} \\leq U \\quad \\forall i \\in V \\\\\n",
    "         &\\quad y_c(\\omega) \\leq x_{i,j}\\xi_{i,j}(\\omega) \\quad \\forall c \\in C_k, ~\\forall (i,j) \\in c,~ \\forall \\omega \\in \\Omega \\\\\n",
    "         &\\quad \\sum_{c \\in C_K(i)} y_c(\\omega) \\leq 1 \\quad \\forall i \\in V,\\quad\\forall \\omega \\in \\Omega\\\\\n",
    "\t\\end{aligned}\\right.\n",
    "\\end{equation}\n",
    "$$\n",
    "\n",
    "Cette modélisation averse au risque peut, se linéariser de la façon suivante :\n",
    "\n",
    "$$\n",
    "\\begin{equation}\n",
    "\t\\mathbb{RACP}:= \\left\\{\\begin{aligned}\n",
    "        \\underset{x,t}{\\min} &\\quad t + \\frac{1}{(1-\\alpha)\\times |\\Omega|}\\sum_{\\omega \\in \\Omega} \\pi(\\omega)\\\\\n",
    "         s.c &\\quad x_{i,j} = x_{j,i},\\quad \\forall (i,j) \\in V\\times V\\\\\n",
    "         &\\quad x_{i,j} + x_{j,k} -1 \\leq x_{i,k}, \\quad \\forall (i,j,k) \\in V\\times V\\times V\\\\\n",
    "         &\\quad \\pi(\\omega) \\geq \\left(\\underset{y}{\\min}\\left( - \\sum_{c\\in C_K}y_c(\\omega) w_c\\right) - t\\right),\\quad \\forall \\omega \\in \\Omega \\\\\n",
    "         &\\quad \\pi(\\omega) \\geq 0,\\quad \\forall \\omega \\in \\Omega \\\\\n",
    "         &\\quad \\sum_{j \\in V} x_{i,j} \\leq U, \\quad \\forall i \\in V \\\\\n",
    "         &\\quad y_c(\\omega) \\leq x_{i,j}\\xi_{i,j}(\\omega) \\quad \\forall c \\in C_k, ~\\forall (i,j) \\in c,~ \\forall \\omega \\in \\Omega \\\\\n",
    "         &\\quad \\sum_{c \\in C_K(i)} y_c(\\omega) \\leq 1 \\quad \\forall i \\in V,\\quad\\forall \\omega \\in \\Omega\\\\\n",
    "         \n",
    "\t\\end{aligned}\\right.\n",
    "\\end{equation}\n",
    "$$\n",
    "\n",
    "On utilise une équation qui est bien connu est qui est que : $\\min -f(x) = - \\max f(x)$. Ainsi nous pouvons réecrire ce problème de la façon suivante :\n",
    "\n",
    "$$\n",
    "\\begin{equation}\n",
    "\t\\mathbb{RACP}:= \\left\\{\\begin{aligned}\n",
    "        \\underset{x,t}{\\min} &\\quad t + \\frac{1}{(1-\\alpha)\\times |\\Omega|}\\sum_{\\omega \\in \\Omega} \\pi(\\omega)\\\\\n",
    "         s.c &\\quad x_{i,j} = x_{j,i},\\quad \\forall (i,j) \\in V\\times V\\\\\n",
    "         &\\quad x_{i,j} + x_{j,k} -1 \\leq x_{i,k}, \\quad \\forall (i,j,k) \\in V\\times V\\times V\\\\\n",
    "         &\\quad \\sum_{j \\in V} x_{i,j} \\leq U, \\quad \\forall i \\in V \\\\\n",
    "         &\\quad \\pi(\\omega) \\geq \\left(-v_{\\omega}(x) - t\\right),\\quad \\forall \\omega \\in \\Omega \\\\\n",
    "         &\\quad \\pi(\\omega) \\geq 0,\\quad \\forall \\omega \\in \\Omega \\\\\n",
    "\t\\end{aligned}\\right.\n",
    "\\end{equation}\n",
    "$$\n",
    "\n",
    "Or nous avons exprimée la valeur du problème $v_{\\omega}(x)$, dans la section précédente, ainsi nous pouvons réecrire ce problème de la facçon suivante :\n",
    "\n",
    "$$\n",
    "\\begin{equation}\n",
    "\t\\mathbb{RACP}:= \\left\\{\\begin{aligned}\n",
    "        \\underset{x,t}{\\min} &\\quad t + \\frac{1}{(1-\\alpha)\\times |\\Omega|}\\sum_{\\omega \\in \\Omega} \\pi(\\omega)\\\\\n",
    "         s.c &\\quad x_{i,j} = x_{j,i},\\quad \\forall (i,j) \\in V\\times V\\\\\n",
    "         &\\quad x_{i,j} + x_{j,k} -1 \\leq x_{i,k}, \\quad \\forall (i,j,k) \\in V\\times V\\times V\\\\\n",
    "         &\\quad \\sum_{j \\in V} x_{i,j} \\leq U, \\quad \\forall i \\in V \\\\\n",
    "         &\\quad \\pi(\\omega) \\geq \\left(-\\underset{\\theta(\\omega)}{\\max}~~\\theta(\\omega) - t\\right),\\quad \\forall \\omega \\in \\Omega \\\\\n",
    "         &\\quad \\theta(\\omega) \\leq \\sum_{c \\in C_{K}}\\sum_{(i,j) \\in c} \\lambda_{(i,j)}^c x_{i,j}\\xi_{i,j}(\\omega) + \\sum_{i \\in V}\\mu_i + \\sum_{c \\in C_K} \\Delta_c \\quad\\forall~\\lambda, \\mu, \\Delta ~\\in~\\Lambda(P), \\forall \\omega \\in \\Omega\\\\\n",
    "         &\\quad \\pi(\\omega) \\geq 0,\\quad \\forall \\omega \\in \\Omega \\\\\n",
    "\t\\end{aligned}\\right.\n",
    "\\end{equation}\n",
    "$$\n",
    "\n",
    "Nous pouvons finalement réecrire ce problème de la façon suivante :\n",
    "\n",
    "$$\n",
    "\\begin{equation}\n",
    "\t\\mathbb{RACP}:= \\left\\{\\begin{aligned}\n",
    "        \\underset{x,t}{\\min} &\\quad t + \\frac{1}{(1-\\alpha)\\times |\\Omega|}\\sum_{\\omega \\in \\Omega} \\pi(\\omega)\\\\\n",
    "         s.c &\\quad x_{i,j} = x_{j,i},\\quad \\forall (i,j) \\in V\\times V\\\\\n",
    "         &\\quad x_{i,j} + x_{j,k} -1 \\leq x_{i,k}, \\quad \\forall (i,j,k) \\in V\\times V\\times V\\\\\n",
    "         &\\quad \\sum_{j \\in V} x_{i,j} \\leq U, \\quad \\forall i \\in V \\\\\n",
    "         &\\quad \\pi(\\omega) \\geq \\left(-\\theta(\\omega) - t\\right),\\quad \\forall \\omega \\in \\Omega \\\\\n",
    "         &\\quad \\theta(\\omega) \\leq \\sum_{c \\in C_{K}}\\sum_{(i,j) \\in c} \\lambda_{(i,j)}^c x_{i,j}\\xi_{i,j}(\\omega) + \\sum_{i \\in V}\\mu_i + \\sum_{c \\in C_K} \\Delta_c \\quad\\forall~\\lambda, \\mu, \\Delta ~\\in~\\Lambda(P), \\forall \\omega \\in \\Omega\\\\\n",
    "         &\\quad \\pi(\\omega) \\geq 0,\\quad \\forall \\omega \\in \\Omega \\\\\n",
    "\t\\end{aligned}\\right.\n",
    "\\end{equation}\n",
    "$$\n",
    "\n",
    "En effet le maximum peut être retiré, il nous faut simplement un point réalisable.\n",
    "\n",
    "Nous pouvons remarquer le gros avantage de cette méthode, est que elle nous permet pour un moindre coût d'implémentation, d'avoir une méthode concrète.\n",
    "\n"
   ]
  },
  {
   "cell_type": "code",
   "execution_count": 12,
   "metadata": {},
   "outputs": [
    {
     "data": {
      "text/plain": [
       "Dict{String, Any} with 5 entries:\n",
       "  \"first_level_var\"      => [1.0 0.0 … 0.0 0.0; 0.0 0.0 … 0.0 0.0; … ; 0.0 0.0 …\n",
       "  \"objective_value\"      => 0.0\n",
       "  \"nb_added_constraints\" => 170\n",
       "  \"optimal\"              => true\n",
       "  \"nb_iterations\"        => 3"
      ]
     },
     "execution_count": 12,
     "metadata": {},
     "output_type": "execute_result"
    }
   ],
   "source": [
    "kep_graph = read_kep_file(\"./_cache/data/MD-00001-00000001.wmd\",\"./_cache/data/MD-00001-00000001.dat\");\n",
    "failure_rates = get_failure_rates(kep_graph, \"Constant\");\n",
    "\n",
    "data = extractCycleInformation(kep_graph, 3, \"sum\");\n",
    "C = data[\"Cycles_index\"] \n",
    "cycles = data[\"Cycles\"]\n",
    "U = data[\"U\"]\n",
    "ClusterSize = 5\n",
    "vertic_cycles = data[\"vertic_cycles\"]\n",
    "nb_scenar = 1000\n",
    "\n",
    "ksi = getScenarioClusterK(kep_graph, nb_scenar)\n",
    "\n",
    "res_lshape = LshapeClusterMethod(kep_graph, ClusterSize, C, cycles, U, vertic_cycles, ksi, 50, 1e-3, false, true, 0.95)"
   ]
  }
 ],
 "metadata": {
  "kernelspec": {
   "display_name": "Julia 1.8.2",
   "language": "julia",
   "name": "julia-1.8"
  },
  "language_info": {
   "file_extension": ".jl",
   "mimetype": "application/julia",
   "name": "julia",
   "version": "1.8.2"
  }
 },
 "nbformat": 4,
 "nbformat_minor": 2
}
