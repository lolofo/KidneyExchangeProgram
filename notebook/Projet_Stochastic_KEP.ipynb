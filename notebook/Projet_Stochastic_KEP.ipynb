{
 "cells": [
  {
   "cell_type": "markdown",
   "metadata": {},
   "source": [
    "# 5MA Sujet de projet\n",
    "\n",
    "# Transfert d'organe sous incertitude sur la compatibilité"
   ]
  },
  {
   "attachments": {},
   "cell_type": "markdown",
   "metadata": {},
   "source": [
    "Avant de commencer il faut placer le curseur du répertoire courant à la racine du projet. Cela sera nécessaire pour la suite."
   ]
  },
  {
   "cell_type": "code",
   "execution_count": 3,
   "metadata": {},
   "outputs": [
    {
     "name": "stdout",
     "output_type": "stream",
     "text": [
      "c:\\Users\\loicf\\Documents\\INSA\\GM\\5GM\\OptimIncert\\KidneyExchangeProgram\n"
     ]
    }
   ],
   "source": [
    "using Random, MetaGraphs, SimpleWeightedGraphs, Graphs, JuMP, DelimitedFiles, Distributions, Plots, GraphPlot, HiGHS, DataFrames, Plots\n",
    "\n",
    "while (last(split(pwd(), Base.Filesystem.path_separator)) != \"KidneyExchangeProgram\")\n",
    "    cd(\"..\")\n",
    "end\n",
    "println(pwd())"
   ]
  },
  {
   "attachments": {},
   "cell_type": "markdown",
   "metadata": {},
   "source": [
    "Nous importons ici les différents fichiers qui seront nécessaires au bon fonctionnement de ce projet."
   ]
  },
  {
   "cell_type": "code",
   "execution_count": 4,
   "metadata": {},
   "outputs": [
    {
     "data": {
      "text/plain": [
       "getClusterUsefull"
      ]
     },
     "execution_count": 4,
     "metadata": {},
     "output_type": "execute_result"
    }
   ],
   "source": [
    "# include files for the data reading and data extraction\n",
    "include(join([\"utils\", \"graph_extraction.jl\"], Base.Filesystem.path_separator))\n",
    "include(join([\"utils\", \"data_reading.jl\"], Base.Filesystem.path_separator))\n",
    "\n",
    "# include files for the modeling and solving part\n",
    "\n",
    "## stochastic optimization\n",
    "include(join([\"src\", \"stochastic_framework\", \"master_problem.jl\"], Base.Filesystem.path_separator))\n",
    "include(join([\"src\", \"stochastic_framework\", \"recourse_problem.jl\"], Base.Filesystem.path_separator))\n",
    "include(join([\"src\", \"stochastic_framework\", \"unroll_problem.jl\"], Base.Filesystem.path_separator))\n",
    "include(join([\"src\", \"stochastic_framework\", \"solver.jl\"], Base.Filesystem.path_separator))\n",
    "include(join([\"src\", \"stochastic_framework\", \"solution_evaluation.jl\"], Base.Filesystem.path_separator))\n",
    "\n",
    "## deterministic optimization\n",
    "include(join([\"src\", \"dtm_framework\", \"complete_recourse.jl\"], Base.Filesystem.path_separator))\n",
    "\n",
    "# for the random simulations\n",
    "include(join([\"utils\", \"monte_carlo.jl\"], Base.Filesystem.path_separator))\n",
    "\n",
    "# for displaying the solution\n",
    "include(join([\"utils\", \"visualization.jl\"], Base.Filesystem.path_separator))\n",
    "include(join([\"utils\", \"sum_up.jl\"], Base.Filesystem.path_separator))\n",
    "include(join([\"utils\", \"graph_modification.jl\"], Base.Filesystem.path_separator))\n",
    "    \n",
    "# for solution extraction\n",
    "include(join([\"utils\", \"solution_extraction.jl\"], Base.Filesystem.path_separator))"
   ]
  },
  {
   "cell_type": "markdown",
   "metadata": {},
   "source": [
    "## Introduction\n",
    "\n",
    "Malgré l'augmentation croissante du nombre de transplantations d'organes effectuées chaque année (environ 6000 en 2017 dont 3782 transplantations de reins), la demande reste en perpétuelle augmentation. Ainsi 6000 organes, dont 3782 reins, ont été transplantés en 2017, mais il y avait encore 24000 personnes en attente d'un organe la même année. Les organes transplantés peuvent provenir d'un donneur décédé ou, dans le cas des reins et du foie, d'un donneur vivant consentant, le plus souvent membre de la famille du patient. Hélas, même si un proche accepte de prendre ce risque pour sa santé, il ne sera pas forcément compatible avec le patient. Pour cette raison, les pratiques médicales les législations évoluent dans de nombreux pays afin de permettre la mise en place d'un programme d'échange de dons d'organes.\n",
    "\n",
    "L'exemple le plus simple d'échange de don d'organes est celui où deux patients $P_1$ et $P_2$ sont accompagnés de donneurs $D_1$ et $D_2$. Les patients sont supposés incompatibles avec les donneurs qui les accompagnent, mais on suppose que $D_1$ est compatible avec $P_2$ et $D_2$ avec $P_1$. Il est alors possible de transplanter un organe de $D_1$ vers $P_2$ et de $D_2$ vers $P_1$ avec le consentement de tous et en suivant la procédure légale.\n",
    "\n",
    "Plus généralement, un cycle d'échange d'organes associe $k$ paires de patient-donneur $(P_{i_1},D_{i_1}), \\dots, P_{i_k},D_{i_k})$ de sorte que $D_{i_l}$ donne à $P_{i_{l+1}}$ pour $l=1,\\dots,k-1$ et $D_{i_k}$ donne à $P_{i_1}$.\n",
    "Par ailleurs, le point essentiel est que les transferts soient tous réalisés en même temps et dans le même hôpital pour éviter qu'une rétractation de dernière minute ne lèse un patient et son donneur, et que les patients et donneurs venus ensemble et leur famille puissent se soutenir émotionnellement durant l'hospitalisation. \n",
    "Pour cette raison, le nombre d'échanges prenant place au sein d'un même cycle est nécessairement limité. En pratique, l'organisation d'un cycle de trois paires est déjà une épreuve pour le personnel d'un hôpital, et le plus grand cycle ayant jamais eu lieu a a impliqué six patients et donneurs.\n",
    "\n",
    "Dans ce projet, nous prendrons le point de vue de l'organisme national responsable de la gestion du programme d'échange d'organes. \n",
    "À chaque phase d'échange, l'objectif de cet organisme est de choisir un ensemble de cycles d'échanges entre paires compatibles afin de maximiser le nombre de patients recevant un organe. Dans certains cas, on peut aussi donner une priorité à certains patients en fonction de la gravité de leur état ou de la durée de leur attente. \n",
    "Pour cela, on pourra attribuer des poids différents à chaque patient et maximiser la somme des poids des patients recevant un organe. \n",
    "\n",
    "Lors d'une première phase de planification, l'organisme ne dispose que de données individuelles sur chaque donneur et chaque receveur pour déduire la compatibilité entre donneurs et patients. \n",
    "Ces données sont principalement le groupe sanguin et le complexe majeur d’histocompatibilité, aussi appelé système HLA. \n",
    "Ils en tirent un premier graphe de compatibilité orienté, $G=(V,A)$, où chaque sommet de $V$ représente une paire donneur-patient et où un arc entre deux paires $(P_k,D_k)$ et $(P_l,D_l)$ signifie que $D_k$ est __a priori__ compatible avec $P_l$.\n",
    "Cependant, la compatibilité effective entre deux personnes ne peut être assurée qu'en mettant en présence des tissus des deux personnes dans ce que l'on appelle un _test croisé_. \n",
    "En général, on peut supposer que les données individuelles permettent de déterminer une probabilité de réussite du test croisé.\n",
    "Mais, dans tous les cas, ces tests peuvent être lourds à réaliser pour les patients et demander des ressources importantes aupèrs des services hospitaliers, donc leur nombre sera toujours limité. \n",
    "On pourra pour cela considérer une limite fixe, une limite dépendant du nombre de paires patient-donneur ou bien supposer que les tests ne servent qu'à confirmer la compatibilité après avoir décidé les cycles d'échange entre patients a priori compatibles. \n",
    "\n",
    "\n",
    "---\n",
    "\n",
    "Ici on distingue bien un problème de type optimisation sous incertitude. On une décision à priori qui est les cycles que nous choisissons et ensuite nous réalisons des tests. Ces différents tests nous permettront de nous assurer à postériori des différentes compatibilités réelles.\n",
    "\n",
    "TODO : définir les variables à priori et les variables de recours $x$ seront les variables à priori et $y$ seront les variables de recours\n",
    "\n",
    "\n",
    "- une première contrainte apparaît ici : on ne veut limiter la longueure des cycles. Si on considère des cycles qui sont trop longs on va avoir des problèmes dans notre mise en place à l'hopital.\n",
    "\n",
    "- il y aura ensuite tout un ensemble de contraintes qui nous permettront de définir ce que l'on appel des cycles."
   ]
  },
  {
   "cell_type": "markdown",
   "metadata": {},
   "source": [
    "## Description des données\n",
    "\n",
    "Des jeux de données correspondant à des ensembles de paires patient-donneur ont été partagés dans la PrefLib (https://www.preflib.org/data/MD). Le sous-ensemble d'instances auxquels vous pourrez vous intéresser dans un premier temps accompagne ce sujet sur Moodle. Les dix premières instances (numérotées de 1 à 10) contiennent 10 paires patient-donneur, les 10 suivantes (numérotées de 31 à 40) en contiennent 32 et les 10 dernières (numérotées de 71 à 80) en contiennent 64. Chaque jeu de données est décrit par deux fichiers, l'un énumérant les données relatives à chaque paire et portant l'extension .dat, et l'autre énumérant les données relatives aux arcs et portant l'extension .wmd.\n",
    "Nous vous fournissons une fonction permettant de lire les fichiers relatifs à un jeu de donnéees. "
   ]
  },
  {
   "cell_type": "markdown",
   "metadata": {},
   "source": [
    "Une fois le graphe de compatibilité donné, une instance est entièrement décrite par la connaissance de la distribution des incertitudes dans une approche par optimisation stochastique. Dans une approche par optimisation robuste, le pire cas est déjà connu pour chaque arête, il s'agit d'un échec de la transplantation. Plusieurs modèles d'incertitudes sont classiquement regardés dans la littérature, mais tous considèrent que la réussite du test croisé réalisé sur un arc $a$ suit une loi de Bernouilli de probabilité $1-f_a$ où $f_a$ est une probabilité d'échec donnée. Nous donnons ci-dessous la fonction permettant de calculer des probabilités d'échec pour tous les arcs en fonction d'un paramètre à choisir dans le tableau DISTRIBUTIONS.\n",
    "\n",
    "---\n",
    "\n",
    "Sur chaque arrète on va avoir la probabilité que le transplantation soit réussit ou pas."
   ]
  },
  {
   "cell_type": "code",
   "execution_count": 12,
   "metadata": {},
   "outputs": [
    {
     "name": "stdout",
     "output_type": "stream",
     "text": [
      "error in reading\n",
      "\u001b[1m28×6 DataFrame\u001b[0m\n",
      "\u001b[1m Row \u001b[0m│\u001b[1m name  \u001b[0m\u001b[1m n_edge \u001b[0m\u001b[1m n_node \u001b[0m\u001b[1m n_circle \u001b[0m\u001b[1m n_edge_preprocess \u001b[0m\u001b[1m n_node_preprocess \u001b[0m\n",
      "     │\u001b[90m Int64 \u001b[0m\u001b[90m Int64  \u001b[0m\u001b[90m Int64  \u001b[0m\u001b[90m Int64    \u001b[0m\u001b[90m Int64             \u001b[0m\u001b[90m Int64             \u001b[0m\n",
      "─────┼───────────────────────────────────────────────────────────────────────\n",
      "   1 │     1      59      16         3                  6                  4\n",
      "   2 │     2      65      16        21                 38                 10\n",
      "   3 │     3      50      16         3                  6                  4\n",
      "   4 │     4      26      16         0                  0                  0\n",
      "   5 │     5      70      16        36                 44                 13\n",
      "   6 │     6      28      16         4                  8                  5\n",
      "   7 │     7      48      16         8                 11                  5\n",
      "   8 │     8      48      16        38                 40                 12\n",
      "   9 │     9      59      16        33                 40                 11\n",
      "  10 │    10      47      16        15                 17                  7\n",
      "  11 │    31     325      32       841                316                 31\n",
      "  12 │    32     285      32       828                249                 29\n",
      "  13 │    33     268      32      1965                263                 31\n",
      "  14 │    34     248      32       339                248                 32\n",
      "  15 │    35     299      32       986                235                 27\n",
      "  16 │    36     237      32       158                220                 29\n",
      "  17 │    37     242      32       326                168                 26\n",
      "  18 │    38     314      32       993                252                 28\n",
      "  19 │    39     284      32       852                252                 30\n",
      "  20 │    40     168      32         4                 11                  6\n",
      "  21 │    72     967      64      5975                861                 59\n",
      "  22 │    73    1087      64     13838               1034                 61\n",
      "  23 │    74     991      64     11381                980                 62\n",
      "  24 │    75     961      64      5272                759                 57\n",
      "  25 │    76     999      64      7067                999                 64\n",
      "  26 │    77     843      64      3297                759                 60\n",
      "  27 │    78     839      64      7198                771                 60\n",
      "  28 │    79     954      64      9499                865                 60"
     ]
    }
   ],
   "source": [
    "j = 1\n",
    "list_dir = readdir(join([\"_cache\", \"data\"], Base.Filesystem.path_separator));\n",
    "myregex = r\"MD-00001-0+(\\d+).dat\"\n",
    "list_name = Int[]\n",
    "list_n_nodes = Int[]\n",
    "list_n_edges = Int[]\n",
    "list_n_circles = Int[]\n",
    "list_n_nodes_preprocess = Int[]\n",
    "list_n_edges_preprocess = Int[]\n",
    "\n",
    "for i in 1:1:(length(list_dir)/2)\n",
    "    try\n",
    "        kep_graph = read_kep_file(\"./_cache/data/\"*list_dir[j+1],\"./_cache/data/\"*list_dir[j]);\n",
    "        append!(list_name, parse(Int64, match(myregex, list_dir[j])[1]))\n",
    "        append!(list_n_edges, ne(kep_graph))\n",
    "        append!(list_n_nodes, nv(kep_graph))\n",
    "        append!(list_n_circles, length(simplecycles_limited_length(kep_graph, 4, 10^6)))\n",
    "        # preprocessing \n",
    "        kep_graph = removetUselessNodes(kep_graph, 4)\n",
    "        append!(list_n_edges_preprocess, ne(kep_graph))\n",
    "        append!(list_n_nodes_preprocess, nv(kep_graph))\n",
    "        j += 2\n",
    "    catch\n",
    "        println(\"error in reading\")\n",
    "        j = j+1\n",
    "    end\n",
    "end\n",
    "\n",
    "print(DataFrame(name = list_name, \n",
    "n_edge=list_n_edges, \n",
    "n_node=list_n_nodes, \n",
    "n_circle=list_n_circles, \n",
    "n_edge_preprocess=list_n_edges_preprocess, \n",
    "n_node_preprocess=list_n_nodes_preprocess))"
   ]
  },
  {
   "cell_type": "markdown",
   "metadata": {},
   "source": [
    "## Travail à réaliser\n",
    "\n",
    "Nous vous donnons une grande liberté sur la façon de traiter le sujet. En fonction de décisions que vous justifierez, vous pourrez traiter le problème par une approche d'optimisation stochastique, d'optimisation robuste ou de toute autre approche averse aux risques. Le travail commencera par décrire l'approche suivie puis le modèle en découlant. Un code Julia permettra ensuite d'implémenter une ou plusieurs méthodes de résolution pour le modèle. Vous pourrez tester la ou les méthodes sur des instances de la PrefLib. Vos interprétations devront rendre compte des enjeux pratiques et des enjeux algorithmiques (optimalité, temps de calcul, passage à l'échelle, etc.) de votre travail.\n",
    "Le résultat de votre travail sera à rendre dans ce notebook avant le 14 janvier 2022. Chaque cellule du notebook aura préalablement été exécutée (sans erreur, évidemment), et il importera que les affichages utilisés dans vos interprétations y apparaissent. "
   ]
  },
  {
   "cell_type": "markdown",
   "metadata": {},
   "source": [
    "## Les données"
   ]
  },
  {
   "cell_type": "markdown",
   "metadata": {},
   "source": [
    "Nous allons travailler ici avec des données sous forme de graphes. Les fonctions `read_kep_file` et `get_failure_rates` du fichier `.\\utils\\data_reading.jl` nous permettent de lire les fichier de données correspondant au problème de construire le graphe correspondant et ensuite de venir calculer les probabilités d'échec (du test croisé) de chaque arc. Voici un exemple d'utilisation des deux premières fonctions :"
   ]
  },
  {
   "cell_type": "code",
   "execution_count": 4,
   "metadata": {},
   "outputs": [],
   "source": [
    "kep_graph = read_kep_file(\"./_cache/data/MD-00001-00000080.wmd\",\"./_cache/data/MD-00001-00000080.dat\");\n",
    "failure_rates = get_failure_rates(kep_graph, \"Constant\");"
   ]
  },
  {
   "cell_type": "markdown",
   "metadata": {},
   "source": [
    "La fonction `extractCycleInformation` du fichier `.\\utils\\graph_extraction.jl`, nous permettra de venir extraire des données du graph crée. Cette fonction est orienté sur les cycles."
   ]
  },
  {
   "cell_type": "code",
   "execution_count": 5,
   "metadata": {},
   "outputs": [
    {
     "name": "stdout",
     "output_type": "stream",
     "text": [
      "```\n",
      "extractCycleInformation\n",
      "```\n",
      "\n",
      "This function allow us to extract the relevant information from the kep*graph. The relevant information here concern the cycle formulation of the kep*graph.\n",
      "\n",
      "# Parameters\n",
      "\n",
      "  * `g` : the kep_graph\n",
      "  * `K` (int): the length of the Cycles\n",
      "  * `mode`: the method to use to compute the calculus of the utilities\n",
      "\n",
      "# Return\n",
      "\n",
      "This function returns a Julia dictionnary with the following keys :\n",
      "\n",
      "  * `Cycles_index` : a list of integer each element of the list corresponds to the index of a cycle\n",
      "  * `vertic_cycles` : a dictionnary with vertices as keys and a list of cycles which involve the key as value\n",
      "  * `Cycles` : the exhaustive enumeration of the cycles\n",
      "  * `P` : for each cycle, the probability of failure. To get the success do 1 - ...\n",
      "  * `U` : the utility of each cycle\n"
     ]
    }
   ],
   "source": [
    "print(@doc(extractCycleInformation))"
   ]
  },
  {
   "cell_type": "code",
   "execution_count": 6,
   "metadata": {},
   "outputs": [],
   "source": [
    "extract_data = extractCycleInformation(kep_graph, 3, \"sum\");"
   ]
  },
  {
   "attachments": {},
   "cell_type": "markdown",
   "metadata": {},
   "source": [
    "## Un problème (presque) à recours"
   ]
  },
  {
   "cell_type": "markdown",
   "metadata": {},
   "source": [
    "Notre première vision de ce problème était de réfléchir uniquement sur les cycles. Nous adoptons la philosophie qui consiste à dire que on sélectionne des cycles et nous ne réalisons les tests croisés que parmis les cycles que nous avons sélectionnés\n",
    "\n",
    "On définit ainsi les données suivantes :\n",
    "\n",
    "- $C$ : l'ensemble des cycles de longueurs au plus $K$\n",
    "- $\\forall c \\in C \\quad w_c$ : désignera l'utilité du cycle $c$\n",
    "- $\\forall ~c~\\in C\\quad \\xi_c(\\omega) \\in \\{0, 1\\} = 1$ : si et seulement si on ne peut pas sélectionner le cycle $c$ (les tests sont mauvais) pour la réalisation $\\omega$\n",
    "\n",
    "On définit les variables suivantes\n",
    "\n",
    "- $1^{er}$ niveau : $\\forall c \\in C\\quad x_c \\in \\{0, 1\\} = 1$ si et seulement si, on décide de sélectionner le cycle $c$.\n",
    "- recours : $\\forall c \\in C\\quad y_c \\in \\{0, 1\\} = 1$ on ne peut pas sélectionner le cycle $c$ suite à la réalisation des tests.\n",
    "\n",
    "$$\n",
    "\\begin{equation}\n",
    "\t(\\mathbb{CRP}) := \\left\\{\\begin{aligned}\n",
    "        \\underset{x}{\\min} \\quad & - \\sum_{c \\in C} x_cw_c +\\mathbb{E}\\left(\\underset{y}{\\min} \\left[\\sum_{c \\in C} y_cw_c\\right]\\right)\\\\\n",
    "         s.c \\quad &\\sum_{c\\in C_i}x_c\\leq 1~\\forall i \\in V\\\\ % contrainte déterministe\n",
    "         % les contraintes stochastiques\n",
    "         & y_c = \\xi_c(\\omega)~x_c\\quad \\forall c \\in C \\quad \\forall \\omega \\in \\Omega\\\\ \n",
    "         & x_c \\in \\{0,1\\} \\quad \\forall c \\in C\\\\\n",
    "         & y_c \\in \\{0,1\\} \\quad \\forall c \\in C\n",
    "\t\\end{aligned}\\right.\n",
    "\\end{equation}\n",
    "$$\n",
    "\n",
    "Nous pouvons ainsi reformuler ce problème de la façon suivante :\n",
    "\n",
    "$$\n",
    "\\begin{equation}\n",
    "\t(\\mathbb{CRP}) := \\left\\{\\begin{aligned}\n",
    "        \\underset{x}{\\min} \\quad & - \\sum_{c \\in C} x_cw_c +\\mathbb{E}\\left( \\left[\\sum_{c \\in C} \\xi_cx_cw_c\\right]\\right)\\\\\n",
    "         s.c \\quad &\\sum_{c\\in C_i}x_c\\leq 1~\\forall i \\in V\\\\ % contrainte déterministe\n",
    "         & x_c \\in \\{0,1\\} \\quad \\forall c \\in C\\\\\n",
    "\t\\end{aligned}\\right.\n",
    "\\end{equation}\n",
    "$$\n",
    "\n",
    "Nous obtenons finalement :\n",
    "\n",
    "$$\n",
    "\\begin{equation}\n",
    "\t(\\mathbb{CRP}) := \\left\\{\\begin{aligned}\n",
    "        \\underset{x}{\\min} \\quad & \\sum_{c \\in C} x_cw_c(\\mathbb{E} \\left[ \\xi_c\\right] - 1)\\\\\n",
    "         s.c \\quad &\\sum_{c\\in C_i}x_c\\leq 1~\\forall i \\in V\\\\ % contrainte déterministe\n",
    "         & x_c \\in \\{0,1\\} \\quad \\forall c \\in C\\\\\n",
    "\t\\end{aligned}\\right.\n",
    "\\end{equation}\n",
    "$$\n",
    "\n",
    "Avec $\\mathbb{E}[\\xi_c] = \\mathbb{P}\\{\\xi_c = 1\\}$ d'où $\\mathbb{E}[\\xi_c] - 1 = -\\mathbb{P}\\{\\xi_c = 0\\}$\n",
    "\n",
    "\n",
    "Ainsi nous avons :\n",
    "\n",
    "$$\n",
    "\\begin{equation}\n",
    "\t(\\mathbb{CRP}) := \\left\\{\\begin{aligned}\n",
    "        \\underset{x}{\\max} \\quad & \\sum_{c \\in C} x_cw_c(\\mathbb{P}\\{\\xi_c = 0\\})\\\\\n",
    "         s.c \\quad &\\sum_{c\\in C_i}x_c\\leq 1~\\forall i \\in V\\\\ % contrainte déterministe\n",
    "         & x_c \\in \\{0,1\\} \\quad \\forall c \\in C\\\\\n",
    "\t\\end{aligned}\\right.\n",
    "\\end{equation}\n",
    "$$\n",
    "\n",
    "\n",
    "Ainsi nous pourrons note $\\tilde{w}_c = w_c \\times \\mathbb{P}\\{\\xi_c = 0\\}$, la nouvelle utilité d'un cycle qui sera en faite une combinaison entre l'utilité réelle du cyle $w_c$ et la probabilité que ce dernier se réalise. Nous pouvons ici que un cycle avec $w_c$ grand mais une probabilité de succés très faible aura peu de chance d'être choisi. En effet pourquoi choisir ce cycle si on sait qu'il n'a aucune chance (ou presque) de se réaliser.\n",
    "\n",
    "Nous avons finalement le problème suivante :\n",
    "\n",
    "$$\n",
    "\\begin{equation}\n",
    "\t(\\mathbb{CRP}) := \\left\\{\\begin{aligned}\n",
    "        \\underset{x}{\\max} \\quad & \\sum_{c \\in C} x_c\\hat{w}_c\\\\\n",
    "         s.c \\quad &\\sum_{c\\in C_i}x_c\\leq 1~\\forall i \\in V\\\\ % contrainte déterministe\n",
    "         & x_c \\in \\{0,1\\} \\quad \\forall c \\in C\\\\\n",
    "\t\\end{aligned}\\right.\n",
    "\\end{equation}\n",
    "$$\n",
    "\n",
    "Nous pouvons voir ainsi que ce problème $\\mathbb{CRP}$ est donc un problème totalement déterministe. Nous proposons la méthode `completRecourseProblem` dans le fichier `dtm_framework/complete_recourse.jl`. Pour résoudre ce dernier. Cette dernière fonction possède la signature suivante :"
   ]
  },
  {
   "cell_type": "code",
   "execution_count": 7,
   "metadata": {},
   "outputs": [
    {
     "name": "stdout",
     "output_type": "stream",
     "text": [
      "```\n",
      "completRecourseProblem\n",
      "```\n",
      "\n",
      "This is the deterministic version of the problem with the complete recourse.\n",
      "\n",
      "# Parameters\n",
      "\n",
      "  * `C` : index of the cycles\n",
      "  * `vertic_cycles` : a dictionnary, at the key i of this list, give the a list of the index of the cycles which involve the node i\n",
      "  * `U` : the utilities of each cycle in the graph.\n",
      "  * `S_P` : probability of sucess of each cycle\n"
     ]
    }
   ],
   "source": [
    "print(@doc(completRecourseProblem))"
   ]
  },
  {
   "cell_type": "code",
   "execution_count": 8,
   "metadata": {},
   "outputs": [],
   "source": [
    "# the data\n",
    "kep_graph = read_kep_file(\"./_cache/data/MD-00001-00000080.wmd\",\"./_cache/data/MD-00001-00000080.dat\");\n",
    "failure_rates = get_failure_rates(kep_graph, \"Constant\");\n",
    "data = extractCycleInformation(kep_graph, 3, \"sum\");\n",
    "\n",
    "# the model\n",
    "res = completRecourseProblem(data[\"Cycles_index\"], data[\"vertic_cycles\"], data[\"U\"], 1 .-data[\"P\"]);\n",
    "model = res[\"model\"]\n",
    "\n",
    "optimize!(model)\n",
    "\n",
    "solution = value.(model[:x])\n",
    ";"
   ]
  },
  {
   "attachments": {},
   "cell_type": "markdown",
   "metadata": {},
   "source": [
    "## La méthode des *clusters*"
   ]
  },
  {
   "attachments": {},
   "cell_type": "markdown",
   "metadata": {},
   "source": [
    "Les différents hopitaux nous ont contactés et nous ont expliqués que ce n'était pas à nous de dicter les tests à faire entre les différents patients. Ceci relève du domaine médicale et des infrastructure présentes dans chaque hopitaux. Il est attendu de nous de regrouper les pairs donneur receveur sous la forme de groupes pertinents. Les groupes formés alors seront pris en charge par un hôpital et au sein d'un groupe de personne toutes les différentes batteries de tests vont avoir lieu et permettront de déterminer les échanges à réaliser. Pour des raisons logistiques les hopitaux souhaitent aussi ne prendre en charge que des groupes de tailles raisonables. On notera dans la suite par la constante, $U$ la taille maximale des groupes autorisés. En effet sans une telle contrainte, nous pourrions mettre tous les patients dans le même groupe, réaliser tous les tests possibles et ensuite réaliser les échanges (Impossible !).\n",
    "\n",
    "Notre objectif est alors le suivant, former des groupes (*cluster*) de personnes qui seront ensuites pris en charges par les hopitaux. Les clusters formés comme indiqués doivent être pertinents. Ils doivent permettre en moyenne de maximiser l'utilité des échanges que l'on génère.\n",
    "\n",
    "Nous pouvons modéliser tout ceci de manière plus formelle sous la forme d'un problème d'optimisation stochastique avec recours. Nous noterons tout d'abord $C_K$ l'ensemble des cycles, du graph d'échange, de longueure $K$ ou moins. L'ensemble des scénarios possibles pour les différents tests croisés sera noté $\\Omega$ et on notera $\\omega$ une réalisation de l'ensemble des tests croisés. A noter que un scénario $\\omega$ ne correpond pas à la réalisation de un test croisé, mais bien de l'ensemble des tests croisés dans le graphe d'échange.\n",
    "\n",
    "Nous considérerons les variables :\n",
    "\n",
    "- 1er niveau : $\\forall (i,j) \\in V\\times V\\quad x_{i,j} \\in \\{0,1\\} = 1$ ssi $i$ et $j$ sont dans le même groupe.\n",
    "- recours : $\\forall c \\in C_K \\quad y_c(\\omega) \\in \\{0,1\\}=1$ ssi on décide de choisir le cycle $c$ pour réaliser les échanges dans le scénario $\\omega$.\n",
    "\n",
    "Nous définission le *cluster problem* de la manière suivante :\n",
    "\n",
    "$$\n",
    "\\begin{equation}\n",
    "\t\\mathbb{CP}:= \\left\\{\\begin{aligned}\n",
    "        \\underset{y}{\\max} &\\quad \\mathbb{E}_{\\omega}\\left[y_c(\\omega) w_c\\right]\\\\\n",
    "         s.c &\\quad x_{i,j} = x_{j,i}\\quad \\forall (i,j) \\in V\\times V\\\\\n",
    "         &\\quad x_{i,j} + x_{j,k} -1 \\leq x_{i,k} \\quad \\forall (i,j,k) \\in V\\times V\\times V\\\\\n",
    "         &\\quad \\sum_{j \\in V} x_{i,j} \\leq U \\quad \\forall i \\in V \\\\\n",
    "         &\\quad y_c(\\omega) \\leq x_{i,j}\\xi_{i,j}(\\omega) \\quad \\forall c \\in C_k, ~\\forall (i,j) \\in c,~ \\forall \\omega \\in \\Omega \\\\\n",
    "         &\\quad \\sum_{c \\in C_K(i)} y_c(\\omega) \\leq 1 \\quad \\forall i \\in V,\\quad\\forall \\omega \\in \\Omega\\\\\n",
    "\t\\end{aligned}\\right.\n",
    "\\end{equation}\n",
    "$$\n",
    "\n",
    "Nous pouvons faire plusieurs remarques sur ce problème :\n",
    "\n",
    "- Tout d'abord, nous pouvons voir que la variable de premier recours nous donne certes la formation des clusters, mais la variables de recours correspond pour chaque scénario $\\omega$ à la variable de décision du problème déterministe vu dans les sections précédentes.\n",
    "\n",
    "- Ce problème est un problème qui est à recours relatif complet. En effet nous pouvons voir que peut importe la valeur de $x$ que l'on prend nous pourrons choisir une valeur de $y$ pour chaque scénério qui sera réalisable. Pour vérifier ceci il suffit de se placer au pire cas qui est lorsque $x$ vaut $0$ (*i.e.* on ne forme aucun cluster), dans ce cas, prendre $y=0$ permet de respecter les contraintes. Cette propriété jouera un rôle intéressant, particulièrement lors du passage au dual sur la problème de recours (cf sections suivante)."
   ]
  },
  {
   "attachments": {},
   "cell_type": "markdown",
   "metadata": {},
   "source": [
    "### Méthode en L : Coupes de Benders\n",
    "Dans le problème présentée précédemment nous avons finalement le problème de recours $v_{\\omega}(x)$ (pour une réalisation $\\omega$ des incertitudes) qui peut se présenter sous la forme suivante :\n",
    "\n",
    "$$\n",
    "\\begin{equation}\n",
    "\tv_{\\omega}(x):= \\left\\{\\begin{aligned}\n",
    "        \\underset{y}{\\max} \\quad & \\sum_{c \\in C_{K}}y_c w_c\\\\\n",
    "         s.c \\quad & y_c \\leq x_{i,j} \\xi_{i,j}(\\omega) \\quad \\forall (i,j) \\in c ~,~\\forall c \\in C_K \\\\\n",
    "         & \\sum_{c \\in C_i} y_c \\leq 1 \\quad \\forall i \\in V \\\\\n",
    "         & y_c \\leq 1 \\quad \\forall c \\in C_K\n",
    "\t\\end{aligned}\\right.\n",
    "\\end{equation}\n",
    "$$\n",
    "\n",
    "Nous pouvons proposer un dual pour ce problème :\n",
    "\n",
    "$$\n",
    "\\begin{equation}\n",
    "\td_{\\omega}(x):= \\left\\{\\begin{aligned}\n",
    "        \\underset{y}{\\min} \\quad & \\sum_{c \\in C_{K}}\\sum_{(i,j) \\in c} \\lambda_{(i,j)}^c x_{i,j}\\xi_{i,j}(\\omega) + \\sum_{i \\in V}\\mu_i + \\sum_{c \\in C_K} \\Delta_c\\\\\n",
    "         s.c \\quad & \\sum_{i \\in c} \\mu_i + \\Delta_c + \\sum_{(i,j) \\in c} \\lambda_{(i,j)}^c\\geq w_c \\quad \\forall c \\in C_K \\\\\n",
    "\t\\end{aligned}\\right.\n",
    "\\end{equation}\n",
    "$$\n",
    "\n",
    "Nous pouvons faire une remarque intéressante ici. Le polyhèdre $P$ définit par :\n",
    "\n",
    "$$\n",
    "P := \\{\\lambda, \\mu, \\Delta \\quad |\\quad \\sum_{i \\in c} \\mu_i + \\Delta_c + \\sum_{(i,j) \\in c} \\lambda_{(i,j)}^c\\geq w_c \\quad \\forall c \\in C_K\\}\n",
    "$$\n",
    "\n",
    "Ne dépend pas de la réalisation $\\omega$ des incertitudes. Nous noterons, par la suite, $\\Lambda(P)$ les points extrèmes de ce polyhèdre. A noter que ici notre problème\n",
    "\n",
    "Par dualité forte nous avons :\n",
    "\n",
    "$$\n",
    "\\begin{equation}\n",
    "\tv_{\\omega}(x)= d_{\\omega}(x)= \\left\\{\\begin{aligned}\n",
    "        \\underset{y}{\\min} \\quad & \\sum_{c \\in C_{K}}\\sum_{(i,j) \\in c} \\lambda_{(i,j)}^c x_{i,j}\\xi_{i,j}(\\omega) + \\sum_{i \\in V}\\mu_i + \\sum_{c \\in C_K} \\Delta_c\\\\\n",
    "         s.c \\quad & \\lambda, \\mu, \\Delta ~\\in~\\Lambda(P)\\\\\n",
    "\t\\end{aligned}\\right.\n",
    "\\end{equation}\n",
    "$$\n",
    "\n",
    "Ainsi nous avons :\n",
    "\n",
    "$$\n",
    "\\begin{equation}\n",
    "\tv_{\\omega}(x):= \\left\\{\\begin{aligned}\n",
    "        \\underset{y}{\\max} \\quad & \\theta \\\\\n",
    "         s.c \\quad & \\theta \\leq \\sum_{c \\in C_{K}}\\sum_{(i,j) \\in c} \\lambda_{(i,j)}^c x_{i,j}\\xi_{i,j}(\\omega) + \\sum_{i \\in V}\\mu_i + \\sum_{c \\in C_K} \\Delta_c \\quad\\forall~\\lambda, \\mu, \\Delta ~\\in~\\Lambda(P)\\\\\n",
    "\t\\end{aligned}\\right.\n",
    "\\end{equation}\n",
    "$$\n",
    "\n",
    "Nous pouvons finalement réecrir notre problème principal, de la manière suivante :\n",
    "\n",
    "$$\n",
    "\\begin{equation}\n",
    "\t\\mathbb{CP}:= \\left\\{\\begin{aligned}\n",
    "        \\underset{x}{\\max} \\quad & \\mathbb{E}_{\\omega}[\\theta(\\omega)] \\\\\n",
    "         s.c &\\quad \\theta(\\omega) \\leq \\sum_{c \\in C_{K}}\\sum_{(i,j) \\in c} \\lambda_{(i,j)}^c x_{i,j}\\xi_{i,j}(\\omega) + \\sum_{i \\in V}\\mu_i + \\sum_{c \\in C_K} \\Delta_c \\quad\\forall~\\lambda, \\mu, \\Delta ~\\in~\\Lambda(P)\\quad \\forall \\omega \\in \\Omega\\\\\n",
    "         &\\quad x_{i,j} = x_{j,i}\\quad \\forall (i,j) \\in V\\times V\\\\\n",
    "         &\\quad x_{i,j} + x_{j,k} -1 \\leq x_{i,k} \\quad \\forall (i,j,k) \\in V\\times V\\times V\\\\\n",
    "         &\\quad \\sum_{j \\in V} x_{i,j} \\leq U \\quad \\forall i \\in V \\\\\n",
    "\t\\end{aligned}\\right.\n",
    "\\end{equation}\n",
    "$$\n",
    "\n",
    "<ins>La méthode de Benders</ins> :\n",
    "\n",
    "La méthode en L (ou méthode de Benders) consistera à ne pas considérer l'ensemble $\\Lambda(P)$ car combinatoire, mais considérer l'ensemble $\\tilde{\\Lambda}(P) \\subset \\Lambda(P)$. Nous résolvons la régularisation suivante :\n",
    "\n",
    "$$\n",
    "\\begin{equation}\n",
    "\t\\tilde{\\mathbb{CP}}:= \\left\\{\\begin{aligned}\n",
    "        \\underset{x}{\\max} \\quad & \\mathbb{E}_{\\omega}[\\theta(\\omega)] \\\\\n",
    "         s.c &\\quad \\theta(\\omega) \\leq \\sum_{c \\in C_{K}}\\sum_{(i,j) \\in c} \\lambda_{(i,j)}^c x_{i,j}\\xi_{i,j}(\\omega) + \\sum_{i \\in V}\\mu_i + \\sum_{c \\in C_K} \\Delta_c \\quad\\forall~\\lambda, \\mu, \\Delta ~\\in~\\tilde{\\Lambda}(P)\\quad \\forall \\omega \\in \\Omega\\\\\n",
    "         &\\quad x_{i,j} = x_{j,i}\\quad \\forall (i,j) \\in V\\times V\\\\\n",
    "         &\\quad x_{i,j} + x_{j,k} -1 \\leq x_{i,k} \\quad \\forall (i,j,k) \\in V\\times V\\times V\\\\\n",
    "         &\\quad \\sum_{j \\in V} x_{i,j} \\leq U \\quad \\forall i \\in V \\\\\n",
    "\t\\end{aligned}\\right.\n",
    "\\end{equation}\n",
    "$$\n",
    "\n",
    "La résolution de ce problème nous donne une valeur de $x$ (solution de premier niveau) ainsi que de $\\theta$. Ainsi pour cette valeur de $x$ donnée ainsi que pour l'ensemble de nos scénarios $\\omega$ nous résolvons les différents problèmes $d_{\\omega}(x)$. La résolution de ces différents problèmes pour chaque scénarios nous donne de nouveaux points extrèmes $(\\lambda(\\omega), \\mu(\\omega), \\Delta(w))$ du polyhèdre $\\Lambda(P)$. \n",
    "\n",
    "La question étant : est-il judicieux d'ajouter ces points extrèmes à notre sous ensemble ? En effet, ajouter des points extrèmes fait grossir notre problème et le rend par conséquent plus lent pour la résolution. Nous donnons ici un test nous permettant de répondre à cette question\n",
    "\n",
    "Pour chaque scénario $\\omega$ nous disposons de la variable $\\theta(\\omega)$ (suite à la première résolution), ainsi nous vérifions :\n",
    "\n",
    "$$\n",
    "\\theta(\\omega) \\leq \\sum_{c \\in C_{K}}\\sum_{(i,j) \\in c} \\lambda_{(i,j)}^c(\\omega) x_{i,j}\\xi_{i,j}(\\omega) + \\sum_{i \\in V}\\mu_i(\\omega) + \\sum_{c \\in C_K} \\Delta_c(\\omega) + \\epsilon\n",
    "$$\n",
    "\n",
    "Où $\\epsilon > 0$ est une tolérance choisi arbitrairement petite. Si cette condition est vérifié, le point extrème trouvé n'est pas utile, sinon nous le rajoutons à notre ensemble (cela fait une contrainte ajoutée à notre problème initial), puis nous reprenons depuis le début.\n",
    "\n",
    "Si a une itération, pour tous les scénarios $\\omega$ tous les points extrèmes ajoutés ne sont pas judicieux à ajouter alors nous arrétons."
   ]
  },
  {
   "attachments": {},
   "cell_type": "markdown",
   "metadata": {},
   "source": [
    "Nous proposons ici la méthode `LshapeClusterMethod` qui nous permet de fournir la méthode Benders pour notre problème avec les *clusters*. Le prototype de la fonction est donné dans la cellule suivante."
   ]
  },
  {
   "cell_type": "code",
   "execution_count": 5,
   "metadata": {},
   "outputs": [
    {
     "name": "stdout",
     "output_type": "stream",
     "text": [
      "```\n",
      "LshapeClusterMethod\n",
      "```\n",
      "\n",
      "This method propose the Benders method for the clustering problem. This method uses functions available in the files :\n",
      "\n",
      "  * recourse_problem.jl\n",
      "  * master_problem.jl\n",
      "\n",
      "# Parameters\n",
      "\n",
      "  * `kep_graph` : the graph of the kidney exchange program\n",
      "  * `ClusterSize` : the size of the clusters\n",
      "  * `C` : the list of the cycle index\n",
      "  * `cycles` : the list of the real cycles\n",
      "  * `U` : the list of the utilities\n",
      "  * `vertic_cycles` : a Julia dictionnary. for each key the value is a list corresponding to the cycles involving the key\n",
      "  * `ksi` : the tensor of the scenarios\n",
      "  * `itmax` : the number of maximum iteration\n",
      "  * `verbose` : if true, the main steps will be printed on the standard output.\n",
      "  * `cvar`:\n",
      "\n",
      "# Returns\n",
      "\n",
      "This method returns a dictionnary with the following keys :\n",
      "\n",
      "  * `first_level_var` : the value of x i.e. the first level solution.\n",
      "  * `objective_value` : the objective value.\n",
      "  * `nb_added_constraints` : the number of constraints we added through the iterations of the algorithm\n",
      "  * `optimal` : a boolean value : true : the problem is solved\n",
      "  * `nb_iterations` : the number of iterations the algorithm did\n"
     ]
    }
   ],
   "source": [
    "print(@doc(LshapeClusterMethod))"
   ]
  },
  {
   "attachments": {},
   "cell_type": "markdown",
   "metadata": {},
   "source": [
    "### Premiers tests sur la méthode en L"
   ]
  },
  {
   "attachments": {},
   "cell_type": "markdown",
   "metadata": {},
   "source": [
    "Nous allons venir tester cette méthode sur plusieurs exemples simples (pour la rapidité des calculs). Pour tester nos méthodes nous allons comparer la solution obtenu par l'algorithme de Benders et la solution du problème déroulé *i.e.* la solution du problème où on écrit toutes les contraintes pour chaque scénarios. On écrit comme un programme linéaire le problème $\\mathbb{CP}$. Cette dernière méthode donne la solution théorique que l'on doit trouver. L'algorithme de Benders doit-il trouver cette solution là. Non pas forcément, la méthode de Benders utilise une relaxation linéaire (on considère les variables de recours comme continues et non plus binaires) lors de la résolution des problèmes de recours, de manière à en fournir un dual, qui sera ensuite ajouté à notre problème principal. Nous savons cependant que comme la méthode de Benders résoud une relaxation linéaire la solution qu'elle fournit doit-être au moins supérieur ou égale à la solution du problème déroulé.\n",
    "\n",
    "Pour les différentes résolutions, nous utiliserons les paramètres suivant :\n",
    "- $3$ comme taille maximum de cycles\n",
    "- $10$ comme taille de cluster\n",
    "- $100$ scénarios\n",
    "- les probabilités associées à chaque arc seront égales.\n"
   ]
  },
  {
   "cell_type": "code",
   "execution_count": 6,
   "metadata": {},
   "outputs": [
    {
     "name": "stdout",
     "output_type": "stream",
     "text": [
      "Infeasible Problem\n"
     ]
    },
    {
     "data": {
      "text/html": [
       "<div><div style = \"float: left;\"><span>9×6 DataFrame</span></div><div style = \"clear: both;\"></div></div><div class = \"data-frame\" style = \"overflow-x: scroll;\"><table class = \"data-frame\" style = \"margin-bottom: 6px;\"><thead><tr class = \"header\"><th class = \"rowNumber\" style = \"font-weight: bold; text-align: right;\">Row</th><th style = \"text-align: left;\">Benders_status</th><th style = \"text-align: left;\">nb_benders_iterations</th><th style = \"text-align: left;\">nb_added_constraints</th><th style = \"text-align: left;\">objective_benders</th><th style = \"text-align: left;\">unroll_objective</th><th style = \"text-align: left;\">number_of_cycles</th></tr><tr class = \"subheader headerLastRow\"><th class = \"rowNumber\" style = \"font-weight: bold; text-align: right;\"></th><th title = \"Bool\" style = \"text-align: left;\">Bool</th><th title = \"Int64\" style = \"text-align: left;\">Int64</th><th title = \"Int64\" style = \"text-align: left;\">Int64</th><th title = \"Float64\" style = \"text-align: left;\">Float64</th><th title = \"Float64\" style = \"text-align: left;\">Float64</th><th title = \"Int64\" style = \"text-align: left;\">Int64</th></tr></thead><tbody><tr><td class = \"rowNumber\" style = \"font-weight: bold; text-align: right;\">1</td><td style = \"text-align: right;\">true</td><td style = \"text-align: right;\">2</td><td style = \"text-align: right;\">18</td><td style = \"text-align: right;\">0.38</td><td style = \"text-align: right;\">0.38</td><td style = \"text-align: right;\">2</td></tr><tr><td class = \"rowNumber\" style = \"font-weight: bold; text-align: right;\">2</td><td style = \"text-align: right;\">true</td><td style = \"text-align: right;\">4</td><td style = \"text-align: right;\">70</td><td style = \"text-align: right;\">0.89</td><td style = \"text-align: right;\">0.89</td><td style = \"text-align: right;\">10</td></tr><tr><td class = \"rowNumber\" style = \"font-weight: bold; text-align: right;\">3</td><td style = \"text-align: right;\">true</td><td style = \"text-align: right;\">2</td><td style = \"text-align: right;\">16</td><td style = \"text-align: right;\">0.32</td><td style = \"text-align: right;\">0.32</td><td style = \"text-align: right;\">2</td></tr><tr><td class = \"rowNumber\" style = \"font-weight: bold; text-align: right;\">4</td><td style = \"text-align: right;\">false</td><td style = \"text-align: right;\">0</td><td style = \"text-align: right;\">0</td><td style = \"text-align: right;\">-1.0</td><td style = \"text-align: right;\">-1.0</td><td style = \"text-align: right;\">0</td></tr><tr><td class = \"rowNumber\" style = \"font-weight: bold; text-align: right;\">5</td><td style = \"text-align: right;\">true</td><td style = \"text-align: right;\">12</td><td style = \"text-align: right;\">238</td><td style = \"text-align: right;\">0.99</td><td style = \"text-align: right;\">0.99</td><td style = \"text-align: right;\">17</td></tr><tr><td class = \"rowNumber\" style = \"font-weight: bold; text-align: right;\">6</td><td style = \"text-align: right;\">true</td><td style = \"text-align: right;\">2</td><td style = \"text-align: right;\">36</td><td style = \"text-align: right;\">0.72</td><td style = \"text-align: right;\">0.72</td><td style = \"text-align: right;\">4</td></tr><tr><td class = \"rowNumber\" style = \"font-weight: bold; text-align: right;\">7</td><td style = \"text-align: right;\">true</td><td style = \"text-align: right;\">3</td><td style = \"text-align: right;\">42</td><td style = \"text-align: right;\">0.81</td><td style = \"text-align: right;\">0.81</td><td style = \"text-align: right;\">6</td></tr><tr><td class = \"rowNumber\" style = \"font-weight: bold; text-align: right;\">8</td><td style = \"text-align: right;\">true</td><td style = \"text-align: right;\">9</td><td style = \"text-align: right;\">245</td><td style = \"text-align: right;\">1.41</td><td style = \"text-align: right;\">1.41</td><td style = \"text-align: right;\">20</td></tr><tr><td class = \"rowNumber\" style = \"font-weight: bold; text-align: right;\">9</td><td style = \"text-align: right;\">true</td><td style = \"text-align: right;\">6</td><td style = \"text-align: right;\">132</td><td style = \"text-align: right;\">1.82</td><td style = \"text-align: right;\">1.82</td><td style = \"text-align: right;\">19</td></tr></tbody></table></div>"
      ],
      "text/latex": [
       "\\begin{tabular}{r|ccccc}\n",
       "\t& Benders\\_status & nb\\_benders\\_iterations & nb\\_added\\_constraints & objective\\_benders & \\\\\n",
       "\t\\hline\n",
       "\t& Bool & Int64 & Int64 & Float64 & \\\\\n",
       "\t\\hline\n",
       "\t1 & 1 & 2 & 18 & 0.38 & $\\dots$ \\\\\n",
       "\t2 & 1 & 4 & 70 & 0.89 & $\\dots$ \\\\\n",
       "\t3 & 1 & 2 & 16 & 0.32 & $\\dots$ \\\\\n",
       "\t4 & 0 & 0 & 0 & -1.0 & $\\dots$ \\\\\n",
       "\t5 & 1 & 12 & 238 & 0.99 & $\\dots$ \\\\\n",
       "\t6 & 1 & 2 & 36 & 0.72 & $\\dots$ \\\\\n",
       "\t7 & 1 & 3 & 42 & 0.81 & $\\dots$ \\\\\n",
       "\t8 & 1 & 9 & 245 & 1.41 & $\\dots$ \\\\\n",
       "\t9 & 1 & 6 & 132 & 1.82 & $\\dots$ \\\\\n",
       "\\end{tabular}\n"
      ],
      "text/plain": [
       "\u001b[1m9×6 DataFrame\u001b[0m\n",
       "\u001b[1m Row \u001b[0m│\u001b[1m Benders_status \u001b[0m\u001b[1m nb_benders_iterations \u001b[0m\u001b[1m nb_added_constraints \u001b[0m\u001b[1m objective_\u001b[0m ⋯\n",
       "     │\u001b[90m Bool           \u001b[0m\u001b[90m Int64                 \u001b[0m\u001b[90m Int64                \u001b[0m\u001b[90m Float64   \u001b[0m ⋯\n",
       "─────┼──────────────────────────────────────────────────────────────────────────\n",
       "   1 │           true                      2                    18             ⋯\n",
       "   2 │           true                      4                    70\n",
       "   3 │           true                      2                    16\n",
       "   4 │          false                      0                     0\n",
       "   5 │           true                     12                   238             ⋯\n",
       "   6 │           true                      2                    36\n",
       "   7 │           true                      3                    42\n",
       "   8 │           true                      9                   245\n",
       "   9 │           true                      6                   132             ⋯\n",
       "\u001b[36m                                                               3 columns omitted\u001b[0m"
      ]
     },
     "execution_count": 6,
     "metadata": {},
     "output_type": "execute_result"
    }
   ],
   "source": [
    "df = DataFrame(\n",
    "    Benders_status = Bool[], \n",
    "    nb_benders_iterations = Int[] , \n",
    "    nb_added_constraints = Int[], \n",
    "    objective_benders = Float64[], \n",
    "    unroll_objective = Float64[],\n",
    "    number_of_cycles = Int[]\n",
    ")\n",
    "\n",
    "for k in 1:1:9\n",
    "    try\n",
    "        kep_graph = read_kep_file(\"./_cache/data/MD-00001-0000000$k.wmd\",\"./_cache/data/MD-00001-0000000$k.dat\");\n",
    "        failure_rates = get_failure_rates(kep_graph, \"Constant\");\n",
    "\n",
    "        data = extractCycleInformation(kep_graph, 3, \"sum\");\n",
    "        C = data[\"Cycles_index\"] \n",
    "        cycles = data[\"Cycles\"]\n",
    "        U = data[\"U\"]\n",
    "        ClusterSize = 10\n",
    "        vertic_cycles = data[\"vertic_cycles\"]\n",
    "        nb_scenar = 100\n",
    "\n",
    "        ksi = getScenarioClusterK(kep_graph, nb_scenar)\n",
    "\n",
    "        res_lshape = LshapeClusterMethod(kep_graph, ClusterSize, C, cycles, U, vertic_cycles, ksi, 50, 1e-3, false)\n",
    "        res_unroll = unrollClusterProblem(kep_graph, ClusterSize, C, cycles, U, ksi, vertic_cycles)\n",
    "        optimize!(res_unroll[\"model\"])\n",
    "\n",
    "        push!(df, [res_lshape[\"optimal\"] \n",
    "        res_lshape[\"nb_iterations\"] \n",
    "        res_lshape[\"nb_added_constraints\"] \n",
    "        res_lshape[\"objective_value\"] \n",
    "        objective_value(res_unroll[\"model\"]) \n",
    "        length(cycles)])\n",
    "\n",
    "    catch\n",
    "        push!(df, [false 0 0 -1.0 -1.0 0])\n",
    "    end;\n",
    "end;\n",
    "\n",
    "df"
   ]
  },
  {
   "cell_type": "code",
   "execution_count": 10,
   "metadata": {},
   "outputs": [
    {
     "name": "stdout",
     "output_type": "stream",
     "text": [
      "Infeasible Problem\n"
     ]
    }
   ],
   "source": [
    "df = DataFrame(\n",
    "    Benders_status = Bool[], \n",
    "    nb_benders_iterations = Int[] , \n",
    "    nb_added_constraints = Int[], \n",
    "    number_of_cycles = Int[],\n",
    "    objective_benders = Float64[], \n",
    "    unroll_objective = Float64[],\n",
    "    z_sp = Float64[],\n",
    "    EVPI = Float64[],\n",
    "    VSS = Float64[]   \n",
    ")\n",
    "\n",
    "for k in 1:1:9\n",
    "    try\n",
    "        kep_graph = read_kep_file(\"./_cache/data/MD-00001-0000000$k.wmd\",\"./_cache/data/MD-00001-0000000$k.dat\");\n",
    "        failure_rates = get_failure_rates(kep_graph, \"Constant\");\n",
    "        sum_up(kep_graph, df, 10, 100, 1000)\n",
    "    catch\n",
    "        push!(df, [false 0 0 0 -1.0 -1.0 -100 -100 -100])\n",
    "    end;\n",
    "end;"
   ]
  },
  {
   "cell_type": "code",
   "execution_count": 11,
   "metadata": {},
   "outputs": [
    {
     "data": {
      "text/html": [
       "<div><div style = \"float: left;\"><span>9×9 DataFrame</span></div><div style = \"clear: both;\"></div></div><div class = \"data-frame\" style = \"overflow-x: scroll;\"><table class = \"data-frame\" style = \"margin-bottom: 6px;\"><thead><tr class = \"header\"><th class = \"rowNumber\" style = \"font-weight: bold; text-align: right;\">Row</th><th style = \"text-align: left;\">Benders_status</th><th style = \"text-align: left;\">nb_benders_iterations</th><th style = \"text-align: left;\">nb_added_constraints</th><th style = \"text-align: left;\">number_of_cycles</th><th style = \"text-align: left;\">objective_benders</th><th style = \"text-align: left;\">unroll_objective</th><th style = \"text-align: left;\">z_sp</th><th style = \"text-align: left;\">EVPI</th><th style = \"text-align: left;\">VSS</th></tr><tr class = \"subheader headerLastRow\"><th class = \"rowNumber\" style = \"font-weight: bold; text-align: right;\"></th><th title = \"Bool\" style = \"text-align: left;\">Bool</th><th title = \"Int64\" style = \"text-align: left;\">Int64</th><th title = \"Int64\" style = \"text-align: left;\">Int64</th><th title = \"Int64\" style = \"text-align: left;\">Int64</th><th title = \"Float64\" style = \"text-align: left;\">Float64</th><th title = \"Float64\" style = \"text-align: left;\">Float64</th><th title = \"Float64\" style = \"text-align: left;\">Float64</th><th title = \"Float64\" style = \"text-align: left;\">Float64</th><th title = \"Float64\" style = \"text-align: left;\">Float64</th></tr></thead><tbody><tr><td class = \"rowNumber\" style = \"font-weight: bold; text-align: right;\">1</td><td style = \"text-align: right;\">true</td><td style = \"text-align: right;\">2</td><td style = \"text-align: right;\">11</td><td style = \"text-align: right;\">2</td><td style = \"text-align: right;\">0.22</td><td style = \"text-align: right;\">0.22</td><td style = \"text-align: right;\">0.352</td><td style = \"text-align: right;\">-0.022</td><td style = \"text-align: right;\">-0.028</td></tr><tr><td class = \"rowNumber\" style = \"font-weight: bold; text-align: right;\">2</td><td style = \"text-align: right;\">true</td><td style = \"text-align: right;\">5</td><td style = \"text-align: right;\">72</td><td style = \"text-align: right;\">10</td><td style = \"text-align: right;\">0.83</td><td style = \"text-align: right;\">0.83</td><td style = \"text-align: right;\">0.851</td><td style = \"text-align: right;\">-0.045</td><td style = \"text-align: right;\">0.136</td></tr><tr><td class = \"rowNumber\" style = \"font-weight: bold; text-align: right;\">3</td><td style = \"text-align: right;\">true</td><td style = \"text-align: right;\">2</td><td style = \"text-align: right;\">16</td><td style = \"text-align: right;\">2</td><td style = \"text-align: right;\">0.32</td><td style = \"text-align: right;\">0.32</td><td style = \"text-align: right;\">0.348</td><td style = \"text-align: right;\">0.03</td><td style = \"text-align: right;\">0.006</td></tr><tr><td class = \"rowNumber\" style = \"font-weight: bold; text-align: right;\">4</td><td style = \"text-align: right;\">false</td><td style = \"text-align: right;\">0</td><td style = \"text-align: right;\">0</td><td style = \"text-align: right;\">0</td><td style = \"text-align: right;\">-1.0</td><td style = \"text-align: right;\">-1.0</td><td style = \"text-align: right;\">-100.0</td><td style = \"text-align: right;\">-100.0</td><td style = \"text-align: right;\">-100.0</td></tr><tr><td class = \"rowNumber\" style = \"font-weight: bold; text-align: right;\">5</td><td style = \"text-align: right;\">true</td><td style = \"text-align: right;\">14</td><td style = \"text-align: right;\">287</td><td style = \"text-align: right;\">17</td><td style = \"text-align: right;\">1.03</td><td style = \"text-align: right;\">1.03</td><td style = \"text-align: right;\">1.086</td><td style = \"text-align: right;\">0.391</td><td style = \"text-align: right;\">-0.017</td></tr><tr><td class = \"rowNumber\" style = \"font-weight: bold; text-align: right;\">6</td><td style = \"text-align: right;\">true</td><td style = \"text-align: right;\">2</td><td style = \"text-align: right;\">39</td><td style = \"text-align: right;\">4</td><td style = \"text-align: right;\">0.78</td><td style = \"text-align: right;\">0.78</td><td style = \"text-align: right;\">0.624</td><td style = \"text-align: right;\">-0.006</td><td style = \"text-align: right;\">0.048</td></tr><tr><td class = \"rowNumber\" style = \"font-weight: bold; text-align: right;\">7</td><td style = \"text-align: right;\">true</td><td style = \"text-align: right;\">3</td><td style = \"text-align: right;\">31</td><td style = \"text-align: right;\">6</td><td style = \"text-align: right;\">0.65</td><td style = \"text-align: right;\">0.65</td><td style = \"text-align: right;\">0.653</td><td style = \"text-align: right;\">-0.04</td><td style = \"text-align: right;\">0.033</td></tr><tr><td class = \"rowNumber\" style = \"font-weight: bold; text-align: right;\">8</td><td style = \"text-align: right;\">true</td><td style = \"text-align: right;\">9</td><td style = \"text-align: right;\">250</td><td style = \"text-align: right;\">20</td><td style = \"text-align: right;\">1.475</td><td style = \"text-align: right;\">1.46</td><td style = \"text-align: right;\">1.519</td><td style = \"text-align: right;\">0.189</td><td style = \"text-align: right;\">-0.032</td></tr><tr><td class = \"rowNumber\" style = \"font-weight: bold; text-align: right;\">9</td><td style = \"text-align: right;\">true</td><td style = \"text-align: right;\">4</td><td style = \"text-align: right;\">105</td><td style = \"text-align: right;\">19</td><td style = \"text-align: right;\">1.77</td><td style = \"text-align: right;\">1.77</td><td style = \"text-align: right;\">1.55</td><td style = \"text-align: right;\">0.381</td><td style = \"text-align: right;\">0.088</td></tr></tbody></table></div>"
      ],
      "text/latex": [
       "\\begin{tabular}{r|cccccc}\n",
       "\t& Benders\\_status & nb\\_benders\\_iterations & nb\\_added\\_constraints & number\\_of\\_cycles & objective\\_benders & \\\\\n",
       "\t\\hline\n",
       "\t& Bool & Int64 & Int64 & Int64 & Float64 & \\\\\n",
       "\t\\hline\n",
       "\t1 & 1 & 2 & 11 & 2 & 0.22 & $\\dots$ \\\\\n",
       "\t2 & 1 & 5 & 72 & 10 & 0.83 & $\\dots$ \\\\\n",
       "\t3 & 1 & 2 & 16 & 2 & 0.32 & $\\dots$ \\\\\n",
       "\t4 & 0 & 0 & 0 & 0 & -1.0 & $\\dots$ \\\\\n",
       "\t5 & 1 & 14 & 287 & 17 & 1.03 & $\\dots$ \\\\\n",
       "\t6 & 1 & 2 & 39 & 4 & 0.78 & $\\dots$ \\\\\n",
       "\t7 & 1 & 3 & 31 & 6 & 0.65 & $\\dots$ \\\\\n",
       "\t8 & 1 & 9 & 250 & 20 & 1.475 & $\\dots$ \\\\\n",
       "\t9 & 1 & 4 & 105 & 19 & 1.77 & $\\dots$ \\\\\n",
       "\\end{tabular}\n"
      ],
      "text/plain": [
       "\u001b[1m9×9 DataFrame\u001b[0m\n",
       "\u001b[1m Row \u001b[0m│\u001b[1m Benders_status \u001b[0m\u001b[1m nb_benders_iterations \u001b[0m\u001b[1m nb_added_constraints \u001b[0m\u001b[1m number_of_\u001b[0m ⋯\n",
       "     │\u001b[90m Bool           \u001b[0m\u001b[90m Int64                 \u001b[0m\u001b[90m Int64                \u001b[0m\u001b[90m Int64     \u001b[0m ⋯\n",
       "─────┼──────────────────────────────────────────────────────────────────────────\n",
       "   1 │           true                      2                    11             ⋯\n",
       "   2 │           true                      5                    72\n",
       "   3 │           true                      2                    16\n",
       "   4 │          false                      0                     0\n",
       "   5 │           true                     14                   287             ⋯\n",
       "   6 │           true                      2                    39\n",
       "   7 │           true                      3                    31\n",
       "   8 │           true                      9                   250\n",
       "   9 │           true                      4                   105             ⋯\n",
       "\u001b[36m                                                               6 columns omitted\u001b[0m"
      ]
     },
     "execution_count": 11,
     "metadata": {},
     "output_type": "execute_result"
    }
   ],
   "source": [
    "df"
   ]
  },
  {
   "attachments": {},
   "cell_type": "markdown",
   "metadata": {},
   "source": [
    "Nous pouvons remarquer ici que l'instance `./_cache/data/MD-00001-00000004` pose un problème, cela est du au fait que cette instance ne possède aucun cycle et n'est donc en aucun cas intéressante pour la suite. \n",
    "\n",
    "Dans les autres cas, nous avons exactement les mêmes valeurs entre les deux méthodes et de plus la méthode de Benders à été utilisée, on peut en effet voir que le nombre de contraintes ajoutées et le nombre d'itérations de l'algorithme de Benders sont non nulles.\n",
    "\n",
    "On peut remarquer que les intstance `./_cache/data/MD-00001-00000005` et `./_cache/data/MD-00001-00000008` donnent beaucoup plus de mal, et générent un nombre de contraintes et d'itérations beaucoup plus important que dans le cas des autres instances. Nous pouvons regarder ces instances en particulier et noter que sans surprise nous avons un nombre de cycles dans le graphe qui est beaucoup plus important, en effet beaucoup de cycle dans un graphe va venir faire augmenter considérablement la taille de notre problème dans la méthode de Benders. \n",
    "\n",
    "Nous pouvons voir ici une problématique de notre implémentation quand le graphe sera très dense (beaucoup d'arrètes et donc beaucoup de cycles), notre problème maître va grossir et donc va être de plus en plus compliquer à résoudre."
   ]
  },
  {
   "attachments": {},
   "cell_type": "markdown",
   "metadata": {},
   "source": [
    "Nous allons maintenant réaliser des tests plus avancés. Nous allons nous concentrer sur l'instance `MD-00001-00000001`. Cette instance ne possède que très peut de cycle de taille 3. Nous allons ainsi considérer cette instance et venir augmenter le nombre de cycles. Avec cette augmentation du nombre de cycles nous allons venir suivre l'évolution du nombre d'itérations de l'algorithme de Benders et du nombre de contrainte que l'on ajoute dans l'algorithme.\n",
    "\n",
    "Que voulons nous observer avec cette expérience. Nous voulons voir si ces deux quantités ont tendances à évoluer de manière exponentielle."
   ]
  },
  {
   "cell_type": "code",
   "execution_count": 29,
   "metadata": {},
   "outputs": [
    {
     "data": {
      "image/svg+xml": "<?xml version=\"1.0\" encoding=\"utf-8\"?>\n<svg xmlns=\"http://www.w3.org/2000/svg\" xmlns:xlink=\"http://www.w3.org/1999/xlink\" width=\"600\" height=\"400\" viewBox=\"0 0 2400 1600\">\n<defs>\n  <clipPath id=\"clip610\">\n    <rect x=\"0\" y=\"0\" width=\"2400\" height=\"1600\"/>\n  </clipPath>\n</defs>\n<path clip-path=\"url(#clip610)\" d=\"\nM0 1600 L2400 1600 L2400 0 L0 0  Z\n  \" fill=\"#ffffff\" fill-rule=\"evenodd\" fill-opacity=\"1\"/>\n<defs>\n  <clipPath id=\"clip611\">\n    <rect x=\"480\" y=\"0\" width=\"1681\" height=\"1600\"/>\n  </clipPath>\n</defs>\n<path clip-path=\"url(#clip610)\" d=\"\nM170.857 686.448 L2352.76 686.448 L2352.76 123.472 L170.857 123.472  Z\n  \" fill=\"#ffffff\" fill-rule=\"evenodd\" fill-opacity=\"1\"/>\n<defs>\n  <clipPath id=\"clip612\">\n    <rect x=\"170\" y=\"123\" width=\"2183\" height=\"564\"/>\n  </clipPath>\n</defs>\n<polyline clip-path=\"url(#clip612)\" style=\"stroke:#000000; stroke-linecap:round; stroke-linejoin:round; stroke-width:2; stroke-opacity:0.1; fill:none\" points=\"\n  541.368,686.448 541.368,123.472 \n  \"/>\n<polyline clip-path=\"url(#clip612)\" style=\"stroke:#000000; stroke-linecap:round; stroke-linejoin:round; stroke-width:2; stroke-opacity:0.1; fill:none\" points=\"\n  1055.97,686.448 1055.97,123.472 \n  \"/>\n<polyline clip-path=\"url(#clip612)\" style=\"stroke:#000000; stroke-linecap:round; stroke-linejoin:round; stroke-width:2; stroke-opacity:0.1; fill:none\" points=\"\n  1570.57,686.448 1570.57,123.472 \n  \"/>\n<polyline clip-path=\"url(#clip612)\" style=\"stroke:#000000; stroke-linecap:round; stroke-linejoin:round; stroke-width:2; stroke-opacity:0.1; fill:none\" points=\"\n  2085.16,686.448 2085.16,123.472 \n  \"/>\n<polyline clip-path=\"url(#clip610)\" style=\"stroke:#000000; stroke-linecap:round; stroke-linejoin:round; stroke-width:4; stroke-opacity:1; fill:none\" points=\"\n  170.857,686.448 2352.76,686.448 \n  \"/>\n<polyline clip-path=\"url(#clip610)\" style=\"stroke:#000000; stroke-linecap:round; stroke-linejoin:round; stroke-width:4; stroke-opacity:1; fill:none\" points=\"\n  541.368,686.448 541.368,667.55 \n  \"/>\n<polyline clip-path=\"url(#clip610)\" style=\"stroke:#000000; stroke-linecap:round; stroke-linejoin:round; stroke-width:4; stroke-opacity:1; fill:none\" points=\"\n  1055.97,686.448 1055.97,667.55 \n  \"/>\n<polyline clip-path=\"url(#clip610)\" style=\"stroke:#000000; stroke-linecap:round; stroke-linejoin:round; stroke-width:4; stroke-opacity:1; fill:none\" points=\"\n  1570.57,686.448 1570.57,667.55 \n  \"/>\n<polyline clip-path=\"url(#clip610)\" style=\"stroke:#000000; stroke-linecap:round; stroke-linejoin:round; stroke-width:4; stroke-opacity:1; fill:none\" points=\"\n  2085.16,686.448 2085.16,667.55 \n  \"/>\n<path clip-path=\"url(#clip610)\" d=\"M531.646 714.288 L550.003 714.288 L550.003 718.223 L535.929 718.223 L535.929 726.695 Q536.947 726.348 537.966 726.186 Q538.984 726.001 540.003 726.001 Q545.79 726.001 549.169 729.172 Q552.549 732.343 552.549 737.76 Q552.549 743.339 549.077 746.44 Q545.605 749.519 539.285 749.519 Q537.109 749.519 534.841 749.149 Q532.595 748.778 530.188 748.038 L530.188 743.339 Q532.271 744.473 534.494 745.028 Q536.716 745.584 539.193 745.584 Q543.197 745.584 545.535 743.478 Q547.873 741.371 547.873 737.76 Q547.873 734.149 545.535 732.042 Q543.197 729.936 539.193 729.936 Q537.318 729.936 535.443 730.353 Q533.591 730.769 531.646 731.649 L531.646 714.288 Z\" fill=\"#000000\" fill-rule=\"evenodd\" fill-opacity=\"1\" /><path clip-path=\"url(#clip610)\" d=\"M1030.65 744.913 L1038.29 744.913 L1038.29 718.547 L1029.98 720.214 L1029.98 715.955 L1038.25 714.288 L1042.92 714.288 L1042.92 744.913 L1050.56 744.913 L1050.56 748.848 L1030.65 748.848 L1030.65 744.913 Z\" fill=\"#000000\" fill-rule=\"evenodd\" fill-opacity=\"1\" /><path clip-path=\"url(#clip610)\" d=\"M1070.01 717.367 Q1066.4 717.367 1064.57 720.931 Q1062.76 724.473 1062.76 731.603 Q1062.76 738.709 1064.57 742.274 Q1066.4 745.815 1070.01 745.815 Q1073.64 745.815 1075.45 742.274 Q1077.27 738.709 1077.27 731.603 Q1077.27 724.473 1075.45 720.931 Q1073.64 717.367 1070.01 717.367 M1070.01 713.663 Q1075.82 713.663 1078.87 718.269 Q1081.95 722.853 1081.95 731.603 Q1081.95 740.329 1078.87 744.936 Q1075.82 749.519 1070.01 749.519 Q1064.2 749.519 1061.12 744.936 Q1058.06 740.329 1058.06 731.603 Q1058.06 722.853 1061.12 718.269 Q1064.2 713.663 1070.01 713.663 Z\" fill=\"#000000\" fill-rule=\"evenodd\" fill-opacity=\"1\" /><path clip-path=\"url(#clip610)\" d=\"M1545.75 744.913 L1553.39 744.913 L1553.39 718.547 L1545.08 720.214 L1545.08 715.955 L1553.34 714.288 L1558.02 714.288 L1558.02 744.913 L1565.66 744.913 L1565.66 748.848 L1545.75 748.848 L1545.75 744.913 Z\" fill=\"#000000\" fill-rule=\"evenodd\" fill-opacity=\"1\" /><path clip-path=\"url(#clip610)\" d=\"M1575.15 714.288 L1593.51 714.288 L1593.51 718.223 L1579.43 718.223 L1579.43 726.695 Q1580.45 726.348 1581.47 726.186 Q1582.49 726.001 1583.51 726.001 Q1589.29 726.001 1592.67 729.172 Q1596.05 732.343 1596.05 737.76 Q1596.05 743.339 1592.58 746.44 Q1589.11 749.519 1582.79 749.519 Q1580.61 749.519 1578.34 749.149 Q1576.1 748.778 1573.69 748.038 L1573.69 743.339 Q1575.77 744.473 1578 745.028 Q1580.22 745.584 1582.7 745.584 Q1586.7 745.584 1589.04 743.478 Q1591.38 741.371 1591.38 737.76 Q1591.38 734.149 1589.04 732.042 Q1586.7 729.936 1582.7 729.936 Q1580.82 729.936 1578.95 730.353 Q1577.09 730.769 1575.15 731.649 L1575.15 714.288 Z\" fill=\"#000000\" fill-rule=\"evenodd\" fill-opacity=\"1\" /><path clip-path=\"url(#clip610)\" d=\"M2063.94 744.913 L2080.26 744.913 L2080.26 748.848 L2058.31 748.848 L2058.31 744.913 Q2060.97 742.158 2065.56 737.528 Q2070.16 732.876 2071.35 731.533 Q2073.59 729.01 2074.47 727.274 Q2075.37 725.515 2075.37 723.825 Q2075.37 721.07 2073.43 719.334 Q2071.51 717.598 2068.41 717.598 Q2066.21 717.598 2063.75 718.362 Q2061.32 719.126 2058.54 720.677 L2058.54 715.955 Q2061.37 714.82 2063.82 714.242 Q2066.28 713.663 2068.31 713.663 Q2073.68 713.663 2076.88 716.348 Q2080.07 719.033 2080.07 723.524 Q2080.07 725.654 2079.26 727.575 Q2078.47 729.473 2076.37 732.066 Q2075.79 732.737 2072.69 735.954 Q2069.59 739.149 2063.94 744.913 Z\" fill=\"#000000\" fill-rule=\"evenodd\" fill-opacity=\"1\" /><path clip-path=\"url(#clip610)\" d=\"M2100.07 717.367 Q2096.46 717.367 2094.63 720.931 Q2092.83 724.473 2092.83 731.603 Q2092.83 738.709 2094.63 742.274 Q2096.46 745.815 2100.07 745.815 Q2103.71 745.815 2105.51 742.274 Q2107.34 738.709 2107.34 731.603 Q2107.34 724.473 2105.51 720.931 Q2103.71 717.367 2100.07 717.367 M2100.07 713.663 Q2105.88 713.663 2108.94 718.269 Q2112.02 722.853 2112.02 731.603 Q2112.02 740.329 2108.94 744.936 Q2105.88 749.519 2100.07 749.519 Q2094.26 749.519 2091.18 744.936 Q2088.13 740.329 2088.13 731.603 Q2088.13 722.853 2091.18 718.269 Q2094.26 713.663 2100.07 713.663 Z\" fill=\"#000000\" fill-rule=\"evenodd\" fill-opacity=\"1\" /><polyline clip-path=\"url(#clip612)\" style=\"stroke:#000000; stroke-linecap:round; stroke-linejoin:round; stroke-width:2; stroke-opacity:0.1; fill:none\" points=\"\n  170.857,635.107 2352.76,635.107 \n  \"/>\n<polyline clip-path=\"url(#clip612)\" style=\"stroke:#000000; stroke-linecap:round; stroke-linejoin:round; stroke-width:2; stroke-opacity:0.1; fill:none\" points=\"\n  170.857,528.885 2352.76,528.885 \n  \"/>\n<polyline clip-path=\"url(#clip612)\" style=\"stroke:#000000; stroke-linecap:round; stroke-linejoin:round; stroke-width:2; stroke-opacity:0.1; fill:none\" points=\"\n  170.857,422.664 2352.76,422.664 \n  \"/>\n<polyline clip-path=\"url(#clip612)\" style=\"stroke:#000000; stroke-linecap:round; stroke-linejoin:round; stroke-width:2; stroke-opacity:0.1; fill:none\" points=\"\n  170.857,316.442 2352.76,316.442 \n  \"/>\n<polyline clip-path=\"url(#clip612)\" style=\"stroke:#000000; stroke-linecap:round; stroke-linejoin:round; stroke-width:2; stroke-opacity:0.1; fill:none\" points=\"\n  170.857,210.22 2352.76,210.22 \n  \"/>\n<polyline clip-path=\"url(#clip610)\" style=\"stroke:#000000; stroke-linecap:round; stroke-linejoin:round; stroke-width:4; stroke-opacity:1; fill:none\" points=\"\n  170.857,686.448 170.857,123.472 \n  \"/>\n<polyline clip-path=\"url(#clip610)\" style=\"stroke:#000000; stroke-linecap:round; stroke-linejoin:round; stroke-width:4; stroke-opacity:1; fill:none\" points=\"\n  170.857,635.107 189.755,635.107 \n  \"/>\n<polyline clip-path=\"url(#clip610)\" style=\"stroke:#000000; stroke-linecap:round; stroke-linejoin:round; stroke-width:4; stroke-opacity:1; fill:none\" points=\"\n  170.857,528.885 189.755,528.885 \n  \"/>\n<polyline clip-path=\"url(#clip610)\" style=\"stroke:#000000; stroke-linecap:round; stroke-linejoin:round; stroke-width:4; stroke-opacity:1; fill:none\" points=\"\n  170.857,422.664 189.755,422.664 \n  \"/>\n<polyline clip-path=\"url(#clip610)\" style=\"stroke:#000000; stroke-linecap:round; stroke-linejoin:round; stroke-width:4; stroke-opacity:1; fill:none\" points=\"\n  170.857,316.442 189.755,316.442 \n  \"/>\n<polyline clip-path=\"url(#clip610)\" style=\"stroke:#000000; stroke-linecap:round; stroke-linejoin:round; stroke-width:4; stroke-opacity:1; fill:none\" points=\"\n  170.857,210.22 189.755,210.22 \n  \"/>\n<path clip-path=\"url(#clip610)\" d=\"M127.728 633.753 Q131.084 634.471 132.959 636.739 Q134.857 639.008 134.857 642.341 Q134.857 647.457 131.339 650.258 Q127.82 653.059 121.339 653.059 Q119.163 653.059 116.848 652.619 Q114.557 652.202 112.103 651.346 L112.103 646.832 Q114.047 647.966 116.362 648.545 Q118.677 649.123 121.2 649.123 Q125.598 649.123 127.89 647.387 Q130.205 645.651 130.205 642.341 Q130.205 639.286 128.052 637.573 Q125.922 635.836 122.103 635.836 L118.075 635.836 L118.075 631.994 L122.288 631.994 Q125.737 631.994 127.566 630.628 Q129.394 629.239 129.394 626.647 Q129.394 623.985 127.496 622.573 Q125.621 621.137 122.103 621.137 Q120.182 621.137 117.983 621.554 Q115.783 621.971 113.145 622.85 L113.145 618.684 Q115.807 617.943 118.121 617.573 Q120.459 617.202 122.52 617.202 Q127.844 617.202 130.945 619.633 Q134.047 622.04 134.047 626.161 Q134.047 629.031 132.404 631.022 Q130.76 632.989 127.728 633.753 Z\" fill=\"#000000\" fill-rule=\"evenodd\" fill-opacity=\"1\" /><path clip-path=\"url(#clip610)\" d=\"M123.33 527.022 Q120.182 527.022 118.33 529.175 Q116.501 531.328 116.501 535.078 Q116.501 538.804 118.33 540.98 Q120.182 543.133 123.33 543.133 Q126.478 543.133 128.307 540.98 Q130.158 538.804 130.158 535.078 Q130.158 531.328 128.307 529.175 Q126.478 527.022 123.33 527.022 M132.612 512.369 L132.612 516.629 Q130.853 515.795 129.047 515.355 Q127.265 514.916 125.506 514.916 Q120.876 514.916 118.422 518.041 Q115.992 521.166 115.645 527.485 Q117.01 525.471 119.07 524.406 Q121.131 523.318 123.607 523.318 Q128.816 523.318 131.825 526.49 Q134.857 529.638 134.857 535.078 Q134.857 540.402 131.709 543.619 Q128.561 546.837 123.33 546.837 Q117.334 546.837 114.163 542.253 Q110.992 537.647 110.992 528.92 Q110.992 520.726 114.881 515.865 Q118.77 510.98 125.32 510.98 Q127.08 510.98 128.862 511.328 Q130.668 511.675 132.612 512.369 Z\" fill=\"#000000\" fill-rule=\"evenodd\" fill-opacity=\"1\" /><path clip-path=\"url(#clip610)\" d=\"M113.237 439.226 L113.237 434.967 Q114.996 435.8 116.802 436.24 Q118.608 436.68 120.344 436.68 Q124.973 436.68 127.404 433.578 Q129.857 430.453 130.205 424.11 Q128.862 426.101 126.802 427.166 Q124.742 428.231 122.242 428.231 Q117.057 428.231 114.024 425.106 Q111.015 421.958 111.015 416.518 Q111.015 411.194 114.163 407.976 Q117.311 404.759 122.543 404.759 Q128.538 404.759 131.686 409.365 Q134.857 413.948 134.857 422.698 Q134.857 430.87 130.969 435.754 Q127.103 440.615 120.552 440.615 Q118.793 440.615 116.987 440.268 Q115.182 439.92 113.237 439.226 M122.543 424.573 Q125.691 424.573 127.519 422.421 Q129.371 420.268 129.371 416.518 Q129.371 412.791 127.519 410.638 Q125.691 408.462 122.543 408.462 Q119.395 408.462 117.543 410.638 Q115.714 412.791 115.714 416.518 Q115.714 420.268 117.543 422.421 Q119.395 424.573 122.543 424.573 Z\" fill=\"#000000\" fill-rule=\"evenodd\" fill-opacity=\"1\" /><path clip-path=\"url(#clip610)\" d=\"M85.1586 329.787 L92.7975 329.787 L92.7975 303.421 L84.4873 305.088 L84.4873 300.828 L92.7512 299.162 L97.4271 299.162 L97.4271 329.787 L105.066 329.787 L105.066 333.722 L85.1586 333.722 L85.1586 329.787 Z\" fill=\"#000000\" fill-rule=\"evenodd\" fill-opacity=\"1\" /><path clip-path=\"url(#clip610)\" d=\"M118.538 329.787 L134.857 329.787 L134.857 333.722 L112.913 333.722 L112.913 329.787 Q115.575 327.032 120.158 322.402 Q124.765 317.75 125.945 316.407 Q128.191 313.884 129.07 312.148 Q129.973 310.389 129.973 308.699 Q129.973 305.944 128.029 304.208 Q126.107 302.472 123.006 302.472 Q120.807 302.472 118.353 303.236 Q115.922 304 113.145 305.551 L113.145 300.828 Q115.969 299.694 118.422 299.116 Q120.876 298.537 122.913 298.537 Q128.283 298.537 131.478 301.222 Q134.672 303.907 134.672 308.398 Q134.672 310.527 133.862 312.449 Q133.075 314.347 130.969 316.939 Q130.39 317.611 127.288 320.828 Q124.186 324.023 118.538 329.787 Z\" fill=\"#000000\" fill-rule=\"evenodd\" fill-opacity=\"1\" /><path clip-path=\"url(#clip610)\" d=\"M84.5568 223.565 L92.1956 223.565 L92.1956 197.199 L83.8855 198.866 L83.8855 194.607 L92.1493 192.94 L96.8252 192.94 L96.8252 223.565 L104.464 223.565 L104.464 227.5 L84.5568 227.5 L84.5568 223.565 Z\" fill=\"#000000\" fill-rule=\"evenodd\" fill-opacity=\"1\" /><path clip-path=\"url(#clip610)\" d=\"M113.955 192.94 L132.311 192.94 L132.311 196.875 L118.237 196.875 L118.237 205.347 Q119.256 205 120.274 204.838 Q121.293 204.653 122.311 204.653 Q128.098 204.653 131.478 207.824 Q134.857 210.995 134.857 216.412 Q134.857 221.991 131.385 225.093 Q127.913 228.171 121.594 228.171 Q119.418 228.171 117.149 227.801 Q114.904 227.431 112.496 226.69 L112.496 221.991 Q114.58 223.125 116.802 223.681 Q119.024 224.236 121.501 224.236 Q125.506 224.236 127.844 222.13 Q130.182 220.023 130.182 216.412 Q130.182 212.801 127.844 210.694 Q125.506 208.588 121.501 208.588 Q119.626 208.588 117.751 209.005 Q115.899 209.421 113.955 210.301 L113.955 192.94 Z\" fill=\"#000000\" fill-rule=\"evenodd\" fill-opacity=\"1\" /><path clip-path=\"url(#clip610)\" d=\"M855.319 12.096 L866.337 12.096 L893.154 62.6918 L893.154 12.096 L901.094 12.096 L901.094 72.576 L890.075 72.576 L863.258 21.9802 L863.258 72.576 L855.319 72.576 L855.319 12.096 Z\" fill=\"#000000\" fill-rule=\"evenodd\" fill-opacity=\"1\" /><path clip-path=\"url(#clip610)\" d=\"M934.635 32.4315 Q928.64 32.4315 925.156 37.1306 Q921.672 41.7891 921.672 49.9314 Q921.672 58.0738 925.116 62.7728 Q928.6 67.4314 934.635 67.4314 Q940.59 67.4314 944.074 62.7323 Q947.558 58.0333 947.558 49.9314 Q947.558 41.8701 944.074 37.1711 Q940.59 32.4315 934.635 32.4315 M934.635 26.1121 Q944.358 26.1121 949.907 32.4315 Q955.457 38.7509 955.457 49.9314 Q955.457 61.0714 949.907 67.4314 Q944.358 73.7508 934.635 73.7508 Q924.873 73.7508 919.323 67.4314 Q913.814 61.0714 913.814 49.9314 Q913.814 38.7509 919.323 32.4315 Q924.873 26.1121 934.635 26.1121 Z\" fill=\"#000000\" fill-rule=\"evenodd\" fill-opacity=\"1\" /><path clip-path=\"url(#clip610)\" d=\"M1003.14 35.9153 Q1005.93 30.8922 1009.82 28.5022 Q1013.71 26.1121 1018.98 26.1121 Q1026.06 26.1121 1029.91 31.0947 Q1033.76 36.0368 1033.76 45.1919 L1033.76 72.576 L1026.27 72.576 L1026.27 45.4349 Q1026.27 38.913 1023.96 35.7533 Q1021.65 32.5936 1016.91 32.5936 Q1011.12 32.5936 1007.75 36.4419 Q1004.39 40.2903 1004.39 46.9338 L1004.39 72.576 L996.898 72.576 L996.898 45.4349 Q996.898 38.8725 994.589 35.7533 Q992.28 32.5936 987.459 32.5936 Q981.747 32.5936 978.385 36.4824 Q975.023 40.3308 975.023 46.9338 L975.023 72.576 L967.529 72.576 L967.529 27.2059 L975.023 27.2059 L975.023 34.2544 Q977.575 30.082 981.14 28.0971 Q984.705 26.1121 989.606 26.1121 Q994.548 26.1121 997.992 28.6237 Q1001.48 31.1352 1003.14 35.9153 Z\" fill=\"#000000\" fill-rule=\"evenodd\" fill-opacity=\"1\" /><path clip-path=\"url(#clip610)\" d=\"M1081.2 49.9314 Q1081.2 41.7081 1077.79 37.0496 Q1074.43 32.3505 1068.52 32.3505 Q1062.6 32.3505 1059.2 37.0496 Q1055.84 41.7081 1055.84 49.9314 Q1055.84 58.1548 1059.2 62.8538 Q1062.6 67.5124 1068.52 67.5124 Q1074.43 67.5124 1077.79 62.8538 Q1081.2 58.1548 1081.2 49.9314 M1055.84 34.0924 Q1058.19 30.0415 1061.75 28.0971 Q1065.36 26.1121 1070.34 26.1121 Q1078.6 26.1121 1083.75 32.6746 Q1088.93 39.2371 1088.93 49.9314 Q1088.93 60.6258 1083.75 67.1883 Q1078.6 73.7508 1070.34 73.7508 Q1065.36 73.7508 1061.75 71.8063 Q1058.19 69.8214 1055.84 65.7705 L1055.84 72.576 L1048.34 72.576 L1048.34 9.54393 L1055.84 9.54393 L1055.84 34.0924 Z\" fill=\"#000000\" fill-rule=\"evenodd\" fill-opacity=\"1\" /><path clip-path=\"url(#clip610)\" d=\"M1127.58 34.1734 Q1126.32 33.4443 1124.83 33.1202 Q1123.37 32.7556 1121.58 32.7556 Q1115.27 32.7556 1111.86 36.8875 Q1108.5 40.9789 1108.5 48.6757 L1108.5 72.576 L1101.01 72.576 L1101.01 27.2059 L1108.5 27.2059 L1108.5 34.2544 Q1110.85 30.1225 1114.62 28.1376 Q1118.38 26.1121 1123.77 26.1121 Q1124.54 26.1121 1125.47 26.2337 Q1126.41 26.3147 1127.54 26.5172 L1127.58 34.1734 Z\" fill=\"#000000\" fill-rule=\"evenodd\" fill-opacity=\"1\" /><path clip-path=\"url(#clip610)\" d=\"M1172.38 48.0275 L1172.38 51.6733 L1138.11 51.6733 Q1138.6 59.3701 1142.73 63.421 Q1146.9 67.4314 1154.32 67.4314 Q1158.61 67.4314 1162.62 66.3781 Q1166.67 65.3249 1170.64 63.2184 L1170.64 70.267 Q1166.63 71.9684 1162.42 72.8596 Q1158.2 73.7508 1153.87 73.7508 Q1143.01 73.7508 1136.65 67.4314 Q1130.33 61.1119 1130.33 50.3365 Q1130.33 39.1965 1136.33 32.6746 Q1142.37 26.1121 1152.57 26.1121 Q1161.73 26.1121 1167.04 32.0264 Q1172.38 37.9003 1172.38 48.0275 M1164.93 45.84 Q1164.85 39.7232 1161.49 36.0774 Q1158.16 32.4315 1152.66 32.4315 Q1146.42 32.4315 1142.65 35.9558 Q1138.92 39.4801 1138.36 45.8805 L1164.93 45.84 Z\" fill=\"#000000\" fill-rule=\"evenodd\" fill-opacity=\"1\" /><path clip-path=\"url(#clip610)\" d=\"M1240.84 34.0924 L1240.84 9.54393 L1248.3 9.54393 L1248.3 72.576 L1240.84 72.576 L1240.84 65.7705 Q1238.49 69.8214 1234.89 71.8063 Q1231.32 73.7508 1226.3 73.7508 Q1218.08 73.7508 1212.89 67.1883 Q1207.75 60.6258 1207.75 49.9314 Q1207.75 39.2371 1212.89 32.6746 Q1218.08 26.1121 1226.3 26.1121 Q1231.32 26.1121 1234.89 28.0971 Q1238.49 30.0415 1240.84 34.0924 M1215.44 49.9314 Q1215.44 58.1548 1218.81 62.8538 Q1222.21 67.5124 1228.12 67.5124 Q1234.04 67.5124 1237.44 62.8538 Q1240.84 58.1548 1240.84 49.9314 Q1240.84 41.7081 1237.44 37.0496 Q1234.04 32.3505 1228.12 32.3505 Q1222.21 32.3505 1218.81 37.0496 Q1215.44 41.7081 1215.44 49.9314 Z\" fill=\"#000000\" fill-rule=\"evenodd\" fill-opacity=\"1\" /><path clip-path=\"url(#clip610)\" d=\"M1270.7 12.096 L1270.7 34.5785 L1263.81 34.5785 L1263.81 12.096 L1270.7 12.096 Z\" fill=\"#000000\" fill-rule=\"evenodd\" fill-opacity=\"1\" /><path clip-path=\"url(#clip610)\" d=\"M1286.46 27.2059 L1293.91 27.2059 L1293.91 72.576 L1286.46 72.576 L1286.46 27.2059 M1286.46 9.54393 L1293.91 9.54393 L1293.91 18.9825 L1286.46 18.9825 L1286.46 9.54393 Z\" fill=\"#000000\" fill-rule=\"evenodd\" fill-opacity=\"1\" /><path clip-path=\"url(#clip610)\" d=\"M1316.88 14.324 L1316.88 27.2059 L1332.23 27.2059 L1332.23 32.9987 L1316.88 32.9987 L1316.88 57.6282 Q1316.88 63.1779 1318.38 64.7578 Q1319.92 66.3376 1324.58 66.3376 L1332.23 66.3376 L1332.23 72.576 L1324.58 72.576 Q1315.95 72.576 1312.67 69.3758 Q1309.38 66.1351 1309.38 57.6282 L1309.38 32.9987 L1303.92 32.9987 L1303.92 27.2059 L1309.38 27.2059 L1309.38 14.324 L1316.88 14.324 Z\" fill=\"#000000\" fill-rule=\"evenodd\" fill-opacity=\"1\" /><path clip-path=\"url(#clip610)\" d=\"M1380.84 48.0275 L1380.84 51.6733 L1346.57 51.6733 Q1347.06 59.3701 1351.19 63.421 Q1355.36 67.4314 1362.78 67.4314 Q1367.07 67.4314 1371.08 66.3781 Q1375.13 65.3249 1379.1 63.2184 L1379.1 70.267 Q1375.09 71.9684 1370.88 72.8596 Q1366.66 73.7508 1362.33 73.7508 Q1351.47 73.7508 1345.11 67.4314 Q1338.79 61.1119 1338.79 50.3365 Q1338.79 39.1965 1344.79 32.6746 Q1350.83 26.1121 1361.03 26.1121 Q1370.19 26.1121 1375.5 32.0264 Q1380.84 37.9003 1380.84 48.0275 M1373.39 45.84 Q1373.31 39.7232 1369.95 36.0774 Q1366.62 32.4315 1361.11 32.4315 Q1354.88 32.4315 1351.11 35.9558 Q1347.38 39.4801 1346.81 45.8805 L1373.39 45.84 M1366.22 6.22219 L1374.28 6.22219 L1361.07 21.4536 L1354.88 21.4536 L1366.22 6.22219 Z\" fill=\"#000000\" fill-rule=\"evenodd\" fill-opacity=\"1\" /><path clip-path=\"url(#clip610)\" d=\"M1419.37 34.1734 Q1418.11 33.4443 1416.61 33.1202 Q1415.15 32.7556 1413.37 32.7556 Q1407.05 32.7556 1403.65 36.8875 Q1400.29 40.9789 1400.29 48.6757 L1400.29 72.576 L1392.79 72.576 L1392.79 27.2059 L1400.29 27.2059 L1400.29 34.2544 Q1402.64 30.1225 1406.4 28.1376 Q1410.17 26.1121 1415.56 26.1121 Q1416.33 26.1121 1417.26 26.2337 Q1418.19 26.3147 1419.33 26.5172 L1419.37 34.1734 Z\" fill=\"#000000\" fill-rule=\"evenodd\" fill-opacity=\"1\" /><path clip-path=\"url(#clip610)\" d=\"M1447.8 49.7694 Q1438.77 49.7694 1435.29 51.8354 Q1431.8 53.9013 1431.8 58.8839 Q1431.8 62.8538 1434.4 65.2034 Q1437.03 67.5124 1441.53 67.5124 Q1447.72 67.5124 1451.45 63.1374 Q1455.22 58.7219 1455.22 51.4303 L1455.22 49.7694 L1447.8 49.7694 M1462.67 46.6907 L1462.67 72.576 L1455.22 72.576 L1455.22 65.6895 Q1452.67 69.8214 1448.86 71.8063 Q1445.05 73.7508 1439.54 73.7508 Q1432.57 73.7508 1428.44 69.8619 Q1424.35 65.9325 1424.35 59.3701 Q1424.35 51.7138 1429.45 47.825 Q1434.6 43.9361 1444.77 43.9361 L1455.22 43.9361 L1455.22 43.2069 Q1455.22 38.0623 1451.81 35.2672 Q1448.45 32.4315 1442.34 32.4315 Q1438.45 32.4315 1434.76 33.3632 Q1431.07 34.295 1427.67 36.1584 L1427.67 29.2718 Q1431.76 27.692 1435.61 26.9223 Q1439.46 26.1121 1443.1 26.1121 Q1452.95 26.1121 1457.81 31.2163 Q1462.67 36.3204 1462.67 46.6907 Z\" fill=\"#000000\" fill-rule=\"evenodd\" fill-opacity=\"1\" /><path clip-path=\"url(#clip610)\" d=\"M1485.4 14.324 L1485.4 27.2059 L1500.75 27.2059 L1500.75 32.9987 L1485.4 32.9987 L1485.4 57.6282 Q1485.4 63.1779 1486.9 64.7578 Q1488.43 66.3376 1493.09 66.3376 L1500.75 66.3376 L1500.75 72.576 L1493.09 72.576 Q1484.46 72.576 1481.18 69.3758 Q1477.9 66.1351 1477.9 57.6282 L1477.9 32.9987 L1472.43 32.9987 L1472.43 27.2059 L1477.9 27.2059 L1477.9 14.324 L1485.4 14.324 Z\" fill=\"#000000\" fill-rule=\"evenodd\" fill-opacity=\"1\" /><path clip-path=\"url(#clip610)\" d=\"M1510.55 27.2059 L1518.01 27.2059 L1518.01 72.576 L1510.55 72.576 L1510.55 27.2059 M1510.55 9.54393 L1518.01 9.54393 L1518.01 18.9825 L1510.55 18.9825 L1510.55 9.54393 Z\" fill=\"#000000\" fill-rule=\"evenodd\" fill-opacity=\"1\" /><path clip-path=\"url(#clip610)\" d=\"M1551.18 32.4315 Q1545.19 32.4315 1541.7 37.1306 Q1538.22 41.7891 1538.22 49.9314 Q1538.22 58.0738 1541.66 62.7728 Q1545.15 67.4314 1551.18 67.4314 Q1557.14 67.4314 1560.62 62.7323 Q1564.11 58.0333 1564.11 49.9314 Q1564.11 41.8701 1560.62 37.1711 Q1557.14 32.4315 1551.18 32.4315 M1551.18 26.1121 Q1560.91 26.1121 1566.45 32.4315 Q1572 38.7509 1572 49.9314 Q1572 61.0714 1566.45 67.4314 Q1560.91 73.7508 1551.18 73.7508 Q1541.42 73.7508 1535.87 67.4314 Q1530.36 61.0714 1530.36 49.9314 Q1530.36 38.7509 1535.87 32.4315 Q1541.42 26.1121 1551.18 26.1121 Z\" fill=\"#000000\" fill-rule=\"evenodd\" fill-opacity=\"1\" /><path clip-path=\"url(#clip610)\" d=\"M1622.07 45.1919 L1622.07 72.576 L1614.62 72.576 L1614.62 45.4349 Q1614.62 38.994 1612.11 35.7938 Q1609.6 32.5936 1604.57 32.5936 Q1598.54 32.5936 1595.05 36.4419 Q1591.57 40.2903 1591.57 46.9338 L1591.57 72.576 L1584.08 72.576 L1584.08 27.2059 L1591.57 27.2059 L1591.57 34.2544 Q1594.24 30.163 1597.85 28.1376 Q1601.5 26.1121 1606.23 26.1121 Q1614.05 26.1121 1618.06 30.9732 Q1622.07 35.7938 1622.07 45.1919 Z\" fill=\"#000000\" fill-rule=\"evenodd\" fill-opacity=\"1\" /><path clip-path=\"url(#clip610)\" d=\"M1665.86 28.5427 L1665.86 35.5912 Q1662.7 33.9709 1659.3 33.1607 Q1655.9 32.3505 1652.25 32.3505 Q1646.7 32.3505 1643.91 34.0519 Q1641.15 35.7533 1641.15 39.156 Q1641.15 41.7486 1643.14 43.2475 Q1645.12 44.7058 1651.12 46.0426 L1653.67 46.6097 Q1661.61 48.3111 1664.93 51.4303 Q1668.29 54.509 1668.29 60.0587 Q1668.29 66.3781 1663.27 70.0644 Q1658.29 73.7508 1649.54 73.7508 Q1645.89 73.7508 1641.92 73.0216 Q1637.99 72.3329 1633.62 70.9151 L1633.62 63.2184 Q1637.75 65.3654 1641.76 66.4591 Q1645.77 67.5124 1649.7 67.5124 Q1654.97 67.5124 1657.8 65.73 Q1660.64 63.9071 1660.64 60.6258 Q1660.64 57.5877 1658.57 55.9673 Q1656.55 54.3469 1649.62 52.8481 L1647.03 52.2405 Q1640.1 50.7821 1637.02 47.7845 Q1633.94 44.7463 1633.94 39.4801 Q1633.94 33.0797 1638.48 29.5959 Q1643.02 26.1121 1651.36 26.1121 Q1655.49 26.1121 1659.14 26.7198 Q1662.79 27.3274 1665.86 28.5427 Z\" fill=\"#000000\" fill-rule=\"evenodd\" fill-opacity=\"1\" /><circle clip-path=\"url(#clip612)\" cx=\"232.609\" cy=\"670.515\" r=\"14.4\" fill=\"#009af9\" fill-rule=\"evenodd\" fill-opacity=\"1\" stroke=\"#000000\" stroke-opacity=\"1\" stroke-width=\"3.2\"/>\n<circle clip-path=\"url(#clip612)\" cx=\"438.449\" cy=\"635.107\" r=\"14.4\" fill=\"#009af9\" fill-rule=\"evenodd\" fill-opacity=\"1\" stroke=\"#000000\" stroke-opacity=\"1\" stroke-width=\"3.2\"/>\n<circle clip-path=\"url(#clip612)\" cx=\"541.368\" cy=\"635.107\" r=\"14.4\" fill=\"#009af9\" fill-rule=\"evenodd\" fill-opacity=\"1\" stroke=\"#000000\" stroke-opacity=\"1\" stroke-width=\"3.2\"/>\n<circle clip-path=\"url(#clip612)\" cx=\"953.047\" cy=\"635.107\" r=\"14.4\" fill=\"#009af9\" fill-rule=\"evenodd\" fill-opacity=\"1\" stroke=\"#000000\" stroke-opacity=\"1\" stroke-width=\"3.2\"/>\n<circle clip-path=\"url(#clip612)\" cx=\"1055.97\" cy=\"635.107\" r=\"14.4\" fill=\"#009af9\" fill-rule=\"evenodd\" fill-opacity=\"1\" stroke=\"#000000\" stroke-opacity=\"1\" stroke-width=\"3.2\"/>\n<circle clip-path=\"url(#clip612)\" cx=\"1158.89\" cy=\"635.107\" r=\"14.4\" fill=\"#009af9\" fill-rule=\"evenodd\" fill-opacity=\"1\" stroke=\"#000000\" stroke-opacity=\"1\" stroke-width=\"3.2\"/>\n<circle clip-path=\"url(#clip612)\" cx=\"1364.73\" cy=\"564.293\" r=\"14.4\" fill=\"#009af9\" fill-rule=\"evenodd\" fill-opacity=\"1\" stroke=\"#000000\" stroke-opacity=\"1\" stroke-width=\"3.2\"/>\n<circle clip-path=\"url(#clip612)\" cx=\"2085.16\" cy=\"351.849\" r=\"14.4\" fill=\"#009af9\" fill-rule=\"evenodd\" fill-opacity=\"1\" stroke=\"#000000\" stroke-opacity=\"1\" stroke-width=\"3.2\"/>\n<circle clip-path=\"url(#clip612)\" cx=\"2291\" cy=\"139.405\" r=\"14.4\" fill=\"#009af9\" fill-rule=\"evenodd\" fill-opacity=\"1\" stroke=\"#000000\" stroke-opacity=\"1\" stroke-width=\"3.2\"/>\n<path clip-path=\"url(#clip610)\" d=\"\nM170.857 1486.45 L2352.76 1486.45 L2352.76 923.472 L170.857 923.472  Z\n  \" fill=\"#ffffff\" fill-rule=\"evenodd\" fill-opacity=\"1\"/>\n<defs>\n  <clipPath id=\"clip613\">\n    <rect x=\"170\" y=\"923\" width=\"2183\" height=\"564\"/>\n  </clipPath>\n</defs>\n<polyline clip-path=\"url(#clip613)\" style=\"stroke:#000000; stroke-linecap:round; stroke-linejoin:round; stroke-width:2; stroke-opacity:0.1; fill:none\" points=\"\n  541.368,1486.45 541.368,923.472 \n  \"/>\n<polyline clip-path=\"url(#clip613)\" style=\"stroke:#000000; stroke-linecap:round; stroke-linejoin:round; stroke-width:2; stroke-opacity:0.1; fill:none\" points=\"\n  1055.97,1486.45 1055.97,923.472 \n  \"/>\n<polyline clip-path=\"url(#clip613)\" style=\"stroke:#000000; stroke-linecap:round; stroke-linejoin:round; stroke-width:2; stroke-opacity:0.1; fill:none\" points=\"\n  1570.57,1486.45 1570.57,923.472 \n  \"/>\n<polyline clip-path=\"url(#clip613)\" style=\"stroke:#000000; stroke-linecap:round; stroke-linejoin:round; stroke-width:2; stroke-opacity:0.1; fill:none\" points=\"\n  2085.16,1486.45 2085.16,923.472 \n  \"/>\n<polyline clip-path=\"url(#clip610)\" style=\"stroke:#000000; stroke-linecap:round; stroke-linejoin:round; stroke-width:4; stroke-opacity:1; fill:none\" points=\"\n  170.857,1486.45 2352.76,1486.45 \n  \"/>\n<polyline clip-path=\"url(#clip610)\" style=\"stroke:#000000; stroke-linecap:round; stroke-linejoin:round; stroke-width:4; stroke-opacity:1; fill:none\" points=\"\n  541.368,1486.45 541.368,1467.55 \n  \"/>\n<polyline clip-path=\"url(#clip610)\" style=\"stroke:#000000; stroke-linecap:round; stroke-linejoin:round; stroke-width:4; stroke-opacity:1; fill:none\" points=\"\n  1055.97,1486.45 1055.97,1467.55 \n  \"/>\n<polyline clip-path=\"url(#clip610)\" style=\"stroke:#000000; stroke-linecap:round; stroke-linejoin:round; stroke-width:4; stroke-opacity:1; fill:none\" points=\"\n  1570.57,1486.45 1570.57,1467.55 \n  \"/>\n<polyline clip-path=\"url(#clip610)\" style=\"stroke:#000000; stroke-linecap:round; stroke-linejoin:round; stroke-width:4; stroke-opacity:1; fill:none\" points=\"\n  2085.16,1486.45 2085.16,1467.55 \n  \"/>\n<path clip-path=\"url(#clip610)\" d=\"M531.646 1514.29 L550.003 1514.29 L550.003 1518.22 L535.929 1518.22 L535.929 1526.7 Q536.947 1526.35 537.966 1526.19 Q538.984 1526 540.003 1526 Q545.79 1526 549.169 1529.17 Q552.549 1532.34 552.549 1537.76 Q552.549 1543.34 549.077 1546.44 Q545.605 1549.52 539.285 1549.52 Q537.109 1549.52 534.841 1549.15 Q532.595 1548.78 530.188 1548.04 L530.188 1543.34 Q532.271 1544.47 534.494 1545.03 Q536.716 1545.58 539.193 1545.58 Q543.197 1545.58 545.535 1543.48 Q547.873 1541.37 547.873 1537.76 Q547.873 1534.15 545.535 1532.04 Q543.197 1529.94 539.193 1529.94 Q537.318 1529.94 535.443 1530.35 Q533.591 1530.77 531.646 1531.65 L531.646 1514.29 Z\" fill=\"#000000\" fill-rule=\"evenodd\" fill-opacity=\"1\" /><path clip-path=\"url(#clip610)\" d=\"M1030.65 1544.91 L1038.29 1544.91 L1038.29 1518.55 L1029.98 1520.21 L1029.98 1515.95 L1038.25 1514.29 L1042.92 1514.29 L1042.92 1544.91 L1050.56 1544.91 L1050.56 1548.85 L1030.65 1548.85 L1030.65 1544.91 Z\" fill=\"#000000\" fill-rule=\"evenodd\" fill-opacity=\"1\" /><path clip-path=\"url(#clip610)\" d=\"M1070.01 1517.37 Q1066.4 1517.37 1064.57 1520.93 Q1062.76 1524.47 1062.76 1531.6 Q1062.76 1538.71 1064.57 1542.27 Q1066.4 1545.82 1070.01 1545.82 Q1073.64 1545.82 1075.45 1542.27 Q1077.27 1538.71 1077.27 1531.6 Q1077.27 1524.47 1075.45 1520.93 Q1073.64 1517.37 1070.01 1517.37 M1070.01 1513.66 Q1075.82 1513.66 1078.87 1518.27 Q1081.95 1522.85 1081.95 1531.6 Q1081.95 1540.33 1078.87 1544.94 Q1075.82 1549.52 1070.01 1549.52 Q1064.2 1549.52 1061.12 1544.94 Q1058.06 1540.33 1058.06 1531.6 Q1058.06 1522.85 1061.12 1518.27 Q1064.2 1513.66 1070.01 1513.66 Z\" fill=\"#000000\" fill-rule=\"evenodd\" fill-opacity=\"1\" /><path clip-path=\"url(#clip610)\" d=\"M1545.75 1544.91 L1553.39 1544.91 L1553.39 1518.55 L1545.08 1520.21 L1545.08 1515.95 L1553.34 1514.29 L1558.02 1514.29 L1558.02 1544.91 L1565.66 1544.91 L1565.66 1548.85 L1545.75 1548.85 L1545.75 1544.91 Z\" fill=\"#000000\" fill-rule=\"evenodd\" fill-opacity=\"1\" /><path clip-path=\"url(#clip610)\" d=\"M1575.15 1514.29 L1593.51 1514.29 L1593.51 1518.22 L1579.43 1518.22 L1579.43 1526.7 Q1580.45 1526.35 1581.47 1526.19 Q1582.49 1526 1583.51 1526 Q1589.29 1526 1592.67 1529.17 Q1596.05 1532.34 1596.05 1537.76 Q1596.05 1543.34 1592.58 1546.44 Q1589.11 1549.52 1582.79 1549.52 Q1580.61 1549.52 1578.34 1549.15 Q1576.1 1548.78 1573.69 1548.04 L1573.69 1543.34 Q1575.77 1544.47 1578 1545.03 Q1580.22 1545.58 1582.7 1545.58 Q1586.7 1545.58 1589.04 1543.48 Q1591.38 1541.37 1591.38 1537.76 Q1591.38 1534.15 1589.04 1532.04 Q1586.7 1529.94 1582.7 1529.94 Q1580.82 1529.94 1578.95 1530.35 Q1577.09 1530.77 1575.15 1531.65 L1575.15 1514.29 Z\" fill=\"#000000\" fill-rule=\"evenodd\" fill-opacity=\"1\" /><path clip-path=\"url(#clip610)\" d=\"M2063.94 1544.91 L2080.26 1544.91 L2080.26 1548.85 L2058.31 1548.85 L2058.31 1544.91 Q2060.97 1542.16 2065.56 1537.53 Q2070.16 1532.88 2071.35 1531.53 Q2073.59 1529.01 2074.47 1527.27 Q2075.37 1525.51 2075.37 1523.82 Q2075.37 1521.07 2073.43 1519.33 Q2071.51 1517.6 2068.41 1517.6 Q2066.21 1517.6 2063.75 1518.36 Q2061.32 1519.13 2058.54 1520.68 L2058.54 1515.95 Q2061.37 1514.82 2063.82 1514.24 Q2066.28 1513.66 2068.31 1513.66 Q2073.68 1513.66 2076.88 1516.35 Q2080.07 1519.03 2080.07 1523.52 Q2080.07 1525.65 2079.26 1527.57 Q2078.47 1529.47 2076.37 1532.07 Q2075.79 1532.74 2072.69 1535.95 Q2069.59 1539.15 2063.94 1544.91 Z\" fill=\"#000000\" fill-rule=\"evenodd\" fill-opacity=\"1\" /><path clip-path=\"url(#clip610)\" d=\"M2100.07 1517.37 Q2096.46 1517.37 2094.63 1520.93 Q2092.83 1524.47 2092.83 1531.6 Q2092.83 1538.71 2094.63 1542.27 Q2096.46 1545.82 2100.07 1545.82 Q2103.71 1545.82 2105.51 1542.27 Q2107.34 1538.71 2107.34 1531.6 Q2107.34 1524.47 2105.51 1520.93 Q2103.71 1517.37 2100.07 1517.37 M2100.07 1513.66 Q2105.88 1513.66 2108.94 1518.27 Q2112.02 1522.85 2112.02 1531.6 Q2112.02 1540.33 2108.94 1544.94 Q2105.88 1549.52 2100.07 1549.52 Q2094.26 1549.52 2091.18 1544.94 Q2088.13 1540.33 2088.13 1531.6 Q2088.13 1522.85 2091.18 1518.27 Q2094.26 1513.66 2100.07 1513.66 Z\" fill=\"#000000\" fill-rule=\"evenodd\" fill-opacity=\"1\" /><polyline clip-path=\"url(#clip613)\" style=\"stroke:#000000; stroke-linecap:round; stroke-linejoin:round; stroke-width:2; stroke-opacity:0.1; fill:none\" points=\"\n  170.857,1419.71 2352.76,1419.71 \n  \"/>\n<polyline clip-path=\"url(#clip613)\" style=\"stroke:#000000; stroke-linecap:round; stroke-linejoin:round; stroke-width:2; stroke-opacity:0.1; fill:none\" points=\"\n  170.857,1342.74 2352.76,1342.74 \n  \"/>\n<polyline clip-path=\"url(#clip613)\" style=\"stroke:#000000; stroke-linecap:round; stroke-linejoin:round; stroke-width:2; stroke-opacity:0.1; fill:none\" points=\"\n  170.857,1265.77 2352.76,1265.77 \n  \"/>\n<polyline clip-path=\"url(#clip613)\" style=\"stroke:#000000; stroke-linecap:round; stroke-linejoin:round; stroke-width:2; stroke-opacity:0.1; fill:none\" points=\"\n  170.857,1188.8 2352.76,1188.8 \n  \"/>\n<polyline clip-path=\"url(#clip613)\" style=\"stroke:#000000; stroke-linecap:round; stroke-linejoin:round; stroke-width:2; stroke-opacity:0.1; fill:none\" points=\"\n  170.857,1111.82 2352.76,1111.82 \n  \"/>\n<polyline clip-path=\"url(#clip613)\" style=\"stroke:#000000; stroke-linecap:round; stroke-linejoin:round; stroke-width:2; stroke-opacity:0.1; fill:none\" points=\"\n  170.857,1034.85 2352.76,1034.85 \n  \"/>\n<polyline clip-path=\"url(#clip613)\" style=\"stroke:#000000; stroke-linecap:round; stroke-linejoin:round; stroke-width:2; stroke-opacity:0.1; fill:none\" points=\"\n  170.857,957.879 2352.76,957.879 \n  \"/>\n<polyline clip-path=\"url(#clip610)\" style=\"stroke:#000000; stroke-linecap:round; stroke-linejoin:round; stroke-width:4; stroke-opacity:1; fill:none\" points=\"\n  170.857,1486.45 170.857,923.472 \n  \"/>\n<polyline clip-path=\"url(#clip610)\" style=\"stroke:#000000; stroke-linecap:round; stroke-linejoin:round; stroke-width:4; stroke-opacity:1; fill:none\" points=\"\n  170.857,1419.71 189.755,1419.71 \n  \"/>\n<polyline clip-path=\"url(#clip610)\" style=\"stroke:#000000; stroke-linecap:round; stroke-linejoin:round; stroke-width:4; stroke-opacity:1; fill:none\" points=\"\n  170.857,1342.74 189.755,1342.74 \n  \"/>\n<polyline clip-path=\"url(#clip610)\" style=\"stroke:#000000; stroke-linecap:round; stroke-linejoin:round; stroke-width:4; stroke-opacity:1; fill:none\" points=\"\n  170.857,1265.77 189.755,1265.77 \n  \"/>\n<polyline clip-path=\"url(#clip610)\" style=\"stroke:#000000; stroke-linecap:round; stroke-linejoin:round; stroke-width:4; stroke-opacity:1; fill:none\" points=\"\n  170.857,1188.8 189.755,1188.8 \n  \"/>\n<polyline clip-path=\"url(#clip610)\" style=\"stroke:#000000; stroke-linecap:round; stroke-linejoin:round; stroke-width:4; stroke-opacity:1; fill:none\" points=\"\n  170.857,1111.82 189.755,1111.82 \n  \"/>\n<polyline clip-path=\"url(#clip610)\" style=\"stroke:#000000; stroke-linecap:round; stroke-linejoin:round; stroke-width:4; stroke-opacity:1; fill:none\" points=\"\n  170.857,1034.85 189.755,1034.85 \n  \"/>\n<polyline clip-path=\"url(#clip610)\" style=\"stroke:#000000; stroke-linecap:round; stroke-linejoin:round; stroke-width:4; stroke-opacity:1; fill:none\" points=\"\n  170.857,957.879 189.755,957.879 \n  \"/>\n<path clip-path=\"url(#clip610)\" d=\"M82.7975 1402.43 L101.154 1402.43 L101.154 1406.37 L87.0799 1406.37 L87.0799 1414.84 Q88.0984 1414.49 89.1169 1414.33 Q90.1354 1414.15 91.1539 1414.15 Q96.941 1414.15 100.321 1417.32 Q103.7 1420.49 103.7 1425.9 Q103.7 1431.48 100.228 1434.59 Q96.7558 1437.66 90.4364 1437.66 Q88.2604 1437.66 85.9919 1437.29 Q83.7466 1436.92 81.3392 1436.18 L81.3392 1431.48 Q83.4225 1432.62 85.6447 1433.17 Q87.8669 1433.73 90.3438 1433.73 Q94.3484 1433.73 96.6863 1431.62 Q99.0243 1429.52 99.0243 1425.9 Q99.0243 1422.29 96.6863 1420.19 Q94.3484 1418.08 90.3438 1418.08 Q88.4688 1418.08 86.5938 1418.5 Q84.7419 1418.91 82.7975 1419.79 L82.7975 1402.43 Z\" fill=\"#000000\" fill-rule=\"evenodd\" fill-opacity=\"1\" /><path clip-path=\"url(#clip610)\" d=\"M122.913 1405.51 Q119.302 1405.51 117.473 1409.08 Q115.668 1412.62 115.668 1419.75 Q115.668 1426.85 117.473 1430.42 Q119.302 1433.96 122.913 1433.96 Q126.547 1433.96 128.353 1430.42 Q130.182 1426.85 130.182 1419.75 Q130.182 1412.62 128.353 1409.08 Q126.547 1405.51 122.913 1405.51 M122.913 1401.81 Q128.723 1401.81 131.779 1406.41 Q134.857 1411 134.857 1419.75 Q134.857 1428.47 131.779 1433.08 Q128.723 1437.66 122.913 1437.66 Q117.103 1437.66 114.024 1433.08 Q110.969 1428.47 110.969 1419.75 Q110.969 1411 114.024 1406.41 Q117.103 1401.81 122.913 1401.81 Z\" fill=\"#000000\" fill-rule=\"evenodd\" fill-opacity=\"1\" /><path clip-path=\"url(#clip610)\" d=\"M53.3995 1356.09 L61.0384 1356.09 L61.0384 1329.72 L52.7282 1331.39 L52.7282 1327.13 L60.9921 1325.46 L65.668 1325.46 L65.668 1356.09 L73.3068 1356.09 L73.3068 1360.02 L53.3995 1360.02 L53.3995 1356.09 Z\" fill=\"#000000\" fill-rule=\"evenodd\" fill-opacity=\"1\" /><path clip-path=\"url(#clip610)\" d=\"M92.7512 1328.54 Q89.1401 1328.54 87.3114 1332.1 Q85.5058 1335.65 85.5058 1342.78 Q85.5058 1349.88 87.3114 1353.45 Q89.1401 1356.99 92.7512 1356.99 Q96.3854 1356.99 98.1909 1353.45 Q100.02 1349.88 100.02 1342.78 Q100.02 1335.65 98.1909 1332.1 Q96.3854 1328.54 92.7512 1328.54 M92.7512 1324.84 Q98.5613 1324.84 101.617 1329.44 Q104.696 1334.03 104.696 1342.78 Q104.696 1351.5 101.617 1356.11 Q98.5613 1360.69 92.7512 1360.69 Q86.941 1360.69 83.8623 1356.11 Q80.8068 1351.5 80.8068 1342.78 Q80.8068 1334.03 83.8623 1329.44 Q86.941 1324.84 92.7512 1324.84 Z\" fill=\"#000000\" fill-rule=\"evenodd\" fill-opacity=\"1\" /><path clip-path=\"url(#clip610)\" d=\"M122.913 1328.54 Q119.302 1328.54 117.473 1332.1 Q115.668 1335.65 115.668 1342.78 Q115.668 1349.88 117.473 1353.45 Q119.302 1356.99 122.913 1356.99 Q126.547 1356.99 128.353 1353.45 Q130.182 1349.88 130.182 1342.78 Q130.182 1335.65 128.353 1332.1 Q126.547 1328.54 122.913 1328.54 M122.913 1324.84 Q128.723 1324.84 131.779 1329.44 Q134.857 1334.03 134.857 1342.78 Q134.857 1351.5 131.779 1356.11 Q128.723 1360.69 122.913 1360.69 Q117.103 1360.69 114.024 1356.11 Q110.969 1351.5 110.969 1342.78 Q110.969 1334.03 114.024 1329.44 Q117.103 1324.84 122.913 1324.84 Z\" fill=\"#000000\" fill-rule=\"evenodd\" fill-opacity=\"1\" /><path clip-path=\"url(#clip610)\" d=\"M53.3995 1279.11 L61.0384 1279.11 L61.0384 1252.75 L52.7282 1254.41 L52.7282 1250.15 L60.9921 1248.49 L65.668 1248.49 L65.668 1279.11 L73.3068 1279.11 L73.3068 1283.05 L53.3995 1283.05 L53.3995 1279.11 Z\" fill=\"#000000\" fill-rule=\"evenodd\" fill-opacity=\"1\" /><path clip-path=\"url(#clip610)\" d=\"M82.7975 1248.49 L101.154 1248.49 L101.154 1252.42 L87.0799 1252.42 L87.0799 1260.9 Q88.0984 1260.55 89.1169 1260.39 Q90.1354 1260.2 91.1539 1260.2 Q96.941 1260.2 100.321 1263.37 Q103.7 1266.54 103.7 1271.96 Q103.7 1277.54 100.228 1280.64 Q96.7558 1283.72 90.4364 1283.72 Q88.2604 1283.72 85.9919 1283.35 Q83.7466 1282.98 81.3392 1282.24 L81.3392 1277.54 Q83.4225 1278.67 85.6447 1279.23 Q87.8669 1279.78 90.3438 1279.78 Q94.3484 1279.78 96.6863 1277.68 Q99.0243 1275.57 99.0243 1271.96 Q99.0243 1268.35 96.6863 1266.24 Q94.3484 1264.14 90.3438 1264.14 Q88.4688 1264.14 86.5938 1264.55 Q84.7419 1264.97 82.7975 1265.85 L82.7975 1248.49 Z\" fill=\"#000000\" fill-rule=\"evenodd\" fill-opacity=\"1\" /><path clip-path=\"url(#clip610)\" d=\"M122.913 1251.57 Q119.302 1251.57 117.473 1255.13 Q115.668 1258.67 115.668 1265.8 Q115.668 1272.91 117.473 1276.47 Q119.302 1280.02 122.913 1280.02 Q126.547 1280.02 128.353 1276.47 Q130.182 1272.91 130.182 1265.8 Q130.182 1258.67 128.353 1255.13 Q126.547 1251.57 122.913 1251.57 M122.913 1247.86 Q128.723 1247.86 131.779 1252.47 Q134.857 1257.05 134.857 1265.8 Q134.857 1274.53 131.779 1279.14 Q128.723 1283.72 122.913 1283.72 Q117.103 1283.72 114.024 1279.14 Q110.969 1274.53 110.969 1265.8 Q110.969 1257.05 114.024 1252.47 Q117.103 1247.86 122.913 1247.86 Z\" fill=\"#000000\" fill-rule=\"evenodd\" fill-opacity=\"1\" /><path clip-path=\"url(#clip610)\" d=\"M56.6171 1202.14 L72.9365 1202.14 L72.9365 1206.08 L50.9921 1206.08 L50.9921 1202.14 Q53.6541 1199.39 58.2375 1194.76 Q62.8439 1190.1 64.0245 1188.76 Q66.2698 1186.24 67.1494 1184.5 Q68.0522 1182.74 68.0522 1181.05 Q68.0522 1178.3 66.1078 1176.56 Q64.1865 1174.83 61.0847 1174.83 Q58.8856 1174.83 56.4319 1175.59 Q54.0014 1176.35 51.2236 1177.9 L51.2236 1173.18 Q54.0477 1172.05 56.5014 1171.47 Q58.955 1170.89 60.9921 1170.89 Q66.3624 1170.89 69.5568 1173.58 Q72.7513 1176.26 72.7513 1180.75 Q72.7513 1182.88 71.9411 1184.8 Q71.1541 1186.7 69.0476 1189.29 Q68.4689 1189.96 65.367 1193.18 Q62.2652 1196.38 56.6171 1202.14 Z\" fill=\"#000000\" fill-rule=\"evenodd\" fill-opacity=\"1\" /><path clip-path=\"url(#clip610)\" d=\"M92.7512 1174.59 Q89.1401 1174.59 87.3114 1178.16 Q85.5058 1181.7 85.5058 1188.83 Q85.5058 1195.94 87.3114 1199.5 Q89.1401 1203.04 92.7512 1203.04 Q96.3854 1203.04 98.1909 1199.5 Q100.02 1195.94 100.02 1188.83 Q100.02 1181.7 98.1909 1178.16 Q96.3854 1174.59 92.7512 1174.59 M92.7512 1170.89 Q98.5613 1170.89 101.617 1175.5 Q104.696 1180.08 104.696 1188.83 Q104.696 1197.56 101.617 1202.16 Q98.5613 1206.75 92.7512 1206.75 Q86.941 1206.75 83.8623 1202.16 Q80.8068 1197.56 80.8068 1188.83 Q80.8068 1180.08 83.8623 1175.5 Q86.941 1170.89 92.7512 1170.89 Z\" fill=\"#000000\" fill-rule=\"evenodd\" fill-opacity=\"1\" /><path clip-path=\"url(#clip610)\" d=\"M122.913 1174.59 Q119.302 1174.59 117.473 1178.16 Q115.668 1181.7 115.668 1188.83 Q115.668 1195.94 117.473 1199.5 Q119.302 1203.04 122.913 1203.04 Q126.547 1203.04 128.353 1199.5 Q130.182 1195.94 130.182 1188.83 Q130.182 1181.7 128.353 1178.16 Q126.547 1174.59 122.913 1174.59 M122.913 1170.89 Q128.723 1170.89 131.779 1175.5 Q134.857 1180.08 134.857 1188.83 Q134.857 1197.56 131.779 1202.16 Q128.723 1206.75 122.913 1206.75 Q117.103 1206.75 114.024 1202.16 Q110.969 1197.56 110.969 1188.83 Q110.969 1180.08 114.024 1175.5 Q117.103 1170.89 122.913 1170.89 Z\" fill=\"#000000\" fill-rule=\"evenodd\" fill-opacity=\"1\" /><path clip-path=\"url(#clip610)\" d=\"M56.6171 1125.17 L72.9365 1125.17 L72.9365 1129.1 L50.9921 1129.1 L50.9921 1125.17 Q53.6541 1122.41 58.2375 1117.78 Q62.8439 1113.13 64.0245 1111.79 Q66.2698 1109.27 67.1494 1107.53 Q68.0522 1105.77 68.0522 1104.08 Q68.0522 1101.33 66.1078 1099.59 Q64.1865 1097.85 61.0847 1097.85 Q58.8856 1097.85 56.4319 1098.62 Q54.0014 1099.38 51.2236 1100.93 L51.2236 1096.21 Q54.0477 1095.08 56.5014 1094.5 Q58.955 1093.92 60.9921 1093.92 Q66.3624 1093.92 69.5568 1096.6 Q72.7513 1099.29 72.7513 1103.78 Q72.7513 1105.91 71.9411 1107.83 Q71.1541 1109.73 69.0476 1112.32 Q68.4689 1112.99 65.367 1116.21 Q62.2652 1119.4 56.6171 1125.17 Z\" fill=\"#000000\" fill-rule=\"evenodd\" fill-opacity=\"1\" /><path clip-path=\"url(#clip610)\" d=\"M82.7975 1094.54 L101.154 1094.54 L101.154 1098.48 L87.0799 1098.48 L87.0799 1106.95 Q88.0984 1106.6 89.1169 1106.44 Q90.1354 1106.26 91.1539 1106.26 Q96.941 1106.26 100.321 1109.43 Q103.7 1112.6 103.7 1118.02 Q103.7 1123.59 100.228 1126.7 Q96.7558 1129.77 90.4364 1129.77 Q88.2604 1129.77 85.9919 1129.4 Q83.7466 1129.03 81.3392 1128.29 L81.3392 1123.59 Q83.4225 1124.73 85.6447 1125.28 Q87.8669 1125.84 90.3438 1125.84 Q94.3484 1125.84 96.6863 1123.73 Q99.0243 1121.63 99.0243 1118.02 Q99.0243 1114.4 96.6863 1112.3 Q94.3484 1110.19 90.3438 1110.19 Q88.4688 1110.19 86.5938 1110.61 Q84.7419 1111.02 82.7975 1111.9 L82.7975 1094.54 Z\" fill=\"#000000\" fill-rule=\"evenodd\" fill-opacity=\"1\" /><path clip-path=\"url(#clip610)\" d=\"M122.913 1097.62 Q119.302 1097.62 117.473 1101.19 Q115.668 1104.73 115.668 1111.86 Q115.668 1118.96 117.473 1122.53 Q119.302 1126.07 122.913 1126.07 Q126.547 1126.07 128.353 1122.53 Q130.182 1118.96 130.182 1111.86 Q130.182 1104.73 128.353 1101.19 Q126.547 1097.62 122.913 1097.62 M122.913 1093.92 Q128.723 1093.92 131.779 1098.52 Q134.857 1103.11 134.857 1111.86 Q134.857 1120.58 131.779 1125.19 Q128.723 1129.77 122.913 1129.77 Q117.103 1129.77 114.024 1125.19 Q110.969 1120.58 110.969 1111.86 Q110.969 1103.11 114.024 1098.52 Q117.103 1093.92 122.913 1093.92 Z\" fill=\"#000000\" fill-rule=\"evenodd\" fill-opacity=\"1\" /><path clip-path=\"url(#clip610)\" d=\"M66.7559 1033.5 Q70.1124 1034.21 71.9874 1036.48 Q73.8855 1038.75 73.8855 1042.08 Q73.8855 1047.2 70.367 1050 Q66.8485 1052.8 60.3671 1052.8 Q58.1912 1052.8 55.8764 1052.36 Q53.5847 1051.95 51.131 1051.09 L51.131 1046.58 Q53.0754 1047.71 55.3903 1048.29 Q57.7051 1048.87 60.2282 1048.87 Q64.6263 1048.87 66.918 1047.13 Q69.2328 1045.4 69.2328 1042.08 Q69.2328 1039.03 67.08 1037.32 Q64.9504 1035.58 61.131 1035.58 L57.1032 1035.58 L57.1032 1031.74 L61.3161 1031.74 Q64.7652 1031.74 66.5939 1030.37 Q68.4226 1028.98 68.4226 1026.39 Q68.4226 1023.73 66.5245 1022.32 Q64.6495 1020.88 61.131 1020.88 Q59.2097 1020.88 57.0106 1021.3 Q54.8115 1021.71 52.1727 1022.59 L52.1727 1018.43 Q54.8347 1017.69 57.1495 1017.32 Q59.4875 1016.95 61.5476 1016.95 Q66.8717 1016.95 69.9735 1019.38 Q73.0753 1021.78 73.0753 1025.9 Q73.0753 1028.77 71.4318 1030.77 Q69.7883 1032.73 66.7559 1033.5 Z\" fill=\"#000000\" fill-rule=\"evenodd\" fill-opacity=\"1\" /><path clip-path=\"url(#clip610)\" d=\"M92.7512 1020.65 Q89.1401 1020.65 87.3114 1024.21 Q85.5058 1027.76 85.5058 1034.89 Q85.5058 1041.99 87.3114 1045.56 Q89.1401 1049.1 92.7512 1049.1 Q96.3854 1049.1 98.1909 1045.56 Q100.02 1041.99 100.02 1034.89 Q100.02 1027.76 98.1909 1024.21 Q96.3854 1020.65 92.7512 1020.65 M92.7512 1016.95 Q98.5613 1016.95 101.617 1021.55 Q104.696 1026.14 104.696 1034.89 Q104.696 1043.61 101.617 1048.22 Q98.5613 1052.8 92.7512 1052.8 Q86.941 1052.8 83.8623 1048.22 Q80.8068 1043.61 80.8068 1034.89 Q80.8068 1026.14 83.8623 1021.55 Q86.941 1016.95 92.7512 1016.95 Z\" fill=\"#000000\" fill-rule=\"evenodd\" fill-opacity=\"1\" /><path clip-path=\"url(#clip610)\" d=\"M122.913 1020.65 Q119.302 1020.65 117.473 1024.21 Q115.668 1027.76 115.668 1034.89 Q115.668 1041.99 117.473 1045.56 Q119.302 1049.1 122.913 1049.1 Q126.547 1049.1 128.353 1045.56 Q130.182 1041.99 130.182 1034.89 Q130.182 1027.76 128.353 1024.21 Q126.547 1020.65 122.913 1020.65 M122.913 1016.95 Q128.723 1016.95 131.779 1021.55 Q134.857 1026.14 134.857 1034.89 Q134.857 1043.61 131.779 1048.22 Q128.723 1052.8 122.913 1052.8 Q117.103 1052.8 114.024 1048.22 Q110.969 1043.61 110.969 1034.89 Q110.969 1026.14 114.024 1021.55 Q117.103 1016.95 122.913 1016.95 Z\" fill=\"#000000\" fill-rule=\"evenodd\" fill-opacity=\"1\" /><path clip-path=\"url(#clip610)\" d=\"M66.7559 956.525 Q70.1124 957.242 71.9874 959.511 Q73.8855 961.779 73.8855 965.113 Q73.8855 970.228 70.367 973.029 Q66.8485 975.83 60.3671 975.83 Q58.1912 975.83 55.8764 975.39 Q53.5847 974.974 51.131 974.117 L51.131 969.603 Q53.0754 970.737 55.3903 971.316 Q57.7051 971.895 60.2282 971.895 Q64.6263 971.895 66.918 970.159 Q69.2328 968.423 69.2328 965.113 Q69.2328 962.057 67.08 960.344 Q64.9504 958.608 61.131 958.608 L57.1032 958.608 L57.1032 954.765 L61.3161 954.765 Q64.7652 954.765 66.5939 953.4 Q68.4226 952.011 68.4226 949.418 Q68.4226 946.756 66.5245 945.344 Q64.6495 943.909 61.131 943.909 Q59.2097 943.909 57.0106 944.326 Q54.8115 944.742 52.1727 945.622 L52.1727 941.455 Q54.8347 940.715 57.1495 940.344 Q59.4875 939.974 61.5476 939.974 Q66.8717 939.974 69.9735 942.404 Q73.0753 944.812 73.0753 948.932 Q73.0753 951.802 71.4318 953.793 Q69.7883 955.761 66.7559 956.525 Z\" fill=\"#000000\" fill-rule=\"evenodd\" fill-opacity=\"1\" /><path clip-path=\"url(#clip610)\" d=\"M82.7975 940.599 L101.154 940.599 L101.154 944.534 L87.0799 944.534 L87.0799 953.006 Q88.0984 952.659 89.1169 952.497 Q90.1354 952.312 91.1539 952.312 Q96.941 952.312 100.321 955.483 Q103.7 958.654 103.7 964.071 Q103.7 969.65 100.228 972.751 Q96.7558 975.83 90.4364 975.83 Q88.2604 975.83 85.9919 975.46 Q83.7466 975.089 81.3392 974.349 L81.3392 969.65 Q83.4225 970.784 85.6447 971.339 Q87.8669 971.895 90.3438 971.895 Q94.3484 971.895 96.6863 969.788 Q99.0243 967.682 99.0243 964.071 Q99.0243 960.46 96.6863 958.353 Q94.3484 956.247 90.3438 956.247 Q88.4688 956.247 86.5938 956.663 Q84.7419 957.08 82.7975 957.96 L82.7975 940.599 Z\" fill=\"#000000\" fill-rule=\"evenodd\" fill-opacity=\"1\" /><path clip-path=\"url(#clip610)\" d=\"M122.913 943.677 Q119.302 943.677 117.473 947.242 Q115.668 950.784 115.668 957.913 Q115.668 965.02 117.473 968.585 Q119.302 972.126 122.913 972.126 Q126.547 972.126 128.353 968.585 Q130.182 965.02 130.182 957.913 Q130.182 950.784 128.353 947.242 Q126.547 943.677 122.913 943.677 M122.913 939.974 Q128.723 939.974 131.779 944.58 Q134.857 949.164 134.857 957.913 Q134.857 966.64 131.779 971.247 Q128.723 975.83 122.913 975.83 Q117.103 975.83 114.024 971.247 Q110.969 966.64 110.969 957.913 Q110.969 949.164 114.024 944.58 Q117.103 939.974 122.913 939.974 Z\" fill=\"#000000\" fill-rule=\"evenodd\" fill-opacity=\"1\" /><path clip-path=\"url(#clip610)\" d=\"M599.727 812.096 L610.745 812.096 L637.562 862.692 L637.562 812.096 L645.502 812.096 L645.502 872.576 L634.484 872.576 L607.667 821.98 L607.667 872.576 L599.727 872.576 L599.727 812.096 Z\" fill=\"#000000\" fill-rule=\"evenodd\" fill-opacity=\"1\" /><path clip-path=\"url(#clip610)\" d=\"M679.044 832.432 Q673.048 832.432 669.564 837.131 Q666.081 841.789 666.081 849.931 Q666.081 858.074 669.524 862.773 Q673.008 867.431 679.044 867.431 Q684.998 867.431 688.482 862.732 Q691.966 858.033 691.966 849.931 Q691.966 841.87 688.482 837.171 Q684.998 832.432 679.044 832.432 M679.044 826.112 Q688.766 826.112 694.315 832.432 Q699.865 838.751 699.865 849.931 Q699.865 861.071 694.315 867.431 Q688.766 873.751 679.044 873.751 Q669.281 873.751 663.731 867.431 Q658.222 861.071 658.222 849.931 Q658.222 838.751 663.731 832.432 Q669.281 826.112 679.044 826.112 Z\" fill=\"#000000\" fill-rule=\"evenodd\" fill-opacity=\"1\" /><path clip-path=\"url(#clip610)\" d=\"M747.544 835.915 Q750.339 830.892 754.228 828.502 Q758.117 826.112 763.383 826.112 Q770.472 826.112 774.321 831.095 Q778.169 836.037 778.169 845.192 L778.169 872.576 L770.675 872.576 L770.675 845.435 Q770.675 838.913 768.366 835.753 Q766.057 832.594 761.317 832.594 Q755.525 832.594 752.162 836.442 Q748.8 840.29 748.8 846.934 L748.8 872.576 L741.306 872.576 L741.306 845.435 Q741.306 838.872 738.997 835.753 Q736.688 832.594 731.867 832.594 Q726.156 832.594 722.793 836.482 Q719.431 840.331 719.431 846.934 L719.431 872.576 L711.937 872.576 L711.937 827.206 L719.431 827.206 L719.431 834.254 Q721.983 830.082 725.548 828.097 Q729.113 826.112 734.014 826.112 Q738.956 826.112 742.4 828.624 Q745.884 831.135 747.544 835.915 Z\" fill=\"#000000\" fill-rule=\"evenodd\" fill-opacity=\"1\" /><path clip-path=\"url(#clip610)\" d=\"M825.605 849.931 Q825.605 841.708 822.203 837.05 Q818.84 832.351 812.926 832.351 Q807.012 832.351 803.609 837.05 Q800.247 841.708 800.247 849.931 Q800.247 858.155 803.609 862.854 Q807.012 867.512 812.926 867.512 Q818.84 867.512 822.203 862.854 Q825.605 858.155 825.605 849.931 M800.247 834.092 Q802.596 830.042 806.161 828.097 Q809.766 826.112 814.749 826.112 Q823.013 826.112 828.157 832.675 Q833.343 839.237 833.343 849.931 Q833.343 860.626 828.157 867.188 Q823.013 873.751 814.749 873.751 Q809.766 873.751 806.161 871.806 Q802.596 869.821 800.247 865.77 L800.247 872.576 L792.752 872.576 L792.752 809.544 L800.247 809.544 L800.247 834.092 Z\" fill=\"#000000\" fill-rule=\"evenodd\" fill-opacity=\"1\" /><path clip-path=\"url(#clip610)\" d=\"M871.988 834.173 Q870.732 833.444 869.234 833.12 Q867.775 832.756 865.993 832.756 Q859.673 832.756 856.271 836.888 Q852.908 840.979 852.908 848.676 L852.908 872.576 L845.414 872.576 L845.414 827.206 L852.908 827.206 L852.908 834.254 Q855.258 830.123 859.025 828.138 Q862.793 826.112 868.18 826.112 Q868.95 826.112 869.882 826.234 Q870.813 826.315 871.948 826.517 L871.988 834.173 Z\" fill=\"#000000\" fill-rule=\"evenodd\" fill-opacity=\"1\" /><path clip-path=\"url(#clip610)\" d=\"M916.791 848.028 L916.791 851.673 L882.52 851.673 Q883.007 859.37 887.139 863.421 Q891.311 867.431 898.724 867.431 Q903.018 867.431 907.028 866.378 Q911.079 865.325 915.049 863.218 L915.049 870.267 Q911.039 871.968 906.826 872.86 Q902.613 873.751 898.279 873.751 Q887.422 873.751 881.062 867.431 Q874.743 861.112 874.743 850.337 Q874.743 839.197 880.738 832.675 Q886.774 826.112 896.982 826.112 Q906.137 826.112 911.444 832.026 Q916.791 837.9 916.791 848.028 M909.337 845.84 Q909.256 839.723 905.894 836.077 Q902.572 832.432 897.063 832.432 Q890.825 832.432 887.058 835.956 Q883.331 839.48 882.764 845.881 L909.337 845.84 Z\" fill=\"#000000\" fill-rule=\"evenodd\" fill-opacity=\"1\" /><path clip-path=\"url(#clip610)\" d=\"M985.251 834.092 L985.251 809.544 L992.705 809.544 L992.705 872.576 L985.251 872.576 L985.251 865.77 Q982.902 869.821 979.297 871.806 Q975.732 873.751 970.709 873.751 Q962.485 873.751 957.3 867.188 Q952.156 860.626 952.156 849.931 Q952.156 839.237 957.3 832.675 Q962.485 826.112 970.709 826.112 Q975.732 826.112 979.297 828.097 Q982.902 830.042 985.251 834.092 M959.852 849.931 Q959.852 858.155 963.215 862.854 Q966.617 867.512 972.532 867.512 Q978.446 867.512 981.849 862.854 Q985.251 858.155 985.251 849.931 Q985.251 841.708 981.849 837.05 Q978.446 832.351 972.532 832.351 Q966.617 832.351 963.215 837.05 Q959.852 841.708 959.852 849.931 Z\" fill=\"#000000\" fill-rule=\"evenodd\" fill-opacity=\"1\" /><path clip-path=\"url(#clip610)\" d=\"M1046.87 848.028 L1046.87 851.673 L1012.6 851.673 Q1013.08 859.37 1017.21 863.421 Q1021.39 867.431 1028.8 867.431 Q1033.09 867.431 1037.1 866.378 Q1041.15 865.325 1045.12 863.218 L1045.12 870.267 Q1041.11 871.968 1036.9 872.86 Q1032.69 873.751 1028.35 873.751 Q1017.5 873.751 1011.14 867.431 Q1004.82 861.112 1004.82 850.337 Q1004.82 839.197 1010.81 832.675 Q1016.85 826.112 1027.06 826.112 Q1036.21 826.112 1041.52 832.026 Q1046.87 837.9 1046.87 848.028 M1039.41 845.84 Q1039.33 839.723 1035.97 836.077 Q1032.65 832.432 1027.14 832.432 Q1020.9 832.432 1017.13 835.956 Q1013.41 839.48 1012.84 845.881 L1039.41 845.84 Z\" fill=\"#000000\" fill-rule=\"evenodd\" fill-opacity=\"1\" /><path clip-path=\"url(#clip610)\" d=\"M1118.12 828.948 L1118.12 835.915 Q1114.96 834.173 1111.76 833.323 Q1108.6 832.432 1105.36 832.432 Q1098.11 832.432 1094.1 837.05 Q1090.09 841.627 1090.09 849.931 Q1090.09 858.236 1094.1 862.854 Q1098.11 867.431 1105.36 867.431 Q1108.6 867.431 1111.76 866.581 Q1114.96 865.689 1118.12 863.948 L1118.12 870.834 Q1115 872.292 1111.64 873.022 Q1108.32 873.751 1104.55 873.751 Q1094.3 873.751 1088.27 867.31 Q1082.23 860.869 1082.23 849.931 Q1082.23 838.832 1088.31 832.472 Q1094.42 826.112 1105.04 826.112 Q1108.48 826.112 1111.76 826.841 Q1115.04 827.53 1118.12 828.948 Z\" fill=\"#000000\" fill-rule=\"evenodd\" fill-opacity=\"1\" /><path clip-path=\"url(#clip610)\" d=\"M1148.66 832.432 Q1142.67 832.432 1139.19 837.131 Q1135.7 841.789 1135.7 849.931 Q1135.7 858.074 1139.15 862.773 Q1142.63 867.431 1148.66 867.431 Q1154.62 867.431 1158.1 862.732 Q1161.59 858.033 1161.59 849.931 Q1161.59 841.87 1158.1 837.171 Q1154.62 832.432 1148.66 832.432 M1148.66 826.112 Q1158.39 826.112 1163.94 832.432 Q1169.49 838.751 1169.49 849.931 Q1169.49 861.071 1163.94 867.431 Q1158.39 873.751 1148.66 873.751 Q1138.9 873.751 1133.35 867.431 Q1127.84 861.071 1127.84 849.931 Q1127.84 838.751 1133.35 832.432 Q1138.9 826.112 1148.66 826.112 Z\" fill=\"#000000\" fill-rule=\"evenodd\" fill-opacity=\"1\" /><path clip-path=\"url(#clip610)\" d=\"M1219.56 845.192 L1219.56 872.576 L1212.1 872.576 L1212.1 845.435 Q1212.1 838.994 1209.59 835.794 Q1207.08 832.594 1202.06 832.594 Q1196.02 832.594 1192.54 836.442 Q1189.05 840.29 1189.05 846.934 L1189.05 872.576 L1181.56 872.576 L1181.56 827.206 L1189.05 827.206 L1189.05 834.254 Q1191.73 830.163 1195.33 828.138 Q1198.98 826.112 1203.72 826.112 Q1211.53 826.112 1215.55 830.973 Q1219.56 835.794 1219.56 845.192 Z\" fill=\"#000000\" fill-rule=\"evenodd\" fill-opacity=\"1\" /><path clip-path=\"url(#clip610)\" d=\"M1241.8 814.324 L1241.8 827.206 L1257.15 827.206 L1257.15 832.999 L1241.8 832.999 L1241.8 857.628 Q1241.8 863.178 1243.29 864.758 Q1244.83 866.338 1249.49 866.338 L1257.15 866.338 L1257.15 872.576 L1249.49 872.576 Q1240.86 872.576 1237.58 869.376 Q1234.3 866.135 1234.3 857.628 L1234.3 832.999 L1228.83 832.999 L1228.83 827.206 L1234.3 827.206 L1234.3 814.324 L1241.8 814.324 Z\" fill=\"#000000\" fill-rule=\"evenodd\" fill-opacity=\"1\" /><path clip-path=\"url(#clip610)\" d=\"M1293.24 834.173 Q1291.99 833.444 1290.49 833.12 Q1289.03 832.756 1287.25 832.756 Q1280.93 832.756 1277.52 836.888 Q1274.16 840.979 1274.16 848.676 L1274.16 872.576 L1266.67 872.576 L1266.67 827.206 L1274.16 827.206 L1274.16 834.254 Q1276.51 830.123 1280.28 828.138 Q1284.05 826.112 1289.43 826.112 Q1290.2 826.112 1291.14 826.234 Q1292.07 826.315 1293.2 826.517 L1293.24 834.173 Z\" fill=\"#000000\" fill-rule=\"evenodd\" fill-opacity=\"1\" /><path clip-path=\"url(#clip610)\" d=\"M1321.68 849.769 Q1312.65 849.769 1309.16 851.835 Q1305.68 853.901 1305.68 858.884 Q1305.68 862.854 1308.27 865.203 Q1310.9 867.512 1315.4 867.512 Q1321.6 867.512 1325.32 863.137 Q1329.09 858.722 1329.09 851.43 L1329.09 849.769 L1321.68 849.769 M1336.55 846.691 L1336.55 872.576 L1329.09 872.576 L1329.09 865.689 Q1326.54 869.821 1322.73 871.806 Q1318.92 873.751 1313.42 873.751 Q1306.45 873.751 1302.32 869.862 Q1298.22 865.933 1298.22 859.37 Q1298.22 851.714 1303.33 847.825 Q1308.47 843.936 1318.64 843.936 L1329.09 843.936 L1329.09 843.207 Q1329.09 838.062 1325.69 835.267 Q1322.33 832.432 1316.21 832.432 Q1312.32 832.432 1308.64 833.363 Q1304.95 834.295 1301.55 836.158 L1301.55 829.272 Q1305.64 827.692 1309.49 826.922 Q1313.33 826.112 1316.98 826.112 Q1326.82 826.112 1331.68 831.216 Q1336.55 836.32 1336.55 846.691 Z\" fill=\"#000000\" fill-rule=\"evenodd\" fill-opacity=\"1\" /><path clip-path=\"url(#clip610)\" d=\"M1351.9 827.206 L1359.35 827.206 L1359.35 872.576 L1351.9 872.576 L1351.9 827.206 M1351.9 809.544 L1359.35 809.544 L1359.35 818.983 L1351.9 818.983 L1351.9 809.544 Z\" fill=\"#000000\" fill-rule=\"evenodd\" fill-opacity=\"1\" /><path clip-path=\"url(#clip610)\" d=\"M1412.66 845.192 L1412.66 872.576 L1405.21 872.576 L1405.21 845.435 Q1405.21 838.994 1402.7 835.794 Q1400.19 832.594 1395.16 832.594 Q1389.13 832.594 1385.64 836.442 Q1382.16 840.29 1382.16 846.934 L1382.16 872.576 L1374.66 872.576 L1374.66 827.206 L1382.16 827.206 L1382.16 834.254 Q1384.83 830.163 1388.44 828.138 Q1392.08 826.112 1396.82 826.112 Q1404.64 826.112 1408.65 830.973 Q1412.66 835.794 1412.66 845.192 Z\" fill=\"#000000\" fill-rule=\"evenodd\" fill-opacity=\"1\" /><path clip-path=\"url(#clip610)\" d=\"M1434.9 814.324 L1434.9 827.206 L1450.25 827.206 L1450.25 832.999 L1434.9 832.999 L1434.9 857.628 Q1434.9 863.178 1436.4 864.758 Q1437.94 866.338 1442.6 866.338 L1450.25 866.338 L1450.25 872.576 L1442.6 872.576 Q1433.97 872.576 1430.69 869.376 Q1427.41 866.135 1427.41 857.628 L1427.41 832.999 L1421.94 832.999 L1421.94 827.206 L1427.41 827.206 L1427.41 814.324 L1434.9 814.324 Z\" fill=\"#000000\" fill-rule=\"evenodd\" fill-opacity=\"1\" /><path clip-path=\"url(#clip610)\" d=\"M1498.87 848.028 L1498.87 851.673 L1464.59 851.673 Q1465.08 859.37 1469.21 863.421 Q1473.39 867.431 1480.8 867.431 Q1485.09 867.431 1489.1 866.378 Q1493.15 865.325 1497.12 863.218 L1497.12 870.267 Q1493.11 871.968 1488.9 872.86 Q1484.69 873.751 1480.35 873.751 Q1469.5 873.751 1463.14 867.431 Q1456.82 861.112 1456.82 850.337 Q1456.82 839.197 1462.81 832.675 Q1468.85 826.112 1479.06 826.112 Q1488.21 826.112 1493.52 832.026 Q1498.87 837.9 1498.87 848.028 M1491.41 845.84 Q1491.33 839.723 1487.97 836.077 Q1484.65 832.432 1479.14 832.432 Q1472.9 832.432 1469.13 835.956 Q1465.41 839.48 1464.84 845.881 L1491.41 845.84 Z\" fill=\"#000000\" fill-rule=\"evenodd\" fill-opacity=\"1\" /><path clip-path=\"url(#clip610)\" d=\"M1540.02 828.543 L1540.02 835.591 Q1536.86 833.971 1533.46 833.161 Q1530.06 832.351 1526.41 832.351 Q1520.86 832.351 1518.07 834.052 Q1515.31 835.753 1515.31 839.156 Q1515.31 841.749 1517.3 843.247 Q1519.28 844.706 1525.28 846.043 L1527.83 846.61 Q1535.77 848.311 1539.09 851.43 Q1542.45 854.509 1542.45 860.059 Q1542.45 866.378 1537.43 870.064 Q1532.45 873.751 1523.7 873.751 Q1520.05 873.751 1516.08 873.022 Q1512.15 872.333 1507.78 870.915 L1507.78 863.218 Q1511.91 865.365 1515.92 866.459 Q1519.93 867.512 1523.86 867.512 Q1529.13 867.512 1531.96 865.73 Q1534.8 863.907 1534.8 860.626 Q1534.8 857.588 1532.73 855.967 Q1530.71 854.347 1523.78 852.848 L1521.19 852.24 Q1514.26 850.782 1511.18 847.784 Q1508.1 844.746 1508.1 839.48 Q1508.1 833.08 1512.64 829.596 Q1517.18 826.112 1525.52 826.112 Q1529.65 826.112 1533.3 826.72 Q1536.94 827.327 1540.02 828.543 Z\" fill=\"#000000\" fill-rule=\"evenodd\" fill-opacity=\"1\" /><path clip-path=\"url(#clip610)\" d=\"M1601.31 849.769 Q1592.28 849.769 1588.8 851.835 Q1585.31 853.901 1585.31 858.884 Q1585.31 862.854 1587.9 865.203 Q1590.54 867.512 1595.03 867.512 Q1601.23 867.512 1604.96 863.137 Q1608.73 858.722 1608.73 851.43 L1608.73 849.769 L1601.31 849.769 M1616.18 846.691 L1616.18 872.576 L1608.73 872.576 L1608.73 865.689 Q1606.17 869.821 1602.37 871.806 Q1598.56 873.751 1593.05 873.751 Q1586.08 873.751 1581.95 869.862 Q1577.86 865.933 1577.86 859.37 Q1577.86 851.714 1582.96 847.825 Q1588.11 843.936 1598.27 843.936 L1608.73 843.936 L1608.73 843.207 Q1608.73 838.062 1605.32 835.267 Q1601.96 832.432 1595.84 832.432 Q1591.96 832.432 1588.27 833.363 Q1584.58 834.295 1581.18 836.158 L1581.18 829.272 Q1585.27 827.692 1589.12 826.922 Q1592.97 826.112 1596.61 826.112 Q1606.46 826.112 1611.32 831.216 Q1616.18 836.32 1616.18 846.691 Z\" fill=\"#000000\" fill-rule=\"evenodd\" fill-opacity=\"1\" /><path clip-path=\"url(#clip610)\" d=\"M1631.53 827.206 L1638.99 827.206 L1638.99 873.386 Q1638.99 882.055 1635.66 885.944 Q1632.38 889.833 1625.05 889.833 L1622.22 889.833 L1622.22 883.513 L1624.2 883.513 Q1628.45 883.513 1629.99 881.528 Q1631.53 879.584 1631.53 873.386 L1631.53 827.206 M1631.53 809.544 L1638.99 809.544 L1638.99 818.983 L1631.53 818.983 L1631.53 809.544 Z\" fill=\"#000000\" fill-rule=\"evenodd\" fill-opacity=\"1\" /><path clip-path=\"url(#clip610)\" d=\"M1672.16 832.432 Q1666.17 832.432 1662.68 837.131 Q1659.2 841.789 1659.2 849.931 Q1659.2 858.074 1662.64 862.773 Q1666.13 867.431 1672.16 867.431 Q1678.12 867.431 1681.6 862.732 Q1685.09 858.033 1685.09 849.931 Q1685.09 841.87 1681.6 837.171 Q1678.12 832.432 1672.16 832.432 M1672.16 826.112 Q1681.89 826.112 1687.44 832.432 Q1692.98 838.751 1692.98 849.931 Q1692.98 861.071 1687.44 867.431 Q1681.89 873.751 1672.16 873.751 Q1662.4 873.751 1656.85 867.431 Q1651.34 861.071 1651.34 849.931 Q1651.34 838.751 1656.85 832.432 Q1662.4 826.112 1672.16 826.112 Z\" fill=\"#000000\" fill-rule=\"evenodd\" fill-opacity=\"1\" /><path clip-path=\"url(#clip610)\" d=\"M1704.57 854.671 L1704.57 827.206 L1712.02 827.206 L1712.02 854.387 Q1712.02 860.828 1714.54 864.069 Q1717.05 867.269 1722.07 867.269 Q1728.11 867.269 1731.59 863.421 Q1735.11 859.573 1735.11 852.929 L1735.11 827.206 L1742.57 827.206 L1742.57 872.576 L1735.11 872.576 L1735.11 865.608 Q1732.4 869.74 1728.79 871.766 Q1725.23 873.751 1720.49 873.751 Q1712.67 873.751 1708.62 868.89 Q1704.57 864.029 1704.57 854.671 M1723.33 826.112 L1723.33 826.112 Z\" fill=\"#000000\" fill-rule=\"evenodd\" fill-opacity=\"1\" /><path clip-path=\"url(#clip610)\" d=\"M1765.29 814.324 L1765.29 827.206 L1780.65 827.206 L1780.65 832.999 L1765.29 832.999 L1765.29 857.628 Q1765.29 863.178 1766.79 864.758 Q1768.33 866.338 1772.99 866.338 L1780.65 866.338 L1780.65 872.576 L1772.99 872.576 Q1764.36 872.576 1761.08 869.376 Q1757.8 866.135 1757.8 857.628 L1757.8 832.999 L1752.33 832.999 L1752.33 827.206 L1757.8 827.206 L1757.8 814.324 L1765.29 814.324 Z\" fill=\"#000000\" fill-rule=\"evenodd\" fill-opacity=\"1\" /><path clip-path=\"url(#clip610)\" d=\"M1829.26 848.028 L1829.26 851.673 L1794.99 851.673 Q1795.47 859.37 1799.6 863.421 Q1803.78 867.431 1811.19 867.431 Q1815.48 867.431 1819.49 866.378 Q1823.55 865.325 1827.52 863.218 L1827.52 870.267 Q1823.51 871.968 1819.29 872.86 Q1815.08 873.751 1810.74 873.751 Q1799.89 873.751 1793.53 867.431 Q1787.21 861.112 1787.21 850.337 Q1787.21 839.197 1793.2 832.675 Q1799.24 826.112 1809.45 826.112 Q1818.6 826.112 1823.91 832.026 Q1829.26 837.9 1829.26 848.028 M1821.8 845.84 Q1821.72 839.723 1818.36 836.077 Q1815.04 832.432 1809.53 832.432 Q1803.29 832.432 1799.52 835.956 Q1795.8 839.48 1795.23 845.881 L1821.8 845.84 M1814.63 806.222 L1822.69 806.222 L1809.49 821.454 L1803.29 821.454 L1814.63 806.222 Z\" fill=\"#000000\" fill-rule=\"evenodd\" fill-opacity=\"1\" /><path clip-path=\"url(#clip610)\" d=\"M1880.3 848.028 L1880.3 851.673 L1846.03 851.673 Q1846.51 859.37 1850.65 863.421 Q1854.82 867.431 1862.23 867.431 Q1866.53 867.431 1870.54 866.378 Q1874.59 865.325 1878.56 863.218 L1878.56 870.267 Q1874.55 871.968 1870.33 872.86 Q1866.12 873.751 1861.79 873.751 Q1850.93 873.751 1844.57 867.431 Q1838.25 861.112 1838.25 850.337 Q1838.25 839.197 1844.25 832.675 Q1850.28 826.112 1860.49 826.112 Q1869.64 826.112 1874.95 832.026 Q1880.3 837.9 1880.3 848.028 M1872.85 845.84 Q1872.76 839.723 1869.4 836.077 Q1866.08 832.432 1860.57 832.432 Q1854.33 832.432 1850.57 835.956 Q1846.84 839.48 1846.27 845.881 L1872.85 845.84 Z\" fill=\"#000000\" fill-rule=\"evenodd\" fill-opacity=\"1\" /><path clip-path=\"url(#clip610)\" d=\"M1921.46 828.543 L1921.46 835.591 Q1918.3 833.971 1914.89 833.161 Q1911.49 832.351 1907.84 832.351 Q1902.3 832.351 1899.5 834.052 Q1896.75 835.753 1896.75 839.156 Q1896.75 841.749 1898.73 843.247 Q1900.72 844.706 1906.71 846.043 L1909.26 846.61 Q1917.2 848.311 1920.52 851.43 Q1923.89 854.509 1923.89 860.059 Q1923.89 866.378 1918.86 870.064 Q1913.88 873.751 1905.13 873.751 Q1901.48 873.751 1897.52 873.022 Q1893.59 872.333 1889.21 870.915 L1889.21 863.218 Q1893.34 865.365 1897.35 866.459 Q1901.36 867.512 1905.29 867.512 Q1910.56 867.512 1913.39 865.73 Q1916.23 863.907 1916.23 860.626 Q1916.23 857.588 1914.16 855.967 Q1912.14 854.347 1905.21 852.848 L1902.62 852.24 Q1895.69 850.782 1892.61 847.784 Q1889.53 844.746 1889.53 839.48 Q1889.53 833.08 1894.07 829.596 Q1898.61 826.112 1906.95 826.112 Q1911.09 826.112 1914.73 826.72 Q1918.38 827.327 1921.46 828.543 Z\" fill=\"#000000\" fill-rule=\"evenodd\" fill-opacity=\"1\" /><circle clip-path=\"url(#clip613)\" cx=\"232.609\" cy=\"1470.51\" r=\"14.4\" fill=\"#009af9\" fill-rule=\"evenodd\" fill-opacity=\"1\" stroke=\"#000000\" stroke-opacity=\"1\" stroke-width=\"3.2\"/>\n<circle clip-path=\"url(#clip613)\" cx=\"438.449\" cy=\"1441.27\" r=\"14.4\" fill=\"#009af9\" fill-rule=\"evenodd\" fill-opacity=\"1\" stroke=\"#000000\" stroke-opacity=\"1\" stroke-width=\"3.2\"/>\n<circle clip-path=\"url(#clip613)\" cx=\"541.368\" cy=\"1436.65\" r=\"14.4\" fill=\"#009af9\" fill-rule=\"evenodd\" fill-opacity=\"1\" stroke=\"#000000\" stroke-opacity=\"1\" stroke-width=\"3.2\"/>\n<circle clip-path=\"url(#clip613)\" cx=\"953.047\" cy=\"1436.65\" r=\"14.4\" fill=\"#009af9\" fill-rule=\"evenodd\" fill-opacity=\"1\" stroke=\"#000000\" stroke-opacity=\"1\" stroke-width=\"3.2\"/>\n<circle clip-path=\"url(#clip613)\" cx=\"1055.97\" cy=\"1422.79\" r=\"14.4\" fill=\"#009af9\" fill-rule=\"evenodd\" fill-opacity=\"1\" stroke=\"#000000\" stroke-opacity=\"1\" stroke-width=\"3.2\"/>\n<circle clip-path=\"url(#clip613)\" cx=\"1158.89\" cy=\"1412.02\" r=\"14.4\" fill=\"#009af9\" fill-rule=\"evenodd\" fill-opacity=\"1\" stroke=\"#000000\" stroke-opacity=\"1\" stroke-width=\"3.2\"/>\n<circle clip-path=\"url(#clip613)\" cx=\"1364.73\" cy=\"1361.21\" r=\"14.4\" fill=\"#009af9\" fill-rule=\"evenodd\" fill-opacity=\"1\" stroke=\"#000000\" stroke-opacity=\"1\" stroke-width=\"3.2\"/>\n<circle clip-path=\"url(#clip613)\" cx=\"2085.16\" cy=\"1030.23\" r=\"14.4\" fill=\"#009af9\" fill-rule=\"evenodd\" fill-opacity=\"1\" stroke=\"#000000\" stroke-opacity=\"1\" stroke-width=\"3.2\"/>\n<circle clip-path=\"url(#clip613)\" cx=\"2291\" cy=\"939.405\" r=\"14.4\" fill=\"#009af9\" fill-rule=\"evenodd\" fill-opacity=\"1\" stroke=\"#000000\" stroke-opacity=\"1\" stroke-width=\"3.2\"/>\n</svg>\n"
     },
     "execution_count": 29,
     "metadata": {},
     "output_type": "execute_result"
    }
   ],
   "source": [
    "nb_cycles = []\n",
    "nb_iterations = []\n",
    "nb_added_constraints = []\n",
    "\n",
    "# init the kep graph\n",
    "kep_graph = read_kep_file(\"./_cache/data/MD-00001-00000001.wmd\",\"./_cache/data/MD-00001-00000001.dat\");\n",
    "failure_rates = get_failure_rates(kep_graph, \"Constant\");\n",
    "\n",
    "for i in 1:1:9\n",
    "    data = extractCycleInformation(kep_graph, 3, \"sum\");\n",
    "    C = data[\"Cycles_index\"] \n",
    "    cycles = data[\"Cycles\"]\n",
    "    U = data[\"U\"]\n",
    "    ClusterSize = 10\n",
    "    vertic_cycles = data[\"vertic_cycles\"]\n",
    "    nb_scenar = 100\n",
    "\n",
    "    ksi = getScenarioClusterK(kep_graph, nb_scenar)\n",
    "\n",
    "    res_lshape = LshapeClusterMethod(kep_graph, ClusterSize, C, cycles, U, vertic_cycles, ksi, 50, 1e-3, false)\n",
    "    append!(nb_cycles, length(cycles))\n",
    "    append!(nb_iterations, res_lshape[\"nb_iterations\"])\n",
    "    append!(nb_added_constraints, res_lshape[\"nb_added_constraints\"])\n",
    "\n",
    "    kep_graph = addRandomCycles(kep_graph, 1, 0.7, 1, 3)\n",
    "end\n",
    "\n",
    "p1 = Plots.scatter(nb_cycles, nb_iterations, title=\"Nombre d'itérations\")\n",
    "p2 = Plots.scatter(nb_cycles, nb_added_constraints, title=\"Nombre de contraintes ajoutées\")\n",
    "Plots.plot(p1, p2, layout=(2, 1), legend=false)"
   ]
  },
  {
   "attachments": {},
   "cell_type": "markdown",
   "metadata": {},
   "source": [
    "On peut voir une augmentation du nombre d'itérations ainsi que du nombre de contraintes rajoutées qui est de type exponentiel. Ainsi notre méthode de résolution va très surement rencontrer des problèmes lorsque nous allons traiter des instances conséquentes."
   ]
  },
  {
   "cell_type": "code",
   "execution_count": 17,
   "metadata": {},
   "outputs": [],
   "source": [
    "# init the kep graph\n",
    "kep_graph = read_kep_file(\"./_cache/data/MD-00001-00000031.wmd\",\"./_cache/data/MD-00001-00000031.dat\");\n",
    "failure_rates = get_failure_rates(kep_graph, \"Constant\");\n",
    "data = extractCycleInformation(kep_graph, 2, \"sum\");\n",
    "C = data[\"Cycles_index\"] \n",
    "cycles = data[\"Cycles\"]\n",
    "U = data[\"U\"]\n",
    "ClusterSize = 5\n",
    "vertic_cycles = data[\"vertic_cycles\"]\n",
    "nb_scenar = 20\n",
    "ξ = getScenarioClusterK(kep_graph, nb_scenar)\n",
    "res_lshape = LshapeClusterMethod(kep_graph, ClusterSize, C, cycles, U, vertic_cycles, ξ, 50, 1e-3, true)"
   ]
  },
  {
   "cell_type": "code",
   "execution_count": null,
   "metadata": {},
   "outputs": [],
   "source": []
  },
  {
   "cell_type": "markdown",
   "metadata": {},
   "source": [
    "### Modelisation averse au risque"
   ]
  },
  {
   "attachments": {},
   "cell_type": "markdown",
   "metadata": {},
   "source": [
    "$$\n",
    "\\begin{equation}\n",
    "\t\\mathbb{RACP}:= \\left\\{\\begin{aligned}\n",
    "        \\underset{x,t}{\\min} &\\quad t + \\frac{1}{1-\\alpha}\\mathbb{E}_{\\omega}\\left[\\left(\\underset{y}{\\min}\\left( - \\sum_{c \\in C_K}y_c(\\omega) w_c\\right) - t\\right)+\\right]\\\\\n",
    "         s.c &\\quad x_{i,j} = x_{j,i}\\quad \\forall (i,j) \\in V\\times V\\\\\n",
    "         &\\quad x_{i,j} + x_{j,k} -1 \\leq x_{i,k} \\quad \\forall (i,j,k) \\in V\\times V\\times V\\\\\n",
    "         &\\quad \\sum_{j \\in V} x_{i,j} \\leq U \\quad \\forall i \\in V \\\\\n",
    "         &\\quad y_c(\\omega) \\leq x_{i,j}\\xi_{i,j}(\\omega) \\quad \\forall c \\in C_k, ~\\forall (i,j) \\in c,~ \\forall \\omega \\in \\Omega \\\\\n",
    "         &\\quad \\sum_{c \\in C_K(i)} y_c(\\omega) \\leq 1 \\quad \\forall i \\in V,\\quad\\forall \\omega \\in \\Omega\\\\\n",
    "\t\\end{aligned}\\right.\n",
    "\\end{equation}\n",
    "$$\n",
    "\n",
    "Cette modélisation averse au risque peut, se linéariser de la façon suivante :\n",
    "\n",
    "$$\n",
    "\\begin{equation}\n",
    "\t\\mathbb{RACP}:= \\left\\{\\begin{aligned}\n",
    "        \\underset{x,t}{\\min} &\\quad t + \\frac{1}{(1-\\alpha)\\times |\\Omega|}\\sum_{\\omega \\in \\Omega} \\pi(\\omega)\\\\\n",
    "         s.c &\\quad x_{i,j} = x_{j,i},\\quad \\forall (i,j) \\in V\\times V\\\\\n",
    "         &\\quad x_{i,j} + x_{j,k} -1 \\leq x_{i,k}, \\quad \\forall (i,j,k) \\in V\\times V\\times V\\\\\n",
    "         &\\quad \\pi(\\omega) \\geq \\left(\\underset{y}{\\min}\\left( - \\sum_{c\\in C_K}y_c(\\omega) w_c\\right) - t\\right),\\quad \\forall \\omega \\in \\Omega \\\\\n",
    "         &\\quad \\pi(\\omega) \\geq 0,\\quad \\forall \\omega \\in \\Omega \\\\\n",
    "         &\\quad \\sum_{j \\in V} x_{i,j} \\leq U, \\quad \\forall i \\in V \\\\\n",
    "         &\\quad y_c(\\omega) \\leq x_{i,j}\\xi_{i,j}(\\omega) \\quad \\forall c \\in C_k, ~\\forall (i,j) \\in c,~ \\forall \\omega \\in \\Omega \\\\\n",
    "         &\\quad \\sum_{c \\in C_K(i)} y_c(\\omega) \\leq 1 \\quad \\forall i \\in V,\\quad\\forall \\omega \\in \\Omega\\\\\n",
    "         \n",
    "\t\\end{aligned}\\right.\n",
    "\\end{equation}\n",
    "$$\n",
    "\n",
    "On utilise une équation qui est bien connu est qui est que : $\\min -f(x) = - \\max f(x)$. Ainsi nous pouvons réecrire ce problème de la façon suivante :\n",
    "\n",
    "$$\n",
    "\\begin{equation}\n",
    "\t\\mathbb{RACP}:= \\left\\{\\begin{aligned}\n",
    "        \\underset{x,t}{\\min} &\\quad t + \\frac{1}{(1-\\alpha)\\times |\\Omega|}\\sum_{\\omega \\in \\Omega} \\pi(\\omega)\\\\\n",
    "         s.c &\\quad x_{i,j} = x_{j,i},\\quad \\forall (i,j) \\in V\\times V\\\\\n",
    "         &\\quad x_{i,j} + x_{j,k} -1 \\leq x_{i,k}, \\quad \\forall (i,j,k) \\in V\\times V\\times V\\\\\n",
    "         &\\quad \\sum_{j \\in V} x_{i,j} \\leq U, \\quad \\forall i \\in V \\\\\n",
    "         &\\quad \\pi(\\omega) \\geq \\left(-v_{\\omega}(x) - t\\right),\\quad \\forall \\omega \\in \\Omega \\\\\n",
    "         &\\quad \\pi(\\omega) \\geq 0,\\quad \\forall \\omega \\in \\Omega \\\\\n",
    "\t\\end{aligned}\\right.\n",
    "\\end{equation}\n",
    "$$\n",
    "\n",
    "Or nous avons exprimée la valeur du problème $v_{\\omega}(x)$, dans la section précédente, ainsi nous pouvons réecrire ce problème de la facçon suivante :\n",
    "\n",
    "$$\n",
    "\\begin{equation}\n",
    "\t\\mathbb{RACP}:= \\left\\{\\begin{aligned}\n",
    "        \\underset{x,t}{\\min} &\\quad t + \\frac{1}{(1-\\alpha)\\times |\\Omega|}\\sum_{\\omega \\in \\Omega} \\pi(\\omega)\\\\\n",
    "         s.c &\\quad x_{i,j} = x_{j,i},\\quad \\forall (i,j) \\in V\\times V\\\\\n",
    "         &\\quad x_{i,j} + x_{j,k} -1 \\leq x_{i,k}, \\quad \\forall (i,j,k) \\in V\\times V\\times V\\\\\n",
    "         &\\quad \\sum_{j \\in V} x_{i,j} \\leq U, \\quad \\forall i \\in V \\\\\n",
    "         &\\quad \\pi(\\omega) \\geq \\left(-\\underset{\\theta(\\omega)}{\\max}~~\\theta(\\omega) - t\\right),\\quad \\forall \\omega \\in \\Omega \\\\\n",
    "         &\\quad \\theta(\\omega) \\leq \\sum_{c \\in C_{K}}\\sum_{(i,j) \\in c} \\lambda_{(i,j)}^c x_{i,j}\\xi_{i,j}(\\omega) + \\sum_{i \\in V}\\mu_i + \\sum_{c \\in C_K} \\Delta_c \\quad\\forall~\\lambda, \\mu, \\Delta ~\\in~\\Lambda(P), \\forall \\omega \\in \\Omega\\\\\n",
    "         &\\quad \\pi(\\omega) \\geq 0,\\quad \\forall \\omega \\in \\Omega \\\\\n",
    "\t\\end{aligned}\\right.\n",
    "\\end{equation}\n",
    "$$\n",
    "\n",
    "Nous pouvons finalement réecrire ce problème de la façon suivante :\n",
    "\n",
    "$$\n",
    "\\begin{equation}\n",
    "\t\\mathbb{RACP}:= \\left\\{\\begin{aligned}\n",
    "        \\underset{x,t}{\\min} &\\quad t + \\frac{1}{(1-\\alpha)\\times |\\Omega|}\\sum_{\\omega \\in \\Omega} \\pi(\\omega)\\\\\n",
    "         s.c &\\quad x_{i,j} = x_{j,i},\\quad \\forall (i,j) \\in V\\times V\\\\\n",
    "         &\\quad x_{i,j} + x_{j,k} -1 \\leq x_{i,k}, \\quad \\forall (i,j,k) \\in V\\times V\\times V\\\\\n",
    "         &\\quad \\sum_{j \\in V} x_{i,j} \\leq U, \\quad \\forall i \\in V \\\\\n",
    "         &\\quad \\pi(\\omega) \\geq \\left(-\\theta(\\omega) - t\\right),\\quad \\forall \\omega \\in \\Omega \\\\\n",
    "         &\\quad \\theta(\\omega) \\leq \\sum_{c \\in C_{K}}\\sum_{(i,j) \\in c} \\lambda_{(i,j)}^c x_{i,j}\\xi_{i,j}(\\omega) + \\sum_{i \\in V}\\mu_i + \\sum_{c \\in C_K} \\Delta_c \\quad\\forall~\\lambda, \\mu, \\Delta ~\\in~\\Lambda(P), \\forall \\omega \\in \\Omega\\\\\n",
    "         &\\quad \\pi(\\omega) \\geq 0,\\quad \\forall \\omega \\in \\Omega \\\\\n",
    "\t\\end{aligned}\\right.\n",
    "\\end{equation}\n",
    "$$\n",
    "\n",
    "En effet le maximum peut être retiré, il nous faut simplement un point réalisable.\n",
    "\n",
    "Nous pouvons remarquer le gros avantage de cette méthode, est que elle nous permet pour un moindre coût d'implémentation, d'avoir une méthode concrète.\n",
    "\n"
   ]
  },
  {
   "cell_type": "code",
   "execution_count": 12,
   "metadata": {},
   "outputs": [
    {
     "data": {
      "text/plain": [
       "Dict{String, Any} with 5 entries:\n",
       "  \"first_level_var\"      => [1.0 0.0 … 0.0 0.0; 0.0 0.0 … 0.0 0.0; … ; 0.0 0.0 …\n",
       "  \"objective_value\"      => 0.0\n",
       "  \"nb_added_constraints\" => 170\n",
       "  \"optimal\"              => true\n",
       "  \"nb_iterations\"        => 3"
      ]
     },
     "execution_count": 12,
     "metadata": {},
     "output_type": "execute_result"
    }
   ],
   "source": [
    "kep_graph = read_kep_file(\"./_cache/data/MD-00001-00000001.wmd\",\"./_cache/data/MD-00001-00000001.dat\");\n",
    "failure_rates = get_failure_rates(kep_graph, \"Constant\");\n",
    "\n",
    "data = extractCycleInformation(kep_graph, 3, \"sum\");\n",
    "C = data[\"Cycles_index\"] \n",
    "cycles = data[\"Cycles\"]\n",
    "U = data[\"U\"]\n",
    "ClusterSize = 5\n",
    "vertic_cycles = data[\"vertic_cycles\"]\n",
    "nb_scenar = 1000\n",
    "\n",
    "ksi = getScenarioClusterK(kep_graph, nb_scenar)\n",
    "\n",
    "res_lshape = LshapeClusterMethod(kep_graph, ClusterSize, C, cycles, U, vertic_cycles, ksi, 50, 1e-3, false, true, 0.95)"
   ]
  },
  {
   "cell_type": "code",
   "execution_count": null,
   "metadata": {},
   "outputs": [],
   "source": []
  }
 ],
 "metadata": {
  "kernelspec": {
   "display_name": "Julia 1.8.2",
   "language": "julia",
   "name": "julia-1.8"
  },
  "language_info": {
   "file_extension": ".jl",
   "mimetype": "application/julia",
   "name": "julia",
   "version": "1.8.2"
  }
 },
 "nbformat": 4,
 "nbformat_minor": 2
}
