{
 "cells": [
  {
   "cell_type": "markdown",
   "metadata": {},
   "source": [
    "# 5MA Sujet de projet\n",
    "\n",
    "# Transfert d'organe sous incertitude sur la compatibilité"
   ]
  },
  {
   "cell_type": "markdown",
   "metadata": {},
   "source": [
    "## Introduction\n",
    "\n",
    "Malgré l'augmentation croissante du nombre de transplantations d'organes effectuées chaque année (environ 6000 en 2017 dont 3782 transplantations de reins), la demande reste en perpétuelle augmentation. Ainsi 6000 organes, dont 3782 reins, ont été transplantés en 2017, mais il y avait encore 24000 personnes en attente d'un organe la même année. Les organes transplantés peuvent provenir d'un donneur décédé ou, dans le cas des reins et du foie, d'un donneur vivant consentant, le plus souvent membre de la famille du patient. Hélas, même si un proche accepte de prendre ce risque pour sa santé, il ne sera pas forcément compatible avec le patient. Pour cette raison, les pratiques médicales les législations évoluent dans de nombreux pays afin de permettre la mise en place d'un programme d'échange de dons d'organes.\n",
    "\n",
    "L'exemple le plus simple d'échange de don d'organes est celui où deux patients $P_1$ et $P_2$ sont accompagnés de donneurs $D_1$ et $D_2$. Les patients sont supposés incompatibles avec les donneurs qui les accompagnent, mais on suppose que $D_1$ est compatible avec $P_2$ et $D_2$ avec $P_1$. Il est alors possible de transplanter un organe de $D_1$ vers $P_2$ et de $D_2$ vers $P_1$ avec le consentement de tous et en suivant la procédure légale.\n",
    "\n",
    "Plus généralement, un cycle d'échange d'organes associe $k$ paires de patient-donneur $(P_{i_1},D_{i_1}), \\dots, P_{i_k},D_{i_k})$ de sorte que $D_{i_l}$ donne à $P_{i_{l+1}}$ pour $l=1,\\dots,k-1$ et $D_{i_k}$ donne à $P_{i_1}$.\n",
    "Par ailleurs, le point essentiel est que les transferts soient tous réalisés en même temps et dans le même hôpital pour éviter qu'une rétractation de dernière minute ne lèse un patient et son donneur, et que les patients et donneurs venus ensemble et leur famille puissent se soutenir émotionnellement durant l'hospitalisation. \n",
    "Pour cette raison, le nombre d'échanges prenant place au sein d'un même cycle est nécessairement limité. En pratique, l'organisation d'un cycle de trois paires est déjà une épreuve pour le personnel d'un hôpital, et le plus grand cycle ayant jamais eu lieu a a impliqué six patients et donneurs.\n",
    "\n",
    "Dans ce projet, nous prendrons le point de vue de l'organisme national responsable de la gestion du programme d'échange d'organes. \n",
    "À chaque phase d'échange, l'objectif de cet organisme est de choisir un ensemble de cycles d'échanges entre paires compatibles afin de maximiser le nombre de patients recevant un organe. Dans certains cas, on peut aussi donner une priorité à certains patients en fonction de la gravité de leur état ou de la durée de leur attente. \n",
    "Pour cela, on pourra attribuer des poids différents à chaque patient et maximiser la somme des poids des patients recevant un organe. \n",
    "\n",
    "Lors d'une première phase de planification, l'organisme ne dispose que de données individuelles sur chaque donneur et chaque receveur pour déduire la compatibilité entre donneurs et patients. \n",
    "Ces données sont principalement le groupe sanguin et le complexe majeur d’histocompatibilité, aussi appelé système HLA. \n",
    "Ils en tirent un premier graphe de compatibilité orienté, $G=(V,A)$, où chaque sommet de $V$ représente une paire donneur-patient et où un arc entre deux paires $(P_k,D_k)$ et $(P_l,D_l)$ signifie que $D_k$ est __a priori__ compatible avec $P_l$.\n",
    "Cependant, la compatibilité effective entre deux personnes ne peut être assurée qu'en mettant en présence des tissus des deux personnes dans ce que l'on appelle un _test croisé_. \n",
    "En général, on peut supposer que les données individuelles permettent de déterminer une probabilité de réussite du test croisé.\n",
    "Mais, dans tous les cas, ces tests peuvent être lourds à réaliser pour les patients et demander des ressources importantes aupèrs des services hospitaliers, donc leur nombre sera toujours limité. \n",
    "On pourra pour cela considérer une limite fixe, une limite dépendant du nombre de paires patient-donneur ou bien supposer que les tests ne servent qu'à confirmer la compatibilité après avoir décidé les cycles d'échange entre patients a priori compatibles. \n",
    "\n",
    "\n",
    "---\n",
    "\n",
    "Ici on distingue bien un problème de type optimisation sous incertitude. On une décision à priori qui est les cycles que nous choisissons et ensuite nous réalisons des tests. Ces différents tests nous permettront de nous assurer à postériori des différentes compatibilités réelles.\n",
    "\n",
    "TODO : définir les variables à priori et les variables de recours $x$ seront les variables à priori et $y$ seront les variables de recours\n",
    "\n",
    "\n",
    "- une première contrainte apparaît ici : on ne veut limiter la longueure des cycles. Si on considère des cycles qui sont trop longs on va avoir des problèmes dans notre mise en place à l'hopital.\n",
    "\n",
    "- il y aura ensuite tout un ensemble de contraintes qui nous permettront de définir ce que l'on appel des cycles."
   ]
  },
  {
   "cell_type": "markdown",
   "metadata": {},
   "source": [
    "## Description des données\n",
    "\n",
    "Des jeux de données correspondant à des ensembles de paires patient-donneur ont été partagés dans la PrefLib (https://www.preflib.org/data/MD). Le sous-ensemble d'instances auxquels vous pourrez vous intéresser dans un premier temps accompagne ce sujet sur Moodle. Les dix premières instances (numérotées de 1 à 10) contiennent 10 paires patient-donneur, les 10 suivantes (numérotées de 31 à 40) en contiennent 32 et les 10 dernières (numérotées de 71 à 80) en contiennent 64. Chaque jeu de données est décrit par deux fichiers, l'un énumérant les données relatives à chaque paire et portant l'extension .dat, et l'autre énumérant les données relatives aux arcs et portant l'extension .wmd.\n",
    "Nous vous fournissons une fonction permettant de lire les fichiers relatifs à un jeu de donnéees. "
   ]
  },
  {
   "cell_type": "markdown",
   "metadata": {},
   "source": [
    "Une fois le graphe de compatibilité donné, une instance est entièrement décrite par la connaissance de la distribution des incertitudes dans une approche par optimisation stochastique. Dans une approche par optimisation robuste, le pire cas est déjà connu pour chaque arête, il s'agit d'un échec de la transplantation. Plusieurs modèles d'incertitudes sont classiquement regardés dans la littérature, mais tous considèrent que la réussite du test croisé réalisé sur un arc $a$ suit une loi de Bernouilli de probabilité $1-f_a$ où $f_a$ est une probabilité d'échec donnée. Nous donnons ci-dessous la fonction permettant de calculer des probabilités d'échec pour tous les arcs en fonction d'un paramètre à choisir dans le tableau DISTRIBUTIONS.\n",
    "\n",
    "---\n",
    "\n",
    "Sur chaque arrète on va avoir la probabilité que le transplantation soit réussit ou pas."
   ]
  },
  {
   "cell_type": "markdown",
   "metadata": {},
   "source": [
    "## Travail à réaliser\n",
    "\n",
    "Nous vous donnons une grande liberté sur la façon de traiter le sujet. En fonction de décisions que vous justifierez, vous pourrez traiter le problème par une approche d'optimisation stochastique, d'optimisation robuste ou de toute autre approche averse aux risques. Le travail commencera par décrire l'approche suivie puis le modèle en découlant. Un code Julia permettra ensuite d'implémenter une ou plusieurs méthodes de résolution pour le modèle. Vous pourrez tester la ou les méthodes sur des instances de la PrefLib. Vos interprétations devront rendre compte des enjeux pratiques et des enjeux algorithmiques (optimalité, temps de calcul, passage à l'échelle, etc.) de votre travail.\n",
    "Le résultat de votre travail sera à rendre dans ce notebook avant le 14 janvier 2022. Chaque cellule du notebook aura préalablement été exécutée (sans erreur, évidemment), et il importera que les affichages utilisés dans vos interprétations y apparaissent. "
   ]
  },
  {
   "cell_type": "code",
   "execution_count": 1,
   "metadata": {},
   "outputs": [
    {
     "name": "stdout",
     "output_type": "stream",
     "text": [
      "c:\\Users\\loicf\\Documents\\INSA\\GM\\5GM\\OptimIncert\\KidneyExchangeProgram\n"
     ]
    }
   ],
   "source": [
    "\"\"\"\n",
    "check that here the path ends with `KidneyExchangeProgram`, the git name\n",
    "\"\"\"\n",
    "\n",
    "if last(split(pwd(), Base.Filesystem.path_separator)) != \"KidneyExchangeProgram\"\n",
    "    cd(\"..\")\n",
    "end\n",
    "println(pwd())"
   ]
  },
  {
   "cell_type": "code",
   "execution_count": 2,
   "metadata": {},
   "outputs": [],
   "source": [
    "using Random, MetaGraphs, SimpleWeightedGraphs, Graphs, JuMP, DelimitedFiles, Distributions\n",
    "\n",
    "# include files for the data reading and data extraction\n",
    "include(join([\"utils\", \"graph_extraction.jl\"], Base.Filesystem.path_separator))\n",
    "include(join([\"utils\", \"data_reading.jl\"], Base.Filesystem.path_separator))\n",
    "\n",
    "# include files for the modeling and solving part\n",
    "## stochastic optimization\n",
    "include(join([\"src\", \"stochastic_framework\", \"master_problem.jl\"], Base.Filesystem.path_separator))\n",
    "#include(join([\"src\", \"stochastic_framework\", \"recourse_problem.jl\"], Base.Filesystem.path_separator))\n",
    "\n",
    "\n",
    "# for the random simulations\n",
    "include(join([\"utils\", \"monte_carlo.jl\"], Base.Filesystem.path_separator))\n",
    "\n"
   ]
  },
  {
   "attachments": {},
   "cell_type": "markdown",
   "metadata": {},
   "source": [
    "## Les données"
   ]
  },
  {
   "attachments": {},
   "cell_type": "markdown",
   "metadata": {},
   "source": [
    "Nous allons travailler ici avec des données sous forme de graphes. Les fonctions `read_kep_file` et `get_failure_rates` du fichier `.\\utils\\data_reading.jl` nous permettent de lire les fichier de données correspondant au problème de construire le graphe correspondant et ensuite de venir calculer les probabilités d'échec (du test croisé) de chaque arc. Voici un exemple d'utilisation des deux premières fonctions :"
   ]
  },
  {
   "cell_type": "code",
   "execution_count": 3,
   "metadata": {},
   "outputs": [],
   "source": [
    "kep_graph = read_kep_file(\"./.cache/data/MD-00001-00000080.wmd\",\"./.cache/data/MD-00001-00000080.dat\");\n",
    "failure_rates = get_failure_rates(kep_graph, \"Constant\");"
   ]
  },
  {
   "attachments": {},
   "cell_type": "markdown",
   "metadata": {},
   "source": [
    "La fonction `extractCycleInformation` du fichier `.\\utils\\graph_extraction.jl`, nous permettra de venir extraire des données du graph crée. Cette fonction est orienté sur les cycles."
   ]
  },
  {
   "cell_type": "code",
   "execution_count": 4,
   "metadata": {},
   "outputs": [
    {
     "name": "stdout",
     "output_type": "stream",
     "text": [
      "```\n",
      "extractCycleInformation\n",
      "```\n",
      "\n",
      "This function allow us to extract the relevant information from the kep*graph. The relevant information here concern the cycle formulation of the kep*graph.\n",
      "\n",
      "# Parameters\n",
      "\n",
      "  * `g` : the kep_graph\n",
      "  * `K` (int): the length of the Cycles\n",
      "  * `mode`: the method to use to compute the calculus of the utilities\n",
      "\n",
      "# Return\n",
      "\n",
      "This function returns a Julia dictionnary with the following keys :\n",
      "\n",
      "  * `Cycles_index` : a list of integer each element of the list corresponds to the index of a cycle\n",
      "  * `vertic_cycles` : a dictionnary with vertices as keys and a list of cycles which involve the key as value\n",
      "  * `Cycles` : the exhaustive enumeration of the cycles\n",
      "  * `P` : for each cycle, the probability of failure. To get the success do 1 - ...\n",
      "  * `U` : the utility of each cycle\n"
     ]
    }
   ],
   "source": [
    "print(@doc(extractCycleInformation))"
   ]
  },
  {
   "cell_type": "code",
   "execution_count": 5,
   "metadata": {},
   "outputs": [],
   "source": [
    "extract_data = extractCycleInformation(kep_graph, 3, \"sum\");"
   ]
  },
  {
   "attachments": {},
   "cell_type": "markdown",
   "metadata": {},
   "source": [
    "## Un problème (presque) à recourt"
   ]
  },
  {
   "attachments": {},
   "cell_type": "markdown",
   "metadata": {},
   "source": [
    "Notre première vision de ce problème était de réfléchir uniquement sur les cycles. Nous adoptons la philosophie qui consiste à dire que on sélectionne des cycles et nous ne réalisons les tests croisés que parmis les cycles que nous avons sélectionnés\n",
    "\n",
    "On définit ainsi les données suivantes :\n",
    "\n",
    "- $C$ : l'ensemble des cycles de longueurs au plus $K$\n",
    "- $\\forall c \\in C \\quad w_c$ : désignera l'utilité du cycle $c$\n",
    "- $\\forall ~c~\\in C\\quad \\xi_c(\\omega) \\in \\{0, 1\\} = 1$ : si et seulement si on ne peut pas sélectionner le cycle $c$ (les tests sont mauvais) pour la réalisation $\\omega$\n",
    "\n",
    "On définit les variables suivantes\n",
    "\n",
    "- $1^{er}$ niveau : $\\forall c \\in C\\quad x_c \\in \\{0, 1\\} = 1$ si et seulement si, on décide de sélectionner le cycle $c$.\n",
    "- recours : $\\forall c \\in C\\quad y_c \\in \\{0, 1\\} = 1$ on ne peut pas sélectionner le cycle $c$ suite à la réalisation des tests.\n",
    "\n",
    "$$\n",
    "\\begin{equation}\n",
    "\t(\\mathbb{CRP}) := \\left\\{\\begin{aligned}\n",
    "        \\underset{x}{\\min} \\quad & - \\sum_{c \\in C} x_cw_c +\\mathbb{E}\\left(\\underset{y}{\\min} \\left[\\sum_{c \\in C} y_cw_c\\right]\\right)\\\\\n",
    "         s.c \\quad &\\sum_{c\\in C_i}x_c\\leq 1~\\forall i \\in V\\\\ % contrainte déterministe\n",
    "         % les contraintes stochastiques\n",
    "         & y_c = \\xi_c(\\omega)~x_c\\quad \\forall c \\in C \\quad \\forall \\omega \\in \\Omega\\\\ \n",
    "         & x_c \\in \\{0,1\\} \\quad \\forall c \\in C\\\\\n",
    "         & y_c \\in \\{0,1\\} \\quad \\forall c \\in C\n",
    "\t\\end{aligned}\\right.\n",
    "\\end{equation}\n",
    "$$\n",
    "\n",
    "Nous pouvons ainsi reformuler ce problème de la façon suivante :\n",
    "\n",
    "$$\n",
    "\\begin{equation}\n",
    "\t(\\mathbb{CRP}) := \\left\\{\\begin{aligned}\n",
    "        \\underset{x}{\\min} \\quad & - \\sum_{c \\in C} x_cw_c +\\mathbb{E}\\left( \\left[\\sum_{c \\in C} \\xi_cx_cw_c\\right]\\right)\\\\\n",
    "         s.c \\quad &\\sum_{c\\in C_i}x_c\\leq 1~\\forall i \\in V\\\\ % contrainte déterministe\n",
    "         & x_c \\in \\{0,1\\} \\quad \\forall c \\in C\\\\\n",
    "\t\\end{aligned}\\right.\n",
    "\\end{equation}\n",
    "$$\n",
    "\n",
    "Nous obtenons finalement :\n",
    "\n",
    "$$\n",
    "\\begin{equation}\n",
    "\t(\\mathbb{CRP}) := \\left\\{\\begin{aligned}\n",
    "        \\underset{x}{\\min} \\quad & \\sum_{c \\in C} x_cw_c(\\mathbb{E} \\left[ \\xi_c\\right] - 1)\\\\\n",
    "         s.c \\quad &\\sum_{c\\in C_i}x_c\\leq 1~\\forall i \\in V\\\\ % contrainte déterministe\n",
    "         & x_c \\in \\{0,1\\} \\quad \\forall c \\in C\\\\\n",
    "\t\\end{aligned}\\right.\n",
    "\\end{equation}\n",
    "$$\n",
    "\n",
    "Avec $\\mathbb{E}[\\xi_c] = \\mathbb{P}\\{\\xi_c = 1\\}$ d'où $\\mathbb{E}[\\xi_c] - 1 = -\\mathbb{P}\\{\\xi_c = 0\\}$\n",
    "\n",
    "\n",
    "Ainsi nous avons :\n",
    "\n",
    "$$\n",
    "\\begin{equation}\n",
    "\t(\\mathbb{CRP}) := \\left\\{\\begin{aligned}\n",
    "        \\underset{x}{\\max} \\quad & \\sum_{c \\in C} x_cw_c(\\mathbb{P}\\{\\xi_c = 0\\})\\\\\n",
    "         s.c \\quad &\\sum_{c\\in C_i}x_c\\leq 1~\\forall i \\in V\\\\ % contrainte déterministe\n",
    "         & x_c \\in \\{0,1\\} \\quad \\forall c \\in C\\\\\n",
    "\t\\end{aligned}\\right.\n",
    "\\end{equation}\n",
    "$$\n",
    "\n",
    "\n",
    "Ainsi nous pourrons note $\\tilde{w}_c = w_c \\times \\mathbb{P}\\{\\xi_c = 0\\}$, la nouvelle utilité d'un cycle qui sera en faite une combinaison entre l'utilité réelle du cyle $w_c$ et la probabilité que ce dernier se réalise. Nous pouvons ici que un cycle avec $w_c$ grand mais une probabilité de succés très faible aura peu de chance d'être choisi. En effet pourquoi choisir ce cycle si on sait qu'il n'a aucune chance (ou presque) de se réaliser.\n",
    "\n",
    "Nous avons finalement le problème suivante :\n",
    "\n",
    "$$\n",
    "\\begin{equation}\n",
    "\t(\\mathbb{CRP}) := \\left\\{\\begin{aligned}\n",
    "        \\underset{x}{\\max} \\quad & \\sum_{c \\in C} x_c\\hat{w}_c\\\\\n",
    "         s.c \\quad &\\sum_{c\\in C_i}x_c\\leq 1~\\forall i \\in V\\\\ % contrainte déterministe\n",
    "         & x_c \\in \\{0,1\\} \\quad \\forall c \\in C\\\\\n",
    "\t\\end{aligned}\\right.\n",
    "\\end{equation}\n",
    "$$\n",
    "\n",
    "Nous pouvons voir ainsi que ce problème $\\mathbb{CRP}$ est donc un problème totalement déterministe. Nous proposons la méthode `completRecourseProblem` dans le fichier `dtm_framework/complete_recourse.jl`. Pour résoudre ce dernier. Cette dernière fonction possède la signature suivante :"
   ]
  },
  {
   "cell_type": "code",
   "execution_count": 6,
   "metadata": {},
   "outputs": [
    {
     "name": "stdout",
     "output_type": "stream",
     "text": [
      "```\n",
      "completRecourseProblem\n",
      "```\n",
      "\n",
      "This is the deterministic version of the problem with the complete recourse.\n",
      "\n",
      "# Parameters\n",
      "\n",
      "  * `C` : index of the cycles\n",
      "  * `vertic_cycles` : a dictionnary, at the key i of this list, give the a list of the index of the cycles which involve the node i\n",
      "  * `U` : the utilities of each cycle in the graph.\n",
      "  * `S_P` : probability of sucess of each cycle\n"
     ]
    }
   ],
   "source": [
    "include(join([\"src\", \"dtm_framework\", \"complete_recourse.jl\"], Base.Filesystem.path_separator))\n",
    "print(@doc(completRecourseProblem))"
   ]
  },
  {
   "cell_type": "code",
   "execution_count": 7,
   "metadata": {},
   "outputs": [],
   "source": [
    "# the data\n",
    "kep_graph = read_kep_file(\"./.cache/data/MD-00001-00000080.wmd\",\"./.cache/data/MD-00001-00000080.dat\");\n",
    "failure_rates = get_failure_rates(kep_graph, \"Constant\");\n",
    "data = extractCycleInformation(kep_graph, 3, \"sum\");\n",
    "\n",
    "# the model\n",
    "res = completRecourseProblem(data[\"Cycles_index\"], data[\"vertic_cycles\"], data[\"U\"], 1 .-data[\"P\"]);\n",
    "model = res[\"model\"]\n",
    "\n",
    "optimize!(model)\n",
    "\n",
    "solution = value.(model[:x])\n",
    ";"
   ]
  },
  {
   "attachments": {},
   "cell_type": "markdown",
   "metadata": {},
   "source": [
    "## La méthode des clusters"
   ]
  },
  {
   "cell_type": "markdown",
   "metadata": {},
   "source": [
    "TODO : présenter le nouveau problème de façon théorique."
   ]
  },
  {
   "attachments": {},
   "cell_type": "markdown",
   "metadata": {},
   "source": [
    "Regardons tout d'abord le problème maître. Le problème maître comme nous l'avons évoqué précédemment, "
   ]
  },
  {
   "cell_type": "code",
   "execution_count": 8,
   "metadata": {},
   "outputs": [],
   "source": [
    "# the data\n",
    "kep_graph = read_kep_file(\"./.cache/data/MD-00001-00000001.wmd\",\"./.cache/data/MD-00001-00000001.dat\");\n",
    "failure_rates = get_failure_rates(kep_graph, \"Constant\");\n",
    "data = extractCycleInformation(kep_graph, 3, \"sum\");\n",
    "\n",
    "res = masterClusterProblem(kep_graph, 10, data[\"Cycles_index\"], data[\"Cycles\"], data[\"U\"])\n",
    "\n",
    "optimize!(res[\"model\"])\n",
    "sol = value.(res[\"model\"][:x])\n",
    "\n",
    "gr()\n",
    "heatmap(1:size(sol, 1), 1:size(sol, 2), sol)\n",
    ";"
   ]
  },
  {
   "cell_type": "code",
   "execution_count": 11,
   "metadata": {},
   "outputs": [
    {
     "data": {
      "image/svg+xml": "<?xml version=\"1.0\" encoding=\"utf-8\"?>\n<svg xmlns=\"http://www.w3.org/2000/svg\" xmlns:xlink=\"http://www.w3.org/1999/xlink\" width=\"600\" height=\"400\" viewBox=\"0 0 2400 1600\">\n<defs>\n  <clipPath id=\"clip980\">\n    <rect x=\"0\" y=\"0\" width=\"2400\" height=\"1600\"/>\n  </clipPath>\n</defs>\n<path clip-path=\"url(#clip980)\" d=\"\nM0 1600 L2400 1600 L2400 0 L0 0  Z\n  \" fill=\"#ffffff\" fill-rule=\"evenodd\" fill-opacity=\"1\"/>\n<defs>\n  <clipPath id=\"clip981\">\n    <rect x=\"480\" y=\"0\" width=\"1681\" height=\"1600\"/>\n  </clipPath>\n</defs>\n<path clip-path=\"url(#clip980)\" d=\"\nM137.964 1486.45 L2112.76 1486.45 L2112.76 47.2441 L137.964 47.2441  Z\n  \" fill=\"#ffffff\" fill-rule=\"evenodd\" fill-opacity=\"1\"/>\n<defs>\n  <clipPath id=\"clip982\">\n    <rect x=\"137\" y=\"47\" width=\"1976\" height=\"1440\"/>\n  </clipPath>\n</defs>\n<polyline clip-path=\"url(#clip982)\" style=\"stroke:#000000; stroke-linecap:round; stroke-linejoin:round; stroke-width:2; stroke-opacity:0.1; fill:none\" points=\"\n  446.525,1486.45 446.525,47.2441 \n  \"/>\n<polyline clip-path=\"url(#clip982)\" style=\"stroke:#000000; stroke-linecap:round; stroke-linejoin:round; stroke-width:2; stroke-opacity:0.1; fill:none\" points=\"\n  816.799,1486.45 816.799,47.2441 \n  \"/>\n<polyline clip-path=\"url(#clip982)\" style=\"stroke:#000000; stroke-linecap:round; stroke-linejoin:round; stroke-width:2; stroke-opacity:0.1; fill:none\" points=\"\n  1187.07,1486.45 1187.07,47.2441 \n  \"/>\n<polyline clip-path=\"url(#clip982)\" style=\"stroke:#000000; stroke-linecap:round; stroke-linejoin:round; stroke-width:2; stroke-opacity:0.1; fill:none\" points=\"\n  1557.35,1486.45 1557.35,47.2441 \n  \"/>\n<polyline clip-path=\"url(#clip982)\" style=\"stroke:#000000; stroke-linecap:round; stroke-linejoin:round; stroke-width:2; stroke-opacity:0.1; fill:none\" points=\"\n  1927.62,1486.45 1927.62,47.2441 \n  \"/>\n<polyline clip-path=\"url(#clip980)\" style=\"stroke:#000000; stroke-linecap:round; stroke-linejoin:round; stroke-width:4; stroke-opacity:1; fill:none\" points=\"\n  137.964,1486.45 2112.76,1486.45 \n  \"/>\n<polyline clip-path=\"url(#clip980)\" style=\"stroke:#000000; stroke-linecap:round; stroke-linejoin:round; stroke-width:4; stroke-opacity:1; fill:none\" points=\"\n  446.525,1486.45 446.525,1467.55 \n  \"/>\n<polyline clip-path=\"url(#clip980)\" style=\"stroke:#000000; stroke-linecap:round; stroke-linejoin:round; stroke-width:4; stroke-opacity:1; fill:none\" points=\"\n  816.799,1486.45 816.799,1467.55 \n  \"/>\n<polyline clip-path=\"url(#clip980)\" style=\"stroke:#000000; stroke-linecap:round; stroke-linejoin:round; stroke-width:4; stroke-opacity:1; fill:none\" points=\"\n  1187.07,1486.45 1187.07,1467.55 \n  \"/>\n<polyline clip-path=\"url(#clip980)\" style=\"stroke:#000000; stroke-linecap:round; stroke-linejoin:round; stroke-width:4; stroke-opacity:1; fill:none\" points=\"\n  1557.35,1486.45 1557.35,1467.55 \n  \"/>\n<polyline clip-path=\"url(#clip980)\" style=\"stroke:#000000; stroke-linecap:round; stroke-linejoin:round; stroke-width:4; stroke-opacity:1; fill:none\" points=\"\n  1927.62,1486.45 1927.62,1467.55 \n  \"/>\n<path clip-path=\"url(#clip980)\" d=\"M450.773 1530.21 Q454.129 1530.93 456.004 1533.2 Q457.903 1535.47 457.903 1538.8 Q457.903 1543.92 454.384 1546.72 Q450.866 1549.52 444.384 1549.52 Q442.208 1549.52 439.893 1549.08 Q437.602 1548.66 435.148 1547.81 L435.148 1543.29 Q437.092 1544.43 439.407 1545.01 Q441.722 1545.58 444.245 1545.58 Q448.643 1545.58 450.935 1543.85 Q453.25 1542.11 453.25 1538.8 Q453.25 1535.75 451.097 1534.03 Q448.967 1532.3 445.148 1532.3 L441.12 1532.3 L441.12 1528.45 L445.333 1528.45 Q448.782 1528.45 450.611 1527.09 Q452.44 1525.7 452.44 1523.11 Q452.44 1520.45 450.541 1519.03 Q448.666 1517.6 445.148 1517.6 Q443.227 1517.6 441.028 1518.01 Q438.829 1518.43 436.19 1519.31 L436.19 1515.14 Q438.852 1514.4 441.167 1514.03 Q443.504 1513.66 445.565 1513.66 Q450.889 1513.66 453.991 1516.09 Q457.092 1518.5 457.092 1522.62 Q457.092 1525.49 455.449 1527.48 Q453.805 1529.45 450.773 1530.21 Z\" fill=\"#000000\" fill-rule=\"evenodd\" fill-opacity=\"1\" /><path clip-path=\"url(#clip980)\" d=\"M817.204 1529.7 Q814.056 1529.7 812.204 1531.86 Q810.375 1534.01 810.375 1537.76 Q810.375 1541.49 812.204 1543.66 Q814.056 1545.82 817.204 1545.82 Q820.352 1545.82 822.181 1543.66 Q824.033 1541.49 824.033 1537.76 Q824.033 1534.01 822.181 1531.86 Q820.352 1529.7 817.204 1529.7 M826.486 1515.05 L826.486 1519.31 Q824.727 1518.48 822.921 1518.04 Q821.139 1517.6 819.38 1517.6 Q814.75 1517.6 812.296 1520.72 Q809.866 1523.85 809.519 1530.17 Q810.884 1528.15 812.945 1527.09 Q815.005 1526 817.482 1526 Q822.69 1526 825.699 1529.17 Q828.732 1532.32 828.732 1537.76 Q828.732 1543.08 825.583 1546.3 Q822.435 1549.52 817.204 1549.52 Q811.209 1549.52 808.037 1544.94 Q804.866 1540.33 804.866 1531.6 Q804.866 1523.41 808.755 1518.55 Q812.644 1513.66 819.195 1513.66 Q820.954 1513.66 822.736 1514.01 Q824.542 1514.36 826.486 1515.05 Z\" fill=\"#000000\" fill-rule=\"evenodd\" fill-opacity=\"1\" /><path clip-path=\"url(#clip980)\" d=\"M1177.37 1548.13 L1177.37 1543.87 Q1179.13 1544.7 1180.94 1545.14 Q1182.74 1545.58 1184.48 1545.58 Q1189.11 1545.58 1191.54 1542.48 Q1193.99 1539.36 1194.34 1533.01 Q1193 1535.01 1190.94 1536.07 Q1188.88 1537.13 1186.38 1537.13 Q1181.19 1537.13 1178.16 1534.01 Q1175.15 1530.86 1175.15 1525.42 Q1175.15 1520.1 1178.3 1516.88 Q1181.45 1513.66 1186.68 1513.66 Q1192.67 1513.66 1195.82 1518.27 Q1198.99 1522.85 1198.99 1531.6 Q1198.99 1539.77 1195.1 1544.66 Q1191.24 1549.52 1184.69 1549.52 Q1182.93 1549.52 1181.12 1549.17 Q1179.32 1548.82 1177.37 1548.13 M1186.68 1533.48 Q1189.83 1533.48 1191.66 1531.32 Q1193.51 1529.17 1193.51 1525.42 Q1193.51 1521.7 1191.66 1519.54 Q1189.83 1517.37 1186.68 1517.37 Q1183.53 1517.37 1181.68 1519.54 Q1179.85 1521.7 1179.85 1525.42 Q1179.85 1529.17 1181.68 1531.32 Q1183.53 1533.48 1186.68 1533.48 Z\" fill=\"#000000\" fill-rule=\"evenodd\" fill-opacity=\"1\" /><path clip-path=\"url(#clip980)\" d=\"M1532.83 1544.91 L1540.47 1544.91 L1540.47 1518.55 L1532.16 1520.21 L1532.16 1515.95 L1540.42 1514.29 L1545.1 1514.29 L1545.1 1544.91 L1552.74 1544.91 L1552.74 1548.85 L1532.83 1548.85 L1532.83 1544.91 Z\" fill=\"#000000\" fill-rule=\"evenodd\" fill-opacity=\"1\" /><path clip-path=\"url(#clip980)\" d=\"M1566.21 1544.91 L1582.53 1544.91 L1582.53 1548.85 L1560.59 1548.85 L1560.59 1544.91 Q1563.25 1542.16 1567.83 1537.53 Q1572.44 1532.88 1573.62 1531.53 Q1575.86 1529.01 1576.74 1527.27 Q1577.65 1525.51 1577.65 1523.82 Q1577.65 1521.07 1575.7 1519.33 Q1573.78 1517.6 1570.68 1517.6 Q1568.48 1517.6 1566.03 1518.36 Q1563.6 1519.13 1560.82 1520.68 L1560.82 1515.95 Q1563.64 1514.82 1566.1 1514.24 Q1568.55 1513.66 1570.59 1513.66 Q1575.96 1513.66 1579.15 1516.35 Q1582.35 1519.03 1582.35 1523.52 Q1582.35 1525.65 1581.54 1527.57 Q1580.75 1529.47 1578.64 1532.07 Q1578.06 1532.74 1574.96 1535.95 Q1571.86 1539.15 1566.21 1544.91 Z\" fill=\"#000000\" fill-rule=\"evenodd\" fill-opacity=\"1\" /><path clip-path=\"url(#clip980)\" d=\"M1902.8 1544.91 L1910.44 1544.91 L1910.44 1518.55 L1902.13 1520.21 L1902.13 1515.95 L1910.4 1514.29 L1915.07 1514.29 L1915.07 1544.91 L1922.71 1544.91 L1922.71 1548.85 L1902.8 1548.85 L1902.8 1544.91 Z\" fill=\"#000000\" fill-rule=\"evenodd\" fill-opacity=\"1\" /><path clip-path=\"url(#clip980)\" d=\"M1932.2 1514.29 L1950.56 1514.29 L1950.56 1518.22 L1936.48 1518.22 L1936.48 1526.7 Q1937.5 1526.35 1938.52 1526.19 Q1939.54 1526 1940.56 1526 Q1946.35 1526 1949.73 1529.17 Q1953.11 1532.34 1953.11 1537.76 Q1953.11 1543.34 1949.63 1546.44 Q1946.16 1549.52 1939.84 1549.52 Q1937.67 1549.52 1935.4 1549.15 Q1933.15 1548.78 1930.74 1548.04 L1930.74 1543.34 Q1932.83 1544.47 1935.05 1545.03 Q1937.27 1545.58 1939.75 1545.58 Q1943.75 1545.58 1946.09 1543.48 Q1948.43 1541.37 1948.43 1537.76 Q1948.43 1534.15 1946.09 1532.04 Q1943.75 1529.94 1939.75 1529.94 Q1937.87 1529.94 1936 1530.35 Q1934.15 1530.77 1932.2 1531.65 L1932.2 1514.29 Z\" fill=\"#000000\" fill-rule=\"evenodd\" fill-opacity=\"1\" /><polyline clip-path=\"url(#clip982)\" style=\"stroke:#000000; stroke-linecap:round; stroke-linejoin:round; stroke-width:2; stroke-opacity:0.1; fill:none\" points=\"\n  137.964,1261.57 2112.76,1261.57 \n  \"/>\n<polyline clip-path=\"url(#clip982)\" style=\"stroke:#000000; stroke-linecap:round; stroke-linejoin:round; stroke-width:2; stroke-opacity:0.1; fill:none\" points=\"\n  137.964,991.722 2112.76,991.722 \n  \"/>\n<polyline clip-path=\"url(#clip982)\" style=\"stroke:#000000; stroke-linecap:round; stroke-linejoin:round; stroke-width:2; stroke-opacity:0.1; fill:none\" points=\"\n  137.964,721.871 2112.76,721.871 \n  \"/>\n<polyline clip-path=\"url(#clip982)\" style=\"stroke:#000000; stroke-linecap:round; stroke-linejoin:round; stroke-width:2; stroke-opacity:0.1; fill:none\" points=\"\n  137.964,452.02 2112.76,452.02 \n  \"/>\n<polyline clip-path=\"url(#clip982)\" style=\"stroke:#000000; stroke-linecap:round; stroke-linejoin:round; stroke-width:2; stroke-opacity:0.1; fill:none\" points=\"\n  137.964,182.169 2112.76,182.169 \n  \"/>\n<polyline clip-path=\"url(#clip980)\" style=\"stroke:#000000; stroke-linecap:round; stroke-linejoin:round; stroke-width:4; stroke-opacity:1; fill:none\" points=\"\n  137.964,1486.45 137.964,47.2441 \n  \"/>\n<polyline clip-path=\"url(#clip980)\" style=\"stroke:#000000; stroke-linecap:round; stroke-linejoin:round; stroke-width:4; stroke-opacity:1; fill:none\" points=\"\n  137.964,1261.57 154.814,1261.57 \n  \"/>\n<polyline clip-path=\"url(#clip980)\" style=\"stroke:#000000; stroke-linecap:round; stroke-linejoin:round; stroke-width:4; stroke-opacity:1; fill:none\" points=\"\n  137.964,991.722 154.814,991.722 \n  \"/>\n<polyline clip-path=\"url(#clip980)\" style=\"stroke:#000000; stroke-linecap:round; stroke-linejoin:round; stroke-width:4; stroke-opacity:1; fill:none\" points=\"\n  137.964,721.871 154.814,721.871 \n  \"/>\n<polyline clip-path=\"url(#clip980)\" style=\"stroke:#000000; stroke-linecap:round; stroke-linejoin:round; stroke-width:4; stroke-opacity:1; fill:none\" points=\"\n  137.964,452.02 154.814,452.02 \n  \"/>\n<polyline clip-path=\"url(#clip980)\" style=\"stroke:#000000; stroke-linecap:round; stroke-linejoin:round; stroke-width:4; stroke-opacity:1; fill:none\" points=\"\n  137.964,182.169 154.814,182.169 \n  \"/>\n<path clip-path=\"url(#clip980)\" d=\"M94.8345 1260.22 Q98.1909 1260.94 100.066 1263.2 Q101.964 1265.47 101.964 1268.81 Q101.964 1273.92 98.4456 1276.72 Q94.9271 1279.52 88.4456 1279.52 Q86.2697 1279.52 83.9549 1279.08 Q81.6633 1278.67 79.2096 1277.81 L79.2096 1273.3 Q81.154 1274.43 83.4688 1275.01 Q85.7836 1275.59 88.3067 1275.59 Q92.7049 1275.59 94.9965 1273.85 Q97.3113 1272.12 97.3113 1268.81 Q97.3113 1265.75 95.1586 1264.04 Q93.0289 1262.3 89.2095 1262.3 L85.1818 1262.3 L85.1818 1258.46 L89.3947 1258.46 Q92.8438 1258.46 94.6724 1257.09 Q96.5011 1255.7 96.5011 1253.11 Q96.5011 1250.45 94.603 1249.04 Q92.728 1247.6 89.2095 1247.6 Q87.2882 1247.6 85.0892 1248.02 Q82.8901 1248.44 80.2512 1249.32 L80.2512 1245.15 Q82.9133 1244.41 85.2281 1244.04 Q87.566 1243.67 89.6262 1243.67 Q94.9502 1243.67 98.0521 1246.1 Q101.154 1248.51 101.154 1252.63 Q101.154 1255.5 99.5104 1257.49 Q97.8669 1259.45 94.8345 1260.22 Z\" fill=\"#000000\" fill-rule=\"evenodd\" fill-opacity=\"1\" /><path clip-path=\"url(#clip980)\" d=\"M90.4364 989.858 Q87.2882 989.858 85.4364 992.011 Q83.6077 994.164 83.6077 997.914 Q83.6077 1001.64 85.4364 1003.82 Q87.2882 1005.97 90.4364 1005.97 Q93.5845 1005.97 95.4132 1003.82 Q97.265 1001.64 97.265 997.914 Q97.265 994.164 95.4132 992.011 Q93.5845 989.858 90.4364 989.858 M99.7187 975.205 L99.7187 979.465 Q97.9595 978.631 96.1539 978.192 Q94.3715 977.752 92.6123 977.752 Q87.9827 977.752 85.529 980.877 Q83.0984 984.002 82.7512 990.321 Q84.1169 988.307 86.1771 987.242 Q88.2373 986.154 90.7141 986.154 Q95.9224 986.154 98.9317 989.326 Q101.964 992.474 101.964 997.914 Q101.964 1003.24 98.8159 1006.46 Q95.6678 1009.67 90.4364 1009.67 Q84.441 1009.67 81.2697 1005.09 Q78.0985 1000.48 78.0985 991.756 Q78.0985 983.562 81.9873 978.701 Q85.8762 973.817 92.4271 973.817 Q94.1863 973.817 95.9687 974.164 Q97.7743 974.511 99.7187 975.205 Z\" fill=\"#000000\" fill-rule=\"evenodd\" fill-opacity=\"1\" /><path clip-path=\"url(#clip980)\" d=\"M80.3438 738.433 L80.3438 734.174 Q82.1031 735.007 83.9086 735.447 Q85.7142 735.887 87.4503 735.887 Q92.0799 735.887 94.5104 732.785 Q96.9641 729.66 97.3113 723.318 Q95.9687 725.308 93.9086 726.373 Q91.8484 727.438 89.3484 727.438 Q84.1632 727.438 81.1309 724.313 Q78.1216 721.165 78.1216 715.725 Q78.1216 710.401 81.2697 707.183 Q84.4179 703.966 89.6493 703.966 Q95.6447 703.966 98.7928 708.572 Q101.964 713.156 101.964 721.906 Q101.964 730.077 98.0752 734.961 Q94.2095 739.822 87.6586 739.822 Q85.8993 739.822 84.0938 739.475 Q82.2883 739.128 80.3438 738.433 M89.6493 723.781 Q92.7975 723.781 94.6262 721.628 Q96.478 719.475 96.478 715.725 Q96.478 711.998 94.6262 709.845 Q92.7975 707.67 89.6493 707.67 Q86.5012 707.67 84.6494 709.845 Q82.8207 711.998 82.8207 715.725 Q82.8207 719.475 84.6494 721.628 Q86.5012 723.781 89.6493 723.781 Z\" fill=\"#000000\" fill-rule=\"evenodd\" fill-opacity=\"1\" /><path clip-path=\"url(#clip980)\" d=\"M52.2653 465.365 L59.9041 465.365 L59.9041 438.999 L51.594 440.666 L51.594 436.407 L59.8578 434.74 L64.5337 434.74 L64.5337 465.365 L72.1726 465.365 L72.1726 469.3 L52.2653 469.3 L52.2653 465.365 Z\" fill=\"#000000\" fill-rule=\"evenodd\" fill-opacity=\"1\" /><path clip-path=\"url(#clip980)\" d=\"M85.6447 465.365 L101.964 465.365 L101.964 469.3 L80.0197 469.3 L80.0197 465.365 Q82.6818 462.61 87.2651 457.981 Q91.8715 453.328 93.0521 451.985 Q95.2974 449.462 96.1771 447.726 Q97.0798 445.967 97.0798 444.277 Q97.0798 441.523 95.1354 439.786 Q93.2141 438.05 90.1123 438.05 Q87.9132 438.05 85.4595 438.814 Q83.029 439.578 80.2512 441.129 L80.2512 436.407 Q83.0753 435.273 85.529 434.694 Q87.9827 434.115 90.0197 434.115 Q95.39 434.115 98.5845 436.8 Q101.779 439.486 101.779 443.976 Q101.779 446.106 100.969 448.027 Q100.182 449.925 98.0752 452.518 Q97.4965 453.189 94.3947 456.407 Q91.2928 459.601 85.6447 465.365 Z\" fill=\"#000000\" fill-rule=\"evenodd\" fill-opacity=\"1\" /><path clip-path=\"url(#clip980)\" d=\"M51.6634 195.514 L59.3023 195.514 L59.3023 169.149 L50.9921 170.815 L50.9921 166.556 L59.256 164.889 L63.9319 164.889 L63.9319 195.514 L71.5707 195.514 L71.5707 199.449 L51.6634 199.449 L51.6634 195.514 Z\" fill=\"#000000\" fill-rule=\"evenodd\" fill-opacity=\"1\" /><path clip-path=\"url(#clip980)\" d=\"M81.0614 164.889 L99.4178 164.889 L99.4178 168.825 L85.3438 168.825 L85.3438 177.297 Q86.3623 176.95 87.3808 176.788 Q88.3993 176.602 89.4178 176.602 Q95.2049 176.602 98.5845 179.774 Q101.964 182.945 101.964 188.362 Q101.964 193.94 98.4919 197.042 Q95.0197 200.121 88.7003 200.121 Q86.5243 200.121 84.2558 199.75 Q82.0105 199.38 79.6031 198.639 L79.6031 193.94 Q81.6864 195.074 83.9086 195.63 Q86.1308 196.186 88.6077 196.186 Q92.6123 196.186 94.9502 194.079 Q97.2882 191.973 97.2882 188.362 Q97.2882 184.75 94.9502 182.644 Q92.6123 180.538 88.6077 180.538 Q86.7327 180.538 84.8577 180.954 Q83.0058 181.371 81.0614 182.25 L81.0614 164.889 Z\" fill=\"#000000\" fill-rule=\"evenodd\" fill-opacity=\"1\" /><g clip-path=\"url(#clip982)\">\n<image width=\"1975\" height=\"1439\" xlink:href=\"data:image/png;base64,\niVBORw0KGgoAAAANSUhEUgAAB7cAAAWfCAYAAADAknLgAAAgAElEQVR4nOzZsRHAIBDAsCfH/ivD\nCClxIU3g3mtmnwEAAAAAAACAsO91AAAAAAAAAAD8MbcBAAAAAAAAyDO3AQAAAAAAAMgztwEAAAAA\nAADIM7cBAAAAAAAAyDO3AQAAAAAAAMgztwEAAAAAAADIM7cBAAAAAAAAyDO3AQAAAAAAAMgztwEA\nAAAAAADIM7cBAAAAAAAAyDO3AQAAAAAAAMgztwEAAAAAAADIM7cBAAAAAAAAyDO3AQAAAAAAAMgz\ntwEAAAAAAADIM7cBAAAAAAAAyDO3AQAAAAAAAMgztwEAAAAAAADIM7cBAAAAAAAAyDO3AQAAAAAA\nAMgztwEAAAAAAADIM7cBAAAAAAAAyDO3AQAAAAAAAMgztwEAAAAAAADIM7cBAAAAAAAAyDO3AQAA\nAAAAAMgztwEAAAAAAADIM7cBAAAAAAAAyDO3AQAAAAAAAMgztwEAAAAAAADIM7cBAAAAAAAAyDO3\nAQAAAAAAAMgztwEAAAAAAADIM7cBAAAAAAAAyDO3AQAAAAAAAMgztwEAAAAAAADIM7cBAAAAAAAA\nyDO3AQAAAAAAAMgztwEAAAAAAADIM7cBAAAAAAAAyDO3AQAAAAAAAMgztwEAAAAAAADIM7cBAAAA\nAAAAyDO3AQAAAAAAAMgztwEAAAAAAADIM7cBAAAAAAAAyDO3AQAAAAAAAMgztwEAAAAAAADIM7cB\nAAAAAAAAyDO3AQAAAAAAAMgztwEAAAAAAADIM7cBAAAAAAAAyDO3AQAAAAAAAMgztwEAAAAAAADI\nM7cBAAAAAAAAyDO3AQAAAAAAAMgztwEAAAAAAADIM7cBAAAAAAAAyDO3AQAAAAAAAMgztwEAAAAA\nAADIM7cBAAAAAAAAyDO3AQAAAAAAAMgztwEAAAAAAADIM7cBAAAAAAAAyDO3AQAAAAAAAMgztwEA\nAAAAAADIM7cBAAAAAAAAyDO3AQAAAAAAAMgztwEAAAAAAADIM7cBAAAAAAAAyDO3AQAAAAAAAMgz\ntwEAAAAAAADIM7cBAAAAAAAAyDO3AQAAAAAAAMgztwEAAAAAAADIM7cBAAAAAAAAyDO3AQAAAAAA\nAMgztwEAAAAAAADIM7cBAAAAAAAAyDO3AQAAAAAAAMgztwEAAAAAAADIM7cBAAAAAAAAyDO3AQAA\nAAAAAMgztwEAAAAAAADIM7cBAAAAAAAAyDO3AQAAAAAAAMgztwEAAAAAAADIM7cBAAAAAAAAyDO3\nAQAAAAAAAMgztwEAAAAAAADIM7cBAAAAAAAAyDO3AQAAAAAAAMgztwEAAAAAAADIM7cBAAAAAAAA\nyDO3AQAAAAAAAMgztwEAAAAAAADIM7cBAAAAAAAAyDO3AQAAAAAAAMgztwEAAAAAAADIM7cBAAAA\nAAAAyDO3AQAAAAAAAMgztwEAAAAAAADIM7cBAAAAAAAAyDO3AQAAAAAAAMgztwEAAAAAAADIM7cB\nAAAAAAAAyDO3AQAAAAAAAMgztwEAAAAAAADIM7cBAAAAAAAAyDO3AQAAAAAAAMgztwEAAAAAAADI\nM7cBAAAAAAAAyDO3AQAAAAAAAMgztwEAAAAAAADIM7cBAAAAAAAAyDO3AQAAAAAAAMgztwEAAAAA\nAADIM7cBAAAAAAAAyDO3AQAAAAAAAMgztwEAAAAAAADIM7cBAAAAAAAAyDO3AQAAAAAAAMgztwEA\nAAAAAADIM7cBAAAAAAAAyDO3AQAAAAAAAMgztwEAAAAAAADIM7cBAAAAAAAAyDO3AQAAAAAAAMgz\ntwEAAAAAAADIM7cBAAAAAAAAyDO3AQAAAAAAAMgztwEAAAAAAADIM7cBAAAAAAAAyDO3AQAAAAAA\nAMgztwEAAAAAAADIM7cBAAAAAAAAyDO3AQAAAAAAAMgztwEAAAAAAADIM7cBAAAAAAAAyDO3AQAA\nAAAAAMgztwEAAAAAAADIM7cBAAAAAAAAyDO3AQAAAAAAAMgztwEAAAAAAADIM7cBAAAAAAAAyDO3\nAQAAAAAAAMgztwEAAAAAAADIM7cBAAAAAAAAyDO3AQAAAAAAAMgztwEAAAAAAADIM7cBAAAAAAAA\nyDO3AQAAAAAAAMgztwEAAAAAAADIM7cBAAAAAAAAyDO3AQAAAAAAAMgztwEAAAAAAADIM7cBAAAA\nAAAAyDO3AQAAAAAAAMgztwEAAAAAAADIM7cBAAAAAAAAyDO3AQAAAAAAAMgztwEAAAAAAADIM7cB\nAAAAAAAAyDO3AQAAAAAAAMgztwEAAAAAAADIM7cBAAAAAAAAyDO3AQAAAAAAAMgztwEAAAAAAADI\nM7cBAAAAAAAAyDO3AQAAAAAAAMgztwEAAAAAAADIM7cBAAAAAAAAyDO3AQAAAAAAAMgztwEAAAAA\nAADIM7cBAAAAAAAAyDO3AQAAAAAAAMgztwEAAAAAAADIM7cBAAAAAAAAyDO3AQAAAAAAAMgztwEA\nAAAAAADIM7cBAAAAAAAAyDO3AQAAAAAAAMgztwEAAAAAAADIM7cBAAAAAAAAyDO3AQAAAAAAAMgz\ntwEAAAAAAADIM7cBAAAAAAAAyDO3AQAAAAAAAMgztwEAAAAAAADIM7cBAAAAAAAAyDO3AQAAAAAA\nAMgztwEAAAAAAADIM7cBAAAAAAAAyDO3AQAAAAAAAMgztwEAAAAAAADIM7cBAAAAAAAAyDO3AQAA\nAAAAAMgztwEAAAAAAADIM7cBAAAAAAAAyDO3AQAAAAAAAMgztwEAAAAAAADIM7cBAAAAAAAAyDO3\nAQAAAAAAAMgztwEAAAAAAADIM7cBAAAAAAAAyDO3AQAAAAAAAMgztwEAAAAAAADIM7cBAAAAAAAA\nyDO3AQAAAAAAAMgztwEAAAAAAADIM7cBAAAAAAAAyDO3AQAAAAAAAMgztwEAAAAAAADIM7cBAAAA\nAAAAyDO3AQAAAAAAAMgztwEAAAAAAADIM7cBAAAAAAAAyDO3AQAAAAAAAMgztwEAAAAAAADIM7cB\nAAAAAAAAyDO3AQAAAAAAAMgztwEAAAAAAADIM7cBAAAAAAAAyDO3AQAAAAAAAMgztwEAAAAAAADI\nM7cBAAAAAAAAyDO3AQAAAAAAAMgztwEAAAAAAADIM7cBAAAAAAAAyDO3AQAAAAAAAMgztwEAAAAA\nAADIM7cBAAAAAAAAyDO3AQAAAAAAAMgztwEAAAAAAADIM7cBAAAAAAAAyDO3AQAAAAAAAMgztwEA\nAAAAAADIM7cBAAAAAAAAyDO3AQAAAAAAAMgztwEAAAAAAADIM7cBAAAAAAAAyDO3AQAAAAAAAMgz\ntwEAAAAAAADIM7cBAAAAAAAAyDO3AQAAAAAAAMgztwEAAAAAAADIM7cBAAAAAAAAyDO3AQAAAAAA\nAMgztwEAAAAAAADIM7cBAAAAAAAAyDO3AQAAAAAAAMgztwEAAAAAAADIM7cBAAAAAAAAyDO3AQAA\nAAAAAMgztwEAAAAAAADIM7cBAAAAAAAAyDO3AQAAAAAAAMgztwEAAAAAAADIM7cBAAAAAAAAyDO3\nAQAAAAAAAMgztwEAAAAAAADIM7cBAAAAAAAAyDO3AQAAAAAAAMgztwEAAAAAAADIM7cBAAAAAAAA\nyDO3AQAAAAAAAMgztwEAAAAAAADIM7cBAAAAAAAAyDO3AQAAAAAAAMgztwEAAAAAAADIM7cBAAAA\nAAAAyDO3AQAAAAAAAMgztwEAAAAAAADIM7cBAAAAAAAAyDO3AQAAAAAAAMgztwEAAAAAAADIM7cB\nAAAAAAAAyDO3AQAAAAAAAMgztwEAAAAAAADIM7cBAAAAAAAAyDO3AQAAAAAAAMgztwEAAAAAAADI\nM7cBAAAAAAAAyDO3AQAAAAAAAMgztwEAAAAAAADIM7cBAAAAAAAAyDO3AQAAAAAAAMgztwEAAAAA\nAADIM7cBAAAAAAAAyDO3AQAAAAAAAMgztwEAAAAAAADIM7cBAAAAAAAAyDO3AQAAAAAAAMgztwEA\nAAAAAADIM7cBAAAAAAAAyDO3AQAAAAAAAMgztwEAAAAAAADIM7cBAAAAAAAAyDO3AQAAAAAAAMgz\ntwEAAAAAAADIM7cBAAAAAAAAyDO3AQAAAAAAAMgztwEAAAAAAADIM7cBAAAAAAAAyDO3AQAAAAAA\nAMgztwEAAAAAAADIM7cBAAAAAAAAyDO3AQAAAAAAAMgztwEAAAAAAADIM7cBAAAAAAAAyDO3AQAA\nAAAAAMgztwEAAAAAAADIM7cBAAAAAAAAyDO3AQAAAAAAAMgztwEAAAAAAADIM7cBAAAAAAAAyDO3\nAQAAAAAAAMgztwEAAAAAAADIM7cBAAAAAAAAyDO3AQAAAAAAAMgztwEAAAAAAADIM7cBAAAAAAAA\nyDO3AQAAAAAAAMgztwEAAAAAAADIM7cBAAAAAAAAyDO3AQAAAAAAAMgztwEAAAAAAADIM7cBAAAA\nAAAAyDO3AQAAAAAAAMgztwEAAAAAAADIM7cBAAAAAAAAyDO3AQAAAAAAAMgztwEAAAAAAADIM7cB\nAAAAAAAAyDO3AQAAAAAAAMgztwEAAAAAAADIM7cBAAAAAAAAyDO3AQAAAAAAAMgztwEAAAAAAADI\nM7cBAAAAAAAAyDO3AQAAAAAAAMgztwEAAAAAAADIM7cBAAAAAAAAyDO3AQAAAAAAAMgztwEAAAAA\nAADIM7cBAAAAAAAAyDO3AQAAAAAAAMgztwEAAAAAAADIM7cBAAAAAAAAyDO3AQAAAAAAAMgztwEA\nAAAAAADIM7cBAAAAAAAAyDO3AQAAAAAAAMgztwEAAAAAAADIM7cBAAAAAAAAyDO3AQAAAAAAAMgz\ntwEAAAAAAADIM7cBAAAAAAAAyDO3AQAAAAAAAMgztwEAAAAAAADIM7cBAAAAAAAAyDO3AQAAAAAA\nAMgztwEAAAAAAADIM7cBAAAAAAAAyDO3AQAAAAAAAMgztwEAAAAAAADIM7cBAAAAAAAAyDO3AQAA\nAAAAAMgztwEAAAAAAADIM7cBAAAAAAAAyDO3AQAAAAAAAMgztwEAAAAAAADIM7cBAAAAAAAAyDO3\nAQAAAAAAAMgztwEAAAAAAADIM7cBAAAAAAAAyDO3AQAAAAAAAMgztwEAAAAAAADIM7cBAAAAAAAA\nyDO3AQAAAAAAAMgztwEAAAAAAADIM7cBAAAAAAAAyDO3AQAAAAAAAMgztwEAAAAAAADIM7cBAAAA\nAAAAyDO3AQAAAAAAAMgztwEAAAAAAADIM7cBAAAAAAAAyDO3AQAAAAAAAMgztwEAAAAAAADIM7cB\nAAAAAAAAyDO3AQAAAAAAAMgztwEAAAAAAADIM7cBAAAAAAAAyDO3AQAAAAAAAMgztwEAAAAAAADI\nM7cBAAAAAAAAyDO3AQAAAAAAAMgztwEAAAAAAADIM7cBAAAAAAAAyDO3AQAAAAAAAMgztwEAAAAA\nAADIM7cBAAAAAAAAyDO3AQAAAAAAAMgztwEAAAAAAADIM7cBAAAAAAAAyDO3AQAAAAAAAMgztwEA\nAAAAAADIM7cBAAAAAAAAyDO3AQAAAAAAAMgztwEAAAAAAADIM7cBAAAAAAAAyDO3AQAAAAAAAMgz\ntwEAAAAAAADIM7cBAAAAAAAAyDO3AQAAAAAAAMgztwEAAAAAAADIM7cBAAAAAAAAyDO3AQAAAAAA\nAMgztwEAAAAAAADIM7cBAAAAAAAAyDO3AQAAAAAAAMgztwEAAAAAAADIM7cBAAAAAAAAyDO3AQAA\nAAAAAMgztwEAAAAAAADIM7cBAAAAAAAAyDO3AQAAAAAAAMgztwEAAAAAAADIM7cBAAAAAAAAyDO3\nAQAAAAAAAMgztwEAAAAAAADIM7cBAAAAAAAAyDO3AQAAAAAAAMgztwEAAAAAAADIM7cBAAAAAAAA\nyDO3AQAAAAAAAMgztwEAAAAAAADIM7cBAAAAAAAAyDO3AQAAAAAAAMgztwEAAAAAAADIM7cBAAAA\nAAAAyDO3AQAAAAAAAMgztwEAAAAAAADIM7cBAAAAAAAAyDO3AQAAAAAAAMgztwEAAAAAAADIM7cB\nAAAAAAAAyDO3AQAAAAAAAMgztwEAAAAAAADIM7cBAAAAAAAAyDO3AQAAAAAAAMgztwEAAAAAAADI\nM7cBAAAAAAAAyDO3AQAAAAAAAMgztwEAAAAAAADIM7cBAAAAAAAAyDO3AQAAAAAAAMgztwEAAAAA\nAADIM7cBAAAAAAAAyDO3AQAAAAAAAMgztwEAAAAAAADIM7cBAAAAAAAAyDO3AQAAAAAAAMgztwEA\nAAAAAADIM7cBAAAAAAAAyDO3AQAAAAAAAMgztwEAAAAAAADIM7cBAAAAAAAAyDO3AQAAAAAAAMgz\ntwEAAAAAAADIM7cBAAAAAAAAyDO3AQAAAAAAAMgztwEAAAAAAADIM7cBAAAAAAAAyDO3AQAAAAAA\nAMgztwEAAAAAAADIM7cBAAAAAAAAyDO3AQAAAAAAAMgztwEAAAAAAADIM7cBAAAAAAAAyDO3AQAA\nAAAAAMgztwEAAAAAAADIM7cBAAAAAAAAyDO3AQAAAAAAAMgztwEAAAAAAADIM7cBAAAAAAAAyDO3\nAQAAAAAAAMgztwEAAAAAAADIM7cBAAAAAAAAyDO3AQAAAAAAAMgztwEAAAAAAADIM7cBAAAAAAAA\nyDO3AQAAAAAAAMgztwEAAAAAAADIM7cBAAAAAAAAyDO3AQAAAAAAAMgztwEAAAAAAADIM7cBAAAA\nAAAAyDO3AQAAAAAAAMgztwEAAAAAAADIM7cBAAAAAAAAyDO3AQAAAAAAAMgztwEAAAAAAADIM7cB\nAAAAAAAAyDO3AQAAAAAAAMgztwEAAAAAAADIM7cBAAAAAAAAyDO3AQAAAAAAAMgztwEAAAAAAADI\nM7cBAAAAAAAAyDO3AQAAAAAAAMgztwEAAAAAAADIM7cBAAAAAAAAyDO3AQAAAAAAAMgztwEAAAAA\nAADIM7cBAAAAAAAAyDO3AQAAAAAAAMgztwEAAAAAAADIM7cBAAAAAAAAyDO3AQAAAAAAAMgztwEA\nAAAAAADIM7cBAAAAAAAAyDO3AQAAAAAAAMgztwEAAAAAAADIM7cBAAAAAAAAyDO3AeCybwcnCARB\nFAV3YAI1NA+GuTBmoB5054FVEfxjw6MBAAAAAIA8cRsAAAAAAACAPHEbAAAAAAAAgDxxGwAAAAAA\nAIA8cRsAAAAAAACAPHEbAAAAAAAAgDxxGwAAAAAAAIA8cRsAAAAAAACAPHEbAAAAAAAAgDxxGwAA\nAAAAAIA8cRsAAAAAAACAPHEbAAAAAAAAgDxxGwAAAAAAAIA8cRsAAAAAAACAPHEbAAAAAAAAgDxx\nGwAAAAAAAIA8cRsAAAAAAACAPHEbAAAAAAAAgDxxGwAAAAAAAIA8cRsAAAAAAACAPHEbAAAAAAAA\ngDxxGwAAAAAAAIA8cRsAAAAAAACAPHEbAAAAAAAAgDxxGwAAAAAAAIA8cRsAAAAAAACAPHEbAAAA\nAAAAgDxxGwAAAAAAAIA8cRsAAAAAAACAPHEbAAAAAAAAgDxxGwAAAAAAAIA8cRsAAAAAAACAPHEb\nAAAAAAAAgDxxGwAAAAAAAIA8cRsAAAAAAACAPHEbAAAAAAAAgDxxGwAAAAAAAIA8cRsAAAAAAACA\nPHEbAAAAAAAAgDxxGwAAAAAAAIA8cRsAAAAAAACAPHEbAAAAAAAAgDxxGwAAAAAAAIA8cRsAAAAA\nAACAPHEbAAAAAAAAgDxxGwAAAAAAAIA8cRsAAAAAAACAPHEbAAAAAAAAgDxxGwAAAAAAAIA8cRsA\nAAAAAACAPHEbAAAAAAAAgDxxGwAAAAAAAIA8cRsAAAAAAACAPHEbAAAAAAAAgDxxGwAAAAAAAIA8\ncRsAAAAAAACAPHEbAAAAAAAAgDxxGwAAAAAAAIA8cRsAAAAAAACAPHEbAAAAAAAAgDxxGwAAAAAA\nAIA8cRsAAAAAAACAPHEbAAAAAAAAgDxxGwAAAAAAAIA8cRsAAAAAAACAPHEbAAAAAAAAgDxxGwAA\nAAAAAIA8cRsAAAAAAACAPHEbAAAAAAAAgDxxGwAAAAAAAIA8cRsAAAAAAACAPHEbAAAAAAAAgDxx\nGwAAAAAAAIA8cRsAAAAAAACAPHEbAAAAAAAAgDxxGwAAAAAAAIA8cRsAAAAAAACAPHEbAAAAAAAA\ngDxxGwAAAAAAAIA8cRsAAAAAAACAPHEbAAAAAAAAgDxxGwAAAAAAAIA8cRsAAAAAAACAPHEbAAAA\nAAAAgDxxGwAAAAAAAIA8cRsAAAAAAACAPHEbAAAAAAAAgDxxGwAAAAAAAIA8cRsAAAAAAACAPHEb\nAAAAAAAAgDxxGwAAAAAAAIA8cRsAAAAAAACAPHEbAAAAAAAAgDxxGwAAAAAAAIA8cRsAAAAAAACA\nPHEbAAAAAAAAgDxxGwAAAAAAAIA8cRsAAAAAAACAPHEbAAAAAAAAgDxxGwAAAAAAAIA8cRsAAAAA\nAACAPHEbAAAAAAAAgDxxGwAAAAAAAIA8cRsAAAAAAACAPHEbAAAAAAAAgDxxGwAAAAAAAIA8cRsA\nAAAAAACAPHEbAAAAAAAAgDxxGwAAAAAAAIA8cRsAAAAAAACAPHEbAAAAAAAAgDxxGwAAAAAAAIA8\ncRsAAAAAAACAPHEbAAAAAAAAgDxxGwAAAAAAAIA8cRsAAAAAAACAPHEbAAAAAAAAgDxxGwAAAAAA\nAIA8cRsAAAAAAACAPHEbAAAAAAAAgDxxGwAAAAAAAIA8cRsAAAAAAACAPHEbAAAAAAAAgDxxGwAA\nAAAAAIA8cRsAAAAAAACAPHEbAAAAAAAAgDxxGwAAAAAAAIA8cRsAAAAAAACAPHEbAAAAAAAAgDxx\nGwAAAAAAAIA8cRsAAAAAAACAPHEbAAAAAAAAgDxxGwAAAAAAAIA8cRsAAAAAAACAPHEbAAAAAAAA\ngDxxGwAAAAAAAIA8cRsAAAAAAACAPHEbAAAAAAAAgDxxGwAAAAAAAIA8cRsAAAAAAACAPHEbAAAA\nAAAAgDxxGwAAAAAAAIA8cRsAAAAAAACAPHEbAAAAAAAAgDxxGwAAAAAAAIA8cRsAAAAAAACAPHEb\nAAAAAAAAgDxxGwAAAAAAAIA8cRsAAAAAAACAPHEbAAAAAAAAgDxxGwAAAAAAAIA8cRsAAAAAAACA\nPHEbAAAAAAAAgDxxGwAAAAAAAIA8cRsAAAAAAACAPHEbAAAAAAAAgDxxGwAAAAAAAIA8cRsAAAAA\nAACAPHEbAAAAAAAAgDxxGwAAAAAAAIA8cRsAAAAAAACAPHEbAAAAAAAAgDxxGwAAAAAAAIA8cRsA\nAAAAAACAPHEbAAAAAAAAgDxxGwAAAAAAAIA8cRsAAAAAAACAPHEbAAAAAAAAgDxxGwAAAAAAAIA8\ncRsAAAAAAACAPHEbAAAAAAAAgDxxGwAAAAAAAIA8cRsAAAAAAACAPHEbAAAAAAAAgDxxGwAAAAAA\nAIA8cRsAAAAAAACAPHEbAAAAAAAAgDxxGwAAAAAAAIA8cRsAAAAAAACAPHEbAAAAAAAAgDxxGwAA\nAAAAAIA8cRsAAAAAAACAPHEbAAAAAAAAgDxxGwAAAAAAAIA8cRsAAAAAAACAPHEbAAAAAAAAgDxx\nGwAAAAAAAIA8cRsAAAAAAACAPHEbAAAAAAAAgDxxGwAAAAAAAIA8cRsAAAAAAACAPHEbAAAAAAAA\ngLy5ewDwG+e6757Ahea47Z4AAHzInfY/3GgAAADwXT63AQAAAAAAAMgTtwEAAAAAAADIE7cBAAAA\nAAAAyBO3AQAAAAAAAMgTtwEAAAAAAADIE7cBAAAAAAAAyBO3AQAAAAAAAMgTtwEAAAAAAADIE7cB\nAAAAAAAAyBO3AQAAAAAAAMgTtwEAAAAAAADIE7cBAAAAAAAAyBO3AQAAAAAAAMgTtwEAAAAAAADI\nE7cBAAAAAAAAyBO3AQAAAAAAAMgTtwEAAAAAAADIE7cBAAAAAAAAyBO3AQAAAAAAAMgTtwEAAAAA\nAADIE7cBAAAAAAAAyBO3AQAAAAAAAMgTtwEAAAAAAADIE7cBAAAAAAAAyBO3AQAAAAAAAMgTtwEA\nAAAAAADIE7cBAAAAAAAAyBO3AQAAAAAAAMgTtwEAAAAAAADIE7cBAAAAAAAAyBO3AQAAAAAAAMgT\ntwEAAAAAAADIE7cBAAAAAAAAyBO3AQAAAAAAAMgTtwEAAAAAAADIE7cBAAAAAAAAyBO3AQAAAAAA\nAMgTtwEAAAAAAADIE7cBAAAAAAAAyBO3AQAAAAAAAMgTtwEAAAAAAADIE7cBAAAAAAAAyBO3AQAA\nAAAAAMgTtwEAAAAAAADIE7cBAAAAAAAAyBO3AQAAAAAAAMgTtwEAAAAAAADIE7cBAAAAAAAAyBO3\nAQAAAAAAAMgTtwEAAAAAAADIE7cBAAAAAAAAyBO3AQAAAAAAAMgTtwEAAAAAAADIE7cBAAAAAAAA\nyBO3AQAAAAAAAMgTtwEAAAAAAADIE7cBAAAAAAAAyBO3AQAAAAAAAMgTtwEAAAAAAADIE7cBAAAA\nAAAAyBO3AQAAAAAAAMgTtwEAAAAAAADIE7cBAAAAAAAAyBO3AQAAAAAAAMgTtwEAAAAAAADIE7cB\nAAAAAAAAyBO3AQAAAAAAAMgTtwEAAAAAAADIE7cBAAAAAAAAyBO3AQAAAAAAAMgTtwEAAAAAAADI\nE7cBAAAAAAAAyBO3AQAAAAAAAMgTtwEAAAAAAADIE7cBAAAAAAAAyBO3AQAAAAAAAMgTtwEAAAAA\nAADIE7cBAAAAAAAAyBO3AQAAAAAAAMgTtwEAAAAAAADIE7cBAAAAAAAAyBO3AQAAAAAAAMgTtwEA\nAAAAAADIE7cBAAAAAAAAyBO3AQAAAAAAAMgTtwEAAAAAAADIE7cBAAAAAAAAyBO3AQAAAAAAAMgT\ntwEAAAAAAADIG8cx1+4RAAAAAAAAAPCKz8h8Cg8AABjuSURBVG0AAAAAAAAA8sRtAAAAAAAAAPLE\nbQAAAAAAAADyxG0AAAAAAAAA8sRtAAAAAAAAAPLEbQAAAAAAAADyxG0AAAAAAAAA8sRtAAAAAAAA\nAPLEbQAAAAAAAADyxG0AAAAAAAAA8sRtAAAAAAAAAPLEbQAAAAAAAADyxG0AAAAAAAAA8sRtAAAA\nAAAAAPLEbQAAAAAAAADyxG0AAAAAAAAA8sRtAAAAAAAAAPLEbQAAAAAAAADyxG0AAAAAAAAA8sRt\nAAAAAAAAAPLEbQAAAAAAAADyxG0AAAAAAAAA8sRtAAAAAAAAAPLEbQAAAAAAAADyxG0AAAAAAAAA\n8sRtAAAAAAAAAPLEbQAAAAAAAADyxG0AAAAAAAAA8sRtAAAAAAAAAPLEbQAAAAAAAADyxG0AAAAA\nAAAA8sRtAAAAAAAAAPLEbQAAAAAAAADyxG0AAAAAAAAA8sRtAAAAAAAAAPLEbQAAAAAAAADyxG0A\nAAAAAAAA8sRtAAAAAAAAAPLEbQAAAAAAAADyxG0AAAAAAAAA8sRtAAAAAAAAAPLEbQAAAAAAAADy\nxG0AAAAAAAAA8sRtAAAAAAAAAPLEbQAAAAAAAADyxG0AAAAAAAAA8sRtAAAAAAAAAPLEbQAAAAAA\nAADyxG0AAAAAAAAA8sRtAAAAAAAAAPLEbQAAAAAAAADyxG0AAAAAAAAA8sRtAAAAAAAAAPLEbQAA\nAAAAAADyxG0AAAAAAAAA8sRtAAAAAAAAAPLEbQAAAAAAAADyxG0AAAAAAAAA8sRtAAAAAAAAAPLE\nbQAAAAAAAADyxG0AAAAAAAAA8sRtAAAAAAAAAPLEbQAAAAAAAADyxG0AAAAAAAAA8sRtAAAAAAAA\nAPLEbQAAAAAAAADyxG0AAAAAAAAA8sRtAAAAAAAAAPLEbQAAAAAAAADyxG0AAAAAAAAA8sRtAAAA\nAAAAAPLEbQAAAAAAAADyxG0AAAAAAAAA8sRtAAAAAAAAAPLEbQAAAAAAAADyxG0AAAAAAAAA8sRt\nAAAAAAAAAPLEbQAAAAAAAADyxG0AAAAAAAAA8sRtAAAAAAAAAPLEbQAAAAAAAADyxG0AAAAAAAAA\n8sRtAAAAAAAAAPLEbQAAAAAAAADyxG0AAAAAAAAA8sRtAAAAAAAAAPLEbQAAAAAAAADyxG0AAAAA\nAAAA8sRtAAAAAAAAAPLGuR5r9wiuM8dt9wQA4EPnuu+ewEXcaAAAAADwns9tAAAAAAAAAPLEbQAA\nAAAAAADyxG0AAAAAAAAA8sRtAAAAAAAAAPLEbQAAAAAAAADyxG0AAAAAAAAA8sRtAAAAAAAAAPLE\nbQAAAAAAAADyxG0AAAAAAAAA8sRtAAAAAAAAAPLEbQAAAAAAAADyxG0AAAAAAAAA8sRtAAAAAAAA\nAPLEbQAAAAAAAADyxG0AAAAAAAAA8sRtAAAAAAAAAPLEbQAAAAAAAADyxG0AAAAAAAAA8sRtAAAA\nAAAAAPLEbQAAAAAAAADyxG0AAAAAAAAA8sRtAAAAAAAAAPLEbQAAAAAAAADyxG0AAAAAAAAA8sRt\nAAAAAAAAAPLEbQAAAAAAAADyxG0AAAAAAAAA8sRtAAAAAAAAAPLEbQAAAAAAAADyxG0AAAAAAAAA\n8sRtAAAAAAAAAPLEbQAAAAAAAADyxG0AAAAAAAAA8sRtAAAAAAAAAPLEbQAAAAAAAADyxG0AAAAA\nAAAA8sRtAAAAAAAAAPLEbQAAAAAAAADyxG0AAAAAAAAA8sRtAAAAAAAAAPLEbQAAAAAAAADyxG0A\nAAAAAAAA8sRtAAAAAAAAAPLEbQAAAAAAAADyxG0AAAAAAAAA8sRtAAAAAAAAAPLEbQAAAAAAAADy\nxG0AAAAAAAAA8sRtAAAAAAAAAPLEbQAAAAAAAADyxG0AAAAAAAAA8sRtAAAAAAAAAPLEbQAAAAAA\nAADyxG0AAAAAAAAA8sRtAAAAAAAAAPLEbQAAAAAAAADyxG0AAAAAAAAA8sRtAAAAAAAAAPLEbQAA\nAAAAAADyxG0AAAAAAAAA8sRtAAAAAAAAAPLEbQAAAAAAAADyxG0AAAAAAAAA8sRtAAAAAAAAAPLE\nbQAAAAAAAADyxG0AAAAAAAAA8sRtAAAAAAAAAPLEbQAAAAAAAADyxG0AAAAAAAAA8sRtAAAAAAAA\nAPLEbQAAAAAAAADyxG0AAAAAAAAA8sRtAAAAAAAAAPLEbQAAAAAAAADyxG0AAAAAAAAA8sRtAAAA\nAAAAAPLEbQAAAAAAAADyxG0AAAAAAAAA8sRtAAAAAAAAAPLEbQAAAAAAAADyxG0AAAAAAAAA8sRt\nAAAAAAAAAPLEbQAAAAAAAADyxG0AAAAAAAAA8sRtAAAAAAAAAPLEbQAAAAAAAADyxG0AAAAAAAAA\n8sRtAAAAAAAAAPLEbQAAAAAAAADyxnHMtXsEAAAAAAAAALzicxsAAAAAAACAPHEbAAAAAAAAgDxx\nGwAAAAAAAIA8cRsAAAAAAACAPHEbAAAAAAAAgDxxGwAAAAAAAIA8cRsAAAAAAACAPHEbAAAAAAAA\ngDxxGwAAAAAAAIA8cRsAAAAAAACAPHEbAAAAAAAAgDxxGwAAAAAAAIA8cRsAAAAAAACAPHEbAAAA\nAAAAgDxxGwAAAAAAAIA8cRsAAAAAAACAPHEbAAAAAAAAgDxxGwAAAAAAAIA8cRsAAAAAAACAPHEb\nAAAAAAAAgDxxGwAAAAAAAIA8cRsAAAAAAACAPHEbAAAAAAAAgDxxGwAAAAAAAIA8cRsAAAAAAACA\nPHEbAAAAAAAAgDxxGwAAAAAAAIA8cRsAAAAAAACAPHEbAAAAAAAAgDxxGwAAAAAAAIA8cRsAAAAA\nAACAPHEbAAAAAAAAgDxxGwAAAAAAAIA8cRsAAAAAAACAPHEbAAAAAAAAgDxxGwAAAAAAAIA8cRsA\nAAAAAACAPHEbAAAAAAAAgDxxGwAAAAAAAIA8cRsAAAAAAACAPHEbAAAAAAAAgDxxGwAAAAAAAIA8\ncRsAAAAAAACAPHEbAAAAAAAAgDxxGwAAAAAAAIA8cRsAAAAAAACAPHEbAAAAAAAAgDxxGwAAAAAA\nAIA8cRsAAAAAAACAPHEbAAAAAAAAgDxxGwAAAAAAAIA8cRsAAAAAAACAPHEbAAAAAAAAgDxxGwAA\nAAAAAIA8cRsAAAAAAACAPHEbAAAAAAAAgDxxGwAAAAAAAIA8cRsAAAAAAACAPHEbAAAAAAAAgDxx\nGwAAAAAAAIA8cRsAAAAAAACAPHEbAAAAAAAAgDxxGwAAAAAAAIA8cRsAAAAAAACAPHEbAAAAnu3b\nwQnCQBRFUQdSaErLwjIDYweahWYueE4Fb/nh8gEAAIA8cRsAAAAAAACAPHEbAAAAAAAAgDxxGwAA\nAAAAAIA8cRsAAAAAAACAPHEbAAAAAAAAgDxxGwAAAAAAAIA8cRsAAAAAAACAPHEbAAAAAAAAgDxx\nGwAAAAAAAIA8cRsAAAAAAACAPHEbAAAAAAAAgDxxGwAAAAAAAIA8cRsAAAAAAACAPHEbAAAAAAAA\ngDxxGwAAAAAAAIA8cRsAAAAAAACAPHEbAAAAAAAAgDxxGwAAAAAAAIA8cRsAAAAAAACAPHEbAAAA\nAAAAgDxxGwAAAAAAAIA8cRsAAAAAAACAPHEbAAAAAAAAgDxxGwAAAAAAAIA8cRsAAAAAAACAPHEb\nAAAAAAAAgDxxGwAAAAAAAIA8cRsAAAAAAACAPHEbAAAAAAAAgDxxGwAAAAAAAIA8cRsAAAAAAACA\nPHEbAAAAAAAAgDxxGwAAAAAAAIA8cRsAAAAAAACAPHEbAAAAAAAAgDxxGwAAAAAAAIA8cRsAAAAA\nAACAPHEbAAAAAAAAgDxxGwAAAAAAAIA8cRsAAAAAAACAPHEbAAAAAAAAgDxxGwAAAAAAAIA8cRsA\nAAAAAACAPHEbAAAAAAAAgDxxGwAAAAAAAIA8cRsAAAAAAACAPHEbAAAAAAAAgDxxGwAAAAAAAIA8\ncRsAAAAAAACAPHEbAAAAAAAAgDxxGwAAAAAAAIA8cRsAAAAAAACAPHEbAAAAAAAAgDxxGwAAAAAA\nAIA8cRsAAAAAAACAPHEbAAAAAAAAgDxxGwAAAAAAAIA8cRsAAAAAAACAPHEbAAAAAAAAgDxxGwAA\nAAAAAIA8cRsAAAAAAACAPHEbAAAAAAAAgDxxGwAAAAAAAIA8cRsAAAAAAACAPHEbAAAAAAAAgDxx\nGwAAAAAAAIA8cRsAAAAAAACAPHEbAAAAAAAAgDxxGwAAAAAAAIA8cRsAAAAAAACAPHEbAAAAAAAA\ngDxxGwAAAAAAAIA8cRsAAAAAAACAPHEbAAAAAAAAgDxxGwAAAAAAAIA8cRsAAAAAAACAPHEbAAAA\nAAAAgDxxGwAAAAAAAIA8cRsAAAAAAACAPHEbAAAAAAAAgDxxGwAAAAAAAIA8cRsAAAAAAACAPHEb\nAAAAAAAAgDxxGwAAAAAAAIA8cRsAAAAAAACAPHEbAAAAAAAAgDxxGwAAAAAAAIA8cRsAAAAAAACA\nPHEbAAAAAAAAgDxxGwAAAAAAAIA8cRsAAAAAAACAPHEbAAAAAAAAgDxxGwAAAAAAAIA8cRsAAAAA\nAACAPHEbAAAAAAAAgDxxGwAAAAAAAIA8cRsAAAAAAACAPHEbAAAAAAAAgDxxGwAAAAAAAIA8cRsA\nAAAAAACAPHEbAAAAAAAAgDxxGwAAAAAAAIA8cRsAAAAAAACAPHEbAAAAAAAAgDxxGwAAAAAAAIA8\ncRsAAAAAAACAPHEbAAAAAAAAgDxxGwAAAAAAAIA8cRsAAAAAAACAPHEbAAAAAAAAgDxxGwAAAAAA\nAIA8cRsAAAAAAACAPHEbAAAAAAAAgDxxGwAAAAAAAIC8bfUA4DfOeayewI22sa+eAABc5E77H240\nAAAA+C6f2wAAAAAAAADkidsAAAAAAAAA5InbAAAAAAAAAOSJ2wAAAAAAAADkidsAAAAAAAAA5Inb\nAAAAAAAAAOSJ2wAAAAAAAADkidsAAAAAAAAA5InbAAAAAAAAAOSJ2wAAAAAAAADkidsAAAAAAAAA\n5InbAAAAAAAAAOSJ2wAAAAAAAADkidsAAAAAAAAA5InbAAAAAAAAAOSJ2wAAAAAAAADkidsAAAAA\nAAAA5InbAAAAAAAAAOSJ2wAAAAAAAADkidsAAAAAAAAA5InbAAAAAAAAAOSJ2wAAAAAAAADkidsA\nAAAAAAAA5InbAAAAAAAAAOSJ2wAAAAAAAADkidsAAAAAAAAA5InbAAAAAAAAAOSJ2wAAAAAAAADk\nidsAAAAAAAAA5InbAAAAAAAAAOSJ2wAAAAAAAADkidsAAAAAAAAA5InbAAAAAAAAAOSJ2wAAAAAA\nAADkidsAAAAAAAAA5InbAAAAAAAAAOSJ2wAAAAAAAADkidsAAAAAAAAA5InbAAAAAAAAAOSJ2wAA\nAAAAAADkidsAAAAAAAAA5InbAAAAAAAAAOSJ2wAAAAAAAADkidsAAAAAAAAA5InbAAAAAAAAAOSJ\n2wAAAAAAAADkidsAAAAAAAAA5InbAAAAAAAAAOSJ2wAAAAAAAADkidsAAAAAAAAA5InbAAAAAAAA\nAOSJ2wAAAAAAAADkidsAAAAAAAAA5InbAAAAAAAAAOSJ2wAAAAAAAADkidsAAAAAAAAA5InbAAAA\nAAAAAOSJ2wAAAAAAAADkidsAAAAAAAAA5InbAAAAAAAAAOSJ2wAAAAAAAADkidsAAAAAAAAA5Inb\nAAAAAAAAAOSJ2wAAAAAAAADkidsAAAAAAAAA5InbAAAAAAAAAOSJ2wAAAAAAAADkidsAAAAAAAAA\n5InbAAAAAAAAAOSJ2wAAAAAAAADkidsAAAAAAAAA5InbAAAAAAAAAOSJ2wAAAAAAAADkidsAAAAA\nAAAA5InbAAAAAAAAAOSJ2wAAAAAAAADkidsAAAAAAAAA5InbAAAAAAAAAOSJ2wAAAAAAAADkidsA\nAAAAAAAA5InbAAAAAAAAAOSJ2wAAAAAAAADkidsAAAAAAAAA5InbAAAAAAAAAOSJ2wAAAAAAAADk\nidsAAAAAAAAA5InbAAAAAAAAAOSJ2wAAAAAAAADkidsAAAAAAAAA5I3HY5urRwAAAAAAAADAOz63\nAQAAAAAAAMgTtwEAAAAAAADIE7cBAAAAAAAAyBO3AQAAAAAAAMgTtwEAAAAAAADIE7cBAAAAAAAA\nyBO3AQAAAAAAAMgTtwEAAAAAAADIE7cBAAAAAAAAyBO3AQAAAAAAAMgTtwEAAAAAAADIE7cBAAAA\nAAAAyBO3AQAAAAAAAMgTtwEAAAAAAADIE7cBAAAAAAAAyBO3AQAAAAAAAMgTtwEAAAAAAADIE7cB\nAAAAAAAAyBO3AQAAAAAAAMgTtwEAAAAAAADIE7cBAAAAAAAAyBO3AQAAAAAAAMgTtwEAAAAAAADI\nE7cBAAAAAAAAyBO3AQAAAAAAAMgTtwEAAAAAAADIE7cBAAAAAAAAyBO3AQAAAAAAAMgTtwEAAAAA\nAADIE7cBAAAAAAAAyBO3AQAAAAAAAMgTtwEAAAAAAADIE7cBAAAAAAAAyBO3AQAAAAAAAMgTtwEA\nAAAAAADIE7cBAAAAAAAAyBO3AQAAAAAAAMgTtwEAAAAAAADIE7cBAAAAAAAAyBO3AQAAAAAAAMgT\ntwEAAAAAAADIE7cBAAAAAAAAyBO3AQAAAAAAAMgTtwEAAAAAAADIE7cBAAAAAAAAyBO3AQAAAAAA\nAMgTtwEAAAAAAADIE7cBAAAAAAAAyBO3AQAAAAAAAMgTtwEAAAAAAADIE7cBAAAAAAAAyBO3AQAA\nAAAAAMgTtwEAAAAAAADIE7cBAAAAAAAAyBO3AQAAAAAAAMgTtwEAAAAAAADIE7cBAAAAAAAAyBO3\nAQAAAAAAAMgTtwEAAAAAAADIE7cBAAAAAAAAyBO3AQAAAAAAAMgTtwEAAAAAAADIE7cBAAAAAAAA\nyBO3AQAAAAAAAMgTtwEAAAAAAADIE7cBAAAAAAAAyBO3AQAAAAAAAMgTtwEAAAAAAADIE7cBAAAA\nAAAAyBO3AQAAAAAAAMgTtwEAAAAAAADIE7cBAAAAAAAAyBO3AQAAAAAAAMgTtwEAAAAAAADIE7cB\nAAAAAAAAyBO3AQAAAAAAAMgTtwEAAAAAAADIE7cBAAAAAAAAyBO3AQAAAAAAAMgTtwEAAAAAAADI\nE7cBAAAAAAAAyBO3AQAAAAAAAMgTtwEAAAAAAADIE7cBAAAAAAAAyBO3AQAAAAAAAMgTtwEAAAAA\nAADIE7cBAAAAAAAAyBO3AQAAAAAAAMgTtwEAAAAAAADIG+d8ztUjuM829tUTAICLznmsnsBN3GgA\nAAAA8JnPbQAAAAAAAADyxG0AAAAAAAAA8sRtAAAAAAAAAPLEbQAAAAAAAADyxG0AAAAAAAAA8sRt\nAAAAAAAAAPLEbQAAAAAAAADyxG0AAAAAAAAA8sRtAAAAAAAAAPLEbQAAAAAAAADyxG0AAAAAAAAA\n8sRtAAAAAAAAAPLEbQAAAAAAAADyxG0AAAAAAAAA8sRtAAAAAAAAAPLEbQAAAAAAAADyxG0AAAAA\nAAAA8sRtAAAAAAAAAPLEbQAAAAAAAADyxG0AAAAAAAAA8sRtAAAAAAAAAPLEbQAAAAAAAADyxG0A\nAAAAAAAA8sRtAAAAAAAAAPLEbQAAAAAAAADyxG0AAAAAAAAA8sRtAAAAAAAAAPLEbQAAAAAAAADy\nxG0AAAAAAAAA8sRtAAAAAAAAAPLEbQAAAAAAAADyxG0AAAAAAAAA8sRtAAAAAAAAAPLEbQAAAAAA\nAADyxG0AAAAAAAAA8sRtAAAAAAAAAPLEbQAAAAAAAADyxG0AAAAAAAAA8sRtAAAAAAAAAPLEbQAA\nAAAAAADyxG0AAAAAAAAA8sRtAAAAAAAAAPLEbQAAAAAAAADyxG0AAAAAAAAA8sRtAAAAAAAAAPLE\nbQAAAAAAAADyxG0AAAAAAAAA8sRtAAAAAAAAAPLEbQAAAAAAAADyxG0AAAAAAAAA8sRtAAAAAAAA\nAPLEbQAAAAAAAADyxG0AAAAAAAAA8sRtAAAAAAAAAPLEbQAAAAAAAADyxG0AAAAAAAAA8sRtAAAA\nAAAAAPLEbQAAAAAAAADyxG0AAAAAAAAA8sRtAAAAAAAAAPLEbQAAAAAAAADyxG0AAAAAAAAA8sRt\nAAAAAAAAAPLEbQAAAAAAAADyxG0AAAAAAAAA8sRtAAAAAAAAAPLEbQAAAAAAAADyxG0AAAAAAAAA\n8sRtAAAAAAAAAPLEbQAAAAAAAADyxG0AAAAAAAAA8sRtAAAAAAAAAPLEbQAAAAAAAADyxG0AAAAA\nAAAA8sRtAAAAAAAAAPLEbQAAAAAAAADyxG0AAAAAAAAA8sRtAAAAAAAAAPLEbQAAAAAAAADyxG0A\nAAAAAAAA8sRtAAAAAAAAAPLEbQAAAAAAAADyxG0AAAAAAAAA8sRtAAAAAAAAAPLEbQAAAAAAAADy\nxG0AAAAAAAAA8sRtAAAAAAAAAPLEbQAAAAAAAADyXvO/KU800VuZAAAAAElFTkSuQmCC\n\" transform=\"translate(138, 47)\"/>\n</g>\n<defs>\n  <clipPath id=\"clip983\">\n    <rect x=\"2160\" y=\"47\" width=\"73\" height=\"1440\"/>\n  </clipPath>\n</defs>\n<g clip-path=\"url(#clip983)\">\n<image width=\"72\" height=\"1439\" xlink:href=\"data:image/png;base64,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\nBYGCQOE/LrLuTX/wFc8AAAAASUVORK5CYII=\n\" transform=\"translate(2161, 47)\"/>\n</g>\n<path clip-path=\"url(#clip980)\" d=\"M2280.7 1468.62 Q2277.09 1468.62 2275.26 1472.18 Q2273.45 1475.72 2273.45 1482.85 Q2273.45 1489.96 2275.26 1493.53 Q2277.09 1497.07 2280.7 1497.07 Q2284.33 1497.07 2286.14 1493.53 Q2287.97 1489.96 2287.97 1482.85 Q2287.97 1475.72 2286.14 1472.18 Q2284.33 1468.62 2280.7 1468.62 M2280.7 1464.91 Q2286.51 1464.91 2289.57 1469.52 Q2292.64 1474.1 2292.64 1482.85 Q2292.64 1491.58 2289.57 1496.19 Q2286.51 1500.77 2280.7 1500.77 Q2274.89 1500.77 2271.81 1496.19 Q2268.76 1491.58 2268.76 1482.85 Q2268.76 1474.1 2271.81 1469.52 Q2274.89 1464.91 2280.7 1464.91 Z\" fill=\"#000000\" fill-rule=\"evenodd\" fill-opacity=\"1\" /><path clip-path=\"url(#clip980)\" d=\"M2280.7 1324.7 Q2277.09 1324.7 2275.26 1328.26 Q2273.45 1331.8 2273.45 1338.93 Q2273.45 1346.04 2275.26 1349.6 Q2277.09 1353.15 2280.7 1353.15 Q2284.33 1353.15 2286.14 1349.6 Q2287.97 1346.04 2287.97 1338.93 Q2287.97 1331.8 2286.14 1328.26 Q2284.33 1324.7 2280.7 1324.7 M2280.7 1320.99 Q2286.51 1320.99 2289.57 1325.6 Q2292.64 1330.18 2292.64 1338.93 Q2292.64 1347.66 2289.57 1352.27 Q2286.51 1356.85 2280.7 1356.85 Q2274.89 1356.85 2271.81 1352.27 Q2268.76 1347.66 2268.76 1338.93 Q2268.76 1330.18 2271.81 1325.6 Q2274.89 1320.99 2280.7 1320.99 Z\" fill=\"#000000\" fill-rule=\"evenodd\" fill-opacity=\"1\" /><path clip-path=\"url(#clip980)\" d=\"M2300.86 1350.3 L2305.75 1350.3 L2305.75 1356.18 L2300.86 1356.18 L2300.86 1350.3 Z\" fill=\"#000000\" fill-rule=\"evenodd\" fill-opacity=\"1\" /><path clip-path=\"url(#clip980)\" d=\"M2316.74 1352.24 L2324.38 1352.24 L2324.38 1325.88 L2316.07 1327.54 L2316.07 1323.29 L2324.33 1321.62 L2329.01 1321.62 L2329.01 1352.24 L2336.65 1352.24 L2336.65 1356.18 L2316.74 1356.18 L2316.74 1352.24 Z\" fill=\"#000000\" fill-rule=\"evenodd\" fill-opacity=\"1\" /><path clip-path=\"url(#clip980)\" d=\"M2280.7 1180.78 Q2277.09 1180.78 2275.26 1184.34 Q2273.45 1187.88 2273.45 1195.01 Q2273.45 1202.12 2275.26 1205.68 Q2277.09 1209.23 2280.7 1209.23 Q2284.33 1209.23 2286.14 1205.68 Q2287.97 1202.12 2287.97 1195.01 Q2287.97 1187.88 2286.14 1184.34 Q2284.33 1180.78 2280.7 1180.78 M2280.7 1177.07 Q2286.51 1177.07 2289.57 1181.68 Q2292.64 1186.26 2292.64 1195.01 Q2292.64 1203.74 2289.57 1208.35 Q2286.51 1212.93 2280.7 1212.93 Q2274.89 1212.93 2271.81 1208.35 Q2268.76 1203.74 2268.76 1195.01 Q2268.76 1186.26 2271.81 1181.68 Q2274.89 1177.07 2280.7 1177.07 Z\" fill=\"#000000\" fill-rule=\"evenodd\" fill-opacity=\"1\" /><path clip-path=\"url(#clip980)\" d=\"M2300.86 1206.38 L2305.75 1206.38 L2305.75 1212.26 L2300.86 1212.26 L2300.86 1206.38 Z\" fill=\"#000000\" fill-rule=\"evenodd\" fill-opacity=\"1\" /><path clip-path=\"url(#clip980)\" d=\"M2319.96 1208.32 L2336.28 1208.32 L2336.28 1212.26 L2314.33 1212.26 L2314.33 1208.32 Q2317 1205.57 2321.58 1200.94 Q2326.19 1196.29 2327.37 1194.94 Q2329.61 1192.42 2330.49 1190.68 Q2331.39 1188.93 2331.39 1187.24 Q2331.39 1184.48 2329.45 1182.74 Q2327.53 1181.01 2324.43 1181.01 Q2322.23 1181.01 2319.77 1181.77 Q2317.34 1182.54 2314.57 1184.09 L2314.57 1179.36 Q2317.39 1178.23 2319.84 1177.65 Q2322.3 1177.07 2324.33 1177.07 Q2329.7 1177.07 2332.9 1179.76 Q2336.09 1182.44 2336.09 1186.93 Q2336.09 1189.06 2335.28 1190.99 Q2334.5 1192.88 2332.39 1195.48 Q2331.81 1196.15 2328.71 1199.36 Q2325.61 1202.56 2319.96 1208.32 Z\" fill=\"#000000\" fill-rule=\"evenodd\" fill-opacity=\"1\" /><path clip-path=\"url(#clip980)\" d=\"M2280.7 1036.86 Q2277.09 1036.86 2275.26 1040.42 Q2273.45 1043.96 2273.45 1051.09 Q2273.45 1058.2 2275.26 1061.76 Q2277.09 1065.31 2280.7 1065.31 Q2284.33 1065.31 2286.14 1061.76 Q2287.97 1058.2 2287.97 1051.09 Q2287.97 1043.96 2286.14 1040.42 Q2284.33 1036.86 2280.7 1036.86 M2280.7 1033.15 Q2286.51 1033.15 2289.57 1037.76 Q2292.64 1042.34 2292.64 1051.09 Q2292.64 1059.82 2289.57 1064.43 Q2286.51 1069.01 2280.7 1069.01 Q2274.89 1069.01 2271.81 1064.43 Q2268.76 1059.82 2268.76 1051.09 Q2268.76 1042.34 2271.81 1037.76 Q2274.89 1033.15 2280.7 1033.15 Z\" fill=\"#000000\" fill-rule=\"evenodd\" fill-opacity=\"1\" /><path clip-path=\"url(#clip980)\" d=\"M2300.86 1062.46 L2305.75 1062.46 L2305.75 1068.34 L2300.86 1068.34 L2300.86 1062.46 Z\" fill=\"#000000\" fill-rule=\"evenodd\" fill-opacity=\"1\" /><path clip-path=\"url(#clip980)\" d=\"M2330.1 1049.7 Q2333.45 1050.42 2335.33 1052.69 Q2337.23 1054.96 2337.23 1058.29 Q2337.23 1063.41 2333.71 1066.21 Q2330.19 1069.01 2323.71 1069.01 Q2321.53 1069.01 2319.22 1068.57 Q2316.93 1068.15 2314.47 1067.3 L2314.47 1062.78 Q2316.42 1063.92 2318.73 1064.5 Q2321.05 1065.07 2323.57 1065.07 Q2327.97 1065.07 2330.26 1063.34 Q2332.58 1061.6 2332.58 1058.29 Q2332.58 1055.24 2330.42 1053.52 Q2328.29 1051.79 2324.47 1051.79 L2320.45 1051.79 L2320.45 1047.94 L2324.66 1047.94 Q2328.11 1047.94 2329.94 1046.58 Q2331.76 1045.19 2331.76 1042.6 Q2331.76 1039.94 2329.87 1038.52 Q2327.99 1037.09 2324.47 1037.09 Q2322.55 1037.09 2320.35 1037.5 Q2318.15 1037.92 2315.51 1038.8 L2315.51 1034.63 Q2318.18 1033.89 2320.49 1033.52 Q2322.83 1033.15 2324.89 1033.15 Q2330.21 1033.15 2333.32 1035.58 Q2336.42 1037.99 2336.42 1042.11 Q2336.42 1044.98 2334.77 1046.97 Q2333.13 1048.94 2330.1 1049.7 Z\" fill=\"#000000\" fill-rule=\"evenodd\" fill-opacity=\"1\" /><path clip-path=\"url(#clip980)\" d=\"M2280.7 892.936 Q2277.09 892.936 2275.26 896.501 Q2273.45 900.043 2273.45 907.172 Q2273.45 914.279 2275.26 917.844 Q2277.09 921.385 2280.7 921.385 Q2284.33 921.385 2286.14 917.844 Q2287.97 914.279 2287.97 907.172 Q2287.97 900.043 2286.14 896.501 Q2284.33 892.936 2280.7 892.936 M2280.7 889.233 Q2286.51 889.233 2289.57 893.839 Q2292.64 898.422 2292.64 907.172 Q2292.64 915.899 2289.57 920.506 Q2286.51 925.089 2280.7 925.089 Q2274.89 925.089 2271.81 920.506 Q2268.76 915.899 2268.76 907.172 Q2268.76 898.422 2271.81 893.839 Q2274.89 889.233 2280.7 889.233 Z\" fill=\"#000000\" fill-rule=\"evenodd\" fill-opacity=\"1\" /><path clip-path=\"url(#clip980)\" d=\"M2300.86 918.538 L2305.75 918.538 L2305.75 924.418 L2300.86 924.418 L2300.86 918.538 Z\" fill=\"#000000\" fill-rule=\"evenodd\" fill-opacity=\"1\" /><path clip-path=\"url(#clip980)\" d=\"M2328.78 893.932 L2316.97 912.381 L2328.78 912.381 L2328.78 893.932 M2327.55 889.858 L2333.43 889.858 L2333.43 912.381 L2338.36 912.381 L2338.36 916.269 L2333.43 916.269 L2333.43 924.418 L2328.78 924.418 L2328.78 916.269 L2313.18 916.269 L2313.18 911.756 L2327.55 889.858 Z\" fill=\"#000000\" fill-rule=\"evenodd\" fill-opacity=\"1\" /><path clip-path=\"url(#clip980)\" d=\"M2280.7 749.016 Q2277.09 749.016 2275.26 752.581 Q2273.45 756.122 2273.45 763.252 Q2273.45 770.358 2275.26 773.923 Q2277.09 777.465 2280.7 777.465 Q2284.33 777.465 2286.14 773.923 Q2287.97 770.358 2287.97 763.252 Q2287.97 756.122 2286.14 752.581 Q2284.33 749.016 2280.7 749.016 M2280.7 745.312 Q2286.51 745.312 2289.57 749.919 Q2292.64 754.502 2292.64 763.252 Q2292.64 771.979 2289.57 776.585 Q2286.51 781.168 2280.7 781.168 Q2274.89 781.168 2271.81 776.585 Q2268.76 771.979 2268.76 763.252 Q2268.76 754.502 2271.81 749.919 Q2274.89 745.312 2280.7 745.312 Z\" fill=\"#000000\" fill-rule=\"evenodd\" fill-opacity=\"1\" /><path clip-path=\"url(#clip980)\" d=\"M2300.86 774.618 L2305.75 774.618 L2305.75 780.497 L2300.86 780.497 L2300.86 774.618 Z\" fill=\"#000000\" fill-rule=\"evenodd\" fill-opacity=\"1\" /><path clip-path=\"url(#clip980)\" d=\"M2315.98 745.937 L2334.33 745.937 L2334.33 749.872 L2320.26 749.872 L2320.26 758.345 Q2321.28 757.997 2322.3 757.835 Q2323.32 757.65 2324.33 757.65 Q2330.12 757.65 2333.5 760.821 Q2336.88 763.993 2336.88 769.409 Q2336.88 774.988 2333.41 778.09 Q2329.94 781.168 2323.62 781.168 Q2321.44 781.168 2319.17 780.798 Q2316.93 780.428 2314.52 779.687 L2314.52 774.988 Q2316.6 776.122 2318.83 776.678 Q2321.05 777.233 2323.52 777.233 Q2327.53 777.233 2329.87 775.127 Q2332.2 773.02 2332.2 769.409 Q2332.2 765.798 2329.87 763.692 Q2327.53 761.585 2323.52 761.585 Q2321.65 761.585 2319.77 762.002 Q2317.92 762.419 2315.98 763.298 L2315.98 745.937 Z\" fill=\"#000000\" fill-rule=\"evenodd\" fill-opacity=\"1\" /><path clip-path=\"url(#clip980)\" d=\"M2280.7 605.095 Q2277.09 605.095 2275.26 608.66 Q2273.45 612.202 2273.45 619.332 Q2273.45 626.438 2275.26 630.003 Q2277.09 633.544 2280.7 633.544 Q2284.33 633.544 2286.14 630.003 Q2287.97 626.438 2287.97 619.332 Q2287.97 612.202 2286.14 608.66 Q2284.33 605.095 2280.7 605.095 M2280.7 601.392 Q2286.51 601.392 2289.57 605.998 Q2292.64 610.582 2292.64 619.332 Q2292.64 628.058 2289.57 632.665 Q2286.51 637.248 2280.7 637.248 Q2274.89 637.248 2271.81 632.665 Q2268.76 628.058 2268.76 619.332 Q2268.76 610.582 2271.81 605.998 Q2274.89 601.392 2280.7 601.392 Z\" fill=\"#000000\" fill-rule=\"evenodd\" fill-opacity=\"1\" /><path clip-path=\"url(#clip980)\" d=\"M2300.86 630.697 L2305.75 630.697 L2305.75 636.577 L2300.86 636.577 L2300.86 630.697 Z\" fill=\"#000000\" fill-rule=\"evenodd\" fill-opacity=\"1\" /><path clip-path=\"url(#clip980)\" d=\"M2326.51 617.433 Q2323.36 617.433 2321.51 619.586 Q2319.68 621.739 2319.68 625.489 Q2319.68 629.216 2321.51 631.392 Q2323.36 633.544 2326.51 633.544 Q2329.66 633.544 2331.49 631.392 Q2333.34 629.216 2333.34 625.489 Q2333.34 621.739 2331.49 619.586 Q2329.66 617.433 2326.51 617.433 M2335.79 602.781 L2335.79 607.04 Q2334.03 606.207 2332.23 605.767 Q2330.45 605.327 2328.69 605.327 Q2324.06 605.327 2321.6 608.452 Q2319.17 611.577 2318.83 617.896 Q2320.19 615.882 2322.25 614.818 Q2324.31 613.73 2326.79 613.73 Q2332 613.73 2335.01 616.901 Q2338.04 620.049 2338.04 625.489 Q2338.04 630.813 2334.89 634.031 Q2331.74 637.248 2326.51 637.248 Q2320.51 637.248 2317.34 632.665 Q2314.17 628.058 2314.17 619.332 Q2314.17 611.137 2318.06 606.276 Q2321.95 601.392 2328.5 601.392 Q2330.26 601.392 2332.04 601.739 Q2333.85 602.086 2335.79 602.781 Z\" fill=\"#000000\" fill-rule=\"evenodd\" fill-opacity=\"1\" /><path clip-path=\"url(#clip980)\" d=\"M2280.7 461.175 Q2277.09 461.175 2275.26 464.74 Q2273.45 468.282 2273.45 475.411 Q2273.45 482.518 2275.26 486.082 Q2277.09 489.624 2280.7 489.624 Q2284.33 489.624 2286.14 486.082 Q2287.97 482.518 2287.97 475.411 Q2287.97 468.282 2286.14 464.74 Q2284.33 461.175 2280.7 461.175 M2280.7 457.471 Q2286.51 457.471 2289.57 462.078 Q2292.64 466.661 2292.64 475.411 Q2292.64 484.138 2289.57 488.744 Q2286.51 493.328 2280.7 493.328 Q2274.89 493.328 2271.81 488.744 Q2268.76 484.138 2268.76 475.411 Q2268.76 466.661 2271.81 462.078 Q2274.89 457.471 2280.7 457.471 Z\" fill=\"#000000\" fill-rule=\"evenodd\" fill-opacity=\"1\" /><path clip-path=\"url(#clip980)\" d=\"M2300.86 486.777 L2305.75 486.777 L2305.75 492.656 L2300.86 492.656 L2300.86 486.777 Z\" fill=\"#000000\" fill-rule=\"evenodd\" fill-opacity=\"1\" /><path clip-path=\"url(#clip980)\" d=\"M2314.75 458.096 L2336.97 458.096 L2336.97 460.087 L2324.43 492.656 L2319.54 492.656 L2331.35 462.032 L2314.75 462.032 L2314.75 458.096 Z\" fill=\"#000000\" fill-rule=\"evenodd\" fill-opacity=\"1\" /><path clip-path=\"url(#clip980)\" d=\"M2280.7 317.255 Q2277.09 317.255 2275.26 320.82 Q2273.45 324.361 2273.45 331.491 Q2273.45 338.597 2275.26 342.162 Q2277.09 345.704 2280.7 345.704 Q2284.33 345.704 2286.14 342.162 Q2287.97 338.597 2287.97 331.491 Q2287.97 324.361 2286.14 320.82 Q2284.33 317.255 2280.7 317.255 M2280.7 313.551 Q2286.51 313.551 2289.57 318.158 Q2292.64 322.741 2292.64 331.491 Q2292.64 340.218 2289.57 344.824 Q2286.51 349.407 2280.7 349.407 Q2274.89 349.407 2271.81 344.824 Q2268.76 340.218 2268.76 331.491 Q2268.76 322.741 2271.81 318.158 Q2274.89 313.551 2280.7 313.551 Z\" fill=\"#000000\" fill-rule=\"evenodd\" fill-opacity=\"1\" /><path clip-path=\"url(#clip980)\" d=\"M2300.86 342.856 L2305.75 342.856 L2305.75 348.736 L2300.86 348.736 L2300.86 342.856 Z\" fill=\"#000000\" fill-rule=\"evenodd\" fill-opacity=\"1\" /><path clip-path=\"url(#clip980)\" d=\"M2325.93 332.324 Q2322.6 332.324 2320.68 334.106 Q2318.78 335.889 2318.78 339.014 Q2318.78 342.139 2320.68 343.921 Q2322.6 345.704 2325.93 345.704 Q2329.26 345.704 2331.19 343.921 Q2333.11 342.116 2333.11 339.014 Q2333.11 335.889 2331.19 334.106 Q2329.29 332.324 2325.93 332.324 M2321.26 330.333 Q2318.25 329.593 2316.56 327.532 Q2314.89 325.472 2314.89 322.509 Q2314.89 318.366 2317.83 315.958 Q2320.79 313.551 2325.93 313.551 Q2331.09 313.551 2334.03 315.958 Q2336.97 318.366 2336.97 322.509 Q2336.97 325.472 2335.28 327.532 Q2333.62 329.593 2330.63 330.333 Q2334.01 331.12 2335.89 333.412 Q2337.78 335.704 2337.78 339.014 Q2337.78 344.037 2334.7 346.722 Q2331.65 349.407 2325.93 349.407 Q2320.21 349.407 2317.14 346.722 Q2314.08 344.037 2314.08 339.014 Q2314.08 335.704 2315.98 333.412 Q2317.88 331.12 2321.26 330.333 M2319.54 322.949 Q2319.54 325.634 2321.21 327.139 Q2322.9 328.644 2325.93 328.644 Q2328.94 328.644 2330.63 327.139 Q2332.34 325.634 2332.34 322.949 Q2332.34 320.264 2330.63 318.759 Q2328.94 317.255 2325.93 317.255 Q2322.9 317.255 2321.21 318.759 Q2319.54 320.264 2319.54 322.949 Z\" fill=\"#000000\" fill-rule=\"evenodd\" fill-opacity=\"1\" /><path clip-path=\"url(#clip980)\" d=\"M2280.7 173.334 Q2277.09 173.334 2275.26 176.899 Q2273.45 180.441 2273.45 187.57 Q2273.45 194.677 2275.26 198.242 Q2277.09 201.783 2280.7 201.783 Q2284.33 201.783 2286.14 198.242 Q2287.97 194.677 2287.97 187.57 Q2287.97 180.441 2286.14 176.899 Q2284.33 173.334 2280.7 173.334 M2280.7 169.631 Q2286.51 169.631 2289.57 174.237 Q2292.64 178.82 2292.64 187.57 Q2292.64 196.297 2289.57 200.904 Q2286.51 205.487 2280.7 205.487 Q2274.89 205.487 2271.81 200.904 Q2268.76 196.297 2268.76 187.57 Q2268.76 178.82 2271.81 174.237 Q2274.89 169.631 2280.7 169.631 Z\" fill=\"#000000\" fill-rule=\"evenodd\" fill-opacity=\"1\" /><path clip-path=\"url(#clip980)\" d=\"M2300.86 198.936 L2305.75 198.936 L2305.75 204.816 L2300.86 204.816 L2300.86 198.936 Z\" fill=\"#000000\" fill-rule=\"evenodd\" fill-opacity=\"1\" /><path clip-path=\"url(#clip980)\" d=\"M2316.07 204.098 L2316.07 199.839 Q2317.83 200.672 2319.64 201.112 Q2321.44 201.552 2323.18 201.552 Q2327.81 201.552 2330.24 198.45 Q2332.69 195.325 2333.04 188.982 Q2331.7 190.973 2329.64 192.038 Q2327.58 193.103 2325.08 193.103 Q2319.89 193.103 2316.86 189.978 Q2313.85 186.83 2313.85 181.39 Q2313.85 176.066 2317 172.848 Q2320.14 169.631 2325.38 169.631 Q2331.37 169.631 2334.52 174.237 Q2337.69 178.82 2337.69 187.57 Q2337.69 195.742 2333.8 200.626 Q2329.94 205.487 2323.39 205.487 Q2321.63 205.487 2319.82 205.14 Q2318.01 204.793 2316.07 204.098 M2325.38 189.445 Q2328.52 189.445 2330.35 187.293 Q2332.2 185.14 2332.2 181.39 Q2332.2 177.663 2330.35 175.51 Q2328.52 173.334 2325.38 173.334 Q2322.23 173.334 2320.38 175.51 Q2318.55 177.663 2318.55 181.39 Q2318.55 185.14 2320.38 187.293 Q2322.23 189.445 2325.38 189.445 Z\" fill=\"#000000\" fill-rule=\"evenodd\" fill-opacity=\"1\" /><path clip-path=\"url(#clip980)\" d=\"M2269.43 56.9601 L2277.07 56.9601 L2277.07 30.5945 L2268.76 32.2612 L2268.76 28.002 L2277.02 26.3353 L2281.7 26.3353 L2281.7 56.9601 L2289.33 56.9601 L2289.33 60.8953 L2269.43 60.8953 L2269.43 56.9601 Z\" fill=\"#000000\" fill-rule=\"evenodd\" fill-opacity=\"1\" /><path clip-path=\"url(#clip980)\" d=\"M2298.78 55.0157 L2303.66 55.0157 L2303.66 60.8953 L2298.78 60.8953 L2298.78 55.0157 Z\" fill=\"#000000\" fill-rule=\"evenodd\" fill-opacity=\"1\" /><path clip-path=\"url(#clip980)\" d=\"M2323.85 29.414 Q2320.24 29.414 2318.41 32.9788 Q2316.6 36.5204 2316.6 43.65 Q2316.6 50.7565 2318.41 54.3213 Q2320.24 57.8629 2323.85 57.8629 Q2327.48 57.8629 2329.29 54.3213 Q2331.12 50.7565 2331.12 43.65 Q2331.12 36.5204 2329.29 32.9788 Q2327.48 29.414 2323.85 29.414 M2323.85 25.7103 Q2329.66 25.7103 2332.71 30.3168 Q2335.79 34.9001 2335.79 43.65 Q2335.79 52.3768 2332.71 56.9833 Q2329.66 61.5666 2323.85 61.5666 Q2318.04 61.5666 2314.96 56.9833 Q2311.9 52.3768 2311.9 43.65 Q2311.9 34.9001 2314.96 30.3168 Q2318.04 25.7103 2323.85 25.7103 Z\" fill=\"#000000\" fill-rule=\"evenodd\" fill-opacity=\"1\" /><polyline clip-path=\"url(#clip980)\" style=\"stroke:#000000; stroke-linecap:round; stroke-linejoin:round; stroke-width:4; stroke-opacity:1; fill:none\" points=\"\n  2232.76,1486.45 2232.76,1486.45 2256.76,1486.45 2232.76,1486.45 2232.76,1342.53 2256.76,1342.53 2232.76,1342.53 2232.76,1198.61 2256.76,1198.61 2232.76,1198.61 \n  2232.76,1054.69 2256.76,1054.69 2232.76,1054.69 2232.76,910.766 2256.76,910.766 2232.76,910.766 2232.76,766.846 2256.76,766.846 2232.76,766.846 2232.76,622.926 \n  2256.76,622.926 2232.76,622.926 2232.76,479.005 2256.76,479.005 2232.76,479.005 2232.76,335.085 2256.76,335.085 2232.76,335.085 2232.76,191.164 2256.76,191.164 \n  2232.76,191.164 2232.76,47.2441 2256.76,47.2441 2232.76,47.2441 \n  \"/>\n</svg>\n"
     },
     "execution_count": 11,
     "metadata": {},
     "output_type": "execute_result"
    }
   ],
   "source": [
    "using Plots\n"
   ]
  },
  {
   "cell_type": "code",
   "execution_count": null,
   "metadata": {},
   "outputs": [],
   "source": []
  }
 ],
 "metadata": {
  "kernelspec": {
   "display_name": "Julia 1.8.2",
   "language": "julia",
   "name": "julia-1.8"
  },
  "language_info": {
   "file_extension": ".jl",
   "mimetype": "application/julia",
   "name": "julia",
   "version": "1.8.2"
  }
 },
 "nbformat": 4,
 "nbformat_minor": 2
}
